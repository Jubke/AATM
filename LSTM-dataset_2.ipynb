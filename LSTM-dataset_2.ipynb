{
 "cells": [
  {
   "cell_type": "markdown",
   "metadata": {},
   "source": [
    "# Word Embedding\n"
   ]
  },
  {
   "cell_type": "markdown",
   "metadata": {
    "toc": true
   },
   "source": [
    "<h1>Table of Contents<span class=\"tocSkip\"></span></h1>\n",
    "<div class=\"toc\"><ul class=\"toc-item\"><li><span><a href=\"#Dependencies\" data-toc-modified-id=\"Dependencies-1\"><span class=\"toc-item-num\">1&nbsp;&nbsp;</span>Dependencies</a></span></li><li><span><a href=\"#Pan-Daten-laden\" data-toc-modified-id=\"Pan-Daten-laden-2\"><span class=\"toc-item-num\">2&nbsp;&nbsp;</span>Pan Daten laden</a></span></li><li><span><a href=\"#Prepare-data\" data-toc-modified-id=\"Prepare-data-3\"><span class=\"toc-item-num\">3&nbsp;&nbsp;</span>Prepare data</a></span></li><li><span><a href=\"#Ergebnisse-darstellen\" data-toc-modified-id=\"Ergebnisse-darstellen-4\"><span class=\"toc-item-num\">4&nbsp;&nbsp;</span>Ergebnisse darstellen</a></span></li><li><span><a href=\"#Die-Daten-werden-geladen\" data-toc-modified-id=\"Die-Daten-werden-geladen-5\"><span class=\"toc-item-num\">5&nbsp;&nbsp;</span>Die Daten werden geladen</a></span><ul class=\"toc-item\"><li><span><a href=\"#Booksummaries-data\" data-toc-modified-id=\"Booksummaries-data-5.1\"><span class=\"toc-item-num\">5.1&nbsp;&nbsp;</span>Booksummaries data</a></span></li><li><span><a href=\"#PAN\" data-toc-modified-id=\"PAN-5.2\"><span class=\"toc-item-num\">5.2&nbsp;&nbsp;</span>PAN</a></span></li></ul></li><li><span><a href=\"#Define-model\" data-toc-modified-id=\"Define-model-6\"><span class=\"toc-item-num\">6&nbsp;&nbsp;</span>Define model</a></span></li><li><span><a href=\"#Create-dense-model\" data-toc-modified-id=\"Create-dense-model-7\"><span class=\"toc-item-num\">7&nbsp;&nbsp;</span>Create dense model</a></span></li><li><span><a href=\"#Create-dense-on-embedded-data\" data-toc-modified-id=\"Create-dense-on-embedded-data-8\"><span class=\"toc-item-num\">8&nbsp;&nbsp;</span>Create dense on embedded data</a></span></li><li><span><a href=\"#Create-lstm-model\" data-toc-modified-id=\"Create-lstm-model-9\"><span class=\"toc-item-num\">9&nbsp;&nbsp;</span>Create lstm model</a></span></li><li><span><a href=\"#Bidirectional-LSTM\" data-toc-modified-id=\"Bidirectional-LSTM-10\"><span class=\"toc-item-num\">10&nbsp;&nbsp;</span>Bidirectional LSTM</a></span></li><li><span><a href=\"#CNN\" data-toc-modified-id=\"CNN-11\"><span class=\"toc-item-num\">11&nbsp;&nbsp;</span>CNN</a></span></li><li><span><a href=\"#CNN-and-LSTM-mixed\" data-toc-modified-id=\"CNN-and-LSTM-mixed-12\"><span class=\"toc-item-num\">12&nbsp;&nbsp;</span>CNN and LSTM mixed</a></span></li><li><span><a href=\"#Compare-pretrained-embedded-layer-with-self-learned-layer\" data-toc-modified-id=\"Compare-pretrained-embedded-layer-with-self-learned-layer-13\"><span class=\"toc-item-num\">13&nbsp;&nbsp;</span>Compare pretrained embedded layer with self learned layer</a></span></li><li><span><a href=\"#Train-CNN-LSTM-Model-on-Pan\" data-toc-modified-id=\"Train-CNN-LSTM-Model-on-Pan-14\"><span class=\"toc-item-num\">14&nbsp;&nbsp;</span>Train CNN-LSTM-Model on Pan</a></span></li></ul></div>"
   ]
  },
  {
   "cell_type": "markdown",
   "metadata": {},
   "source": [
    "## Dependencies"
   ]
  },
  {
   "cell_type": "code",
   "execution_count": 3,
   "metadata": {
    "ExecuteTime": {
     "end_time": "2019-02-01T14:10:50.791368Z",
     "start_time": "2019-02-01T14:10:47.130903Z"
    }
   },
   "outputs": [],
   "source": [
    "import pandas as pd\n",
    "import os\n",
    "import numpy as np\n",
    "import matplotlib.pyplot as plt\n",
    "from scipy import stats\n",
    "import math\n",
    "from sklearn.metrics.pairwise import cosine_similarity\n",
    "from sklearn.externals.joblib import Memory\n",
    "\n",
    "from nltk.tokenize import RegexpTokenizer\n",
    "import nltk\n",
    "\n",
    "from nltk.corpus import stopwords\n",
    "import FEATURE_SELECTOR_v4\n",
    "import datetime\n",
    "import json\n",
    "\n",
    "from sklearn.model_selection import train_test_split\n",
    "\n",
    "from sklearn.svm import SVC\n",
    "from sklearn.ensemble import RandomForestClassifier\n",
    "\n",
    "from keras.models import Model\n",
    "from keras.layers import LSTM, Activation, Dense, Dropout, Input, Embedding, BatchNormalization, Flatten, Conv1D, MaxPooling1D, GlobalMaxPooling1D, RepeatVector, Bidirectional, GlobalAveragePooling1D\n",
    "from keras.optimizers import RMSprop, Adam\n",
    "from keras.preprocessing.text import Tokenizer\n",
    "from keras.preprocessing import sequence\n",
    "from keras.utils import to_categorical\n",
    "from keras.callbacks import EarlyStopping, TensorBoard, LearningRateScheduler\n",
    "from keras.layers.merge import concatenate\n",
    "from keras import regularizers\n",
    "from tensor_board_logger import TensorBoardLogger\n",
    "#from keras.utils.vis_utils import plot_model\n",
    "from keras import optimizers\n",
    "from keras import losses\n",
    "from keras import metrics\n",
    "import aatm_support\n",
    "from keras.models import load_model\n"
   ]
  },
  {
   "cell_type": "code",
   "execution_count": 4,
   "metadata": {},
   "outputs": [],
   "source": [
    "memory = Memory(location='./tmp', verbose=0)"
   ]
  },
  {
   "cell_type": "markdown",
   "metadata": {},
   "source": [
    "## Pan Daten laden"
   ]
  },
  {
   "cell_type": "code",
   "execution_count": 5,
   "metadata": {
    "ExecuteTime": {
     "end_time": "2019-02-01T14:11:00.261546Z",
     "start_time": "2019-02-01T14:11:00.256991Z"
    }
   },
   "outputs": [],
   "source": [
    "def load_pan_data(name = 'training'):\n",
    "    inputDir = f'./datasets/pan18/pan18-style-change-detection-{name}-dataset-2018-01-31'\n",
    "    \n",
    "    files = os.listdir(inputDir);\n",
    "    data = []\n",
    "    i = 0\n",
    "\n",
    "    for file in files:\n",
    "        # for text files only (ignoring truth files)\n",
    "        if file.endswith(\".txt\"):\n",
    "            filePrefix = os.path.splitext(file)[0]\n",
    "            textFileName = inputDir + \"/\" + filePrefix + \".txt\"\n",
    "            truthFileName = inputDir + \"/\" + filePrefix + \".truth\"\n",
    "            \n",
    "            sample = ['', 0]\n",
    "\n",
    "            with open(textFileName,encoding=\"utf8\") as textFile:\n",
    "                sample[0] = textFile.read()\n",
    "            \n",
    "            with open(truthFileName) as truthFile:\n",
    "                sample[1] = int(json.load(truthFile)['changes'])\n",
    "            \n",
    "            data.append(sample)\n",
    "                \n",
    "            i += 1\n",
    "    \n",
    "    return pd.DataFrame(data, columns=['text', 'label'])"
   ]
  },
  {
   "cell_type": "markdown",
   "metadata": {},
   "source": [
    "## Prepare data\n",
    "\n",
    "Diese Methode dient dazu die Texte in die gewünschte Form zu bringen, sodass diese anschließend in ein Modell mit einem führenden Embedding-Layer übergeben werden können. Hierfür wird jeder Texte in ein Array mit Integern überführt, wobei jeder Integer-Wert für ein ganz bestimmtes Wort steht. \n",
    "Für die weiteren Schritte müssen die Längen der Arrays angeglichen werden. Hierfür wird eine gewünschte Länge vorgegeben. Texte die eine geringere Länge aufweisen werden mittels Padding ergänzt, wobei das Array entweder zu Beginn oder am Ende mit 0-Werten ergänzt werden. Texte, die hingegen zu lang waren, werden gekürzt, indem Wörter weggelassen werden. Als Ergebnis erhält man einen Integermatrix mit m Zeilen und n Spalten, wobei m der Anzahl der Texte und n der festgelegten Länge.\n",
    "\n",
    "Anschließend wird das Datenset in Trainings- und Testdaten unterteilt."
   ]
  },
  {
   "cell_type": "code",
   "execution_count": 6,
   "metadata": {
    "ExecuteTime": {
     "end_time": "2019-02-01T14:11:02.005489Z",
     "start_time": "2019-02-01T14:11:02.001938Z"
    }
   },
   "outputs": [],
   "source": [
    "def prepare_data(tokenizer, serie_texts, labels, max_len=1000, test_size=0.33, random_state=42, max_words=10000):\n",
    "    \"\"\"\n",
    "    Input: \n",
    "        tokenizer,\n",
    "        serie_texts: pd.Series with documents, \n",
    "        labels: pd.Series with labels,\n",
    "        max_len: Length of the array per text after padding,\n",
    "        test_size: Size of the test set,\n",
    "        random_state: Random_state\n",
    "        random_state: random_state\n",
    "        max_words: The k most frequent words\n",
    "    Output: Test and train data\n",
    "    Method: Tokenizing, Indexing, Padding and splitting into test and train data\n",
    "    \"\"\"\n",
    "\n",
    "    #Tokenizing and Indexing\n",
    "    sequences = tok.texts_to_sequences(serie_texts)\n",
    "    #Padding to make sure that all the texts has the same lenght\n",
    "    sequences_matrix = sequence.pad_sequences(sequences, maxlen=max_len)\n",
    "\n",
    "    # Split the dataset into test and training data\n",
    "    X_train, X_test, y_train, y_test = train_test_split(sequences_matrix, labels, test_size=test_size, random_state=random_state)\n",
    "    return X_train, X_test, y_train, y_test"
   ]
  },
  {
   "cell_type": "markdown",
   "metadata": {},
   "source": [
    "## Ergebnisse darstellen"
   ]
  },
  {
   "cell_type": "code",
   "execution_count": 7,
   "metadata": {
    "ExecuteTime": {
     "end_time": "2019-02-01T14:11:05.426948Z",
     "start_time": "2019-02-01T14:11:05.422031Z"
    }
   },
   "outputs": [],
   "source": [
    "# Draw the accuracy and the loss for the training as well as for the validation data\n",
    "def draw_history(history):\n",
    "    \n",
    "    # Accuracies\n",
    "    acc = history.history['acc']\n",
    "    val_acc = history.history['val_acc']\n",
    "    loss = history.history['loss']\n",
    "    val_loss = history.history['val_loss']\n",
    "\n",
    "    epochs = range(1, len(acc) + 1)\n",
    "\n",
    "    plt.figure(1)\n",
    "    plt.subplot(211)\n",
    "    plt.plot(epochs, loss, 'b', label='Training loss')\n",
    "    plt.plot(epochs, val_loss, 'g', label='Validation loss')\n",
    "    plt.title('Training and validation loss')\n",
    "    plt.xlabel('Epochs')\n",
    "    plt.ylabel('Loss')\n",
    "    plt.legend()\n",
    "    \n",
    "    acc_values = acc\n",
    "    val_acc_values = val_acc\n",
    "\n",
    "    plt.subplot(212)\n",
    "    plt.plot(epochs, acc, 'b', label='Training acc')\n",
    "    plt.plot(epochs, val_acc, 'g', label='Validation acc')\n",
    "    plt.title('Training and validation accuracy')\n",
    "    plt.xlabel('Epochs')\n",
    "    plt.ylabel('Accuracy')\n",
    "    plt.legend()\n",
    "\n",
    "    plt.show()"
   ]
  },
  {
   "cell_type": "markdown",
   "metadata": {},
   "source": [
    "## Die Daten werden geladen\n"
   ]
  },
  {
   "cell_type": "markdown",
   "metadata": {},
   "source": [
    "### Booksummaries data\n",
    "Die Daten des Booksummaries-Korpus werden geladen und entsprechen aufbereitet. Dazu gehört die Tokenisierung, das Padding und die Aufteilung in Test- und Trainingsdaten."
   ]
  },
  {
   "cell_type": "code",
   "execution_count": 8,
   "metadata": {
    "ExecuteTime": {
     "end_time": "2019-02-01T14:11:23.666093Z",
     "start_time": "2019-02-01T14:11:22.723160Z"
    }
   },
   "outputs": [
    {
     "data": {
      "text/plain": [
       "29588"
      ]
     },
     "execution_count": 8,
     "metadata": {},
     "output_type": "execute_result"
    }
   ],
   "source": [
    "# Path to the data\n",
    "path_data='.//datasets//constructed_2.csv'\n",
    "\n",
    "# Load the data\n",
    "df_texts=pd.read_csv(path_data,sep=',',header=0, index_col=0)\n",
    "\n",
    "# Documents\n",
    "serie_texts=df_texts.text\n",
    "serie_texts.size\n",
    "\n",
    "# Labels\n",
    "labels=df_texts.label\n",
    "labels.size"
   ]
  },
  {
   "cell_type": "code",
   "execution_count": 9,
   "metadata": {
    "ExecuteTime": {
     "end_time": "2019-02-01T14:11:24.572681Z",
     "start_time": "2019-02-01T14:11:24.570172Z"
    }
   },
   "outputs": [],
   "source": [
    "# Length for padding\n",
    "max_len=1000\n",
    "# Size of the test set\n",
    "test_size=0.33\n",
    "# The most n frequent words\n",
    "max_words=10000\n"
   ]
  },
  {
   "cell_type": "code",
   "execution_count": 10,
   "metadata": {
    "ExecuteTime": {
     "end_time": "2019-02-01T14:11:38.225181Z",
     "start_time": "2019-02-01T14:11:25.244690Z"
    }
   },
   "outputs": [],
   "source": [
    "# Train Tokenizer\n",
    "tok = Tokenizer(num_words=max_words)\n",
    "tok.fit_on_texts(serie_texts)\n"
   ]
  },
  {
   "cell_type": "code",
   "execution_count": 11,
   "metadata": {
    "ExecuteTime": {
     "end_time": "2019-02-01T14:11:50.055865Z",
     "start_time": "2019-02-01T14:11:38.239829Z"
    }
   },
   "outputs": [],
   "source": [
    "# Booksummaries_data\n",
    "X_train, X_test, y_train, y_test = prepare_data(tok,serie_texts=serie_texts,max_len=max_len, labels=df_texts.label,test_size=test_size,max_words=max_words)"
   ]
  },
  {
   "cell_type": "markdown",
   "metadata": {},
   "source": [
    "### PAN\n",
    "Die Daten des Pan-Korpus werden geladen und entsprechen aufbereitet. Dazu gehört die Tokenisierung, das Padding. Dieser Datensatz bereits in Test-, Trainings- und Validierungsdaten unterteilt wird."
   ]
  },
  {
   "cell_type": "code",
   "execution_count": 12,
   "metadata": {
    "ExecuteTime": {
     "end_time": "2019-02-01T14:11:55.367673Z",
     "start_time": "2019-02-01T14:11:52.627957Z"
    }
   },
   "outputs": [
    {
     "name": "stdout",
     "output_type": "stream",
     "text": [
      "Anzahl Dokument m: 2980\n",
      "Anzahl Token n: 1000\n"
     ]
    }
   ],
   "source": [
    "# Pan2018 training data\n",
    "pan_data=load_pan_data(name = 'training')\n",
    "pan_text=pan_data.text\n",
    "pan_label=pan_data.label\n",
    "\n",
    "#Tokenizing and Indexing\n",
    "pan_text = tok.texts_to_sequences(pan_text)\n",
    "#Padding\n",
    "pan_text = sequence.pad_sequences(pan_text, maxlen=max_len)\n",
    "# Size\n",
    "print(\"Anzahl Dokument m:\",pan_text.shape[0])\n",
    "print(\"Anzahl Token n:\",pan_text.shape[1])"
   ]
  },
  {
   "cell_type": "code",
   "execution_count": 13,
   "metadata": {
    "ExecuteTime": {
     "end_time": "2019-02-01T14:12:38.837403Z",
     "start_time": "2019-02-01T14:12:37.552917Z"
    }
   },
   "outputs": [
    {
     "name": "stdout",
     "output_type": "stream",
     "text": [
      "Anzahl Dokument m: 1492\n",
      "Anzahl Token n: 1000\n"
     ]
    }
   ],
   "source": [
    "#Pan2018 validation data\n",
    "val_data = load_pan_data('validation')\n",
    "val_text=val_data.text\n",
    "val_label=val_data.label\n",
    "\n",
    "#Tokenizing and Indexing\n",
    "val_text = tok.texts_to_sequences(val_text)\n",
    "#Padding\n",
    "val_text = sequence.pad_sequences(val_text, maxlen=max_len)\n",
    "# Size\n",
    "print(\"Anzahl Dokument m:\",val_text.shape[0])\n",
    "print(\"Anzahl Token n:\",val_text.shape[1])"
   ]
  },
  {
   "cell_type": "code",
   "execution_count": 14,
   "metadata": {},
   "outputs": [
    {
     "name": "stdout",
     "output_type": "stream",
     "text": [
      "Anzahl Dokument m: 1352\n",
      "Anzahl Token n: 1000\n"
     ]
    }
   ],
   "source": [
    "#Pan2018 test data\n",
    "test_data = load_pan_data('test')\n",
    "test_text=test_data.text\n",
    "test_label=test_data.label\n",
    "\n",
    "#Tokenizing and Indexing\n",
    "test_text = tok.texts_to_sequences(test_text)\n",
    "#Padding\n",
    "test_text = sequence.pad_sequences(test_text, maxlen=max_len)\n",
    "# Size\n",
    "print(\"Anzahl Dokument m:\",test_text.shape[0])\n",
    "print(\"Anzahl Token n:\",test_text.shape[1])"
   ]
  },
  {
   "cell_type": "code",
   "execution_count": 15,
   "metadata": {},
   "outputs": [
    {
     "name": "stdout",
     "output_type": "stream",
     "text": [
      "Anzahl Dokument m: 4472\n",
      "Anzahl Token n: 1000\n"
     ]
    }
   ],
   "source": [
    "# Concatenate the training and the validiation data to increase the number of training data\n",
    "pan_text=np.concatenate([pan_text,val_text]) \n",
    "pan_label=np.concatenate([pan_label,val_label])\n",
    "print(\"Anzahl Dokument m:\",pan_text.shape[0])\n",
    "print(\"Anzahl Token n:\",pan_text.shape[1])"
   ]
  },
  {
   "cell_type": "markdown",
   "metadata": {},
   "source": [
    "## Define model\n",
    "\n",
    "In diesem Abschnitt befinden sich die Methoden um die Modell zu definieren."
   ]
  },
  {
   "cell_type": "code",
   "execution_count": 18,
   "metadata": {
    "ExecuteTime": {
     "end_time": "2019-02-01T14:19:29.629987Z",
     "start_time": "2019-02-01T14:19:29.623262Z"
    }
   },
   "outputs": [],
   "source": [
    "def dense_model(input_dim, settings):\n",
    "    inputs = Input(name='inputs',shape=[input_dim])\n",
    "    layer = Dense(\n",
    "        settings['dense.1.units'],\n",
    "        activation=settings['dense.1.acti'],\n",
    "        kernel_regularizer=regularizers.l2(settings['kernel.regularizer'])\n",
    "    )(inputs)\n",
    "    layer = Dropout(settings['dense.1.dropout'])(layer)\n",
    "    layer = Dense(\n",
    "        settings['dense.2.units'],\n",
    "        activation=settings['dense.2.acti'],\n",
    "        kernel_regularizer=regularizers.l2(settings['kernel.regularizer'])\n",
    "    )(layer)\n",
    "    layer = Dropout(settings['dense.2.dropout'])(layer)\n",
    "    layer = Dense(\n",
    "        settings['dense.3.units'],\n",
    "        activation=settings['dense.3.acti'],\n",
    "        kernel_regularizer=regularizers.l2(settings['kernel.regularizer'])\n",
    "    )(layer)\n",
    "    layer = Dropout(settings['dense.3.dropout'])(layer)\n",
    "    layer = Dense(1, activation=settings['out.acti'], name='main_output')(layer)\n",
    "    \n",
    "    model = Model(inputs=inputs, outputs=layer)\n",
    "    model.summary()\n",
    "    \n",
    "    model.compile(\n",
    "        optimizer=RMSprop(lr=settings['lr.initial']),\n",
    "        loss={\n",
    "            'main_output': 'binary_crossentropy',\n",
    "        },\n",
    "        loss_weights={\n",
    "            'main_output': 1., \n",
    "        },\n",
    "        metrics=['accuracy']\n",
    "    )\n",
    "    return model"
   ]
  },
  {
   "cell_type": "code",
   "execution_count": 19,
   "metadata": {
    "ExecuteTime": {
     "end_time": "2019-02-01T14:19:30.495540Z",
     "start_time": "2019-02-01T14:19:30.489539Z"
    }
   },
   "outputs": [],
   "source": [
    "def embedding_flatten_model(input_dim, settings):\n",
    "    inputs = Input(name='inputs', shape=[input_dim])\n",
    "    layer = Embedding(max_words, settings['embedding.units'], input_length=input_dim)(inputs)\n",
    "    layer = Flatten()(layer)\n",
    "    layer = Dense(\n",
    "        settings['dense.1.units'],\n",
    "        activation=settings['dense.1.acti'],\n",
    "        kernel_regularizer=regularizers.l2(settings['kernel.regularizer'])\n",
    "    )(layer)\n",
    "    layer = Dropout(settings['dense.1.dropout'])(layer)\n",
    "    layer = Dense(\n",
    "        settings['dense.2.units'], \n",
    "        activation=settings['dense.2.acti'],\n",
    "        kernel_regularizer=regularizers.l2(settings['kernel.regularizer'])\n",
    "    )(layer)\n",
    "    layer = Dropout(settings['dense.2.dropout'])(layer)\n",
    "    layer = Dense(\n",
    "        settings['dense.3.units'], \n",
    "        activation=settings['dense.3.acti'],\n",
    "        kernel_regularizer=regularizers.l2(settings['kernel.regularizer'])\n",
    "    )(layer)\n",
    "    layer = Dropout(settings['dense.3.dropout'])(layer)\n",
    "    layer = Dense(1, activation=settings['out.acti'], name='main_output')(layer)\n",
    "   \n",
    "    model = Model(inputs=inputs, outputs=layer)\n",
    "    model.summary()\n",
    "    \n",
    "    model.compile(\n",
    "        optimizer=RMSprop(lr=settings['lr.initial']),\n",
    "        loss={\n",
    "            'main_output': 'binary_crossentropy',\n",
    "        },\n",
    "        loss_weights={\n",
    "            'main_output': 1., \n",
    "        },\n",
    "        metrics=['accuracy']\n",
    "    )\n",
    "    return model\n",
    "    "
   ]
  },
  {
   "cell_type": "code",
   "execution_count": 20,
   "metadata": {
    "ExecuteTime": {
     "end_time": "2019-02-01T14:19:31.078044Z",
     "start_time": "2019-02-01T14:19:31.073167Z"
    }
   },
   "outputs": [],
   "source": [
    "def simple_lstm_model(input_dim, settings):\n",
    "    inputs = Input(name='inputs', shape=[input_dim])\n",
    "    layer = Embedding(max_words, settings['embedding.units'], input_length=input_dim)(inputs)\n",
    "    layer = LSTM(settings['lstm.1.units'], dropout=settings['lstm.1.dropout'])(layer)\n",
    "    layer = Dense(1, activation=settings['out.acti'],name='main_output')\n",
    "    model = Model(inputs=inputs,outputs=layer)\n",
    "    model.summary()\n",
    "    \n",
    "    model.compile(\n",
    "        optimizer=RMSprop(lr=settings['lr.initial']),\n",
    "        loss={\n",
    "            'main_output': 'binary_crossentropy',\n",
    "        },\n",
    "        loss_weights={\n",
    "            'main_output': 1., \n",
    "        },\n",
    "        metrics=['accuracy']\n",
    "    )\n",
    "    return model\n",
    "    "
   ]
  },
  {
   "cell_type": "code",
   "execution_count": 21,
   "metadata": {
    "ExecuteTime": {
     "end_time": "2019-02-01T14:19:31.752548Z",
     "start_time": "2019-02-01T14:19:31.746093Z"
    }
   },
   "outputs": [],
   "source": [
    "def lstm_model(input_dim, settings):\n",
    "    inputs = Input(name='inputs',shape=[input_dim])\n",
    "    layer = Embedding(max_words, settings['embedding.units'], input_length=input_dim)(inputs)\n",
    "    layer = LSTM(settings['lstm.1.units'], dropout=settings['lstm.1.dropout'])(layer)\n",
    "    layer = Dense(\n",
    "        settings['dense.1.units'], \n",
    "        activation=settings['dense.1.acti'],\n",
    "        kernel_regularizer=regularizers.l2(settings['kernel.regularizer'])\n",
    "    )(layer)\n",
    "    layer = Dense(\n",
    "        settings['dense.1.units'],\n",
    "        activation=settings['dense.1.acti'],\n",
    "        kernel_regularizer=regularizers.l2(settings['kernel.regularizer'])\n",
    "    )(layer)\n",
    "    layer = Dropout(settings['dense.1.dropout'])(layer)\n",
    "    layer = Dense(\n",
    "        settings['dense.2.units'],\n",
    "        activation=settings['dense.2.acti'],\n",
    "        kernel_regularizer=regularizers.l2(settings['kernel.regularizer'])\n",
    "    )(layer)\n",
    "    layer = Dropout(settings['dense.2.dropout'])(layer)\n",
    "    \n",
    "    # And finally we add regression layer for the output\n",
    "    output = Dense(1, activation=settings['out.acti'], name='main_output')(layer)\n",
    "    \n",
    "    model = Model(inputs, output)\n",
    "    \n",
    "    model.summary()\n",
    "    \n",
    "    model.compile(\n",
    "        optimizer=RMSprop(lr=settings['lr.initial']),\n",
    "        loss={\n",
    "            'main_output': 'binary_crossentropy',\n",
    "        },\n",
    "        loss_weights={\n",
    "            'main_output': 1., \n",
    "        },\n",
    "        metrics=['accuracy']\n",
    "    )\n",
    "    return model"
   ]
  },
  {
   "cell_type": "code",
   "execution_count": 22,
   "metadata": {
    "ExecuteTime": {
     "end_time": "2019-02-01T14:19:32.689958Z",
     "start_time": "2019-02-01T14:19:32.682878Z"
    }
   },
   "outputs": [],
   "source": [
    "def bidirectional_lstm_model(input_dim, settings):\n",
    "    inputs = Input(name='inputs', shape=[input_dim])\n",
    "    layer = Embedding(max_words, settings['embedding.units'], input_length=input_dim)(inputs)\n",
    "    layer = Bidirectional(LSTM(settings['lstm.1.units'], dropout=settings['lstm.1.dropout']))(layer)\n",
    "    layer = Dense(\n",
    "        settings['dense.1.units'], \n",
    "        activation=settings['dense.1.acti'],\n",
    "        kernel_regularizer=regularizers.l2(settings['kernel.regularizer'])\n",
    "    )(layer)\n",
    "    layer = Dense(\n",
    "        settings['dense.1.units'],\n",
    "        activation=settings['dense.1.acti'],\n",
    "        kernel_regularizer=regularizers.l2(settings['kernel.regularizer'])\n",
    "    )(layer)\n",
    "    layer = Dropout(settings['dense.1.dropout'])(layer)\n",
    "    layer = Dense(\n",
    "        settings['dense.2.units'],\n",
    "        activation=settings['dense.2.acti'],\n",
    "        kernel_regularizer=regularizers.l2(settings['kernel.regularizer'])\n",
    "    )(layer)\n",
    "    layer = Dropout(settings['dense.2.dropout'])(layer)\n",
    "    \n",
    "    output = Dense(1, activation=settings['out.acti'], name='main_output')(layer)\n",
    "    \n",
    "    model = Model(inputs, output)\n",
    "    model.summary()\n",
    "    \n",
    "    model.compile(\n",
    "        optimizer=RMSprop(lr=settings['lr.initial']),\n",
    "        loss={\n",
    "            'main_output': 'binary_crossentropy',\n",
    "        },\n",
    "        loss_weights={\n",
    "            'main_output': 1., \n",
    "        },\n",
    "        metrics=['accuracy']\n",
    "    )\n",
    "    return model"
   ]
  },
  {
   "cell_type": "code",
   "execution_count": 23,
   "metadata": {
    "ExecuteTime": {
     "end_time": "2019-02-01T14:19:33.678590Z",
     "start_time": "2019-02-01T14:19:33.672984Z"
    }
   },
   "outputs": [],
   "source": [
    "def cnn(input_dim, settings):\n",
    "    inputs = Input(name='inputs',shape=[input_dim])\n",
    "    layer = Embedding(max_words,settings['embedding.units'],input_length=input_dim)(inputs)\n",
    "    layer = Conv1D(settings['cnn.1.units'], settings['cnn.1.len'], activation=settings['cnn.1.acti'])(layer)\n",
    "    layer = MaxPooling1D(settings['pooling.1.len'])(layer)\n",
    "    layer = Conv1D(settings['cnn.2.units'], settings['cnn.2.len'], activation=settings['cnn.2.acti'])(layer)\n",
    "    layer = MaxPooling1D(settings['pooling.2.len'])(layer)\n",
    "    layer = GlobalAveragePooling1D()(layer)\n",
    "    layer = Dropout(settings['global.1.dropout'])(layer)\n",
    "    output = Dense(1, activation=settings['out.acti'], name='main_output')(layer)\n",
    "    \n",
    "    model = Model(inputs, output)\n",
    "    \n",
    "    model.summary()\n",
    "    \n",
    "    model.compile(\n",
    "        optimizer=RMSprop(lr=settings['lr.initial']),\n",
    "        loss={\n",
    "            'main_output': 'binary_crossentropy',\n",
    "        },\n",
    "        loss_weights={\n",
    "            'main_output': 1., \n",
    "        },\n",
    "        metrics=['accuracy']\n",
    "    )\n",
    "    return model\n"
   ]
  },
  {
   "cell_type": "code",
   "execution_count": 17,
   "metadata": {
    "ExecuteTime": {
     "end_time": "2019-02-01T14:20:08.780427Z",
     "start_time": "2019-02-01T14:20:08.773685Z"
    }
   },
   "outputs": [],
   "source": [
    "def cnn_lstm_model(input_dim, settings):\n",
    "    inputs = Input(name='inputs',shape=[input_dim])\n",
    "    layer =  Embedding(max_words,settings['embedding.units'],input_length=input_dim)(inputs)\n",
    "    \n",
    "    layer = Conv1D(settings['cnn.1.units'], settings['cnn.1.len'], activation=settings['cnn.1.acti'])(layer)\n",
    "    layer = MaxPooling1D(settings['pooling.1.len'])(layer)\n",
    "    \n",
    "    layer = LSTM(settings['lstm.1.units'],dropout=settings['lstm.1.dropout'])(layer)\n",
    "    layer = Dropout(settings['lstm.1.dropout'])(layer)\n",
    "    \n",
    "    layer = Dense(\n",
    "        settings['dense.1.units'], \n",
    "        activation=settings['dense.1.acti'],\n",
    "        kernel_regularizer=regularizers.l2(settings['kernel.regularizer'])\n",
    "    )(layer)\n",
    "    layer = Dense(\n",
    "        settings['dense.1.units'],\n",
    "        activation=settings['dense.1.acti'],\n",
    "        kernel_regularizer=regularizers.l2(settings['kernel.regularizer'])\n",
    "    )(layer)\n",
    "    layer = Dropout(settings['dense.1.dropout'])(layer)\n",
    "    \n",
    "    output = Dense(1, activation=settings['out.acti'], name='main_output')(layer)\n",
    "    \n",
    "    model = Model(inputs, output)\n",
    "    model.summary()\n",
    "    \n",
    "    model.compile(\n",
    "        optimizer=RMSprop(lr=settings['lr.initial']),\n",
    "        loss={\n",
    "            'main_output': 'binary_crossentropy',\n",
    "        },\n",
    "        loss_weights={\n",
    "            'main_output': 1., \n",
    "        },\n",
    "        metrics=['accuracy']\n",
    "    )\n",
    "    return model\n",
    "    "
   ]
  },
  {
   "cell_type": "markdown",
   "metadata": {},
   "source": [
    "## Create dense model"
   ]
  },
  {
   "cell_type": "code",
   "execution_count": 25,
   "metadata": {
    "ExecuteTime": {
     "end_time": "2019-02-01T14:23:05.878782Z",
     "start_time": "2019-02-01T14:21:37.943459Z"
    }
   },
   "outputs": [
    {
     "name": "stdout",
     "output_type": "stream",
     "text": [
      "Next available file: ./logs/word_embeddings/run_0\n",
      "_________________________________________________________________\n",
      "Layer (type)                 Output Shape              Param #   \n",
      "=================================================================\n",
      "inputs (InputLayer)          (None, 1000)              0         \n",
      "_________________________________________________________________\n",
      "dense_1 (Dense)              (None, 1000)              1001000   \n",
      "_________________________________________________________________\n",
      "dropout_1 (Dropout)          (None, 1000)              0         \n",
      "_________________________________________________________________\n",
      "dense_2 (Dense)              (None, 100)               100100    \n",
      "_________________________________________________________________\n",
      "dropout_2 (Dropout)          (None, 100)               0         \n",
      "_________________________________________________________________\n",
      "dense_3 (Dense)              (None, 10)                1010      \n",
      "_________________________________________________________________\n",
      "dropout_3 (Dropout)          (None, 10)                0         \n",
      "_________________________________________________________________\n",
      "main_output (Dense)          (None, 1)                 11        \n",
      "=================================================================\n",
      "Total params: 1,102,121\n",
      "Trainable params: 1,102,121\n",
      "Non-trainable params: 0\n",
      "_________________________________________________________________\n",
      "Train on 19823 samples, validate on 9765 samples\n",
      "Epoch 1/200\n",
      "19823/19823 [==============================] - 5s 274us/step - loss: 7.4292 - acc: 0.5110 - val_loss: 7.4606 - val_acc: 0.5143\n",
      "Epoch 2/200\n",
      "19823/19823 [==============================] - 6s 278us/step - loss: 2.9588 - acc: 0.5014 - val_loss: 0.7073 - val_acc: 0.4993\n",
      "Epoch 3/200\n",
      "19823/19823 [==============================] - 6s 278us/step - loss: 1.1225 - acc: 0.5595 - val_loss: 8.1144 - val_acc: 0.4993\n",
      "Epoch 4/200\n",
      "19823/19823 [==============================] - 6s 279us/step - loss: 1.0242 - acc: 0.5631 - val_loss: 0.6857 - val_acc: 0.5983\n",
      "Epoch 5/200\n",
      "19823/19823 [==============================] - 6s 278us/step - loss: 0.9860 - acc: 0.6072 - val_loss: 0.7301 - val_acc: 0.6428\n",
      "Epoch 6/200\n",
      "19823/19823 [==============================] - 6s 301us/step - loss: 0.9861 - acc: 0.6230 - val_loss: 0.8234 - val_acc: 0.6590\n",
      "Epoch 7/200\n",
      "19823/19823 [==============================] - 6s 296us/step - loss: 1.0642 - acc: 0.6238 - val_loss: 0.7299 - val_acc: 0.6407\n",
      "Epoch 8/200\n",
      "19823/19823 [==============================] - 6s 298us/step - loss: 0.9388 - acc: 0.6204 - val_loss: 0.7904 - val_acc: 0.6344\n",
      "Epoch 9/200\n",
      "19823/19823 [==============================] - 6s 293us/step - loss: 0.9345 - acc: 0.6221 - val_loss: 0.7250 - val_acc: 0.6176\n",
      "Epoch 10/200\n",
      "19823/19823 [==============================] - 6s 288us/step - loss: 0.8349 - acc: 0.6226 - val_loss: 0.7056 - val_acc: 0.6145\n",
      "Epoch 11/200\n",
      "19823/19823 [==============================] - 6s 291us/step - loss: 0.8831 - acc: 0.6214 - val_loss: 0.7020 - val_acc: 0.6258\n",
      "Epoch 12/200\n",
      "19823/19823 [==============================] - 6s 313us/step - loss: 0.7999 - acc: 0.6218 - val_loss: 0.7634 - val_acc: 0.6552\n",
      "Epoch 13/200\n",
      "19823/19823 [==============================] - 6s 322us/step - loss: 0.8166 - acc: 0.6263 - val_loss: 0.7152 - val_acc: 0.6379\n",
      "Epoch 14/200\n",
      "19823/19823 [==============================] - 7s 330us/step - loss: 0.8565 - acc: 0.6314 - val_loss: 0.9945 - val_acc: 0.6681\n"
     ]
    },
    {
     "data": {
      "image/png": "[encoded data removed]",
      "text/plain": [
       "<Figure size 432x288 with 2 Axes>"
      ]
     },
     "metadata": {},
     "output_type": "display_data"
    }
   ],
   "source": [
    "\n",
    "settings = {\n",
    "    'folder': aatm_support.next_file('./logs/word_embeddings/run', ''),\n",
    "    'dense.1.units': 1000,\n",
    "    'dense.1.acti': 'relu',\n",
    "    'dense.1.dropout': 0.5,\n",
    "    'dense.2.units': 100,\n",
    "    'dense.2.acti': 'relu',\n",
    "    'dense.2.dropout': 0.5,\n",
    "    'dense.3.units': 10,\n",
    "    'dense.3.acti': 'relu',\n",
    "    'dense.3.dropout': 0.5,\n",
    "    'out.acti': 'sigmoid',\n",
    "    'lr.initial': 0.001,\n",
    "    'epochs': 200,\n",
    "    'batch_size': 32,\n",
    "    'early_stop.monitor': 'val_loss',\n",
    "    'early_stop.min_delta': 0.001,\n",
    "    'early_stop.patience': 10,\n",
    "    'kernel.regularizer': 0.01\n",
    "}\n",
    "\n",
    "model = dense_model(input_dim=X_train.shape[1], settings=settings)\n",
    "\n",
    "history = model.fit(\n",
    "    X_train,\n",
    "    [\n",
    "        y_train, \n",
    "    ],\n",
    "    batch_size=settings['batch_size'],\n",
    "    epochs=settings['epochs'], \n",
    "    validation_data=(\n",
    "        X_test, \n",
    "        [\n",
    "            y_test, \n",
    "        ],\n",
    "    ),\n",
    "    callbacks=[\n",
    "        EarlyStopping(\n",
    "            monitor=settings['early_stop.monitor'], \n",
    "            min_delta=settings['early_stop.min_delta'],\n",
    "            patience=settings['early_stop.patience']\n",
    "        ), \n",
    "        TensorBoardLogger(\n",
    "            log_dir=settings['folder'], \n",
    "            histogram_freq=0,\n",
    "            batch_size=settings['batch_size'], \n",
    "            write_graph=False,\n",
    "            settings_str_to_log=json.dumps(settings, ensure_ascii=False)\n",
    "        )\n",
    "    ]\n",
    ")\n",
    "\n",
    "draw_history(history)"
   ]
  },
  {
   "cell_type": "code",
   "execution_count": 26,
   "metadata": {
    "ExecuteTime": {
     "end_time": "2019-02-01T14:23:16.408888Z",
     "start_time": "2019-02-01T14:23:16.325279Z"
    }
   },
   "outputs": [
    {
     "name": "stdout",
     "output_type": "stream",
     "text": [
      "acc: 51.54%\n"
     ]
    }
   ],
   "source": [
    "# Test model on pan2018 data\n",
    "scores = model.evaluate(test_text, test_label, verbose=0)\n",
    "print(\"%s: %.2f%%\" % (model.metrics_names[1], scores[1]*100))"
   ]
  },
  {
   "cell_type": "markdown",
   "metadata": {},
   "source": [
    "## Create dense on embedded data"
   ]
  },
  {
   "cell_type": "code",
   "execution_count": 27,
   "metadata": {
    "ExecuteTime": {
     "end_time": "2019-02-01T14:29:16.613728Z",
     "start_time": "2019-02-01T14:25:33.690326Z"
    }
   },
   "outputs": [
    {
     "name": "stdout",
     "output_type": "stream",
     "text": [
      "Next available file: ./logs/word_embeddings/run_1\n",
      "_________________________________________________________________\n",
      "Layer (type)                 Output Shape              Param #   \n",
      "=================================================================\n",
      "inputs (InputLayer)          (None, 1000)              0         \n",
      "_________________________________________________________________\n",
      "embedding_1 (Embedding)      (None, 1000, 50)          500000    \n",
      "_________________________________________________________________\n",
      "flatten_1 (Flatten)          (None, 50000)             0         \n",
      "_________________________________________________________________\n",
      "dense_4 (Dense)              (None, 16)                800016    \n",
      "_________________________________________________________________\n",
      "dropout_4 (Dropout)          (None, 16)                0         \n",
      "_________________________________________________________________\n",
      "dense_5 (Dense)              (None, 16)                272       \n",
      "_________________________________________________________________\n",
      "dropout_5 (Dropout)          (None, 16)                0         \n",
      "_________________________________________________________________\n",
      "dense_6 (Dense)              (None, 16)                272       \n",
      "_________________________________________________________________\n",
      "dropout_6 (Dropout)          (None, 16)                0         \n",
      "_________________________________________________________________\n",
      "main_output (Dense)          (None, 1)                 17        \n",
      "=================================================================\n",
      "Total params: 1,300,577\n",
      "Trainable params: 1,300,577\n",
      "Non-trainable params: 0\n",
      "_________________________________________________________________\n",
      "Train on 19823 samples, validate on 9765 samples\n",
      "Epoch 1/200\n",
      "19823/19823 [==============================] - 8s 387us/step - loss: 0.9956 - acc: 0.5631 - val_loss: 0.8707 - val_acc: 0.6774\n",
      "Epoch 2/200\n",
      "19823/19823 [==============================] - 8s 392us/step - loss: 0.8468 - acc: 0.5970 - val_loss: 0.7823 - val_acc: 0.6775\n",
      "Epoch 3/200\n",
      "19823/19823 [==============================] - 8s 403us/step - loss: 0.7762 - acc: 0.6232 - val_loss: 0.7147 - val_acc: 0.6808\n",
      "Epoch 4/200\n",
      "19823/19823 [==============================] - 8s 405us/step - loss: 0.7315 - acc: 0.6327 - val_loss: 0.7005 - val_acc: 0.6789\n",
      "Epoch 5/200\n",
      "19823/19823 [==============================] - 8s 400us/step - loss: 0.6945 - acc: 0.6535 - val_loss: 0.6611 - val_acc: 0.6804\n",
      "Epoch 6/200\n",
      "19823/19823 [==============================] - 9s 443us/step - loss: 0.6758 - acc: 0.6611 - val_loss: 0.6326 - val_acc: 0.6938\n",
      "Epoch 7/200\n",
      "19823/19823 [==============================] - 8s 425us/step - loss: 0.6606 - acc: 0.6675 - val_loss: 0.6227 - val_acc: 0.6931\n",
      "Epoch 8/200\n",
      "19823/19823 [==============================] - 8s 416us/step - loss: 0.6491 - acc: 0.6778 - val_loss: 0.6108 - val_acc: 0.6961\n",
      "Epoch 9/200\n",
      "19823/19823 [==============================] - 8s 412us/step - loss: 0.6360 - acc: 0.6907 - val_loss: 0.5959 - val_acc: 0.7309\n",
      "Epoch 10/200\n",
      "19823/19823 [==============================] - 8s 392us/step - loss: 0.6284 - acc: 0.7042 - val_loss: 0.5903 - val_acc: 0.7429\n",
      "Epoch 11/200\n",
      "19823/19823 [==============================] - 8s 407us/step - loss: 0.6175 - acc: 0.7217 - val_loss: 0.5823 - val_acc: 0.7365\n",
      "Epoch 12/200\n",
      "19823/19823 [==============================] - 8s 412us/step - loss: 0.6050 - acc: 0.7301 - val_loss: 0.5845 - val_acc: 0.7351\n",
      "Epoch 13/200\n",
      "19823/19823 [==============================] - 8s 401us/step - loss: 0.5955 - acc: 0.7437 - val_loss: 0.5656 - val_acc: 0.7636\n",
      "Epoch 14/200\n",
      "19823/19823 [==============================] - 8s 398us/step - loss: 0.5848 - acc: 0.7558 - val_loss: 0.5853 - val_acc: 0.7314\n",
      "Epoch 15/200\n",
      "19823/19823 [==============================] - 8s 420us/step - loss: 0.5767 - acc: 0.7679 - val_loss: 0.5495 - val_acc: 0.7729\n",
      "Epoch 16/200\n",
      "19823/19823 [==============================] - 9s 447us/step - loss: 0.5585 - acc: 0.7795 - val_loss: 0.5407 - val_acc: 0.7822\n",
      "Epoch 17/200\n",
      "19823/19823 [==============================] - 8s 428us/step - loss: 0.5570 - acc: 0.7882 - val_loss: 0.5380 - val_acc: 0.7910\n",
      "Epoch 18/200\n",
      "19823/19823 [==============================] - 9s 435us/step - loss: 0.5487 - acc: 0.7974 - val_loss: 0.5372 - val_acc: 0.7839\n",
      "Epoch 19/200\n",
      "19823/19823 [==============================] - 9s 467us/step - loss: 0.5380 - acc: 0.8090 - val_loss: 0.5467 - val_acc: 0.7811\n",
      "Epoch 20/200\n",
      "19823/19823 [==============================] - 10s 486us/step - loss: 0.5253 - acc: 0.8182 - val_loss: 0.5383 - val_acc: 0.7915\n",
      "Epoch 21/200\n",
      "19823/19823 [==============================] - 9s 443us/step - loss: 0.5165 - acc: 0.8292 - val_loss: 0.5322 - val_acc: 0.7973\n",
      "Epoch 22/200\n",
      "19823/19823 [==============================] - 9s 466us/step - loss: 0.5035 - acc: 0.8423 - val_loss: 0.5350 - val_acc: 0.7995\n",
      "Epoch 23/200\n",
      "19823/19823 [==============================] - 9s 458us/step - loss: 0.4983 - acc: 0.8445 - val_loss: 0.5682 - val_acc: 0.7760\n",
      "Epoch 24/200\n",
      "19823/19823 [==============================] - 10s 480us/step - loss: 0.4908 - acc: 0.8529 - val_loss: 0.5438 - val_acc: 0.8010\n",
      "Epoch 25/200\n",
      "19823/19823 [==============================] - 10s 483us/step - loss: 0.4763 - acc: 0.8622 - val_loss: 0.5529 - val_acc: 0.8007\n",
      "Epoch 26/200\n",
      "19823/19823 [==============================] - 10s 484us/step - loss: 0.4668 - acc: 0.8710 - val_loss: 0.5553 - val_acc: 0.8024\n"
     ]
    },
    {
     "data": {
      "image/png": "[encoded data removed]",
      "text/plain": [
       "<Figure size 432x288 with 2 Axes>"
      ]
     },
     "metadata": {},
     "output_type": "display_data"
    }
   ],
   "source": [
    "settings = {\n",
    "    'folder': aatm_support.next_file('./logs/word_embeddings/run', ''),\n",
    "    'embedding.units': 50,\n",
    "    'dense.1.units': 16,\n",
    "    'dense.1.acti': 'relu',\n",
    "    'dense.1.dropout': 0.5,\n",
    "    'dense.2.units': 16,\n",
    "    'dense.2.acti': 'relu',\n",
    "    'dense.2.dropout': 0.5,\n",
    "    'dense.3.units': 16,\n",
    "    'dense.3.acti': 'relu',\n",
    "    'dense.3.dropout': 0.5,\n",
    "    'out.acti': 'sigmoid',\n",
    "    'lr.initial': 0.0001,\n",
    "    'epochs': 200,\n",
    "    'batch_size': 32,\n",
    "    'early_stop.monitor': 'val_loss',\n",
    "    'early_stop.min_delta': 0.001,\n",
    "    'early_stop.patience': 5,\n",
    "    'kernel.regularizer': 0.01\n",
    "}\n",
    "\n",
    "model = embedding_flatten_model(input_dim=X_train.shape[1], settings=settings)\n",
    "\n",
    "history = model.fit(\n",
    "    X_train,\n",
    "    [\n",
    "        y_train, \n",
    "    ],\n",
    "    batch_size=settings['batch_size'],\n",
    "    epochs=settings['epochs'], \n",
    "    validation_data=(\n",
    "        X_test, \n",
    "        [\n",
    "            y_test, \n",
    "            # y_test, y_test, y_test, y_test\n",
    "        ],\n",
    "    ),\n",
    "    callbacks=[\n",
    "        EarlyStopping(\n",
    "            monitor=settings['early_stop.monitor'], \n",
    "            min_delta=settings['early_stop.min_delta'],\n",
    "            patience=settings['early_stop.patience']\n",
    "        ), \n",
    "        TensorBoardLogger(\n",
    "            log_dir=settings['folder'], \n",
    "            histogram_freq=0,\n",
    "            batch_size=settings['batch_size'], \n",
    "            write_graph=False,\n",
    "            settings_str_to_log=json.dumps(settings, ensure_ascii=False)\n",
    "        )\n",
    "    ]\n",
    ")\n",
    "\n",
    "draw_history(history)"
   ]
  },
  {
   "cell_type": "code",
   "execution_count": 29,
   "metadata": {
    "ExecuteTime": {
     "end_time": "2019-02-01T14:35:24.506030Z",
     "start_time": "2019-02-01T14:35:24.324321Z"
    }
   },
   "outputs": [
    {
     "name": "stdout",
     "output_type": "stream",
     "text": [
      "Next available file: ./models/Embedded_models/embedded_dense/model_0.h5\n"
     ]
    }
   ],
   "source": [
    "# Run this to save a model after training\n",
    "model.save(aatm_support.next_file('./models/Embedded_models/embedded_dense/model', '.h5'))"
   ]
  },
  {
   "cell_type": "code",
   "execution_count": 30,
   "metadata": {
    "ExecuteTime": {
     "end_time": "2019-02-01T14:35:29.053806Z",
     "start_time": "2019-02-01T14:35:28.889135Z"
    }
   },
   "outputs": [
    {
     "name": "stdout",
     "output_type": "stream",
     "text": [
      "acc: 52.28%\n"
     ]
    }
   ],
   "source": [
    "# Test model on pan2018 data\n",
    "scores = model.evaluate(test_text, test_label, verbose=0)\n",
    "print(\"%s: %.2f%%\" % (model.metrics_names[1], scores[1]*100))"
   ]
  },
  {
   "cell_type": "markdown",
   "metadata": {},
   "source": [
    "**LSTM**"
   ]
  },
  {
   "cell_type": "code",
   "execution_count": 24,
   "metadata": {
    "scrolled": true
   },
   "outputs": [
    {
     "name": "stdout",
     "output_type": "stream",
     "text": [
      "Next available file: ./logs/word_embeddings/run_23\n",
      "_________________________________________________________________\n",
      "Layer (type)                 Output Shape              Param #   \n",
      "=================================================================\n",
      "inputs (InputLayer)          (None, 1000)              0         \n",
      "_________________________________________________________________\n",
      "embedding_2 (Embedding)      (None, 1000, 100)         1000000   \n",
      "_________________________________________________________________\n",
      "lstm_2 (LSTM)                (None, 32)                17024     \n",
      "_________________________________________________________________\n",
      "main_output (Dense)          (None, 1)                 33        \n",
      "=================================================================\n",
      "Total params: 1,017,057\n",
      "Trainable params: 1,017,057\n",
      "Non-trainable params: 0\n",
      "_________________________________________________________________\n",
      "Train on 19823 samples, validate on 9765 samples\n",
      "Epoch 1/200\n",
      "19823/19823 [==============================] - 623s 31ms/step - loss: 0.6233 - acc: 0.6396 - val_loss: 0.5472 - val_acc: 0.7517\n",
      "Epoch 2/200\n",
      "19823/19823 [==============================] - 542s 27ms/step - loss: 0.4820 - acc: 0.7791 - val_loss: 0.4697 - val_acc: 0.7747\n",
      "Epoch 3/200\n",
      "19823/19823 [==============================] - 536s 27ms/step - loss: 0.3969 - acc: 0.8268 - val_loss: 0.5164 - val_acc: 0.7585\n",
      "Epoch 4/200\n",
      "19823/19823 [==============================] - 541s 27ms/step - loss: 0.3554 - acc: 0.8473 - val_loss: 0.4609 - val_acc: 0.8011\n",
      "Epoch 5/200\n",
      "19823/19823 [==============================] - 568s 29ms/step - loss: 0.3233 - acc: 0.8661 - val_loss: 0.4618 - val_acc: 0.7906\n",
      "Epoch 6/200\n",
      "19823/19823 [==============================] - 538s 27ms/step - loss: 0.3006 - acc: 0.8786 - val_loss: 0.5080 - val_acc: 0.7822\n",
      "Epoch 7/200\n",
      "19823/19823 [==============================] - 561s 28ms/step - loss: 0.2891 - acc: 0.8816 - val_loss: 0.4541 - val_acc: 0.8070\n",
      "Epoch 8/200\n",
      "19823/19823 [==============================] - 560s 28ms/step - loss: 0.2718 - acc: 0.8895 - val_loss: 0.5267 - val_acc: 0.7817\n",
      "Epoch 9/200\n",
      "19823/19823 [==============================] - 554s 28ms/step - loss: 0.2555 - acc: 0.8982 - val_loss: 0.4521 - val_acc: 0.7975\n",
      "Epoch 10/200\n",
      "19823/19823 [==============================] - 880s 44ms/step - loss: 0.2459 - acc: 0.9034 - val_loss: 0.4606 - val_acc: 0.7897\n",
      "Epoch 11/200\n",
      "19823/19823 [==============================] - 1116s 56ms/step - loss: 0.2360 - acc: 0.9051 - val_loss: 0.4883 - val_acc: 0.8120\n",
      "Epoch 12/200\n",
      "19823/19823 [==============================] - 1205s 61ms/step - loss: 0.2181 - acc: 0.9163 - val_loss: 0.5862 - val_acc: 0.7665\n",
      "Epoch 13/200\n",
      "19823/19823 [==============================] - 774s 39ms/step - loss: 0.2045 - acc: 0.9215 - val_loss: 0.5202 - val_acc: 0.7903\n",
      "Epoch 14/200\n",
      "19823/19823 [==============================] - 628s 32ms/step - loss: 0.1911 - acc: 0.9294 - val_loss: 0.4938 - val_acc: 0.8081\n"
     ]
    },
    {
     "data": {
      "image/png": "[encoded data removed]",
      "text/plain": [
       "<Figure size 432x288 with 2 Axes>"
      ]
     },
     "metadata": {
      "needs_background": "light"
     },
     "output_type": "display_data"
    }
   ],
   "source": [
    "settings = {\n",
    "    'folder': aatm_support.next_file('./logs/word_embeddings/run', ''),\n",
    "    'embedding.units': 100,\n",
    "    'lstm.1.units': 32,\n",
    "    'lstm.1.dropout': 0.2,\n",
    "    'dense.1.units': 16,\n",
    "    'dense.1.acti': 'relu',\n",
    "    'dense.1.dropout': 0.2,\n",
    "    'dense.2.units': 16,\n",
    "    'dense.2.acti': 'relu',\n",
    "    'dense.2.dropout': 0.2,\n",
    "    'out.acti': 'sigmoid',\n",
    "    'lr.initial': 0.001,\n",
    "    'epochs': 200,\n",
    "    'batch_size': 32,\n",
    "    'early_stop.monitor': 'val_loss',\n",
    "    'early_stop.min_delta': 0.001,\n",
    "    'early_stop.patience': 5,\n",
    "    'kernel.regularizer': 0.01\n",
    "}\n",
    "\n",
    "model = simple_lstm_model(input_dim=X_train.shape[1], settings=settings)\n",
    "\n",
    "history = model.fit(\n",
    "    X_train,\n",
    "    [\n",
    "        y_train, \n",
    "    ],\n",
    "    batch_size=settings['batch_size'],\n",
    "    epochs=settings['epochs'], \n",
    "    validation_data=(\n",
    "        X_test, \n",
    "        [\n",
    "            y_test, \n",
    "            # y_test, y_test, y_test, y_test\n",
    "        ],\n",
    "    ),\n",
    "    callbacks=[\n",
    "        EarlyStopping(\n",
    "            monitor=settings['early_stop.monitor'], \n",
    "            min_delta=settings['early_stop.min_delta'],\n",
    "            patience=settings['early_stop.patience']\n",
    "        ), \n",
    "        TensorBoardLogger(\n",
    "            log_dir=settings['folder'], \n",
    "            histogram_freq=0,\n",
    "            batch_size=settings['batch_size'], \n",
    "            write_graph=False,\n",
    "            settings_str_to_log=json.dumps(settings, ensure_ascii=False)\n",
    "        )\n",
    "    ]\n",
    ")\n",
    "\n",
    "draw_history(history)\n"
   ]
  },
  {
   "cell_type": "code",
   "execution_count": null,
   "metadata": {},
   "outputs": [],
   "source": [
    "# Run this to save a model after training\n",
    "model.save(aatm_support.next_file('./models/embedded_lstm/model', '.h5'))"
   ]
  },
  {
   "cell_type": "code",
   "execution_count": 32,
   "metadata": {},
   "outputs": [
    {
     "name": "stdout",
     "output_type": "stream",
     "text": [
      "acc: 50.00%\n"
     ]
    }
   ],
   "source": [
    "# Test model on pan2018 data\n",
    "scores = model.evaluate(val_text, val_label, verbose=0)\n",
    "print(\"%s: %.2f%%\" % (model.metrics_names[1], scores[1]*100))"
   ]
  },
  {
   "cell_type": "markdown",
   "metadata": {},
   "source": [
    "## Bidirectional LSTM"
   ]
  },
  {
   "cell_type": "code",
   "execution_count": 33,
   "metadata": {},
   "outputs": [
    {
     "name": "stdout",
     "output_type": "stream",
     "text": [
      "Next available file: ./logs/word_embeddings/run_16\n",
      "_________________________________________________________________\n",
      "Layer (type)                 Output Shape              Param #   \n",
      "=================================================================\n",
      "inputs (InputLayer)          (None, 1000)              0         \n",
      "_________________________________________________________________\n",
      "embedding_8 (Embedding)      (None, 1000, 100)         1000000   \n",
      "_________________________________________________________________\n",
      "bidirectional_1 (Bidirection (None, 64)                34048     \n",
      "_________________________________________________________________\n",
      "dense_20 (Dense)             (None, 16)                1040      \n",
      "_________________________________________________________________\n",
      "dense_21 (Dense)             (None, 16)                272       \n",
      "_________________________________________________________________\n",
      "dropout_19 (Dropout)         (None, 16)                0         \n",
      "_________________________________________________________________\n",
      "dense_22 (Dense)             (None, 16)                272       \n",
      "_________________________________________________________________\n",
      "dropout_20 (Dropout)         (None, 16)                0         \n",
      "_________________________________________________________________\n",
      "main_output (Dense)          (None, 1)                 17        \n",
      "=================================================================\n",
      "Total params: 1,035,649\n",
      "Trainable params: 1,035,649\n",
      "Non-trainable params: 0\n",
      "_________________________________________________________________\n",
      "Train on 19823 samples, validate on 9765 samples\n",
      "Epoch 1/200\n",
      "19823/19823 [==============================] - 916s 46ms/step - loss: 1.1211 - acc: 0.5581 - val_loss: 1.0035 - val_acc: 0.5701\n",
      "Epoch 2/200\n",
      "19823/19823 [==============================] - 905s 46ms/step - loss: 0.9196 - acc: 0.5671 - val_loss: 0.8495 - val_acc: 0.5711\n",
      "Epoch 3/200\n",
      "19823/19823 [==============================] - 900s 45ms/step - loss: 0.8060 - acc: 0.5702 - val_loss: 0.7677 - val_acc: 0.5853\n",
      "Epoch 4/200\n",
      "19823/19823 [==============================] - 903s 46ms/step - loss: 0.7520 - acc: 0.5627 - val_loss: 0.7265 - val_acc: 0.5866\n",
      "Epoch 5/200\n",
      "19823/19823 [==============================] - 902s 45ms/step - loss: 0.7193 - acc: 0.5768 - val_loss: 0.6891 - val_acc: 0.6894\n",
      "Epoch 6/200\n",
      "19823/19823 [==============================] - 906s 46ms/step - loss: 0.6863 - acc: 0.6365 - val_loss: 0.6737 - val_acc: 0.6514\n",
      "Epoch 7/200\n",
      "19823/19823 [==============================] - 904s 46ms/step - loss: 0.6477 - acc: 0.6969 - val_loss: 0.6077 - val_acc: 0.7418\n",
      "Epoch 8/200\n",
      "19823/19823 [==============================] - 907s 46ms/step - loss: 0.6101 - acc: 0.7320 - val_loss: 0.6452 - val_acc: 0.6859\n",
      "Epoch 9/200\n",
      "19823/19823 [==============================] - 906s 46ms/step - loss: 0.5785 - acc: 0.7550 - val_loss: 0.5484 - val_acc: 0.7705\n",
      "Epoch 10/200\n",
      "19823/19823 [==============================] - 906s 46ms/step - loss: 0.5391 - acc: 0.7798 - val_loss: 0.5438 - val_acc: 0.7788\n",
      "Epoch 11/200\n",
      "19823/19823 [==============================] - 906s 46ms/step - loss: 0.5051 - acc: 0.8031 - val_loss: 0.5977 - val_acc: 0.7239\n",
      "Epoch 12/200\n",
      "19823/19823 [==============================] - 919s 46ms/step - loss: 0.4762 - acc: 0.8166 - val_loss: 0.5171 - val_acc: 0.7797\n",
      "Epoch 13/200\n",
      "19823/19823 [==============================] - 906s 46ms/step - loss: 0.4553 - acc: 0.8290 - val_loss: 0.5097 - val_acc: 0.7921\n",
      "Epoch 14/200\n",
      "19823/19823 [==============================] - 909s 46ms/step - loss: 0.4314 - acc: 0.8459 - val_loss: 0.4927 - val_acc: 0.8017\n",
      "Epoch 15/200\n",
      "19823/19823 [==============================] - 907s 46ms/step - loss: 0.4113 - acc: 0.8537 - val_loss: 0.4826 - val_acc: 0.8062\n",
      "Epoch 16/200\n",
      "19823/19823 [==============================] - 907s 46ms/step - loss: 0.4016 - acc: 0.8631 - val_loss: 0.4940 - val_acc: 0.8046\n",
      "Epoch 17/200\n",
      "19823/19823 [==============================] - 909s 46ms/step - loss: 0.3874 - acc: 0.8685 - val_loss: 0.5355 - val_acc: 0.7879\n",
      "Epoch 18/200\n",
      "19823/19823 [==============================] - 914s 46ms/step - loss: 0.3641 - acc: 0.8790 - val_loss: 0.4929 - val_acc: 0.8043\n",
      "Epoch 19/200\n",
      "19823/19823 [==============================] - 920s 46ms/step - loss: 0.3550 - acc: 0.8856 - val_loss: 0.4917 - val_acc: 0.8128\n",
      "Epoch 20/200\n",
      "19823/19823 [==============================] - 909s 46ms/step - loss: 0.3382 - acc: 0.8946 - val_loss: 0.4909 - val_acc: 0.8046\n"
     ]
    },
    {
     "data": {
      "image/png": "[encoded data removed]",
      "text/plain": [
       "<Figure size 432x288 with 2 Axes>"
      ]
     },
     "metadata": {
      "needs_background": "light"
     },
     "output_type": "display_data"
    }
   ],
   "source": [
    "settings = {\n",
    "    'folder': aatm_support.next_file('./logs/word_embeddings/run', ''),\n",
    "    'embedding.units': 100,\n",
    "    'lstm.1.units': 32,\n",
    "    'lstm.1.dropout': 0.2,\n",
    "    'dense.1.units': 16,\n",
    "    'dense.1.acti': 'relu',\n",
    "    'dense.1.dropout': 0.2,\n",
    "    'dense.2.units': 16,\n",
    "    'dense.2.acti': 'relu',\n",
    "    'dense.2.dropout': 0.2,\n",
    "    'out.acti': 'sigmoid',\n",
    "    'lr.initial': 0.0001,\n",
    "    'epochs': 200,\n",
    "    'batch_size': 32,\n",
    "    'early_stop.monitor': 'val_loss',\n",
    "    'early_stop.min_delta': 0.001,\n",
    "    'early_stop.patience': 5,\n",
    "    'kernel.regularizer': 0.01\n",
    "}\n",
    "\n",
    "model = bidirectional_lstm_model(input_dim=X_train.shape[1], settings=settings)\n",
    "\n",
    "history = model.fit(\n",
    "    X_train,\n",
    "    [\n",
    "        y_train, \n",
    "    ],\n",
    "    batch_size=settings['batch_size'],\n",
    "    epochs=settings['epochs'], \n",
    "    validation_data=(\n",
    "        X_test, \n",
    "        [\n",
    "            y_test, \n",
    "        ],\n",
    "    ),\n",
    "    callbacks=[\n",
    "        EarlyStopping(\n",
    "            monitor=settings['early_stop.monitor'], \n",
    "            min_delta=settings['early_stop.min_delta'],\n",
    "            patience=settings['early_stop.patience']\n",
    "        ), \n",
    "        TensorBoardLogger(\n",
    "            log_dir=settings['folder'], \n",
    "            histogram_freq=0,\n",
    "            batch_size=settings['batch_size'], \n",
    "            write_graph=False,\n",
    "            settings_str_to_log=json.dumps(settings, ensure_ascii=False)\n",
    "        )\n",
    "    ]\n",
    ")\n",
    "\n",
    "draw_history(history)"
   ]
  },
  {
   "cell_type": "code",
   "execution_count": null,
   "metadata": {},
   "outputs": [],
   "source": [
    "# Run this to save a model after training\n",
    "model.save(aatm_support.next_file('./models/Embedded_models/embedded_bidirectional_lstm/model', '.h5'))"
   ]
  },
  {
   "cell_type": "code",
   "execution_count": 34,
   "metadata": {},
   "outputs": [
    {
     "name": "stdout",
     "output_type": "stream",
     "text": [
      "acc: 51.24%\n"
     ]
    }
   ],
   "source": [
    "# Test model on pan2018 data\n",
    "scores = model.evaluate(val_text, val_label, verbose=0)\n",
    "print(\"%s: %.2f%%\" % (model.metrics_names[1], scores[1]*100))"
   ]
  },
  {
   "cell_type": "markdown",
   "metadata": {},
   "source": [
    "## CNN"
   ]
  },
  {
   "cell_type": "code",
   "execution_count": 37,
   "metadata": {
    "ExecuteTime": {
     "end_time": "2019-02-01T23:39:05.270231Z",
     "start_time": "2019-02-01T22:55:41.151801Z"
    }
   },
   "outputs": [
    {
     "name": "stdout",
     "output_type": "stream",
     "text": [
      "Next available file: ./logs/word_embeddings/run_4\n",
      "_________________________________________________________________\n",
      "Layer (type)                 Output Shape              Param #   \n",
      "=================================================================\n",
      "inputs (InputLayer)          (None, 1000)              0         \n",
      "_________________________________________________________________\n",
      "embedding_4 (Embedding)      (None, 1000, 100)         1000000   \n",
      "_________________________________________________________________\n",
      "conv1d_1 (Conv1D)            (None, 969, 32)           102432    \n",
      "_________________________________________________________________\n",
      "max_pooling1d_1 (MaxPooling1 (None, 193, 32)           0         \n",
      "_________________________________________________________________\n",
      "conv1d_2 (Conv1D)            (None, 162, 32)           32800     \n",
      "_________________________________________________________________\n",
      "max_pooling1d_2 (MaxPooling1 (None, 32, 32)            0         \n",
      "_________________________________________________________________\n",
      "global_average_pooling1d_1 ( (None, 32)                0         \n",
      "_________________________________________________________________\n",
      "dropout_11 (Dropout)         (None, 32)                0         \n",
      "_________________________________________________________________\n",
      "main_output (Dense)          (None, 1)                 33        \n",
      "=================================================================\n",
      "Total params: 1,135,265\n",
      "Trainable params: 1,135,265\n",
      "Non-trainable params: 0\n",
      "_________________________________________________________________\n",
      "Train on 19823 samples, validate on 9765 samples\n",
      "Epoch 1/200\n",
      "19823/19823 [==============================] - 263s 13ms/step - loss: 0.6182 - acc: 0.6652 - val_loss: 0.5896 - val_acc: 0.6857\n",
      "Epoch 2/200\n",
      "19823/19823 [==============================] - 262s 13ms/step - loss: 0.5631 - acc: 0.7090 - val_loss: 0.5368 - val_acc: 0.7312\n",
      "Epoch 3/200\n",
      "19823/19823 [==============================] - 261s 13ms/step - loss: 0.5098 - acc: 0.7594 - val_loss: 0.5176 - val_acc: 0.7645\n",
      "Epoch 4/200\n",
      "19823/19823 [==============================] - 262s 13ms/step - loss: 0.4726 - acc: 0.7840 - val_loss: 0.4984 - val_acc: 0.7683\n",
      "Epoch 5/200\n",
      "19823/19823 [==============================] - 260s 13ms/step - loss: 0.4478 - acc: 0.8025 - val_loss: 0.4966 - val_acc: 0.7707\n",
      "Epoch 6/200\n",
      "19823/19823 [==============================] - 260s 13ms/step - loss: 0.4320 - acc: 0.8130 - val_loss: 0.4980 - val_acc: 0.7603\n",
      "Epoch 7/200\n",
      "19823/19823 [==============================] - 259s 13ms/step - loss: 0.4176 - acc: 0.8213 - val_loss: 0.5167 - val_acc: 0.7768\n",
      "Epoch 8/200\n",
      "19823/19823 [==============================] - 258s 13ms/step - loss: 0.4062 - acc: 0.8232 - val_loss: 0.5164 - val_acc: 0.7751\n",
      "Epoch 9/200\n",
      "19823/19823 [==============================] - 259s 13ms/step - loss: 0.3976 - acc: 0.8314 - val_loss: 0.5074 - val_acc: 0.7672\n",
      "Epoch 10/200\n",
      "19823/19823 [==============================] - 258s 13ms/step - loss: 0.3914 - acc: 0.8341 - val_loss: 0.5219 - val_acc: 0.7779\n"
     ]
    },
    {
     "data": {
      "image/png": "[encoded data removed]",
      "text/plain": [
       "<Figure size 432x288 with 2 Axes>"
      ]
     },
     "metadata": {},
     "output_type": "display_data"
    }
   ],
   "source": [
    "settings = {\n",
    "    'folder': aatm_support.next_file('./logs/word_embeddings/run', ''),\n",
    "    'embedding.units': 100,\n",
    "    'cnn.1.units': 32,\n",
    "    'cnn.1.len': 32,\n",
    "    'cnn.1.acti': 'relu',\n",
    "    'pooling.1.len': 5,\n",
    "    'cnn.2.units': 32,\n",
    "    'cnn.2.len': 32,\n",
    "    'cnn.2.acti': 'relu',\n",
    "    'pooling.2.len': 5,\n",
    "    'global.1.units': 16,\n",
    "    'global.1.dropout': 0.4,\n",
    "    'out.acti': 'sigmoid',\n",
    "    'lr.initial': 0.0001,\n",
    "    'epochs': 200,\n",
    "    'batch_size': 32,\n",
    "    'early_stop.monitor': 'val_loss',\n",
    "    'early_stop.min_delta': 0.001,\n",
    "    'early_stop.patience': 5,\n",
    "    'kernel.regularizer': 0.01\n",
    "}\n",
    "\n",
    "model = cnn(input_dim=X_train.shape[1], settings=settings)\n",
    "\n",
    "history = model.fit(\n",
    "    X_train,\n",
    "    [\n",
    "        y_train, \n",
    "    ],\n",
    "    batch_size=settings['batch_size'],\n",
    "    epochs=settings['epochs'], \n",
    "    validation_data=(\n",
    "        X_test, \n",
    "        [\n",
    "            y_test, \n",
    "        ],\n",
    "    ),\n",
    "    callbacks=[\n",
    "        EarlyStopping(\n",
    "            monitor=settings['early_stop.monitor'], \n",
    "            min_delta=settings['early_stop.min_delta'],\n",
    "            patience=settings['early_stop.patience']\n",
    "        ), \n",
    "        TensorBoardLogger(\n",
    "            log_dir=settings['folder'], \n",
    "            histogram_freq=0,\n",
    "            batch_size=settings['batch_size'], \n",
    "            write_graph=False,\n",
    "            settings_str_to_log=json.dumps(settings, ensure_ascii=False)\n",
    "        )\n",
    "    ]\n",
    ")\n",
    "\n",
    "draw_history(history)"
   ]
  },
  {
   "cell_type": "code",
   "execution_count": 38,
   "metadata": {
    "ExecuteTime": {
     "end_time": "2019-02-01T23:39:06.020178Z",
     "start_time": "2019-02-01T23:39:05.273127Z"
    }
   },
   "outputs": [
    {
     "name": "stdout",
     "output_type": "stream",
     "text": [
      "Next available file: ./models/Embedded_models/embedded_cnn/model_0.h5\n"
     ]
    }
   ],
   "source": [
    "# Run this to save a model after training\n",
    "model.save(aatm_support.next_file('./models/Embedded_models/embedded_cnn/model', '.h5'))"
   ]
  },
  {
   "cell_type": "code",
   "execution_count": 36,
   "metadata": {
    "ExecuteTime": {
     "end_time": "2019-02-01T23:39:11.629386Z",
     "start_time": "2019-02-01T23:39:06.022416Z"
    }
   },
   "outputs": [
    {
     "name": "stdout",
     "output_type": "stream",
     "text": [
      "acc: 84.92%\n"
     ]
    }
   ],
   "source": [
    "# Test model on pan2018 data\n",
    "scores = model.evaluate(test_text, test_label, verbose=0)\n",
    "print(\"%s: %.2f%%\" % (model.metrics_names[1], scores[1]*100))"
   ]
  },
  {
   "cell_type": "markdown",
   "metadata": {},
   "source": [
    "## CNN and LSTM mixed"
   ]
  },
  {
   "cell_type": "code",
   "execution_count": 38,
   "metadata": {
    "ExecuteTime": {
     "end_time": "2019-02-02T01:36:49.549030Z",
     "start_time": "2019-02-01T23:39:11.631794Z"
    }
   },
   "outputs": [
    {
     "name": "stdout",
     "output_type": "stream",
     "text": [
      "Next available file: ./logs/word_embeddings/run_36\n",
      "_________________________________________________________________\n",
      "Layer (type)                 Output Shape              Param #   \n",
      "=================================================================\n",
      "inputs (InputLayer)          (None, 1000)              0         \n",
      "_________________________________________________________________\n",
      "embedding_7 (Embedding)      (None, 1000, 100)         1000000   \n",
      "_________________________________________________________________\n",
      "conv1d_7 (Conv1D)            (None, 992, 32)           28832     \n",
      "_________________________________________________________________\n",
      "max_pooling1d_7 (MaxPooling1 (None, 198, 32)           0         \n",
      "_________________________________________________________________\n",
      "lstm_6 (LSTM)                (None, 32)                8320      \n",
      "_________________________________________________________________\n",
      "dropout_11 (Dropout)         (None, 32)                0         \n",
      "_________________________________________________________________\n",
      "dense_11 (Dense)             (None, 16)                528       \n",
      "_________________________________________________________________\n",
      "dense_12 (Dense)             (None, 16)                272       \n",
      "_________________________________________________________________\n",
      "dropout_12 (Dropout)         (None, 16)                0         \n",
      "_________________________________________________________________\n",
      "main_output (Dense)          (None, 1)                 17        \n",
      "=================================================================\n",
      "Total params: 1,037,969\n",
      "Trainable params: 1,037,969\n",
      "Non-trainable params: 0\n",
      "_________________________________________________________________\n",
      "Train on 19823 samples, validate on 9765 samples\n",
      "Epoch 1/200\n",
      "19823/19823 [==============================] - 364s 18ms/step - loss: 0.9788 - acc: 0.5424 - val_loss: 0.8906 - val_acc: 0.6750\n",
      "Epoch 2/200\n",
      "19823/19823 [==============================] - 320s 16ms/step - loss: 0.7975 - acc: 0.6876 - val_loss: 0.7287 - val_acc: 0.6960\n",
      "Epoch 3/200\n",
      "19823/19823 [==============================] - 332s 17ms/step - loss: 0.6771 - acc: 0.7289 - val_loss: 0.6145 - val_acc: 0.7584\n",
      "Epoch 4/200\n",
      "19823/19823 [==============================] - 341s 17ms/step - loss: 0.5970 - acc: 0.7639 - val_loss: 0.5439 - val_acc: 0.7900\n",
      "Epoch 5/200\n",
      "19823/19823 [==============================] - 312s 16ms/step - loss: 0.5311 - acc: 0.7973 - val_loss: 0.5030 - val_acc: 0.8014\n",
      "Epoch 6/200\n",
      "19823/19823 [==============================] - 304s 15ms/step - loss: 0.4816 - acc: 0.8209 - val_loss: 0.4792 - val_acc: 0.8077\n",
      "Epoch 7/200\n",
      "19823/19823 [==============================] - 308s 16ms/step - loss: 0.4449 - acc: 0.8373 - val_loss: 0.4716 - val_acc: 0.8044\n",
      "Epoch 8/200\n",
      "19823/19823 [==============================] - 331s 17ms/step - loss: 0.4129 - acc: 0.8533 - val_loss: 0.4519 - val_acc: 0.8163\n",
      "Epoch 9/200\n",
      "19823/19823 [==============================] - 326s 16ms/step - loss: 0.3899 - acc: 0.8600 - val_loss: 0.4559 - val_acc: 0.8159\n",
      "Epoch 10/200\n",
      "19823/19823 [==============================] - 325s 16ms/step - loss: 0.3695 - acc: 0.8704 - val_loss: 0.4454 - val_acc: 0.8172\n",
      "Epoch 11/200\n",
      "19823/19823 [==============================] - 327s 16ms/step - loss: 0.3529 - acc: 0.8780 - val_loss: 0.4611 - val_acc: 0.8104\n",
      "Epoch 12/200\n",
      "19823/19823 [==============================] - 326s 16ms/step - loss: 0.3371 - acc: 0.8849 - val_loss: 0.4693 - val_acc: 0.8129\n",
      "Epoch 13/200\n",
      "19823/19823 [==============================] - 326s 16ms/step - loss: 0.3281 - acc: 0.8897 - val_loss: 0.4566 - val_acc: 0.8134\n",
      "Epoch 14/200\n",
      "19823/19823 [==============================] - 330s 17ms/step - loss: 0.3165 - acc: 0.8929 - val_loss: 0.4681 - val_acc: 0.8121\n",
      "Epoch 15/200\n",
      "19823/19823 [==============================] - 331s 17ms/step - loss: 0.3017 - acc: 0.9007 - val_loss: 0.4764 - val_acc: 0.8128\n"
     ]
    },
    {
     "data": {
      "image/png": "[encoded data removed]",
      "text/plain": [
       "<Figure size 432x288 with 2 Axes>"
      ]
     },
     "metadata": {
      "needs_background": "light"
     },
     "output_type": "display_data"
    }
   ],
   "source": [
    "settings = {\n",
    "    'folder': aatm_support.next_file('./logs/word_embeddings/run', ''),\n",
    "    'embedding.units': embedding_dim,\n",
    "    'cnn.1.units': 32,\n",
    "    'cnn.1.len': 9,\n",
    "    'cnn.1.acti': 'relu',\n",
    "    'pooling.1.len': 5,\n",
    "    'lstm.1.units': 32,\n",
    "    'lstm.1.dropout': 0.2,\n",
    "    'dense.1.units': 16,\n",
    "    'dense.1.acti': 'relu',\n",
    "    'dense.1.dropout': 0.2,\n",
    "    'out.acti': 'sigmoid',\n",
    "    'lr.initial': 0.0001,\n",
    "    'epochs': 200,\n",
    "    'batch_size': 32,\n",
    "    'early_stop.monitor': 'val_loss',\n",
    "    'early_stop.min_delta': 0.001,\n",
    "    'early_stop.patience': 5,\n",
    "    'kernel.regularizer': 0.01\n",
    "}\n",
    "\n",
    "model = cnn_lstm_model(input_dim=X_train.shape[1], settings=settings)\n",
    "\n",
    "history = model.fit(\n",
    "    X_train,\n",
    "    [\n",
    "        y_train, \n",
    "    ],\n",
    "    batch_size=settings['batch_size'],\n",
    "    epochs=settings['epochs'], \n",
    "    validation_data=(\n",
    "        X_test, \n",
    "        [\n",
    "            y_test, \n",
    "        ],\n",
    "    ),\n",
    "    callbacks=[\n",
    "        EarlyStopping(\n",
    "            monitor=settings['early_stop.monitor'], \n",
    "            min_delta=settings['early_stop.min_delta'],\n",
    "            patience=settings['early_stop.patience']\n",
    "        ), \n",
    "        TensorBoardLogger(\n",
    "            log_dir=settings['folder'], \n",
    "            histogram_freq=0,\n",
    "            batch_size=settings['batch_size'], \n",
    "            write_graph=False,\n",
    "            settings_str_to_log=json.dumps(settings, ensure_ascii=False)\n",
    "        )\n",
    "    ]\n",
    ")\n",
    "\n",
    "draw_history(history)"
   ]
  },
  {
   "cell_type": "code",
   "execution_count": 21,
   "metadata": {
    "ExecuteTime": {
     "end_time": "2019-02-02T01:36:50.655481Z",
     "start_time": "2019-02-02T01:36:49.551902Z"
    }
   },
   "outputs": [
    {
     "name": "stdout",
     "output_type": "stream",
     "text": [
      "Next available file: ./models/Embedded_models/embedded_cnn_lstm/model_1.h5\n"
     ]
    }
   ],
   "source": [
    "# Run this to save a model after training\n",
    "model.save(aatm_support.next_file('./models/Embedded_models/embedded_cnn_lstm/model', '.h5'))"
   ]
  },
  {
   "cell_type": "code",
   "execution_count": 22,
   "metadata": {
    "ExecuteTime": {
     "end_time": "2019-02-02T01:36:57.506696Z",
     "start_time": "2019-02-02T01:36:50.657615Z"
    }
   },
   "outputs": [
    {
     "name": "stdout",
     "output_type": "stream",
     "text": [
      "acc: 53.55%\n"
     ]
    }
   ],
   "source": [
    "# Test model on pan2018 data\n",
    "scores = model.evaluate(val_text, val_label, verbose=0)\n",
    "print(\"%s: %.2f%%\" % (model.metrics_names[1], scores[1]*100))"
   ]
  },
  {
   "cell_type": "markdown",
   "metadata": {},
   "source": [
    "## Compare pretrained embedded layer with self learned layer"
   ]
  },
  {
   "cell_type": "code",
   "execution_count": 23,
   "metadata": {
    "ExecuteTime": {
     "end_time": "2019-02-02T09:21:34.880383Z",
     "start_time": "2019-02-02T09:21:24.836735Z"
    }
   },
   "outputs": [
    {
     "name": "stdout",
     "output_type": "stream",
     "text": [
      "Found 400000 word vectors.\n"
     ]
    }
   ],
   "source": [
    "# Get Glove weights\n",
    "glove_dir = './/glove.6B'\n",
    "\n",
    "embeddings_index = {}\n",
    "f = open(os.path.join(glove_dir, 'glove.6B.100d.txt'),'r', encoding='utf8')\n",
    "for line in f:\n",
    "    values = line.split(' ')\n",
    "    word = values[0]\n",
    "    coefs = np.asarray(values[1:], dtype='float32')\n",
    "    embeddings_index[word] = coefs\n",
    "f.close()\n",
    "\n",
    "print('Found %s word vectors.' % len(embeddings_index))\n"
   ]
  },
  {
   "cell_type": "code",
   "execution_count": 26,
   "metadata": {
    "ExecuteTime": {
     "end_time": "2019-02-02T09:27:34.010653Z",
     "start_time": "2019-02-02T09:27:19.133461Z"
    }
   },
   "outputs": [
    {
     "data": {
      "text/plain": [
       "array([[ 0.        ,  0.        ,  0.        , ...,  0.        ,\n",
       "         0.        ,  0.        ],\n",
       "       [-0.038194  , -0.24487001,  0.72812003, ..., -0.1459    ,\n",
       "         0.82779998,  0.27061999],\n",
       "       [-0.18970001,  0.050024  ,  0.19084001, ..., -0.39804   ,\n",
       "         0.47646999, -0.15983   ],\n",
       "       ...,\n",
       "       [ 0.        ,  0.        ,  0.        , ...,  0.        ,\n",
       "         0.        ,  0.        ],\n",
       "       [-0.50269002,  0.056798  ,  0.21261001, ...,  0.085045  ,\n",
       "         0.60573   , -0.73576999],\n",
       "       [ 0.70137   , -0.51065999,  0.16745   , ...,  0.57358998,\n",
       "        -0.15755001, -0.23511   ]])"
      ]
     },
     "execution_count": 26,
     "metadata": {},
     "output_type": "execute_result"
    }
   ],
   "source": [
    "# build embedding matrix\n",
    "embedding_dim = 100\n",
    "word_index=tok.word_index\n",
    "embedding_matrix = np.zeros((max_words, embedding_dim))\n",
    "for word, i in word_index.items():\n",
    "    embedding_vector = embeddings_index.get(word)\n",
    "    if i < max_words:\n",
    "        if embedding_vector is not None:\n",
    "            # Words not found in embedding index will be all-zeros.\n",
    "            embedding_matrix[i] = embedding_vector\n",
    "            \n",
    "embedding_matrix"
   ]
  },
  {
   "cell_type": "code",
   "execution_count": 28,
   "metadata": {
    "ExecuteTime": {
     "end_time": "2019-02-02T12:01:23.900335Z",
     "start_time": "2019-02-02T09:45:29.965731Z"
    },
    "scrolled": true
   },
   "outputs": [
    {
     "name": "stdout",
     "output_type": "stream",
     "text": [
      "Next available file: ./logs/word_embeddings/run_34\n",
      "_________________________________________________________________\n",
      "Layer (type)                 Output Shape              Param #   \n",
      "=================================================================\n",
      "inputs (InputLayer)          (None, 1000)              0         \n",
      "_________________________________________________________________\n",
      "embedding_5 (Embedding)      (None, 1000, 100)         1000000   \n",
      "_________________________________________________________________\n",
      "conv1d_5 (Conv1D)            (None, 992, 32)           28832     \n",
      "_________________________________________________________________\n",
      "max_pooling1d_5 (MaxPooling1 (None, 198, 32)           0         \n",
      "_________________________________________________________________\n",
      "lstm_4 (LSTM)                (None, 32)                8320      \n",
      "_________________________________________________________________\n",
      "dropout_7 (Dropout)          (None, 32)                0         \n",
      "_________________________________________________________________\n",
      "dense_7 (Dense)              (None, 16)                528       \n",
      "_________________________________________________________________\n",
      "dense_8 (Dense)              (None, 16)                272       \n",
      "_________________________________________________________________\n",
      "dropout_8 (Dropout)          (None, 16)                0         \n",
      "_________________________________________________________________\n",
      "main_output (Dense)          (None, 1)                 17        \n",
      "=================================================================\n",
      "Total params: 1,037,969\n",
      "Trainable params: 1,037,969\n",
      "Non-trainable params: 0\n",
      "_________________________________________________________________\n",
      "Train on 19823 samples, validate on 9765 samples\n",
      "Epoch 1/200\n",
      "19823/19823 [==============================] - 285s 14ms/step - loss: 0.9959 - acc: 0.5021 - val_loss: 0.9326 - val_acc: 0.5183\n",
      "Epoch 2/200\n",
      "19823/19823 [==============================] - 287s 14ms/step - loss: 0.8816 - acc: 0.5087 - val_loss: 0.8348 - val_acc: 0.5062\n",
      "Epoch 3/200\n",
      "19823/19823 [==============================] - 290s 15ms/step - loss: 0.8006 - acc: 0.4993 - val_loss: 0.7696 - val_acc: 0.5253\n",
      "Epoch 4/200\n",
      "19823/19823 [==============================] - 266s 13ms/step - loss: 0.7480 - acc: 0.5149 - val_loss: 0.7287 - val_acc: 0.5884\n",
      "Epoch 5/200\n",
      "19823/19823 [==============================] - 258s 13ms/step - loss: 0.7185 - acc: 0.5424 - val_loss: 0.7045 - val_acc: 0.6435\n",
      "Epoch 6/200\n",
      "19823/19823 [==============================] - 259s 13ms/step - loss: 0.6971 - acc: 0.6017 - val_loss: 0.6642 - val_acc: 0.6853\n",
      "Epoch 7/200\n",
      "19823/19823 [==============================] - 259s 13ms/step - loss: 0.6604 - acc: 0.6626 - val_loss: 0.6417 - val_acc: 0.6777\n",
      "Epoch 8/200\n",
      "19823/19823 [==============================] - 259s 13ms/step - loss: 0.6296 - acc: 0.6844 - val_loss: 0.6148 - val_acc: 0.6913\n",
      "Epoch 9/200\n",
      "19823/19823 [==============================] - 258s 13ms/step - loss: 0.6132 - acc: 0.6955 - val_loss: 0.6071 - val_acc: 0.6893\n",
      "Epoch 10/200\n",
      "19823/19823 [==============================] - 259s 13ms/step - loss: 0.6004 - acc: 0.7083 - val_loss: 0.5950 - val_acc: 0.7036\n",
      "Epoch 11/200\n",
      "19823/19823 [==============================] - 258s 13ms/step - loss: 0.5873 - acc: 0.7181 - val_loss: 0.5913 - val_acc: 0.7041\n",
      "Epoch 12/200\n",
      "19823/19823 [==============================] - 258s 13ms/step - loss: 0.5822 - acc: 0.7206 - val_loss: 0.6059 - val_acc: 0.6916\n",
      "Epoch 13/200\n",
      "19823/19823 [==============================] - 258s 13ms/step - loss: 0.5760 - acc: 0.7292 - val_loss: 0.5848 - val_acc: 0.7126\n",
      "Epoch 14/200\n",
      "19823/19823 [==============================] - 259s 13ms/step - loss: 0.5680 - acc: 0.7312 - val_loss: 0.5524 - val_acc: 0.7319\n",
      "Epoch 15/200\n",
      "19823/19823 [==============================] - 258s 13ms/step - loss: 0.5598 - acc: 0.7349 - val_loss: 0.5381 - val_acc: 0.7422\n",
      "Epoch 16/200\n",
      "19823/19823 [==============================] - 298s 15ms/step - loss: 0.5514 - acc: 0.7404 - val_loss: 0.5640 - val_acc: 0.7262\n",
      "Epoch 17/200\n",
      "19823/19823 [==============================] - 269s 14ms/step - loss: 0.5480 - acc: 0.7461 - val_loss: 0.5229 - val_acc: 0.7604\n",
      "Epoch 18/200\n",
      "19823/19823 [==============================] - 263s 13ms/step - loss: 0.5349 - acc: 0.7575 - val_loss: 0.5352 - val_acc: 0.7509\n",
      "Epoch 19/200\n",
      "19823/19823 [==============================] - 262s 13ms/step - loss: 0.5305 - acc: 0.7575 - val_loss: 0.5017 - val_acc: 0.7760\n",
      "Epoch 20/200\n",
      "19823/19823 [==============================] - 270s 14ms/step - loss: 0.5238 - acc: 0.7592 - val_loss: 0.5429 - val_acc: 0.7437\n",
      "Epoch 21/200\n",
      "19823/19823 [==============================] - 260s 13ms/step - loss: 0.5161 - acc: 0.7661 - val_loss: 0.5091 - val_acc: 0.7719\n",
      "Epoch 22/200\n",
      "19823/19823 [==============================] - 276s 14ms/step - loss: 0.5043 - acc: 0.7767 - val_loss: 0.5186 - val_acc: 0.7606\n",
      "Epoch 23/200\n",
      "19823/19823 [==============================] - 267s 13ms/step - loss: 0.4980 - acc: 0.7816 - val_loss: 0.4802 - val_acc: 0.7873\n",
      "Epoch 24/200\n",
      "19823/19823 [==============================] - 271s 14ms/step - loss: 0.4939 - acc: 0.7806 - val_loss: 0.5489 - val_acc: 0.7447\n",
      "Epoch 25/200\n",
      "19823/19823 [==============================] - 280s 14ms/step - loss: 0.4834 - acc: 0.7904 - val_loss: 0.5114 - val_acc: 0.7732\n",
      "Epoch 26/200\n",
      "19823/19823 [==============================] - 296s 15ms/step - loss: 0.4824 - acc: 0.7922 - val_loss: 0.4675 - val_acc: 0.7947\n",
      "Epoch 27/200\n",
      "19823/19823 [==============================] - 281s 14ms/step - loss: 0.4741 - acc: 0.7963 - val_loss: 0.4803 - val_acc: 0.7860\n",
      "Epoch 28/200\n",
      "19823/19823 [==============================] - 287s 14ms/step - loss: 0.4664 - acc: 0.8001 - val_loss: 0.4576 - val_acc: 0.7948\n",
      "Epoch 29/200\n",
      "19823/19823 [==============================] - 293s 15ms/step - loss: 0.4581 - acc: 0.8049 - val_loss: 0.4651 - val_acc: 0.7867\n",
      "Epoch 30/200\n",
      "19823/19823 [==============================] - 298s 15ms/step - loss: 0.4519 - acc: 0.8089 - val_loss: 0.4518 - val_acc: 0.7987\n",
      "Epoch 31/200\n",
      "19823/19823 [==============================] - 275s 14ms/step - loss: 0.4435 - acc: 0.8141 - val_loss: 0.5064 - val_acc: 0.7730\n",
      "Epoch 32/200\n",
      "19823/19823 [==============================] - 271s 14ms/step - loss: 0.4376 - acc: 0.8191 - val_loss: 0.4504 - val_acc: 0.8039\n",
      "Epoch 33/200\n",
      "19823/19823 [==============================] - 272s 14ms/step - loss: 0.4334 - acc: 0.8216 - val_loss: 0.4448 - val_acc: 0.8120\n",
      "Epoch 34/200\n",
      "19823/19823 [==============================] - 276s 14ms/step - loss: 0.4239 - acc: 0.8261 - val_loss: 0.4418 - val_acc: 0.8092\n",
      "Epoch 35/200\n",
      "19823/19823 [==============================] - 271s 14ms/step - loss: 0.4185 - acc: 0.8295 - val_loss: 0.4590 - val_acc: 0.7997\n",
      "Epoch 36/200\n",
      "19823/19823 [==============================] - 274s 14ms/step - loss: 0.4105 - acc: 0.8347 - val_loss: 0.4515 - val_acc: 0.8024\n",
      "Epoch 37/200\n",
      "19823/19823 [==============================] - 272s 14ms/step - loss: 0.4047 - acc: 0.8402 - val_loss: 0.4323 - val_acc: 0.8162\n",
      "Epoch 38/200\n",
      "19823/19823 [==============================] - 282s 14ms/step - loss: 0.3971 - acc: 0.8430 - val_loss: 0.4365 - val_acc: 0.8137\n",
      "Epoch 39/200\n",
      "19823/19823 [==============================] - 297s 15ms/step - loss: 0.3869 - acc: 0.8490 - val_loss: 0.4458 - val_acc: 0.8050\n",
      "Epoch 40/200\n",
      "19823/19823 [==============================] - 293s 15ms/step - loss: 0.3858 - acc: 0.8477 - val_loss: 0.4273 - val_acc: 0.8203\n",
      "Epoch 41/200\n",
      "19823/19823 [==============================] - 295s 15ms/step - loss: 0.3774 - acc: 0.8535 - val_loss: 0.5277 - val_acc: 0.7680\n",
      "Epoch 42/200\n",
      "19823/19823 [==============================] - 315s 16ms/step - loss: 0.3707 - acc: 0.8565 - val_loss: 0.4823 - val_acc: 0.7959\n",
      "Epoch 43/200\n",
      "19823/19823 [==============================] - 288s 15ms/step - loss: 0.3685 - acc: 0.8580 - val_loss: 0.4230 - val_acc: 0.8204\n",
      "Epoch 44/200\n",
      "19823/19823 [==============================] - 297s 15ms/step - loss: 0.3619 - acc: 0.8596 - val_loss: 0.4269 - val_acc: 0.8248\n",
      "Epoch 45/200\n",
      "19823/19823 [==============================] - 292s 15ms/step - loss: 0.3522 - acc: 0.8680 - val_loss: 0.4337 - val_acc: 0.8196\n",
      "Epoch 46/200\n",
      "19823/19823 [==============================] - 263s 13ms/step - loss: 0.3492 - acc: 0.8661 - val_loss: 0.4219 - val_acc: 0.8261\n",
      "Epoch 47/200\n",
      "19823/19823 [==============================] - 334s 17ms/step - loss: 0.3415 - acc: 0.8717 - val_loss: 0.4342 - val_acc: 0.8226\n",
      "Epoch 48/200\n",
      "19823/19823 [==============================] - 290s 15ms/step - loss: 0.3410 - acc: 0.8717 - val_loss: 0.4457 - val_acc: 0.8179\n",
      "Epoch 49/200\n",
      "19823/19823 [==============================] - 286s 14ms/step - loss: 0.3389 - acc: 0.8730 - val_loss: 0.4318 - val_acc: 0.8237\n",
      "Epoch 50/200\n",
      "19823/19823 [==============================] - 286s 14ms/step - loss: 0.3246 - acc: 0.8803 - val_loss: 0.4449 - val_acc: 0.8164\n",
      "Epoch 51/200\n",
      "19823/19823 [==============================] - 303s 15ms/step - loss: 0.3206 - acc: 0.8831 - val_loss: 0.4251 - val_acc: 0.8271\n"
     ]
    },
    {
     "data": {
      "image/png": "[encoded data removed]",
      "text/plain": [
       "<Figure size 432x288 with 2 Axes>"
      ]
     },
     "metadata": {
      "needs_background": "light"
     },
     "output_type": "display_data"
    }
   ],
   "source": [
    "settings = {\n",
    "    'folder': aatm_support.next_file('./logs/word_embeddings/run', ''),\n",
    "    'embedding.units': embedding_dim,\n",
    "    'cnn.1.units': 32,\n",
    "    'cnn.1.len': 9,\n",
    "    'cnn.1.acti': 'relu',\n",
    "    'pooling.1.len': 5,\n",
    "    'lstm.1.units': 32,\n",
    "    'lstm.1.dropout': 0.2,\n",
    "    'dense.1.units': 16,\n",
    "    'dense.1.acti': 'relu',\n",
    "    'dense.1.dropout': 0.2,\n",
    "    'out.acti': 'sigmoid',\n",
    "    'lr.initial': 0.0001,\n",
    "    'epochs': 200,\n",
    "    'batch_size': 32,\n",
    "    'early_stop.monitor': 'val_loss',\n",
    "    'early_stop.min_delta': 0.001,\n",
    "    'early_stop.patience': 5,\n",
    "    'kernel.regularizer': 0.01\n",
    "}\n",
    "\n",
    "model = cnn_lstm_model(input_dim=X_train.shape[1], settings=settings)\n",
    "\n",
    "#Freeze layer\n",
    "model.layers[1].set_weights([embedding_matrix])\n",
    "model.layers[1].trainable=False\n",
    "\n",
    "model.compile(\n",
    "    optimizer=RMSprop(lr=settings['lr.initial']),\n",
    "    loss={\n",
    "        'main_output': 'binary_crossentropy',\n",
    "    },\n",
    "    loss_weights={\n",
    "        'main_output': 1., \n",
    "    },\n",
    "    metrics=['accuracy']\n",
    ")\n",
    "\n",
    "history = model.fit(\n",
    "    X_train,\n",
    "    [\n",
    "        y_train, \n",
    "    ],\n",
    "    batch_size=settings['batch_size'],\n",
    "    epochs=settings['epochs'], \n",
    "    validation_data=(\n",
    "        X_test, \n",
    "        [\n",
    "            y_test, \n",
    "        ],\n",
    "    ),\n",
    "    callbacks=[\n",
    "        EarlyStopping(\n",
    "            monitor=settings['early_stop.monitor'], \n",
    "            min_delta=settings['early_stop.min_delta'],\n",
    "            patience=settings['early_stop.patience']\n",
    "        ), \n",
    "        TensorBoardLogger(\n",
    "            log_dir=settings['folder'], \n",
    "            histogram_freq=0,\n",
    "            batch_size=settings['batch_size'], \n",
    "            write_graph=False,\n",
    "            settings_str_to_log=json.dumps(settings, ensure_ascii=False)\n",
    "        )\n",
    "    ]\n",
    ")\n",
    "\n",
    "draw_history(history)"
   ]
  },
  {
   "cell_type": "code",
   "execution_count": 29,
   "metadata": {
    "ExecuteTime": {
     "end_time": "2019-02-02T12:18:19.570385Z",
     "start_time": "2019-02-02T12:18:17.323813Z"
    }
   },
   "outputs": [
    {
     "name": "stdout",
     "output_type": "stream",
     "text": [
      "Next available file: ./models/Embedded_models/pretrained_embedded_cnn_lstm/model_1.h5\n"
     ]
    }
   ],
   "source": [
    "# Run this to save a model after training\n",
    "model.save(aatm_support.next_file('./models/Embedded_models/pretrained_embedded_cnn_lstm/model', '.h5'))"
   ]
  },
  {
   "cell_type": "code",
   "execution_count": 30,
   "metadata": {
    "ExecuteTime": {
     "end_time": "2019-02-02T12:23:50.090190Z",
     "start_time": "2019-02-02T12:23:44.014956Z"
    }
   },
   "outputs": [
    {
     "name": "stdout",
     "output_type": "stream",
     "text": [
      "acc: 54.69%\n"
     ]
    }
   ],
   "source": [
    "# Test model on pan2018 data\n",
    "scores = model.evaluate(val_text, val_label, verbose=0)\n",
    "print(\"%s: %.2f%%\" % (model.metrics_names[1], scores[1]*100))"
   ]
  },
  {
   "cell_type": "markdown",
   "metadata": {},
   "source": [
    "**Train CNN-LSTM-Model on Pan**\n",
    "\n",
    "Da die bisherigen auf dem Booksummaries-Datensatz gelernten Modelle nicht sonderlich gut auf dem Pan-Datensatz angewendet werden konnten, wird in diesem Abschnitt versucht das Modell eigens auf diesem zu trainieren. Problematisch dabei ist die geringe Anzahl der Daten. Aus diesem Grund wird sowohl mit den Trainingsdaten, als auch mit den Validierungsdaten trainiert, sodass die 4472 Daten zur Verfügung stehen. Wählt man dieselben Parameter für das Modell wie in Kapitel **tbd xx**, so erhält man lediglich eine Genauigkeit von ungefähr 54%. Erhöht man hingegen die Länge des Filters des eindimensionalen CNNs auf 32, so kommt man immerhin auf eine Genauigkeit von 64%."
   ]
  },
  {
   "cell_type": "code",
   "execution_count": 34,
   "metadata": {},
   "outputs": [
    {
     "name": "stdout",
     "output_type": "stream",
     "text": [
      "Next available file: ./logs/word_embeddings/run_25\n",
      "_________________________________________________________________\n",
      "Layer (type)                 Output Shape              Param #   \n",
      "=================================================================\n",
      "inputs (InputLayer)          (None, 1000)              0         \n",
      "_________________________________________________________________\n",
      "embedding_6 (Embedding)      (None, 1000, 100)         1000000   \n",
      "_________________________________________________________________\n",
      "conv1d_4 (Conv1D)            (None, 969, 32)           102432    \n",
      "_________________________________________________________________\n",
      "max_pooling1d_4 (MaxPooling1 (None, 193, 32)           0         \n",
      "_________________________________________________________________\n",
      "lstm_6 (LSTM)                (None, 32)                8320      \n",
      "_________________________________________________________________\n",
      "dropout_7 (Dropout)          (None, 32)                0         \n",
      "_________________________________________________________________\n",
      "dense_7 (Dense)              (None, 16)                528       \n",
      "_________________________________________________________________\n",
      "dense_8 (Dense)              (None, 16)                272       \n",
      "_________________________________________________________________\n",
      "dropout_8 (Dropout)          (None, 16)                0         \n",
      "_________________________________________________________________\n",
      "main_output (Dense)          (None, 1)                 17        \n",
      "=================================================================\n",
      "Total params: 1,111,569\n",
      "Trainable params: 1,111,569\n",
      "Non-trainable params: 0\n",
      "_________________________________________________________________\n",
      "Train on 4472 samples, validate on 1352 samples\n",
      "Epoch 1/200\n",
      "4472/4472 [==============================] - 169s 38ms/step - loss: 1.0479 - acc: 0.4946 - val_loss: 1.0284 - val_acc: 0.5074\n",
      "Epoch 2/200\n",
      "4472/4472 [==============================] - 166s 37ms/step - loss: 1.0103 - acc: 0.5065 - val_loss: 0.9926 - val_acc: 0.5059\n",
      "Epoch 3/200\n",
      "4472/4472 [==============================] - 178s 40ms/step - loss: 0.9761 - acc: 0.4886 - val_loss: 0.9594 - val_acc: 0.5000\n",
      "Epoch 4/200\n",
      "4472/4472 [==============================] - 161s 36ms/step - loss: 0.9440 - acc: 0.5051 - val_loss: 0.9288 - val_acc: 0.5007\n",
      "Epoch 5/200\n",
      "4472/4472 [==============================] - 171s 38ms/step - loss: 0.9147 - acc: 0.4984 - val_loss: 0.9005 - val_acc: 0.5030\n",
      "Epoch 6/200\n",
      "4472/4472 [==============================] - 166s 37ms/step - loss: 0.8873 - acc: 0.5101 - val_loss: 0.8746 - val_acc: 0.5007\n",
      "Epoch 7/200\n",
      "4472/4472 [==============================] - 163s 37ms/step - loss: 0.8627 - acc: 0.5083 - val_loss: 0.8511 - val_acc: 0.5044\n",
      "Epoch 8/200\n",
      "4472/4472 [==============================] - 165s 37ms/step - loss: 0.8403 - acc: 0.5114 - val_loss: 0.8298 - val_acc: 0.5074\n",
      "Epoch 9/200\n",
      "4472/4472 [==============================] - 160s 36ms/step - loss: 0.8197 - acc: 0.5186 - val_loss: 0.8104 - val_acc: 0.4970\n",
      "Epoch 10/200\n",
      "4472/4472 [==============================] - 161s 36ms/step - loss: 0.8015 - acc: 0.5174 - val_loss: 0.7931 - val_acc: 0.5000\n",
      "Epoch 11/200\n",
      "4472/4472 [==============================] - 161s 36ms/step - loss: 0.7852 - acc: 0.5161 - val_loss: 0.7776 - val_acc: 0.5007\n",
      "Epoch 12/200\n",
      "4472/4472 [==============================] - 163s 36ms/step - loss: 0.7703 - acc: 0.5239 - val_loss: 0.7638 - val_acc: 0.5000\n",
      "Epoch 13/200\n",
      "4472/4472 [==============================] - 170s 38ms/step - loss: 0.7573 - acc: 0.5275 - val_loss: 0.7516 - val_acc: 0.5059\n",
      "Epoch 14/200\n",
      "4472/4472 [==============================] - 164s 37ms/step - loss: 0.7458 - acc: 0.5255 - val_loss: 0.7411 - val_acc: 0.5067\n",
      "Epoch 15/200\n",
      "4472/4472 [==============================] - 156s 35ms/step - loss: 0.7358 - acc: 0.5546 - val_loss: 0.7320 - val_acc: 0.5126\n",
      "Epoch 16/200\n",
      "4472/4472 [==============================] - 158s 35ms/step - loss: 0.7271 - acc: 0.5671 - val_loss: 0.7243 - val_acc: 0.5340\n",
      "Epoch 17/200\n",
      "4472/4472 [==============================] - 164s 37ms/step - loss: 0.7192 - acc: 0.5832 - val_loss: 0.7178 - val_acc: 0.5274\n",
      "Epoch 18/200\n",
      "4472/4472 [==============================] - 161s 36ms/step - loss: 0.7120 - acc: 0.6058 - val_loss: 0.7124 - val_acc: 0.5237\n",
      "Epoch 19/200\n",
      "4472/4472 [==============================] - 160s 36ms/step - loss: 0.7030 - acc: 0.6297 - val_loss: 0.7050 - val_acc: 0.5407\n",
      "Epoch 20/200\n",
      "4472/4472 [==============================] - 165s 37ms/step - loss: 0.6864 - acc: 0.6715 - val_loss: 0.6907 - val_acc: 0.6280\n",
      "Epoch 21/200\n",
      "4472/4472 [==============================] - 170s 38ms/step - loss: 0.6654 - acc: 0.7153 - val_loss: 0.6791 - val_acc: 0.6391\n",
      "Epoch 22/200\n",
      "4472/4472 [==============================] - 177s 40ms/step - loss: 0.6417 - acc: 0.7475 - val_loss: 0.6689 - val_acc: 0.6487\n",
      "Epoch 23/200\n",
      "4472/4472 [==============================] - 171s 38ms/step - loss: 0.6166 - acc: 0.7661 - val_loss: 0.6657 - val_acc: 0.6546\n",
      "Epoch 24/200\n",
      "4472/4472 [==============================] - 172s 38ms/step - loss: 0.5927 - acc: 0.7840 - val_loss: 0.6630 - val_acc: 0.6435\n",
      "Epoch 25/200\n",
      "4472/4472 [==============================] - 172s 39ms/step - loss: 0.5628 - acc: 0.8108 - val_loss: 0.6733 - val_acc: 0.6287\n",
      "Epoch 26/200\n",
      "4472/4472 [==============================] - 177s 40ms/step - loss: 0.5357 - acc: 0.8216 - val_loss: 0.6772 - val_acc: 0.6391\n",
      "Epoch 27/200\n",
      "4472/4472 [==============================] - 169s 38ms/step - loss: 0.5158 - acc: 0.8372 - val_loss: 0.6736 - val_acc: 0.6487\n",
      "Epoch 28/200\n",
      "4472/4472 [==============================] - 177s 40ms/step - loss: 0.4974 - acc: 0.8468 - val_loss: 0.7105 - val_acc: 0.6346\n",
      "Epoch 29/200\n",
      "4472/4472 [==============================] - 171s 38ms/step - loss: 0.4738 - acc: 0.8551 - val_loss: 0.6856 - val_acc: 0.6280\n"
     ]
    },
    {
     "data": {
      "image/png": "[encoded data removed]",
      "text/plain": [
       "<Figure size 432x288 with 2 Axes>"
      ]
     },
     "metadata": {
      "needs_background": "light"
     },
     "output_type": "display_data"
    }
   ],
   "source": [
    "settings = {\n",
    "    'folder': aatm_support.next_file('./logs/word_embeddings/run', ''),\n",
    "    'embedding.units': 100,\n",
    "    'cnn.1.units': 32,\n",
    "    'cnn.1.len': 32,\n",
    "    'cnn.1.acti': 'relu',\n",
    "    'pooling.1.len': 5,\n",
    "    'lstm.1.units': 32,\n",
    "    'lstm.1.dropout': 0.4,\n",
    "    'dense.1.units': 16,\n",
    "    'dense.1.acti': 'relu',\n",
    "    'dense.1.dropout': 0.4,\n",
    "    'out.acti': 'sigmoid',\n",
    "    'lr.initial': 0.0001,\n",
    "    'epochs': 200,\n",
    "    'batch_size': 32,\n",
    "    'early_stop.monitor': 'val_loss',\n",
    "    'early_stop.min_delta': 0.001,\n",
    "    'early_stop.patience': 5,\n",
    "    'kernel.regularizer': 0.01\n",
    "}\n",
    "\n",
    "model = cnn_lstm_model(input_dim=pan_text.shape[1], settings=settings)\n",
    "\n",
    "history = model.fit(\n",
    "    pan_text,\n",
    "    [\n",
    "        pan_label, \n",
    "    ],\n",
    "    batch_size=settings['batch_size'],\n",
    "    epochs=settings['epochs'], \n",
    "    validation_data=(\n",
    "        test_text, \n",
    "        [\n",
    "            test_label, \n",
    "        ],\n",
    "    ),\n",
    "    callbacks=[\n",
    "        EarlyStopping(\n",
    "            monitor=settings['early_stop.monitor'], \n",
    "            min_delta=settings['early_stop.min_delta'],\n",
    "            patience=settings['early_stop.patience']\n",
    "        ), \n",
    "        TensorBoardLogger(\n",
    "            log_dir=settings['folder'], \n",
    "            histogram_freq=0,\n",
    "            batch_size=settings['batch_size'], \n",
    "            write_graph=False,\n",
    "            settings_str_to_log=json.dumps(settings, ensure_ascii=False)\n",
    "        )\n",
    "    ]\n",
    ")\n",
    "\n",
    "draw_history(history)"
   ]
  },
  {
   "cell_type": "code",
   "execution_count": 35,
   "metadata": {},
   "outputs": [
    {
     "name": "stdout",
     "output_type": "stream",
     "text": [
      "Next available file: ./models/Embedded_models/pan_embedding_cnn_lstm/model_1.h5\n"
     ]
    }
   ],
   "source": [
    "# Run this to save a model after training\n",
    "model.save(aatm_support.next_file('./models/Embedded_models/pan_embedding_cnn_lstm/model', '.h5'))"
   ]
  },
  {
   "cell_type": "code",
   "execution_count": null,
   "metadata": {},
   "outputs": [],
   "source": []
  }
 ],
 "metadata": {
  "kernelspec": {
   "display_name": "Python 3",
   "language": "python",
   "name": "python3"
  },
  "language_info": {
   "codemirror_mode": {
    "name": "ipython",
    "version": 3
   },
   "file_extension": ".py",
   "mimetype": "text/x-python",
   "name": "python",
   "nbconvert_exporter": "python",
   "pygments_lexer": "ipython3",
   "version": "3.6.6"
  },
  "toc": {
   "base_numbering": 1,
   "nav_menu": {},
   "number_sections": true,
   "sideBar": true,
   "skip_h1_title": true,
   "title_cell": "Table of Contents",
   "title_sidebar": "Contents",
   "toc_cell": true,
   "toc_position": {
    "height": "calc(100% - 180px)",
    "left": "10px",
    "top": "150px",
    "width": "384px"
   },
   "toc_section_display": true,
   "toc_window_display": true
  },
  "varInspector": {
   "cols": {
    "lenName": 16,
    "lenType": 16,
    "lenVar": 40
   },
   "kernels_config": {
    "python": {
     "delete_cmd_postfix": "",
     "delete_cmd_prefix": "del ",
     "library": "var_list.py",
     "varRefreshCmd": "print(var_dic_list())"
    },
    "r": {
     "delete_cmd_postfix": ") ",
     "delete_cmd_prefix": "rm(",
     "library": "var_list.r",
     "varRefreshCmd": "cat(var_dic_list()) "
    }
   },
   "types_to_exclude": [
    "module",
    "function",
    "builtin_function_or_method",
    "instance",
    "_Feature"
   ],
   "window_display": false
  }
 },
 "nbformat": 4,
 "nbformat_minor": 2
}
