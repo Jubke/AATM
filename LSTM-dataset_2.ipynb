{
 "cells": [
  {
   "cell_type": "markdown",
   "metadata": {},
   "source": [
    "# Word Embedding\n",
    "\n",
    "Obwohl der Korpus lediglich 11000 Texte enthält, wird im Folgenden versucht die Klassifikation auf Basis von Word Embeddings (Kapitel ???) durchzuführen. Dabei kommen verschiedene Klassifikatoren zum Einsatz um zu sehen wie gut diese mit den gegebenen Bedingungen zurecht kommen. Die Wahl fällt auf LSTM, CNNs und deren Kombination."
   ]
  },
  {
   "cell_type": "markdown",
   "metadata": {
    "toc": true
   },
   "source": [
    "<h1>Table of Contents<span class=\"tocSkip\"></span></h1>\n",
    "<div class=\"toc\"><ul class=\"toc-item\"><li><span><a href=\"#Dependencies\" data-toc-modified-id=\"Dependencies-1\"><span class=\"toc-item-num\">1&nbsp;&nbsp;</span>Dependencies</a></span></li><li><span><a href=\"#Pan-Daten-laden\" data-toc-modified-id=\"Pan-Daten-laden-2\"><span class=\"toc-item-num\">2&nbsp;&nbsp;</span>Pan Daten laden</a></span></li><li><span><a href=\"#Prepare-data\" data-toc-modified-id=\"Prepare-data-3\"><span class=\"toc-item-num\">3&nbsp;&nbsp;</span>Prepare data</a></span></li><li><span><a href=\"#Ergebnisse-darstellen\" data-toc-modified-id=\"Ergebnisse-darstellen-4\"><span class=\"toc-item-num\">4&nbsp;&nbsp;</span>Ergebnisse darstellen</a></span></li><li><span><a href=\"#Die-Daten-werden-geladen\" data-toc-modified-id=\"Die-Daten-werden-geladen-5\"><span class=\"toc-item-num\">5&nbsp;&nbsp;</span>Die Daten werden geladen</a></span><ul class=\"toc-item\"><li><span><a href=\"#Booksummaries-data\" data-toc-modified-id=\"Booksummaries-data-5.1\"><span class=\"toc-item-num\">5.1&nbsp;&nbsp;</span>Booksummaries data</a></span></li><li><span><a href=\"#PAN\" data-toc-modified-id=\"PAN-5.2\"><span class=\"toc-item-num\">5.2&nbsp;&nbsp;</span>PAN</a></span></li></ul></li><li><span><a href=\"#Define-model\" data-toc-modified-id=\"Define-model-6\"><span class=\"toc-item-num\">6&nbsp;&nbsp;</span>Define model</a></span></li><li><span><a href=\"#Create-dense-model\" data-toc-modified-id=\"Create-dense-model-7\"><span class=\"toc-item-num\">7&nbsp;&nbsp;</span>Create dense model</a></span></li><li><span><a href=\"#Create-dense-on-embedded-data\" data-toc-modified-id=\"Create-dense-on-embedded-data-8\"><span class=\"toc-item-num\">8&nbsp;&nbsp;</span>Create dense on embedded data</a></span></li><li><span><a href=\"#Create-lstm-model\" data-toc-modified-id=\"Create-lstm-model-9\"><span class=\"toc-item-num\">9&nbsp;&nbsp;</span>Create lstm model</a></span></li><li><span><a href=\"#Bidirectional-LSTM\" data-toc-modified-id=\"Bidirectional-LSTM-10\"><span class=\"toc-item-num\">10&nbsp;&nbsp;</span>Bidirectional LSTM</a></span></li><li><span><a href=\"#CNN\" data-toc-modified-id=\"CNN-11\"><span class=\"toc-item-num\">11&nbsp;&nbsp;</span>CNN</a></span></li><li><span><a href=\"#CNN-and-LSTM-mixed\" data-toc-modified-id=\"CNN-and-LSTM-mixed-12\"><span class=\"toc-item-num\">12&nbsp;&nbsp;</span>CNN and LSTM mixed</a></span></li><li><span><a href=\"#Compare-pretrained-embedded-layer-with-self-learned-layer\" data-toc-modified-id=\"Compare-pretrained-embedded-layer-with-self-learned-layer-13\"><span class=\"toc-item-num\">13&nbsp;&nbsp;</span>Compare pretrained embedded layer with self learned layer</a></span></li><li><span><a href=\"#Train-CNN-LSTM-Model-on-Pan\" data-toc-modified-id=\"Train-CNN-LSTM-Model-on-Pan-14\"><span class=\"toc-item-num\">14&nbsp;&nbsp;</span>Train CNN-LSTM-Model on Pan</a></span></li></ul></div>"
   ]
  },
  {
   "cell_type": "markdown",
   "metadata": {},
   "source": [
    "## Dependencies"
   ]
  },
  {
   "cell_type": "code",
   "execution_count": 1,
   "metadata": {
    "ExecuteTime": {
     "end_time": "2019-02-01T14:10:50.791368Z",
     "start_time": "2019-02-01T14:10:47.130903Z"
    }
   },
   "outputs": [
    {
     "name": "stdout",
     "output_type": "stream",
     "text": [
      "[nltk_data] Downloading package tagsets to\n",
      "[nltk_data]     /Users/julianluebke/nltk_data...\n",
      "[nltk_data]   Package tagsets is already up-to-date!\n",
      "[nltk_data] Downloading package punkt to\n",
      "[nltk_data]     /Users/julianluebke/nltk_data...\n",
      "[nltk_data]   Package punkt is already up-to-date!\n",
      "[nltk_data] Downloading package stopwords to\n",
      "[nltk_data]     /Users/julianluebke/nltk_data...\n",
      "[nltk_data]   Package stopwords is already up-to-date!\n",
      "[nltk_data] Downloading package averaged_perceptron_tagger to\n",
      "[nltk_data]     /Users/julianluebke/nltk_data...\n",
      "[nltk_data]   Package averaged_perceptron_tagger is already up-to-\n",
      "[nltk_data]       date!\n"
     ]
    },
    {
     "name": "stderr",
     "output_type": "stream",
     "text": [
      "Using TensorFlow backend.\n"
     ]
    }
   ],
   "source": [
    "import pandas as pd\n",
    "import os\n",
    "import numpy as np\n",
    "import matplotlib.pyplot as plt\n",
    "from scipy import stats\n",
    "import math\n",
    "from sklearn.metrics.pairwise import cosine_similarity\n",
    "from sklearn.externals.joblib import Memory\n",
    "\n",
    "from nltk.tokenize import RegexpTokenizer\n",
    "import nltk\n",
    "\n",
    "from nltk.corpus import stopwords\n",
    "import FEATURE_SELECTOR_v4\n",
    "import datetime\n",
    "import json\n",
    "\n",
    "from sklearn.model_selection import train_test_split\n",
    "\n",
    "from sklearn.svm import SVC\n",
    "from sklearn.ensemble import RandomForestClassifier\n",
    "\n",
    "from keras.models import Model\n",
    "from keras.layers import LSTM, Activation, Dense, Dropout, Input, Embedding, BatchNormalization, Flatten, Conv1D, MaxPooling1D, GlobalMaxPooling1D, RepeatVector, Bidirectional, GlobalAveragePooling1D\n",
    "from keras.optimizers import RMSprop, Adam\n",
    "from keras.preprocessing.text import Tokenizer\n",
    "from keras.preprocessing import sequence\n",
    "from keras.utils import to_categorical\n",
    "from keras.callbacks import EarlyStopping, TensorBoard, LearningRateScheduler\n",
    "from keras.layers.merge import concatenate\n",
    "from keras import regularizers\n",
    "from tensor_board_logger import TensorBoardLogger\n",
    "#from keras.utils.vis_utils import plot_model\n",
    "from keras import optimizers\n",
    "from keras import losses\n",
    "from keras import metrics\n",
    "import aatm_support\n",
    "from keras.models import load_model\n"
   ]
  },
  {
   "cell_type": "code",
   "execution_count": 2,
   "metadata": {},
   "outputs": [],
   "source": [
    "memory = Memory(location='./tmp', verbose=0)"
   ]
  },
  {
   "cell_type": "markdown",
   "metadata": {},
   "source": [
    "## Pan Daten laden"
   ]
  },
  {
   "cell_type": "code",
   "execution_count": 2,
   "metadata": {
    "ExecuteTime": {
     "end_time": "2019-02-01T14:11:00.261546Z",
     "start_time": "2019-02-01T14:11:00.256991Z"
    }
   },
   "outputs": [],
   "source": [
    "def load_pan_data(name = 'training'):\n",
    "    inputDir = f'./datasets/pan18/pan18-style-change-detection-{name}-dataset-2018-01-31'\n",
    "    \n",
    "    files = os.listdir(inputDir);\n",
    "    data = []\n",
    "    i = 0\n",
    "\n",
    "    for file in files:\n",
    "        # for text files only (ignoring truth files)\n",
    "        if file.endswith(\".txt\"):\n",
    "            filePrefix = os.path.splitext(file)[0]\n",
    "            textFileName = inputDir + \"/\" + filePrefix + \".txt\"\n",
    "            truthFileName = inputDir + \"/\" + filePrefix + \".truth\"\n",
    "            \n",
    "            sample = ['', 0]\n",
    "\n",
    "            with open(textFileName,encoding=\"utf8\") as textFile:\n",
    "                sample[0] = textFile.read()\n",
    "            \n",
    "            with open(truthFileName) as truthFile:\n",
    "                sample[1] = int(json.load(truthFile)['changes'])\n",
    "            \n",
    "            data.append(sample)\n",
    "                \n",
    "            i += 1\n",
    "    \n",
    "    return pd.DataFrame(data, columns=['text', 'label'])"
   ]
  },
  {
   "cell_type": "markdown",
   "metadata": {},
   "source": [
    "## Prepare data\n",
    "\n",
    "Diese Methode dient dazu die Texte in die gewünschte Form zu bringen, sodass diese anschließend in ein Modell mit einem führenden Embedding-Layer übergeben werden können. Hierfür wird jeder Texte in ein Array mit Integern überführt, wobei jeder Integer-Wert für ein ganz bestimmtes Wort steht. \n",
    "Für die weiteren Schritte müssen die Längen der Arrays angeglichen werden. Hierfür wird eine gewünschte Länge vorgegeben. Texte die eine geringere Länge aufweisen werden mittels Padding ergänzt, wobei das Array entweder zu Beginn oder am Ende mit 0-Werten ergänzt werden. Texte, die hingegen zu lang waren, werden gekürzt, indem Wörter weggelassen werden. Als Ergebnis erhält man einen Integermatrix mit m Zeilen und n Spalten, wobei m der Anzahl der Texte und n der festgelegten Länge.\n",
    "\n",
    "Anschließend wird das Datenset in Trainings- und Testdaten unterteilt."
   ]
  },
  {
   "cell_type": "code",
   "execution_count": 3,
   "metadata": {
    "ExecuteTime": {
     "end_time": "2019-02-01T14:11:02.005489Z",
     "start_time": "2019-02-01T14:11:02.001938Z"
    }
   },
   "outputs": [],
   "source": [
    "def prepare_data(tokenizer, serie_texts, labels, max_len=1000, test_size=0.33, random_state=42, max_words=10000):\n",
    "    \"\"\"\n",
    "    Input: \n",
    "        tokenizer,\n",
    "        serie_texts: pd.Series with documents, \n",
    "        labels: pd.Series with labels,\n",
    "        max_len: Length of the array per text after padding,\n",
    "        test_size: Size of the test set,\n",
    "        random_state: Random_state\n",
    "        random_state: random_state\n",
    "        max_words\n",
    "    Output: Test and train data\n",
    "    Method: Tokenizing, Indexing, Padding and splitting into test and train data\n",
    "    \"\"\"\n",
    "\n",
    "    #Tokenizing and Indexing\n",
    "    sequences = tok.texts_to_sequences(serie_texts)\n",
    "    #Padding\n",
    "    sequences_matrix = sequence.pad_sequences(sequences, maxlen=max_len)\n",
    "\n",
    "    # Split the dataset into test and training data\n",
    "    X_train, X_test, y_train, y_test = train_test_split(sequences_matrix, labels, test_size=test_size, random_state=random_state)\n",
    "    return X_train, X_test, y_train, y_test"
   ]
  },
  {
   "cell_type": "markdown",
   "metadata": {},
   "source": [
    "## Ergebnisse darstellen"
   ]
  },
  {
   "cell_type": "code",
   "execution_count": 4,
   "metadata": {
    "ExecuteTime": {
     "end_time": "2019-02-01T14:11:05.426948Z",
     "start_time": "2019-02-01T14:11:05.422031Z"
    }
   },
   "outputs": [],
   "source": [
    "def draw_history(history):\n",
    "    acc = history.history['acc']\n",
    "    val_acc = history.history['val_acc']\n",
    "    loss = history.history['loss']\n",
    "    val_loss = history.history['val_loss']\n",
    "\n",
    "    epochs = range(1, len(acc) + 1)\n",
    "\n",
    "    plt.figure(1)\n",
    "    plt.subplot(211)\n",
    "    plt.plot(epochs, loss, 'b', label='Training loss')\n",
    "    plt.plot(epochs, val_loss, 'g', label='Validation loss')\n",
    "    plt.title('Training and validation loss')\n",
    "    plt.xlabel('Epochs')\n",
    "    plt.ylabel('Loss')\n",
    "    plt.legend()\n",
    "    \n",
    "    acc_values = acc\n",
    "    val_acc_values = val_acc\n",
    "\n",
    "    plt.subplot(212)\n",
    "    plt.plot(epochs, acc, 'b', label='Training acc')\n",
    "    plt.plot(epochs, val_acc, 'g', label='Validation acc')\n",
    "    plt.title('Training and validation accuracy')\n",
    "    plt.xlabel('Epochs')\n",
    "    plt.ylabel('Accuracy')\n",
    "    plt.legend()\n",
    "\n",
    "    plt.show()"
   ]
  },
  {
   "cell_type": "markdown",
   "metadata": {},
   "source": [
    "## Die Daten werden geladen\n"
   ]
  },
  {
   "cell_type": "markdown",
   "metadata": {},
   "source": [
    "### Booksummaries data"
   ]
  },
  {
   "cell_type": "code",
   "execution_count": 5,
   "metadata": {
    "ExecuteTime": {
     "end_time": "2019-02-01T14:11:23.666093Z",
     "start_time": "2019-02-01T14:11:22.723160Z"
    }
   },
   "outputs": [
    {
     "data": {
      "text/plain": [
       "29588"
      ]
     },
     "execution_count": 5,
     "metadata": {},
     "output_type": "execute_result"
    }
   ],
   "source": [
    "# Path to the data\n",
    "path_data='.//datasets//constructed_2.csv'\n",
    "\n",
    "# Load the data\n",
    "df_texts=pd.read_csv(path_data,sep=',',header=0, index_col=0)\n",
    "\n",
    "# Documents\n",
    "serie_texts=df_texts.text\n",
    "serie_texts.size\n",
    "\n",
    "# Labels\n",
    "labels=df_texts.label\n",
    "labels.size"
   ]
  },
  {
   "cell_type": "code",
   "execution_count": 6,
   "metadata": {
    "ExecuteTime": {
     "end_time": "2019-02-01T14:11:24.572681Z",
     "start_time": "2019-02-01T14:11:24.570172Z"
    }
   },
   "outputs": [],
   "source": [
    "# Length for padding\n",
    "max_len=1000\n",
    "# Size of the test set\n",
    "test_size=0.33\n",
    "# The most n frequent words\n",
    "max_words=10000\n"
   ]
  },
  {
   "cell_type": "code",
   "execution_count": 7,
   "metadata": {
    "ExecuteTime": {
     "end_time": "2019-02-01T14:11:38.225181Z",
     "start_time": "2019-02-01T14:11:25.244690Z"
    }
   },
   "outputs": [],
   "source": [
    "# Train Tokenizer\n",
    "tok = Tokenizer(num_words=max_words)\n",
    "tok.fit_on_texts(serie_texts)\n"
   ]
  },
  {
   "cell_type": "code",
   "execution_count": 8,
   "metadata": {
    "ExecuteTime": {
     "end_time": "2019-02-01T14:11:50.055865Z",
     "start_time": "2019-02-01T14:11:38.239829Z"
    }
   },
   "outputs": [],
   "source": [
    "# Booksummaries_data\n",
    "X_train, X_test, y_train, y_test = prepare_data(tok,serie_texts=serie_texts,max_len=max_len, labels=df_texts.label,test_size=test_size,max_words=max_words)"
   ]
  },
  {
   "cell_type": "markdown",
   "metadata": {},
   "source": [
    "### PAN"
   ]
  },
  {
   "cell_type": "code",
   "execution_count": 9,
   "metadata": {
    "ExecuteTime": {
     "end_time": "2019-02-01T14:11:55.367673Z",
     "start_time": "2019-02-01T14:11:52.627957Z"
    }
   },
   "outputs": [
    {
     "name": "stdout",
     "output_type": "stream",
     "text": [
      "Anzahl Dokument m: 2980\n",
      "Anzahl Token n: 1000\n"
     ]
    }
   ],
   "source": [
    "# Pan2018 training data\n",
    "pan_data=load_pan_data(name = 'training')\n",
    "pan_text=pan_data.text\n",
    "pan_label=pan_data.label\n",
    "\n",
    "#Tokenizing and Indexing\n",
    "pan_text = tok.texts_to_sequences(pan_text)\n",
    "#Padding\n",
    "pan_text = sequence.pad_sequences(pan_text, maxlen=max_len)\n",
    "# Size\n",
    "print(\"Anzahl Dokument m:\",pan_text.shape[0])\n",
    "print(\"Anzahl Token n:\",pan_text.shape[1])"
   ]
  },
  {
   "cell_type": "code",
   "execution_count": 11,
   "metadata": {
    "ExecuteTime": {
     "end_time": "2019-02-01T14:12:38.837403Z",
     "start_time": "2019-02-01T14:12:37.552917Z"
    }
   },
   "outputs": [
    {
     "name": "stdout",
     "output_type": "stream",
     "text": [
      "Anzahl Dokument m: 1492\n",
      "Anzahl Token n: 1000\n"
     ]
    }
   ],
   "source": [
    "val_data = load_pan_data('validation')\n",
    "val_text=val_data.text\n",
    "val_label=val_data.label\n",
    "\n",
    "#Tokenizing and Indexing\n",
    "val_text = tok.texts_to_sequences(val_text)\n",
    "#Padding\n",
    "val_text = sequence.pad_sequences(val_text, maxlen=max_len)\n",
    "# Size\n",
    "print(\"Anzahl Dokument m:\",val_text.shape[0])\n",
    "print(\"Anzahl Token n:\",val_text.shape[1])"
   ]
  },
  {
   "cell_type": "markdown",
   "metadata": {},
   "source": [
    "## Define model\n",
    "\n",
    "In diesem ABschnitt befinden sich die Methoden um die Modell zu definieren."
   ]
  },
  {
   "cell_type": "code",
   "execution_count": 18,
   "metadata": {
    "ExecuteTime": {
     "end_time": "2019-02-01T14:19:29.629987Z",
     "start_time": "2019-02-01T14:19:29.623262Z"
    }
   },
   "outputs": [],
   "source": [
    "def dense_model(input_dim, settings):\n",
    "    inputs = Input(name='inputs',shape=[input_dim])\n",
    "    layer = Dense(\n",
    "        settings['dense.1.units'],\n",
    "        activation=settings['dense.1.acti'],\n",
    "        kernel_regularizer=regularizers.l2(settings['kernel.regularizer'])\n",
    "    )(inputs)\n",
    "    layer = Dropout(settings['dense.1.dropout'])(layer)\n",
    "    layer = Dense(\n",
    "        settings['dense.2.units'],\n",
    "        activation=settings['dense.2.acti'],\n",
    "        kernel_regularizer=regularizers.l2(settings['kernel.regularizer'])\n",
    "    )(layer)\n",
    "    layer = Dropout(settings['dense.2.dropout'])(layer)\n",
    "    layer = Dense(\n",
    "        settings['dense.3.units'],\n",
    "        activation=settings['dense.3.acti'],\n",
    "        kernel_regularizer=regularizers.l2(settings['kernel.regularizer'])\n",
    "    )(layer)\n",
    "    layer = Dropout(settings['dense.3.dropout'])(layer)\n",
    "    layer = Dense(1, activation=settings['out.acti'], name='main_output')(layer)\n",
    "    \n",
    "    model = Model(inputs=inputs, outputs=layer)\n",
    "    model.summary()\n",
    "    \n",
    "    model.compile(\n",
    "        optimizer=RMSprop(lr=settings['lr.initial']),\n",
    "        loss={\n",
    "            'main_output': 'binary_crossentropy',\n",
    "        },\n",
    "        loss_weights={\n",
    "            'main_output': 1., \n",
    "        },\n",
    "        metrics=['accuracy']\n",
    "    )\n",
    "    return model"
   ]
  },
  {
   "cell_type": "code",
   "execution_count": 19,
   "metadata": {
    "ExecuteTime": {
     "end_time": "2019-02-01T14:19:30.495540Z",
     "start_time": "2019-02-01T14:19:30.489539Z"
    }
   },
   "outputs": [],
   "source": [
    "def embedding_flatten_model(input_dim, settings):\n",
    "    inputs = Input(name='inputs', shape=[input_dim])\n",
    "    layer = Embedding(max_words, settings['embedding.units'], input_length=input_dim)(inputs)\n",
    "    layer = Flatten()(layer)\n",
    "    layer = Dense(\n",
    "        settings['dense.1.units'],\n",
    "        activation=settings['dense.1.acti'],\n",
    "        kernel_regularizer=regularizers.l2(settings['kernel.regularizer'])\n",
    "    )(layer)\n",
    "    layer = Dropout(settings['dense.1.dropout'])(layer)\n",
    "    layer = Dense(\n",
    "        settings['dense.2.units'], \n",
    "        activation=settings['dense.2.acti'],\n",
    "        kernel_regularizer=regularizers.l2(settings['kernel.regularizer'])\n",
    "    )(layer)\n",
    "    layer = Dropout(settings['dense.2.dropout'])(layer)\n",
    "    layer = Dense(\n",
    "        settings['dense.3.units'], \n",
    "        activation=settings['dense.3.acti'],\n",
    "        kernel_regularizer=regularizers.l2(settings['kernel.regularizer'])\n",
    "    )(layer)\n",
    "    layer = Dropout(settings['dense.3.dropout'])(layer)\n",
    "    layer = Dense(1, activation=settings['out.acti'], name='main_output')(layer)\n",
    "   \n",
    "    model = Model(inputs=inputs, outputs=layer)\n",
    "    model.summary()\n",
    "    \n",
    "    model.compile(\n",
    "        optimizer=RMSprop(lr=settings['lr.initial']),\n",
    "        loss={\n",
    "            'main_output': 'binary_crossentropy',\n",
    "        },\n",
    "        loss_weights={\n",
    "            'main_output': 1., \n",
    "        },\n",
    "        metrics=['accuracy']\n",
    "    )\n",
    "    return model\n",
    "    "
   ]
  },
  {
   "cell_type": "code",
   "execution_count": 20,
   "metadata": {
    "ExecuteTime": {
     "end_time": "2019-02-01T14:19:31.078044Z",
     "start_time": "2019-02-01T14:19:31.073167Z"
    }
   },
   "outputs": [],
   "source": [
    "def simple_lstm_model(input_dim, settings):\n",
    "    inputs = Input(name='inputs', shape=[input_dim])\n",
    "    layer = Embedding(max_words, settings['embedding.units'], input_length=input_dim)(inputs)\n",
    "    layer = LSTM(settings['lstm.1.units'], dropout=settings['lstm.1.dropout'])(layer)\n",
    "    layer = Dense(1, activation=settings['out.acti'],name='main_output')\n",
    "    model = Model(inputs=inputs,outputs=layer)\n",
    "    model.summary()\n",
    "    \n",
    "    model.compile(\n",
    "        optimizer=RMSprop(lr=settings['lr.initial']),\n",
    "        loss={\n",
    "            'main_output': 'binary_crossentropy',\n",
    "        },\n",
    "        loss_weights={\n",
    "            'main_output': 1., \n",
    "        },\n",
    "        metrics=['accuracy']\n",
    "    )\n",
    "    return model\n",
    "    "
   ]
  },
  {
   "cell_type": "code",
   "execution_count": 21,
   "metadata": {
    "ExecuteTime": {
     "end_time": "2019-02-01T14:19:31.752548Z",
     "start_time": "2019-02-01T14:19:31.746093Z"
    }
   },
   "outputs": [],
   "source": [
    "def lstm_model(input_dim, settings):\n",
    "    inputs = Input(name='inputs',shape=[input_dim])\n",
    "    layer = Embedding(max_words, settings['embedding.units'], input_length=input_dim)(inputs)\n",
    "    layer = LSTM(settings['lstm.1.units'], dropout=settings['lstm.1.dropout'])(layer)\n",
    "    layer = Dense(\n",
    "        settings['dense.1.units'], \n",
    "        activation=settings['dense.1.acti'],\n",
    "        kernel_regularizer=regularizers.l2(settings['kernel.regularizer'])\n",
    "    )(layer)\n",
    "    layer = Dense(\n",
    "        settings['dense.1.units'],\n",
    "        activation=settings['dense.1.acti'],\n",
    "        kernel_regularizer=regularizers.l2(settings['kernel.regularizer'])\n",
    "    )(layer)\n",
    "    layer = Dropout(settings['dense.1.dropout'])(layer)\n",
    "    layer = Dense(\n",
    "        settings['dense.2.units'],\n",
    "        activation=settings['dense.2.acti'],\n",
    "        kernel_regularizer=regularizers.l2(settings['kernel.regularizer'])\n",
    "    )(layer)\n",
    "    layer = Dropout(settings['dense.2.dropout'])(layer)\n",
    "    \n",
    "    # And finally we add regression layer for the output\n",
    "    output = Dense(1, activation=settings['out.acti'], name='main_output')(layer)\n",
    "    \n",
    "    model = Model(inputs, output)\n",
    "    model.summary()\n",
    "    \n",
    "    model.compile(\n",
    "        optimizer=RMSprop(lr=settings['lr.initial']),\n",
    "        loss={\n",
    "            'main_output': 'binary_crossentropy',\n",
    "        },\n",
    "        loss_weights={\n",
    "            'main_output': 1., \n",
    "        },\n",
    "        metrics=['accuracy']\n",
    "    )\n",
    "    return model"
   ]
  },
  {
   "cell_type": "code",
   "execution_count": 22,
   "metadata": {
    "ExecuteTime": {
     "end_time": "2019-02-01T14:19:32.689958Z",
     "start_time": "2019-02-01T14:19:32.682878Z"
    }
   },
   "outputs": [],
   "source": [
    "def bidirectional_lstm_model(input_dim, settings):\n",
    "    inputs = Input(name='inputs', shape=[input_dim])\n",
    "    layer = Embedding(max_words, settings['embedding.units'], input_length=input_dim)(inputs)\n",
    "    layer = Bidirectional(LSTM(settings['lstm.1.units'], dropout=settings['lstm.1.dropout']))(layer)\n",
    "    layer = Dense(\n",
    "        settings['dense.1.units'], \n",
    "        activation=settings['dense.1.acti'],\n",
    "        kernel_regularizer=regularizers.l2(settings['kernel.regularizer'])\n",
    "    )(layer)\n",
    "    layer = Dense(\n",
    "        settings['dense.1.units'],\n",
    "        activation=settings['dense.1.acti'],\n",
    "        kernel_regularizer=regularizers.l2(settings['kernel.regularizer'])\n",
    "    )(layer)\n",
    "    layer = Dropout(settings['dense.1.dropout'])(layer)\n",
    "    layer = Dense(\n",
    "        settings['dense.2.units'],\n",
    "        activation=settings['dense.2.acti'],\n",
    "        kernel_regularizer=regularizers.l2(settings['kernel.regularizer'])\n",
    "    )(layer)\n",
    "    layer = Dropout(settings['dense.2.dropout'])(layer)\n",
    "    \n",
    "    output = Dense(1, activation=settings['out.acti'], name='main_output')(layer)\n",
    "    \n",
    "    model = Model(inputs, output)\n",
    "    model.summary()\n",
    "    \n",
    "    model.compile(\n",
    "        optimizer=RMSprop(lr=settings['lr.initial']),\n",
    "        loss={\n",
    "            'main_output': 'binary_crossentropy',\n",
    "        },\n",
    "        loss_weights={\n",
    "            'main_output': 1., \n",
    "        },\n",
    "        metrics=['accuracy']\n",
    "    )\n",
    "    return model"
   ]
  },
  {
   "cell_type": "code",
   "execution_count": 23,
   "metadata": {
    "ExecuteTime": {
     "end_time": "2019-02-01T14:19:33.678590Z",
     "start_time": "2019-02-01T14:19:33.672984Z"
    }
   },
   "outputs": [],
   "source": [
    "def cnn(input_dim, settings):\n",
    "    inputs = Input(name='inputs',shape=[input_dim])\n",
    "    layer = Embedding(max_words,settings['embedding.units'],input_length=input_dim)(inputs)\n",
    "    layer = Conv1D(settings['cnn.1.units'], settings['cnn.1.len'], activation=settings['cnn.1.acti'])(layer)\n",
    "    layer = MaxPooling1D(settings['pooling.1.len'])(layer)\n",
    "    layer = Conv1D(settings['cnn.2.units'], settings['cnn.2.len'], activation=settings['cnn.2.acti'])(layer)\n",
    "    layer = MaxPooling1D(settings['pooling.2.len'])(layer)\n",
    "    layer = GlobalAveragePooling1D()(layer)\n",
    "    layer = Dropout(settings['global.1.dropout'])(layer)\n",
    "    output = Dense(1, activation=settings['out.acti'], name='main_output')(layer)\n",
    "    \n",
    "    model = Model(inputs, output)\n",
    "    \n",
    "    model.summary()\n",
    "    \n",
    "    model.compile(\n",
    "        optimizer=RMSprop(lr=settings['lr.initial']),\n",
    "        loss={\n",
    "            'main_output': 'binary_crossentropy',\n",
    "        },\n",
    "        loss_weights={\n",
    "            'main_output': 1., \n",
    "        },\n",
    "        metrics=['accuracy']\n",
    "    )\n",
    "    return model\n"
   ]
  },
  {
   "cell_type": "code",
   "execution_count": 24,
   "metadata": {
    "ExecuteTime": {
     "end_time": "2019-02-01T14:20:08.780427Z",
     "start_time": "2019-02-01T14:20:08.773685Z"
    }
   },
   "outputs": [],
   "source": [
    "def cnn_lstm_model(input_dim, settings):\n",
    "    inputs = Input(name='inputs',shape=[input_dim])\n",
    "    layer =  Embedding(max_words,settings['embedding.units'],input_length=input_dim)(inputs)\n",
    "    \n",
    "    layer = Conv1D(settings['cnn.1.units'], settings['cnn.1.len'], activation=settings['cnn.1.acti'])(layer)\n",
    "    layer = MaxPooling1D(settings['pooling.1.len'])(layer)\n",
    "    \n",
    "    layer = LSTM(settings['lstm.1.units'],dropout=settings['lstm.1.dropout'])(layer)\n",
    "    layer = Dropout(settings['lstm.1.dropout'])(layer)\n",
    "    \n",
    "    layer = Dense(\n",
    "        settings['dense.1.units'], \n",
    "        activation=settings['dense.1.acti'],\n",
    "        kernel_regularizer=regularizers.l2(settings['kernel.regularizer'])\n",
    "    )(layer)\n",
    "    layer = Dense(\n",
    "        settings['dense.1.units'],\n",
    "        activation=settings['dense.1.acti'],\n",
    "        kernel_regularizer=regularizers.l2(settings['kernel.regularizer'])\n",
    "    )(layer)\n",
    "    layer = Dropout(settings['dense.1.dropout'])(layer)\n",
    "    \n",
    "    output = Dense(1, activation=settings['out.acti'], name='main_output')(layer)\n",
    "    \n",
    "    model = Model(inputs, output)\n",
    "    model.summary()\n",
    "    \n",
    "    model.compile(\n",
    "        optimizer=RMSprop(lr=settings['lr.initial']),\n",
    "        loss={\n",
    "            'main_output': 'binary_crossentropy',\n",
    "        },\n",
    "        loss_weights={\n",
    "            'main_output': 1., \n",
    "        },\n",
    "        metrics=['accuracy']\n",
    "    )\n",
    "    return model\n",
    "    "
   ]
  },
  {
   "cell_type": "markdown",
   "metadata": {},
   "source": [
    "## Create dense model"
   ]
  },
  {
   "cell_type": "code",
   "execution_count": 25,
   "metadata": {
    "ExecuteTime": {
     "end_time": "2019-02-01T14:23:05.878782Z",
     "start_time": "2019-02-01T14:21:37.943459Z"
    }
   },
   "outputs": [
    {
     "name": "stdout",
     "output_type": "stream",
     "text": [
      "Next available file: ./logs/word_embeddings/run_0\n",
      "_________________________________________________________________\n",
      "Layer (type)                 Output Shape              Param #   \n",
      "=================================================================\n",
      "inputs (InputLayer)          (None, 1000)              0         \n",
      "_________________________________________________________________\n",
      "dense_1 (Dense)              (None, 1000)              1001000   \n",
      "_________________________________________________________________\n",
      "dropout_1 (Dropout)          (None, 1000)              0         \n",
      "_________________________________________________________________\n",
      "dense_2 (Dense)              (None, 100)               100100    \n",
      "_________________________________________________________________\n",
      "dropout_2 (Dropout)          (None, 100)               0         \n",
      "_________________________________________________________________\n",
      "dense_3 (Dense)              (None, 10)                1010      \n",
      "_________________________________________________________________\n",
      "dropout_3 (Dropout)          (None, 10)                0         \n",
      "_________________________________________________________________\n",
      "main_output (Dense)          (None, 1)                 11        \n",
      "=================================================================\n",
      "Total params: 1,102,121\n",
      "Trainable params: 1,102,121\n",
      "Non-trainable params: 0\n",
      "_________________________________________________________________\n",
      "Train on 19823 samples, validate on 9765 samples\n",
      "Epoch 1/200\n",
      "19823/19823 [==============================] - 5s 274us/step - loss: 7.4292 - acc: 0.5110 - val_loss: 7.4606 - val_acc: 0.5143\n",
      "Epoch 2/200\n",
      "19823/19823 [==============================] - 6s 278us/step - loss: 2.9588 - acc: 0.5014 - val_loss: 0.7073 - val_acc: 0.4993\n",
      "Epoch 3/200\n",
      "19823/19823 [==============================] - 6s 278us/step - loss: 1.1225 - acc: 0.5595 - val_loss: 8.1144 - val_acc: 0.4993\n",
      "Epoch 4/200\n",
      "19823/19823 [==============================] - 6s 279us/step - loss: 1.0242 - acc: 0.5631 - val_loss: 0.6857 - val_acc: 0.5983\n",
      "Epoch 5/200\n",
      "19823/19823 [==============================] - 6s 278us/step - loss: 0.9860 - acc: 0.6072 - val_loss: 0.7301 - val_acc: 0.6428\n",
      "Epoch 6/200\n",
      "19823/19823 [==============================] - 6s 301us/step - loss: 0.9861 - acc: 0.6230 - val_loss: 0.8234 - val_acc: 0.6590\n",
      "Epoch 7/200\n",
      "19823/19823 [==============================] - 6s 296us/step - loss: 1.0642 - acc: 0.6238 - val_loss: 0.7299 - val_acc: 0.6407\n",
      "Epoch 8/200\n",
      "19823/19823 [==============================] - 6s 298us/step - loss: 0.9388 - acc: 0.6204 - val_loss: 0.7904 - val_acc: 0.6344\n",
      "Epoch 9/200\n",
      "19823/19823 [==============================] - 6s 293us/step - loss: 0.9345 - acc: 0.6221 - val_loss: 0.7250 - val_acc: 0.6176\n",
      "Epoch 10/200\n",
      "19823/19823 [==============================] - 6s 288us/step - loss: 0.8349 - acc: 0.6226 - val_loss: 0.7056 - val_acc: 0.6145\n",
      "Epoch 11/200\n",
      "19823/19823 [==============================] - 6s 291us/step - loss: 0.8831 - acc: 0.6214 - val_loss: 0.7020 - val_acc: 0.6258\n",
      "Epoch 12/200\n",
      "19823/19823 [==============================] - 6s 313us/step - loss: 0.7999 - acc: 0.6218 - val_loss: 0.7634 - val_acc: 0.6552\n",
      "Epoch 13/200\n",
      "19823/19823 [==============================] - 6s 322us/step - loss: 0.8166 - acc: 0.6263 - val_loss: 0.7152 - val_acc: 0.6379\n",
      "Epoch 14/200\n",
      "19823/19823 [==============================] - 7s 330us/step - loss: 0.8565 - acc: 0.6314 - val_loss: 0.9945 - val_acc: 0.6681\n"
     ]
    },
    {
     "data": {
      "image/png": "[encoded data removed]",
      "text/plain": [
       "<Figure size 432x288 with 2 Axes>"
      ]
     },
     "metadata": {},
     "output_type": "display_data"
    }
   ],
   "source": [
    "\n",
    "settings = {\n",
    "    'folder': aatm_support.next_file('./logs/word_embeddings/run', ''),\n",
    "    'dense.1.units': 1000,\n",
    "    'dense.1.acti': 'relu',\n",
    "    'dense.1.dropout': 0.5,\n",
    "    'dense.2.units': 100,\n",
    "    'dense.2.acti': 'relu',\n",
    "    'dense.2.dropout': 0.5,\n",
    "    'dense.3.units': 10,\n",
    "    'dense.3.acti': 'relu',\n",
    "    'dense.3.dropout': 0.5,\n",
    "    'out.acti': 'sigmoid',\n",
    "    'lr.initial': 0.001,\n",
    "    'epochs': 200,\n",
    "    'batch_size': 32,\n",
    "    'early_stop.monitor': 'val_loss',\n",
    "    'early_stop.min_delta': 0.001,\n",
    "    'early_stop.patience': 10,\n",
    "    'kernel.regularizer': 0.01\n",
    "}\n",
    "\n",
    "model = dense_model(input_dim=X_train.shape[1], settings=settings)\n",
    "\n",
    "history = model.fit(\n",
    "    X_train,\n",
    "    [\n",
    "        y_train, \n",
    "    ],\n",
    "    batch_size=settings['batch_size'],\n",
    "    epochs=settings['epochs'], \n",
    "    validation_data=(\n",
    "        X_test, \n",
    "        [\n",
    "            y_test, \n",
    "        ],\n",
    "    ),\n",
    "    callbacks=[\n",
    "        EarlyStopping(\n",
    "            monitor=settings['early_stop.monitor'], \n",
    "            min_delta=settings['early_stop.min_delta'],\n",
    "            patience=settings['early_stop.patience']\n",
    "        ), \n",
    "        TensorBoardLogger(\n",
    "            log_dir=settings['folder'], \n",
    "            histogram_freq=0,\n",
    "            batch_size=settings['batch_size'], \n",
    "            write_graph=False,\n",
    "            settings_str_to_log=json.dumps(settings, ensure_ascii=False)\n",
    "        )\n",
    "    ]\n",
    ")\n",
    "\n",
    "draw_history(history)"
   ]
  },
  {
   "cell_type": "code",
   "execution_count": 26,
   "metadata": {
    "ExecuteTime": {
     "end_time": "2019-02-01T14:23:16.408888Z",
     "start_time": "2019-02-01T14:23:16.325279Z"
    }
   },
   "outputs": [
    {
     "name": "stdout",
     "output_type": "stream",
     "text": [
      "acc: 51.54%\n"
     ]
    }
   ],
   "source": [
    "# Test model on pan2018 data\n",
    "scores = model.evaluate(val_text, val_label, verbose=0)\n",
    "print(\"%s: %.2f%%\" % (model.metrics_names[1], scores[1]*100))"
   ]
  },
  {
   "cell_type": "markdown",
   "metadata": {},
   "source": [
    "## Create dense on embedded data"
   ]
  },
  {
   "cell_type": "code",
   "execution_count": 27,
   "metadata": {
    "ExecuteTime": {
     "end_time": "2019-02-01T14:29:16.613728Z",
     "start_time": "2019-02-01T14:25:33.690326Z"
    }
   },
   "outputs": [
    {
     "name": "stdout",
     "output_type": "stream",
     "text": [
      "Next available file: ./logs/word_embeddings/run_1\n",
      "_________________________________________________________________\n",
      "Layer (type)                 Output Shape              Param #   \n",
      "=================================================================\n",
      "inputs (InputLayer)          (None, 1000)              0         \n",
      "_________________________________________________________________\n",
      "embedding_1 (Embedding)      (None, 1000, 50)          500000    \n",
      "_________________________________________________________________\n",
      "flatten_1 (Flatten)          (None, 50000)             0         \n",
      "_________________________________________________________________\n",
      "dense_4 (Dense)              (None, 16)                800016    \n",
      "_________________________________________________________________\n",
      "dropout_4 (Dropout)          (None, 16)                0         \n",
      "_________________________________________________________________\n",
      "dense_5 (Dense)              (None, 16)                272       \n",
      "_________________________________________________________________\n",
      "dropout_5 (Dropout)          (None, 16)                0         \n",
      "_________________________________________________________________\n",
      "dense_6 (Dense)              (None, 16)                272       \n",
      "_________________________________________________________________\n",
      "dropout_6 (Dropout)          (None, 16)                0         \n",
      "_________________________________________________________________\n",
      "main_output (Dense)          (None, 1)                 17        \n",
      "=================================================================\n",
      "Total params: 1,300,577\n",
      "Trainable params: 1,300,577\n",
      "Non-trainable params: 0\n",
      "_________________________________________________________________\n",
      "Train on 19823 samples, validate on 9765 samples\n",
      "Epoch 1/200\n",
      "19823/19823 [==============================] - 8s 387us/step - loss: 0.9956 - acc: 0.5631 - val_loss: 0.8707 - val_acc: 0.6774\n",
      "Epoch 2/200\n",
      "19823/19823 [==============================] - 8s 392us/step - loss: 0.8468 - acc: 0.5970 - val_loss: 0.7823 - val_acc: 0.6775\n",
      "Epoch 3/200\n",
      "19823/19823 [==============================] - 8s 403us/step - loss: 0.7762 - acc: 0.6232 - val_loss: 0.7147 - val_acc: 0.6808\n",
      "Epoch 4/200\n",
      "19823/19823 [==============================] - 8s 405us/step - loss: 0.7315 - acc: 0.6327 - val_loss: 0.7005 - val_acc: 0.6789\n",
      "Epoch 5/200\n",
      "19823/19823 [==============================] - 8s 400us/step - loss: 0.6945 - acc: 0.6535 - val_loss: 0.6611 - val_acc: 0.6804\n",
      "Epoch 6/200\n",
      "19823/19823 [==============================] - 9s 443us/step - loss: 0.6758 - acc: 0.6611 - val_loss: 0.6326 - val_acc: 0.6938\n",
      "Epoch 7/200\n",
      "19823/19823 [==============================] - 8s 425us/step - loss: 0.6606 - acc: 0.6675 - val_loss: 0.6227 - val_acc: 0.6931\n",
      "Epoch 8/200\n",
      "19823/19823 [==============================] - 8s 416us/step - loss: 0.6491 - acc: 0.6778 - val_loss: 0.6108 - val_acc: 0.6961\n",
      "Epoch 9/200\n",
      "19823/19823 [==============================] - 8s 412us/step - loss: 0.6360 - acc: 0.6907 - val_loss: 0.5959 - val_acc: 0.7309\n",
      "Epoch 10/200\n",
      "19823/19823 [==============================] - 8s 392us/step - loss: 0.6284 - acc: 0.7042 - val_loss: 0.5903 - val_acc: 0.7429\n",
      "Epoch 11/200\n",
      "19823/19823 [==============================] - 8s 407us/step - loss: 0.6175 - acc: 0.7217 - val_loss: 0.5823 - val_acc: 0.7365\n",
      "Epoch 12/200\n",
      "19823/19823 [==============================] - 8s 412us/step - loss: 0.6050 - acc: 0.7301 - val_loss: 0.5845 - val_acc: 0.7351\n",
      "Epoch 13/200\n",
      "19823/19823 [==============================] - 8s 401us/step - loss: 0.5955 - acc: 0.7437 - val_loss: 0.5656 - val_acc: 0.7636\n",
      "Epoch 14/200\n",
      "19823/19823 [==============================] - 8s 398us/step - loss: 0.5848 - acc: 0.7558 - val_loss: 0.5853 - val_acc: 0.7314\n",
      "Epoch 15/200\n",
      "19823/19823 [==============================] - 8s 420us/step - loss: 0.5767 - acc: 0.7679 - val_loss: 0.5495 - val_acc: 0.7729\n",
      "Epoch 16/200\n",
      "19823/19823 [==============================] - 9s 447us/step - loss: 0.5585 - acc: 0.7795 - val_loss: 0.5407 - val_acc: 0.7822\n",
      "Epoch 17/200\n",
      "19823/19823 [==============================] - 8s 428us/step - loss: 0.5570 - acc: 0.7882 - val_loss: 0.5380 - val_acc: 0.7910\n",
      "Epoch 18/200\n",
      "19823/19823 [==============================] - 9s 435us/step - loss: 0.5487 - acc: 0.7974 - val_loss: 0.5372 - val_acc: 0.7839\n",
      "Epoch 19/200\n",
      "19823/19823 [==============================] - 9s 467us/step - loss: 0.5380 - acc: 0.8090 - val_loss: 0.5467 - val_acc: 0.7811\n",
      "Epoch 20/200\n",
      "19823/19823 [==============================] - 10s 486us/step - loss: 0.5253 - acc: 0.8182 - val_loss: 0.5383 - val_acc: 0.7915\n",
      "Epoch 21/200\n",
      "19823/19823 [==============================] - 9s 443us/step - loss: 0.5165 - acc: 0.8292 - val_loss: 0.5322 - val_acc: 0.7973\n",
      "Epoch 22/200\n",
      "19823/19823 [==============================] - 9s 466us/step - loss: 0.5035 - acc: 0.8423 - val_loss: 0.5350 - val_acc: 0.7995\n",
      "Epoch 23/200\n",
      "19823/19823 [==============================] - 9s 458us/step - loss: 0.4983 - acc: 0.8445 - val_loss: 0.5682 - val_acc: 0.7760\n",
      "Epoch 24/200\n",
      "19823/19823 [==============================] - 10s 480us/step - loss: 0.4908 - acc: 0.8529 - val_loss: 0.5438 - val_acc: 0.8010\n",
      "Epoch 25/200\n",
      "19823/19823 [==============================] - 10s 483us/step - loss: 0.4763 - acc: 0.8622 - val_loss: 0.5529 - val_acc: 0.8007\n",
      "Epoch 26/200\n",
      "19823/19823 [==============================] - 10s 484us/step - loss: 0.4668 - acc: 0.8710 - val_loss: 0.5553 - val_acc: 0.8024\n"
     ]
    },
    {
     "data": {
      "image/png": "[encoded data removed]",
      "text/plain": [
       "<Figure size 432x288 with 2 Axes>"
      ]
     },
     "metadata": {},
     "output_type": "display_data"
    }
   ],
   "source": [
    "settings = {\n",
    "    'folder': aatm_support.next_file('./logs/word_embeddings/run', ''),\n",
    "    'embedding.units': 50,\n",
    "    'dense.1.units': 16,\n",
    "    'dense.1.acti': 'relu',\n",
    "    'dense.1.dropout': 0.5,\n",
    "    'dense.2.units': 16,\n",
    "    'dense.2.acti': 'relu',\n",
    "    'dense.2.dropout': 0.5,\n",
    "    'dense.3.units': 16,\n",
    "    'dense.3.acti': 'relu',\n",
    "    'dense.3.dropout': 0.5,\n",
    "    'out.acti': 'sigmoid',\n",
    "    'lr.initial': 0.0001,\n",
    "    'epochs': 200,\n",
    "    'batch_size': 32,\n",
    "    'early_stop.monitor': 'val_loss',\n",
    "    'early_stop.min_delta': 0.001,\n",
    "    'early_stop.patience': 5,\n",
    "    'kernel.regularizer': 0.01\n",
    "}\n",
    "\n",
    "model = embedding_flatten_model(input_dim=X_train.shape[1], settings=settings)\n",
    "\n",
    "history = model.fit(\n",
    "    X_train,\n",
    "    [\n",
    "        y_train, \n",
    "    ],\n",
    "    batch_size=settings['batch_size'],\n",
    "    epochs=settings['epochs'], \n",
    "    validation_data=(\n",
    "        X_test, \n",
    "        [\n",
    "            y_test, \n",
    "            # y_test, y_test, y_test, y_test\n",
    "        ],\n",
    "    ),\n",
    "    callbacks=[\n",
    "        EarlyStopping(\n",
    "            monitor=settings['early_stop.monitor'], \n",
    "            min_delta=settings['early_stop.min_delta'],\n",
    "            patience=settings['early_stop.patience']\n",
    "        ), \n",
    "        TensorBoardLogger(\n",
    "            log_dir=settings['folder'], \n",
    "            histogram_freq=0,\n",
    "            batch_size=settings['batch_size'], \n",
    "            write_graph=False,\n",
    "            settings_str_to_log=json.dumps(settings, ensure_ascii=False)\n",
    "        )\n",
    "    ]\n",
    ")\n",
    "\n",
    "draw_history(history)"
   ]
  },
  {
   "cell_type": "code",
   "execution_count": 29,
   "metadata": {
    "ExecuteTime": {
     "end_time": "2019-02-01T14:35:24.506030Z",
     "start_time": "2019-02-01T14:35:24.324321Z"
    }
   },
   "outputs": [
    {
     "name": "stdout",
     "output_type": "stream",
     "text": [
      "Next available file: ./models/Embedded_models/embedded_dense/model_0.h5\n"
     ]
    }
   ],
   "source": [
    "# Run this to save a model after training\n",
    "model.save(aatm_support.next_file('./models/Embedded_models/embedded_dense/model', '.h5'))"
   ]
  },
  {
   "cell_type": "code",
   "execution_count": 30,
   "metadata": {
    "ExecuteTime": {
     "end_time": "2019-02-01T14:35:29.053806Z",
     "start_time": "2019-02-01T14:35:28.889135Z"
    }
   },
   "outputs": [
    {
     "name": "stdout",
     "output_type": "stream",
     "text": [
      "acc: 52.28%\n"
     ]
    }
   ],
   "source": [
    "# Test model on pan2018 data\n",
    "scores = model.evaluate(val_text, val_label, verbose=0)\n",
    "print(\"%s: %.2f%%\" % (model.metrics_names[1], scores[1]*100))"
   ]
  },
  {
   "cell_type": "markdown",
   "metadata": {},
   "source": [
    "## Create lstm model"
   ]
  },
  {
   "cell_type": "code",
   "execution_count": 31,
   "metadata": {
    "ExecuteTime": {
     "end_time": "2019-02-01T15:50:05.566450Z",
     "start_time": "2019-02-01T14:35:41.358917Z"
    },
    "scrolled": true
   },
   "outputs": [
    {
     "name": "stdout",
     "output_type": "stream",
     "text": [
      "Next available file: ./logs/word_embeddings/run_2\n",
      "_________________________________________________________________\n",
      "Layer (type)                 Output Shape              Param #   \n",
      "=================================================================\n",
      "inputs (InputLayer)          (None, 1000)              0         \n",
      "_________________________________________________________________\n",
      "embedding_2 (Embedding)      (None, 1000, 100)         1000000   \n",
      "_________________________________________________________________\n",
      "lstm_1 (LSTM)                (None, 32)                17024     \n",
      "_________________________________________________________________\n",
      "dense_7 (Dense)              (None, 16)                528       \n",
      "_________________________________________________________________\n",
      "dense_8 (Dense)              (None, 16)                272       \n",
      "_________________________________________________________________\n",
      "dropout_7 (Dropout)          (None, 16)                0         \n",
      "_________________________________________________________________\n",
      "dense_9 (Dense)              (None, 16)                272       \n",
      "_________________________________________________________________\n",
      "dropout_8 (Dropout)          (None, 16)                0         \n",
      "_________________________________________________________________\n",
      "main_output (Dense)          (None, 1)                 17        \n",
      "=================================================================\n",
      "Total params: 1,018,113\n",
      "Trainable params: 1,018,113\n",
      "Non-trainable params: 0\n",
      "_________________________________________________________________\n",
      "Train on 19823 samples, validate on 9765 samples\n",
      "Epoch 1/200\n",
      "19823/19823 [==============================] - 768s 39ms/step - loss: 0.7769 - acc: 0.4961 - val_loss: 0.6932 - val_acc: 0.5007\n",
      "Epoch 2/200\n",
      "19823/19823 [==============================] - 729s 37ms/step - loss: 0.6932 - acc: 0.4996 - val_loss: 0.6932 - val_acc: 0.5007\n",
      "Epoch 3/200\n",
      "19823/19823 [==============================] - 729s 37ms/step - loss: 0.6932 - acc: 0.4961 - val_loss: 0.6931 - val_acc: 0.5007\n",
      "Epoch 4/200\n",
      "19823/19823 [==============================] - 725s 37ms/step - loss: 0.6932 - acc: 0.4950 - val_loss: 0.6932 - val_acc: 0.5007\n",
      "Epoch 5/200\n",
      "19823/19823 [==============================] - 746s 38ms/step - loss: 0.6932 - acc: 0.4950 - val_loss: 0.6931 - val_acc: 0.5007\n",
      "Epoch 6/200\n",
      "19823/19823 [==============================] - 764s 39ms/step - loss: 0.6932 - acc: 0.4971 - val_loss: 0.6932 - val_acc: 0.4993\n"
     ]
    },
    {
     "data": {
      "image/png": "[encoded data removed]",
      "text/plain": [
       "<Figure size 432x288 with 2 Axes>"
      ]
     },
     "metadata": {},
     "output_type": "display_data"
    }
   ],
   "source": [
    "settings = {\n",
    "    'folder': aatm_support.next_file('./logs/word_embeddings/run', ''),\n",
    "    'embedding.units': 100,\n",
    "    'lstm.1.units': 32,\n",
    "    'lstm.1.dropout': 0.2,\n",
    "    'dense.1.units': 16,\n",
    "    'dense.1.acti': 'relu',\n",
    "    'dense.1.dropout': 0.2,\n",
    "    'dense.2.units': 16,\n",
    "    'dense.2.acti': 'relu',\n",
    "    'dense.2.dropout': 0.2,\n",
    "    'out.acti': 'sigmoid',\n",
    "    'lr.initial': 0.001,\n",
    "    'epochs': 200,\n",
    "    'batch_size': 32,\n",
    "    'early_stop.monitor': 'val_loss',\n",
    "    'early_stop.min_delta': 0.001,\n",
    "    'early_stop.patience': 5,\n",
    "    'kernel.regularizer': 0.01\n",
    "}\n",
    "\n",
    "model = lstm_model(input_dim=X_train.shape[1], settings=settings)\n",
    "\n",
    "history = model.fit(\n",
    "    X_train,\n",
    "    [\n",
    "        y_train, \n",
    "    ],\n",
    "    batch_size=settings['batch_size'],\n",
    "    epochs=settings['epochs'], \n",
    "    validation_data=(\n",
    "        X_test, \n",
    "        [\n",
    "            y_test, \n",
    "            # y_test, y_test, y_test, y_test\n",
    "        ],\n",
    "    ),\n",
    "    callbacks=[\n",
    "        EarlyStopping(\n",
    "            monitor=settings['early_stop.monitor'], \n",
    "            min_delta=settings['early_stop.min_delta'],\n",
    "            patience=settings['early_stop.patience']\n",
    "        ), \n",
    "        TensorBoardLogger(\n",
    "            log_dir=settings['folder'], \n",
    "            histogram_freq=0,\n",
    "            batch_size=settings['batch_size'], \n",
    "            write_graph=False,\n",
    "            settings_str_to_log=json.dumps(settings, ensure_ascii=False)\n",
    "        )\n",
    "    ]\n",
    ")\n",
    "\n",
    "draw_history(history)\n"
   ]
  },
  {
   "cell_type": "code",
   "execution_count": 32,
   "metadata": {
    "ExecuteTime": {
     "end_time": "2019-02-01T15:50:06.050112Z",
     "start_time": "2019-02-01T15:50:05.571245Z"
    }
   },
   "outputs": [
    {
     "name": "stdout",
     "output_type": "stream",
     "text": [
      "Next available file: ./models/Embedded_models/embedded_lstm/model_0.h5\n"
     ]
    }
   ],
   "source": [
    "# Run this to save a model after training\n",
    "model.save(aatm_support.next_file('./models/Embedded_models/embedded_lstm/model', '.h5'))"
   ]
  },
  {
   "cell_type": "code",
   "execution_count": 33,
   "metadata": {
    "ExecuteTime": {
     "end_time": "2019-02-01T15:50:15.165777Z",
     "start_time": "2019-02-01T15:50:06.052190Z"
    }
   },
   "outputs": [
    {
     "name": "stdout",
     "output_type": "stream",
     "text": [
      "acc: 50.00%\n"
     ]
    }
   ],
   "source": [
    "# Test model on pan2018 data\n",
    "scores = model.evaluate(val_text, val_label, verbose=0)\n",
    "print(\"%s: %.2f%%\" % (model.metrics_names[1], scores[1]*100))"
   ]
  },
  {
   "cell_type": "markdown",
   "metadata": {},
   "source": [
    "## Bidirectional LSTM"
   ]
  },
  {
   "cell_type": "code",
   "execution_count": 34,
   "metadata": {
    "ExecuteTime": {
     "end_time": "2019-02-01T22:55:30.186181Z",
     "start_time": "2019-02-01T15:50:15.168104Z"
    }
   },
   "outputs": [
    {
     "name": "stdout",
     "output_type": "stream",
     "text": [
      "Next available file: ./logs/word_embeddings/run_3\n",
      "_________________________________________________________________\n",
      "Layer (type)                 Output Shape              Param #   \n",
      "=================================================================\n",
      "inputs (InputLayer)          (None, 1000)              0         \n",
      "_________________________________________________________________\n",
      "embedding_3 (Embedding)      (None, 1000, 100)         1000000   \n",
      "_________________________________________________________________\n",
      "bidirectional_1 (Bidirection (None, 64)                34048     \n",
      "_________________________________________________________________\n",
      "dense_10 (Dense)             (None, 16)                1040      \n",
      "_________________________________________________________________\n",
      "dense_11 (Dense)             (None, 16)                272       \n",
      "_________________________________________________________________\n",
      "dropout_9 (Dropout)          (None, 16)                0         \n",
      "_________________________________________________________________\n",
      "dense_12 (Dense)             (None, 16)                272       \n",
      "_________________________________________________________________\n",
      "dropout_10 (Dropout)         (None, 16)                0         \n",
      "_________________________________________________________________\n",
      "main_output (Dense)          (None, 1)                 17        \n",
      "=================================================================\n",
      "Total params: 1,035,649\n",
      "Trainable params: 1,035,649\n",
      "Non-trainable params: 0\n",
      "_________________________________________________________________\n",
      "Train on 19823 samples, validate on 9765 samples\n",
      "Epoch 1/200\n",
      "19823/19823 [==============================] - 903s 46ms/step - loss: 1.1204 - acc: 0.5395 - val_loss: 1.0018 - val_acc: 0.5705\n",
      "Epoch 2/200\n",
      "19823/19823 [==============================] - 901s 45ms/step - loss: 0.9145 - acc: 0.5631 - val_loss: 0.8360 - val_acc: 0.5916\n",
      "Epoch 3/200\n",
      "19823/19823 [==============================] - 896s 45ms/step - loss: 0.7980 - acc: 0.5743 - val_loss: 0.7601 - val_acc: 0.5897\n",
      "Epoch 4/200\n",
      "19823/19823 [==============================] - 873s 44ms/step - loss: 0.7536 - acc: 0.5507 - val_loss: 0.7263 - val_acc: 0.5988\n",
      "Epoch 5/200\n",
      "19823/19823 [==============================] - 851s 43ms/step - loss: 0.7230 - acc: 0.5551 - val_loss: 0.7126 - val_acc: 0.5712\n",
      "Epoch 6/200\n",
      "19823/19823 [==============================] - 877s 44ms/step - loss: 0.7036 - acc: 0.5646 - val_loss: 0.6984 - val_acc: 0.5763\n",
      "Epoch 7/200\n",
      "19823/19823 [==============================] - 903s 46ms/step - loss: 0.6890 - acc: 0.5912 - val_loss: 0.6790 - val_acc: 0.6178\n",
      "Epoch 8/200\n",
      "19823/19823 [==============================] - 864s 44ms/step - loss: 0.6708 - acc: 0.6545 - val_loss: 0.6531 - val_acc: 0.7045\n",
      "Epoch 9/200\n",
      "19823/19823 [==============================] - 869s 44ms/step - loss: 0.6527 - acc: 0.6820 - val_loss: 0.6828 - val_acc: 0.5945\n",
      "Epoch 10/200\n",
      "19823/19823 [==============================] - 868s 44ms/step - loss: 0.6331 - acc: 0.7064 - val_loss: 0.6494 - val_acc: 0.6819\n",
      "Epoch 11/200\n",
      "19823/19823 [==============================] - 880s 44ms/step - loss: 0.6120 - acc: 0.7257 - val_loss: 0.5991 - val_acc: 0.7416\n",
      "Epoch 12/200\n",
      "19823/19823 [==============================] - 880s 44ms/step - loss: 0.5902 - acc: 0.7428 - val_loss: 0.5827 - val_acc: 0.7280\n",
      "Epoch 13/200\n",
      "19823/19823 [==============================] - 875s 44ms/step - loss: 0.5714 - acc: 0.7556 - val_loss: 0.5515 - val_acc: 0.7650\n",
      "Epoch 14/200\n",
      "19823/19823 [==============================] - 856s 43ms/step - loss: 0.5525 - acc: 0.7648 - val_loss: 0.5499 - val_acc: 0.7682\n",
      "Epoch 15/200\n",
      "19823/19823 [==============================] - 837s 42ms/step - loss: 0.5393 - acc: 0.7810 - val_loss: 0.5209 - val_acc: 0.7795\n",
      "Epoch 16/200\n",
      "19823/19823 [==============================] - 835s 42ms/step - loss: 0.5207 - acc: 0.7886 - val_loss: 0.5108 - val_acc: 0.7798\n",
      "Epoch 17/200\n",
      "19823/19823 [==============================] - 850s 43ms/step - loss: 0.5017 - acc: 0.8019 - val_loss: 0.5130 - val_acc: 0.7824\n",
      "Epoch 18/200\n",
      "19823/19823 [==============================] - 863s 44ms/step - loss: 0.4902 - acc: 0.8083 - val_loss: 0.4977 - val_acc: 0.7852\n",
      "Epoch 19/200\n",
      "19823/19823 [==============================] - 859s 43ms/step - loss: 0.4706 - acc: 0.8217 - val_loss: 0.4854 - val_acc: 0.7989\n",
      "Epoch 20/200\n",
      "19823/19823 [==============================] - 890s 45ms/step - loss: 0.4612 - acc: 0.8241 - val_loss: 0.5350 - val_acc: 0.7658\n",
      "Epoch 21/200\n",
      "19823/19823 [==============================] - 861s 43ms/step - loss: 0.4429 - acc: 0.8387 - val_loss: 0.4901 - val_acc: 0.7989\n",
      "Epoch 22/200\n",
      "19823/19823 [==============================] - 882s 44ms/step - loss: 0.4291 - acc: 0.8441 - val_loss: 0.5587 - val_acc: 0.7603\n",
      "Epoch 23/200\n",
      "19823/19823 [==============================] - 880s 44ms/step - loss: 0.4150 - acc: 0.8534 - val_loss: 0.5007 - val_acc: 0.7970\n",
      "Epoch 24/200\n",
      "19823/19823 [==============================] - 886s 45ms/step - loss: 0.4049 - acc: 0.8600 - val_loss: 0.4658 - val_acc: 0.8142\n",
      "Epoch 25/200\n",
      "19823/19823 [==============================] - 938s 47ms/step - loss: 0.3961 - acc: 0.8594 - val_loss: 0.4962 - val_acc: 0.7964\n",
      "Epoch 26/200\n",
      "19823/19823 [==============================] - 917s 46ms/step - loss: 0.3851 - acc: 0.8666 - val_loss: 0.4861 - val_acc: 0.8105\n",
      "Epoch 27/200\n",
      "19823/19823 [==============================] - 923s 47ms/step - loss: 0.3754 - acc: 0.8750 - val_loss: 0.8233 - val_acc: 0.6628\n",
      "Epoch 28/200\n",
      "19823/19823 [==============================] - 917s 46ms/step - loss: 0.3640 - acc: 0.8803 - val_loss: 0.4852 - val_acc: 0.8109\n",
      "Epoch 29/200\n",
      "19823/19823 [==============================] - 875s 44ms/step - loss: 0.3538 - acc: 0.8835 - val_loss: 0.4942 - val_acc: 0.8100\n"
     ]
    },
    {
     "data": {
      "image/png": "[encoded data removed]",
      "text/plain": [
       "<Figure size 432x288 with 2 Axes>"
      ]
     },
     "metadata": {},
     "output_type": "display_data"
    }
   ],
   "source": [
    "settings = {\n",
    "    'folder': aatm_support.next_file('./logs/word_embeddings/run', ''),\n",
    "    'embedding.units': 100,\n",
    "    'lstm.1.units': 32,\n",
    "    'lstm.1.dropout': 0.2,\n",
    "    'dense.1.units': 16,\n",
    "    'dense.1.acti': 'relu',\n",
    "    'dense.1.dropout': 0.2,\n",
    "    'dense.2.units': 16,\n",
    "    'dense.2.acti': 'relu',\n",
    "    'dense.2.dropout': 0.2,\n",
    "    'out.acti': 'sigmoid',\n",
    "    'lr.initial': 0.0001,\n",
    "    'epochs': 200,\n",
    "    'batch_size': 32,\n",
    "    'early_stop.monitor': 'val_loss',\n",
    "    'early_stop.min_delta': 0.001,\n",
    "    'early_stop.patience': 5,\n",
    "    'kernel.regularizer': 0.01\n",
    "}\n",
    "\n",
    "model = bidirectional_lstm_model(input_dim=X_train.shape[1], settings=settings)\n",
    "\n",
    "history = model.fit(\n",
    "    X_train,\n",
    "    [\n",
    "        y_train, \n",
    "    ],\n",
    "    batch_size=settings['batch_size'],\n",
    "    epochs=settings['epochs'], \n",
    "    validation_data=(\n",
    "        X_test, \n",
    "        [\n",
    "            y_test, \n",
    "        ],\n",
    "    ),\n",
    "    callbacks=[\n",
    "        EarlyStopping(\n",
    "            monitor=settings['early_stop.monitor'], \n",
    "            min_delta=settings['early_stop.min_delta'],\n",
    "            patience=settings['early_stop.patience']\n",
    "        ), \n",
    "        TensorBoardLogger(\n",
    "            log_dir=settings['folder'], \n",
    "            histogram_freq=0,\n",
    "            batch_size=settings['batch_size'], \n",
    "            write_graph=False,\n",
    "            settings_str_to_log=json.dumps(settings, ensure_ascii=False)\n",
    "        )\n",
    "    ]\n",
    ")\n",
    "\n",
    "draw_history(history)"
   ]
  },
  {
   "cell_type": "code",
   "execution_count": 35,
   "metadata": {
    "ExecuteTime": {
     "end_time": "2019-02-01T22:55:31.069248Z",
     "start_time": "2019-02-01T22:55:30.190361Z"
    }
   },
   "outputs": [
    {
     "name": "stdout",
     "output_type": "stream",
     "text": [
      "Next available file: ./models/Embedded_models/embedded_bidirectional_lstm/model_0.h5\n"
     ]
    }
   ],
   "source": [
    "# Run this to save a model after training\n",
    "model.save(aatm_support.next_file('./models/Embedded_models/embedded_bidirectional_lstm/model', '.h5'))"
   ]
  },
  {
   "cell_type": "code",
   "execution_count": 36,
   "metadata": {
    "ExecuteTime": {
     "end_time": "2019-02-01T22:55:41.149086Z",
     "start_time": "2019-02-01T22:55:31.071249Z"
    }
   },
   "outputs": [
    {
     "name": "stdout",
     "output_type": "stream",
     "text": [
      "acc: 52.14%\n"
     ]
    }
   ],
   "source": [
    "# Test model on pan2018 data\n",
    "scores = model.evaluate(val_text, val_label, verbose=0)\n",
    "print(\"%s: %.2f%%\" % (model.metrics_names[1], scores[1]*100))"
   ]
  },
  {
   "cell_type": "markdown",
   "metadata": {},
   "source": [
    "## CNN"
   ]
  },
  {
   "cell_type": "code",
   "execution_count": 37,
   "metadata": {
    "ExecuteTime": {
     "end_time": "2019-02-01T23:39:05.270231Z",
     "start_time": "2019-02-01T22:55:41.151801Z"
    }
   },
   "outputs": [
    {
     "name": "stdout",
     "output_type": "stream",
     "text": [
      "Next available file: ./logs/word_embeddings/run_4\n",
      "_________________________________________________________________\n",
      "Layer (type)                 Output Shape              Param #   \n",
      "=================================================================\n",
      "inputs (InputLayer)          (None, 1000)              0         \n",
      "_________________________________________________________________\n",
      "embedding_4 (Embedding)      (None, 1000, 100)         1000000   \n",
      "_________________________________________________________________\n",
      "conv1d_1 (Conv1D)            (None, 969, 32)           102432    \n",
      "_________________________________________________________________\n",
      "max_pooling1d_1 (MaxPooling1 (None, 193, 32)           0         \n",
      "_________________________________________________________________\n",
      "conv1d_2 (Conv1D)            (None, 162, 32)           32800     \n",
      "_________________________________________________________________\n",
      "max_pooling1d_2 (MaxPooling1 (None, 32, 32)            0         \n",
      "_________________________________________________________________\n",
      "global_average_pooling1d_1 ( (None, 32)                0         \n",
      "_________________________________________________________________\n",
      "dropout_11 (Dropout)         (None, 32)                0         \n",
      "_________________________________________________________________\n",
      "main_output (Dense)          (None, 1)                 33        \n",
      "=================================================================\n",
      "Total params: 1,135,265\n",
      "Trainable params: 1,135,265\n",
      "Non-trainable params: 0\n",
      "_________________________________________________________________\n",
      "Train on 19823 samples, validate on 9765 samples\n",
      "Epoch 1/200\n",
      "19823/19823 [==============================] - 263s 13ms/step - loss: 0.6182 - acc: 0.6652 - val_loss: 0.5896 - val_acc: 0.6857\n",
      "Epoch 2/200\n",
      "19823/19823 [==============================] - 262s 13ms/step - loss: 0.5631 - acc: 0.7090 - val_loss: 0.5368 - val_acc: 0.7312\n",
      "Epoch 3/200\n",
      "19823/19823 [==============================] - 261s 13ms/step - loss: 0.5098 - acc: 0.7594 - val_loss: 0.5176 - val_acc: 0.7645\n",
      "Epoch 4/200\n",
      "19823/19823 [==============================] - 262s 13ms/step - loss: 0.4726 - acc: 0.7840 - val_loss: 0.4984 - val_acc: 0.7683\n",
      "Epoch 5/200\n",
      "19823/19823 [==============================] - 260s 13ms/step - loss: 0.4478 - acc: 0.8025 - val_loss: 0.4966 - val_acc: 0.7707\n",
      "Epoch 6/200\n",
      "19823/19823 [==============================] - 260s 13ms/step - loss: 0.4320 - acc: 0.8130 - val_loss: 0.4980 - val_acc: 0.7603\n",
      "Epoch 7/200\n",
      "19823/19823 [==============================] - 259s 13ms/step - loss: 0.4176 - acc: 0.8213 - val_loss: 0.5167 - val_acc: 0.7768\n",
      "Epoch 8/200\n",
      "19823/19823 [==============================] - 258s 13ms/step - loss: 0.4062 - acc: 0.8232 - val_loss: 0.5164 - val_acc: 0.7751\n",
      "Epoch 9/200\n",
      "19823/19823 [==============================] - 259s 13ms/step - loss: 0.3976 - acc: 0.8314 - val_loss: 0.5074 - val_acc: 0.7672\n",
      "Epoch 10/200\n",
      "19823/19823 [==============================] - 258s 13ms/step - loss: 0.3914 - acc: 0.8341 - val_loss: 0.5219 - val_acc: 0.7779\n"
     ]
    },
    {
     "data": {
      "image/png": "[encoded data removed]",
      "text/plain": [
       "<Figure size 432x288 with 2 Axes>"
      ]
     },
     "metadata": {},
     "output_type": "display_data"
    }
   ],
   "source": [
    "settings = {\n",
    "    'folder': aatm_support.next_file('./logs/word_embeddings/run', ''),\n",
    "    'embedding.units': 100,\n",
    "    'cnn.1.units': 32,\n",
    "    'cnn.1.len': 32,\n",
    "    'cnn.1.acti': 'relu',\n",
    "    'pooling.1.len': 5,\n",
    "    'cnn.2.units': 32,\n",
    "    'cnn.2.len': 32,\n",
    "    'cnn.2.acti': 'relu',\n",
    "    'pooling.2.len': 5,\n",
    "    'global.1.units': 16,\n",
    "    'global.1.dropout': 0.4,\n",
    "    'out.acti': 'sigmoid',\n",
    "    'lr.initial': 0.0001,\n",
    "    'epochs': 200,\n",
    "    'batch_size': 32,\n",
    "    'early_stop.monitor': 'val_loss',\n",
    "    'early_stop.min_delta': 0.001,\n",
    "    'early_stop.patience': 5,\n",
    "    'kernel.regularizer': 0.01\n",
    "}\n",
    "\n",
    "model = cnn(input_dim=X_train.shape[1], settings=settings)\n",
    "\n",
    "history = model.fit(\n",
    "    X_train,\n",
    "    [\n",
    "        y_train, \n",
    "    ],\n",
    "    batch_size=settings['batch_size'],\n",
    "    epochs=settings['epochs'], \n",
    "    validation_data=(\n",
    "        X_test, \n",
    "        [\n",
    "            y_test, \n",
    "        ],\n",
    "    ),\n",
    "    callbacks=[\n",
    "        EarlyStopping(\n",
    "            monitor=settings['early_stop.monitor'], \n",
    "            min_delta=settings['early_stop.min_delta'],\n",
    "            patience=settings['early_stop.patience']\n",
    "        ), \n",
    "        TensorBoardLogger(\n",
    "            log_dir=settings['folder'], \n",
    "            histogram_freq=0,\n",
    "            batch_size=settings['batch_size'], \n",
    "            write_graph=False,\n",
    "            settings_str_to_log=json.dumps(settings, ensure_ascii=False)\n",
    "        )\n",
    "    ]\n",
    ")\n",
    "\n",
    "draw_history(history)"
   ]
  },
  {
   "cell_type": "code",
   "execution_count": 38,
   "metadata": {
    "ExecuteTime": {
     "end_time": "2019-02-01T23:39:06.020178Z",
     "start_time": "2019-02-01T23:39:05.273127Z"
    }
   },
   "outputs": [
    {
     "name": "stdout",
     "output_type": "stream",
     "text": [
      "Next available file: ./models/Embedded_models/embedded_cnn/model_0.h5\n"
     ]
    }
   ],
   "source": [
    "# Run this to save a model after training\n",
    "model.save(aatm_support.next_file('./models/Embedded_models/embedded_cnn/model', '.h5'))"
   ]
  },
  {
   "cell_type": "code",
   "execution_count": 39,
   "metadata": {
    "ExecuteTime": {
     "end_time": "2019-02-01T23:39:11.629386Z",
     "start_time": "2019-02-01T23:39:06.022416Z"
    }
   },
   "outputs": [
    {
     "name": "stdout",
     "output_type": "stream",
     "text": [
      "acc: 54.42%\n"
     ]
    }
   ],
   "source": [
    "# Test model on pan2018 data\n",
    "scores = model.evaluate(val_text, val_label, verbose=0)\n",
    "print(\"%s: %.2f%%\" % (model.metrics_names[1], scores[1]*100))"
   ]
  },
  {
   "cell_type": "markdown",
   "metadata": {},
   "source": [
    "## CNN and LSTM mixed"
   ]
  },
  {
   "cell_type": "code",
   "execution_count": 40,
   "metadata": {
    "ExecuteTime": {
     "end_time": "2019-02-02T01:36:49.549030Z",
     "start_time": "2019-02-01T23:39:11.631794Z"
    }
   },
   "outputs": [
    {
     "name": "stdout",
     "output_type": "stream",
     "text": [
      "Next available file: ./logs/word_embeddings/run_5\n",
      "_________________________________________________________________\n",
      "Layer (type)                 Output Shape              Param #   \n",
      "=================================================================\n",
      "inputs (InputLayer)          (None, 1000)              0         \n",
      "_________________________________________________________________\n",
      "embedding_5 (Embedding)      (None, 1000, 100)         1000000   \n",
      "_________________________________________________________________\n",
      "conv1d_3 (Conv1D)            (None, 969, 32)           102432    \n",
      "_________________________________________________________________\n",
      "max_pooling1d_3 (MaxPooling1 (None, 193, 32)           0         \n",
      "_________________________________________________________________\n",
      "lstm_3 (LSTM)                (None, 32)                8320      \n",
      "_________________________________________________________________\n",
      "dropout_12 (Dropout)         (None, 32)                0         \n",
      "_________________________________________________________________\n",
      "dense_13 (Dense)             (None, 16)                528       \n",
      "_________________________________________________________________\n",
      "dense_14 (Dense)             (None, 16)                272       \n",
      "_________________________________________________________________\n",
      "dropout_13 (Dropout)         (None, 16)                0         \n",
      "_________________________________________________________________\n",
      "main_output (Dense)          (None, 1)                 17        \n",
      "=================================================================\n",
      "Total params: 1,111,569\n",
      "Trainable params: 1,111,569\n",
      "Non-trainable params: 0\n",
      "_________________________________________________________________\n",
      "Train on 19823 samples, validate on 9765 samples\n",
      "Epoch 1/200\n",
      "19823/19823 [==============================] - 359s 18ms/step - loss: 0.9725 - acc: 0.5482 - val_loss: 0.8521 - val_acc: 0.6843\n",
      "Epoch 2/200\n",
      "19823/19823 [==============================] - 356s 18ms/step - loss: 0.7977 - acc: 0.6941 - val_loss: 0.7287 - val_acc: 0.7289\n",
      "Epoch 3/200\n",
      "19823/19823 [==============================] - 356s 18ms/step - loss: 0.6864 - acc: 0.7406 - val_loss: 0.6247 - val_acc: 0.7688\n",
      "Epoch 4/200\n",
      "19823/19823 [==============================] - 355s 18ms/step - loss: 0.6002 - acc: 0.7807 - val_loss: 0.5577 - val_acc: 0.7890\n",
      "Epoch 5/200\n",
      "19823/19823 [==============================] - 354s 18ms/step - loss: 0.5412 - acc: 0.8011 - val_loss: 0.5214 - val_acc: 0.7983\n",
      "Epoch 6/200\n",
      "19823/19823 [==============================] - 353s 18ms/step - loss: 0.4974 - acc: 0.8224 - val_loss: 0.5076 - val_acc: 0.7991\n",
      "Epoch 7/200\n",
      "19823/19823 [==============================] - 353s 18ms/step - loss: 0.4675 - acc: 0.8355 - val_loss: 0.4873 - val_acc: 0.8019\n",
      "Epoch 8/200\n",
      "19823/19823 [==============================] - 354s 18ms/step - loss: 0.4433 - acc: 0.8467 - val_loss: 0.4888 - val_acc: 0.8056\n",
      "Epoch 9/200\n",
      "19823/19823 [==============================] - 352s 18ms/step - loss: 0.4205 - acc: 0.8562 - val_loss: 0.4802 - val_acc: 0.8084\n",
      "Epoch 10/200\n",
      "19823/19823 [==============================] - 352s 18ms/step - loss: 0.4013 - acc: 0.8677 - val_loss: 0.5004 - val_acc: 0.8023\n",
      "Epoch 11/200\n",
      "19823/19823 [==============================] - 352s 18ms/step - loss: 0.3884 - acc: 0.8732 - val_loss: 0.4778 - val_acc: 0.8099\n",
      "Epoch 12/200\n",
      "19823/19823 [==============================] - 351s 18ms/step - loss: 0.3702 - acc: 0.8824 - val_loss: 0.4784 - val_acc: 0.8075\n",
      "Epoch 13/200\n",
      "19823/19823 [==============================] - 353s 18ms/step - loss: 0.3587 - acc: 0.8855 - val_loss: 0.4930 - val_acc: 0.8088\n",
      "Epoch 14/200\n",
      "19823/19823 [==============================] - 351s 18ms/step - loss: 0.3439 - acc: 0.8901 - val_loss: 0.5041 - val_acc: 0.8091\n",
      "Epoch 15/200\n",
      "19823/19823 [==============================] - 350s 18ms/step - loss: 0.3365 - acc: 0.8953 - val_loss: 0.4759 - val_acc: 0.8128\n",
      "Epoch 16/200\n",
      "19823/19823 [==============================] - 350s 18ms/step - loss: 0.3227 - acc: 0.8991 - val_loss: 0.4760 - val_acc: 0.8115\n",
      "Epoch 17/200\n",
      "19823/19823 [==============================] - 351s 18ms/step - loss: 0.3136 - acc: 0.9069 - val_loss: 0.4852 - val_acc: 0.8109\n",
      "Epoch 18/200\n",
      "19823/19823 [==============================] - 354s 18ms/step - loss: 0.2996 - acc: 0.9119 - val_loss: 0.5320 - val_acc: 0.8068\n",
      "Epoch 19/200\n",
      "19823/19823 [==============================] - 350s 18ms/step - loss: 0.2953 - acc: 0.9120 - val_loss: 0.5020 - val_acc: 0.8128\n",
      "Epoch 20/200\n",
      "19823/19823 [==============================] - 350s 18ms/step - loss: 0.2836 - acc: 0.9150 - val_loss: 0.5267 - val_acc: 0.8121\n"
     ]
    },
    {
     "data": {
      "image/png": "[encoded data removed]",
      "text/plain": [
       "<Figure size 432x288 with 2 Axes>"
      ]
     },
     "metadata": {},
     "output_type": "display_data"
    }
   ],
   "source": [
    "settings = {\n",
    "    'folder': aatm_support.next_file('./logs/word_embeddings/run', ''),\n",
    "    'embedding.units': 100,\n",
    "    'cnn.1.units': 32,\n",
    "    'cnn.1.len': 32,\n",
    "    'cnn.1.acti': 'relu',\n",
    "    'pooling.1.len': 5,\n",
    "    'lstm.1.units': 32,\n",
    "    'lstm.1.dropout': 0.4,\n",
    "    'dense.1.units': 16,\n",
    "    'dense.1.acti': 'relu',\n",
    "    'dense.1.dropout': 0.4,\n",
    "    'out.acti': 'sigmoid',\n",
    "    'lr.initial': 0.0001,\n",
    "    'epochs': 200,\n",
    "    'batch_size': 32,\n",
    "    'early_stop.monitor': 'val_loss',\n",
    "    'early_stop.min_delta': 0.001,\n",
    "    'early_stop.patience': 5,\n",
    "    'kernel.regularizer': 0.01\n",
    "}\n",
    "\n",
    "model = cnn_lstm_model(input_dim=X_train.shape[1], settings=settings)\n",
    "\n",
    "history = model.fit(\n",
    "    X_train,\n",
    "    [\n",
    "        y_train, \n",
    "    ],\n",
    "    batch_size=settings['batch_size'],\n",
    "    epochs=settings['epochs'], \n",
    "    validation_data=(\n",
    "        X_test, \n",
    "        [\n",
    "            y_test, \n",
    "        ],\n",
    "    ),\n",
    "    callbacks=[\n",
    "        EarlyStopping(\n",
    "            monitor=settings['early_stop.monitor'], \n",
    "            min_delta=settings['early_stop.min_delta'],\n",
    "            patience=settings['early_stop.patience']\n",
    "        ), \n",
    "        TensorBoardLogger(\n",
    "            log_dir=settings['folder'], \n",
    "            histogram_freq=0,\n",
    "            batch_size=settings['batch_size'], \n",
    "            write_graph=False,\n",
    "            settings_str_to_log=json.dumps(settings, ensure_ascii=False)\n",
    "        )\n",
    "    ]\n",
    ")\n",
    "\n",
    "draw_history(history)"
   ]
  },
  {
   "cell_type": "code",
   "execution_count": 41,
   "metadata": {
    "ExecuteTime": {
     "end_time": "2019-02-02T01:36:50.655481Z",
     "start_time": "2019-02-02T01:36:49.551902Z"
    }
   },
   "outputs": [
    {
     "name": "stdout",
     "output_type": "stream",
     "text": [
      "Next available file: ./models/Embedded_models/embedded_cnn_lstm/model_0.h5\n"
     ]
    }
   ],
   "source": [
    "# Run this to save a model after training\n",
    "model.save(aatm_support.next_file('./models/Embedded_models/embedded_cnn_lstm/model', '.h5'))"
   ]
  },
  {
   "cell_type": "code",
   "execution_count": 42,
   "metadata": {
    "ExecuteTime": {
     "end_time": "2019-02-02T01:36:57.506696Z",
     "start_time": "2019-02-02T01:36:50.657615Z"
    }
   },
   "outputs": [
    {
     "name": "stdout",
     "output_type": "stream",
     "text": [
      "acc: 50.80%\n"
     ]
    }
   ],
   "source": [
    "# Test model on pan2018 data\n",
    "scores = model.evaluate(val_text, val_label, verbose=0)\n",
    "print(\"%s: %.2f%%\" % (model.metrics_names[1], scores[1]*100))"
   ]
  },
  {
   "cell_type": "markdown",
   "metadata": {},
   "source": [
    "## Compare pretrained embedded layer with self learned layer"
   ]
  },
  {
   "cell_type": "code",
   "execution_count": 50,
   "metadata": {
    "ExecuteTime": {
     "end_time": "2019-02-02T09:21:34.880383Z",
     "start_time": "2019-02-02T09:21:24.836735Z"
    }
   },
   "outputs": [
    {
     "name": "stdout",
     "output_type": "stream",
     "text": [
      "Found 400000 word vectors.\n"
     ]
    }
   ],
   "source": [
    "# Get Glove weights\n",
    "glove_dir = './/glove.6B'\n",
    "\n",
    "embeddings_index = {}\n",
    "f = open(os.path.join(glove_dir, 'glove.6B.100d.txt'),'r', encoding='utf8')\n",
    "for line in f:\n",
    "    values = line.split(' ')\n",
    "    word = values[0]\n",
    "    coefs = np.asarray(values[1:], dtype='float32')\n",
    "    embeddings_index[word] = coefs\n",
    "f.close()\n",
    "\n",
    "print('Found %s word vectors.' % len(embeddings_index))\n"
   ]
  },
  {
   "cell_type": "code",
   "execution_count": 51,
   "metadata": {
    "ExecuteTime": {
     "end_time": "2019-02-02T09:27:34.010653Z",
     "start_time": "2019-02-02T09:27:19.133461Z"
    }
   },
   "outputs": [
    {
     "data": {
      "text/plain": [
       "array([[ 0.        ,  0.        ,  0.        , ...,  0.        ,\n",
       "         0.        ,  0.        ],\n",
       "       [-0.038194  , -0.24487001,  0.72812003, ..., -0.1459    ,\n",
       "         0.82779998,  0.27061999],\n",
       "       [-0.18970001,  0.050024  ,  0.19084001, ..., -0.39804   ,\n",
       "         0.47646999, -0.15983   ],\n",
       "       ...,\n",
       "       [ 0.        ,  0.        ,  0.        , ...,  0.        ,\n",
       "         0.        ,  0.        ],\n",
       "       [-0.50269002,  0.056798  ,  0.21261001, ...,  0.085045  ,\n",
       "         0.60573   , -0.73576999],\n",
       "       [ 0.70137   , -0.51065999,  0.16745   , ...,  0.57358998,\n",
       "        -0.15755001, -0.23511   ]])"
      ]
     },
     "execution_count": 51,
     "metadata": {},
     "output_type": "execute_result"
    }
   ],
   "source": [
    "# build embedding matrix\n",
    "embedding_dim = 100\n",
    " # Train Tokenizer\n",
    "tok = Tokenizer(num_words=max_words)\n",
    "tok.fit_on_texts(serie_texts)\n",
    "word_index=tok.word_index\n",
    "embedding_matrix = np.zeros((max_words, embedding_dim))\n",
    "for word, i in word_index.items():\n",
    "    embedding_vector = embeddings_index.get(word)\n",
    "    if i < max_words:\n",
    "        if embedding_vector is not None:\n",
    "            # Words not found in embedding index will be all-zeros.\n",
    "            embedding_matrix[i] = embedding_vector\n",
    "            \n",
    "embedding_matrix"
   ]
  },
  {
   "cell_type": "code",
   "execution_count": 55,
   "metadata": {
    "ExecuteTime": {
     "end_time": "2019-02-02T12:01:23.900335Z",
     "start_time": "2019-02-02T09:45:29.965731Z"
    },
    "scrolled": true
   },
   "outputs": [
    {
     "name": "stdout",
     "output_type": "stream",
     "text": [
      "Next available file: ./logs/word_embeddings/run_10\n",
      "_________________________________________________________________\n",
      "Layer (type)                 Output Shape              Param #   \n",
      "=================================================================\n",
      "inputs (InputLayer)          (None, 1000)              0         \n",
      "_________________________________________________________________\n",
      "embedding_11 (Embedding)     (None, 1000, 100)         1000000   \n",
      "_________________________________________________________________\n",
      "conv1d_9 (Conv1D)            (None, 969, 32)           102432    \n",
      "_________________________________________________________________\n",
      "max_pooling1d_9 (MaxPooling1 (None, 193, 32)           0         \n",
      "_________________________________________________________________\n",
      "lstm_9 (LSTM)                (None, 32)                8320      \n",
      "_________________________________________________________________\n",
      "dropout_24 (Dropout)         (None, 32)                0         \n",
      "_________________________________________________________________\n",
      "dense_25 (Dense)             (None, 16)                528       \n",
      "_________________________________________________________________\n",
      "dense_26 (Dense)             (None, 16)                272       \n",
      "_________________________________________________________________\n",
      "dropout_25 (Dropout)         (None, 16)                0         \n",
      "_________________________________________________________________\n",
      "main_output (Dense)          (None, 1)                 17        \n",
      "=================================================================\n",
      "Total params: 1,111,569\n",
      "Trainable params: 1,111,569\n",
      "Non-trainable params: 0\n",
      "_________________________________________________________________\n",
      "Train on 19823 samples, validate on 9765 samples\n",
      "Epoch 1/200\n",
      "19823/19823 [==============================] - 320s 16ms/step - loss: 0.9846 - acc: 0.5071 - val_loss: 0.9234 - val_acc: 0.5040\n",
      "Epoch 2/200\n",
      "19823/19823 [==============================] - 318s 16ms/step - loss: 0.8670 - acc: 0.5770 - val_loss: 0.7896 - val_acc: 0.6821\n",
      "Epoch 3/200\n",
      "19823/19823 [==============================] - 323s 16ms/step - loss: 0.7745 - acc: 0.6289 - val_loss: 0.7132 - val_acc: 0.6800\n",
      "Epoch 4/200\n",
      "19823/19823 [==============================] - 314s 16ms/step - loss: 0.7070 - acc: 0.6638 - val_loss: 0.6485 - val_acc: 0.7009\n",
      "Epoch 5/200\n",
      "19823/19823 [==============================] - 322s 16ms/step - loss: 0.6541 - acc: 0.6927 - val_loss: 0.6127 - val_acc: 0.7136\n",
      "Epoch 6/200\n",
      "19823/19823 [==============================] - 315s 16ms/step - loss: 0.6224 - acc: 0.7072 - val_loss: 0.5913 - val_acc: 0.7290\n",
      "Epoch 7/200\n",
      "19823/19823 [==============================] - 324s 16ms/step - loss: 0.6015 - acc: 0.7217 - val_loss: 0.5865 - val_acc: 0.7156\n",
      "Epoch 8/200\n",
      "19823/19823 [==============================] - 313s 16ms/step - loss: 0.5754 - acc: 0.7346 - val_loss: 0.5641 - val_acc: 0.7411\n",
      "Epoch 9/200\n",
      "19823/19823 [==============================] - 315s 16ms/step - loss: 0.5599 - acc: 0.7444 - val_loss: 0.5277 - val_acc: 0.7664\n",
      "Epoch 10/200\n",
      "19823/19823 [==============================] - 312s 16ms/step - loss: 0.5454 - acc: 0.7545 - val_loss: 0.5334 - val_acc: 0.7602\n",
      "Epoch 11/200\n",
      "19823/19823 [==============================] - 315s 16ms/step - loss: 0.5296 - acc: 0.7644 - val_loss: 0.5524 - val_acc: 0.7454\n",
      "Epoch 12/200\n",
      "19823/19823 [==============================] - 315s 16ms/step - loss: 0.5135 - acc: 0.7761 - val_loss: 0.5252 - val_acc: 0.7585\n",
      "Epoch 13/200\n",
      "19823/19823 [==============================] - 315s 16ms/step - loss: 0.4970 - acc: 0.7880 - val_loss: 0.4864 - val_acc: 0.7930\n",
      "Epoch 14/200\n",
      "19823/19823 [==============================] - 315s 16ms/step - loss: 0.4797 - acc: 0.7995 - val_loss: 0.5614 - val_acc: 0.7375\n",
      "Epoch 15/200\n",
      "19823/19823 [==============================] - 307s 16ms/step - loss: 0.4647 - acc: 0.8084 - val_loss: 0.4935 - val_acc: 0.7834\n",
      "Epoch 16/200\n",
      "19823/19823 [==============================] - 309s 16ms/step - loss: 0.4456 - acc: 0.8177 - val_loss: 0.4977 - val_acc: 0.7810\n",
      "Epoch 17/200\n",
      "19823/19823 [==============================] - 310s 16ms/step - loss: 0.4286 - acc: 0.8303 - val_loss: 0.4622 - val_acc: 0.8048\n",
      "Epoch 18/200\n",
      "19823/19823 [==============================] - 306s 15ms/step - loss: 0.4097 - acc: 0.8387 - val_loss: 0.5056 - val_acc: 0.7771\n",
      "Epoch 19/200\n",
      "19823/19823 [==============================] - 308s 16ms/step - loss: 0.3927 - acc: 0.8500 - val_loss: 0.4935 - val_acc: 0.7932\n",
      "Epoch 20/200\n",
      "19823/19823 [==============================] - 312s 16ms/step - loss: 0.3683 - acc: 0.8607 - val_loss: 0.4819 - val_acc: 0.7995\n",
      "Epoch 21/200\n",
      "19823/19823 [==============================] - 307s 16ms/step - loss: 0.3519 - acc: 0.8713 - val_loss: 0.4532 - val_acc: 0.8171\n",
      "Epoch 22/200\n",
      "19823/19823 [==============================] - 310s 16ms/step - loss: 0.3348 - acc: 0.8779 - val_loss: 0.4685 - val_acc: 0.8091\n",
      "Epoch 23/200\n",
      "19823/19823 [==============================] - 313s 16ms/step - loss: 0.3175 - acc: 0.8899 - val_loss: 0.4679 - val_acc: 0.8135\n",
      "Epoch 24/200\n",
      "19823/19823 [==============================] - 315s 16ms/step - loss: 0.3006 - acc: 0.8973 - val_loss: 0.4665 - val_acc: 0.8135\n",
      "Epoch 25/200\n",
      "19823/19823 [==============================] - 311s 16ms/step - loss: 0.2854 - acc: 0.9034 - val_loss: 0.5853 - val_acc: 0.7795\n",
      "Epoch 26/200\n",
      "19823/19823 [==============================] - 302s 15ms/step - loss: 0.2735 - acc: 0.9101 - val_loss: 0.4936 - val_acc: 0.8091\n"
     ]
    },
    {
     "data": {
      "image/png": "[encoded data removed]",
      "text/plain": [
       "<Figure size 432x288 with 2 Axes>"
      ]
     },
     "metadata": {},
     "output_type": "display_data"
    }
   ],
   "source": [
    "settings = {\n",
    "    'folder': aatm_support.next_file('./logs/word_embeddings/run', ''),\n",
    "    'embedding.units': embedding_dim,\n",
    "    'cnn.1.units': 32,\n",
    "    'cnn.1.len': 32,\n",
    "    'cnn.1.acti': 'relu',\n",
    "    'pooling.1.len': 5,\n",
    "    'lstm.1.units': 32,\n",
    "    'lstm.1.dropout': 0.2,\n",
    "    'dense.1.units': 16,\n",
    "    'dense.1.acti': 'relu',\n",
    "    'dense.1.dropout': 0.2,\n",
    "    'out.acti': 'sigmoid',\n",
    "    'lr.initial': 0.0001,\n",
    "    'epochs': 200,\n",
    "    'batch_size': 32,\n",
    "    'early_stop.monitor': 'val_loss',\n",
    "    'early_stop.min_delta': 0.001,\n",
    "    'early_stop.patience': 5,\n",
    "    'kernel.regularizer': 0.01\n",
    "}\n",
    "\n",
    "model = cnn_lstm_model(input_dim=X_train.shape[1], settings=settings)\n",
    "\n",
    "#Freeze layer\n",
    "model.layers[1].set_weights([embedding_matrix])\n",
    "model.layers[1].trainable=False\n",
    "\n",
    "model.compile(\n",
    "    optimizer=RMSprop(lr=settings['lr.initial']),\n",
    "    loss={\n",
    "        'main_output': 'binary_crossentropy',\n",
    "    },\n",
    "    loss_weights={\n",
    "        'main_output': 1., \n",
    "    },\n",
    "    metrics=['accuracy']\n",
    ")\n",
    "\n",
    "history = model.fit(\n",
    "    X_train,\n",
    "    [\n",
    "        y_train, \n",
    "    ],\n",
    "    batch_size=settings['batch_size'],\n",
    "    epochs=settings['epochs'], \n",
    "    validation_data=(\n",
    "        X_test, \n",
    "        [\n",
    "            y_test, \n",
    "        ],\n",
    "    ),\n",
    "    callbacks=[\n",
    "        EarlyStopping(\n",
    "            monitor=settings['early_stop.monitor'], \n",
    "            min_delta=settings['early_stop.min_delta'],\n",
    "            patience=settings['early_stop.patience']\n",
    "        ), \n",
    "        TensorBoardLogger(\n",
    "            log_dir=settings['folder'], \n",
    "            histogram_freq=0,\n",
    "            batch_size=settings['batch_size'], \n",
    "            write_graph=False,\n",
    "            settings_str_to_log=json.dumps(settings, ensure_ascii=False)\n",
    "        )\n",
    "    ]\n",
    ")\n",
    "\n",
    "draw_history(history)"
   ]
  },
  {
   "cell_type": "code",
   "execution_count": 56,
   "metadata": {
    "ExecuteTime": {
     "end_time": "2019-02-02T12:18:19.570385Z",
     "start_time": "2019-02-02T12:18:17.323813Z"
    }
   },
   "outputs": [
    {
     "name": "stdout",
     "output_type": "stream",
     "text": [
      "Next available file: ./models/Embedded_models/pretrained_embedded_cnn_lstm/model_0.h5\n"
     ]
    }
   ],
   "source": [
    "# Run this to save a model after training\n",
    "model.save(aatm_support.next_file('./models/Embedded_models/pretrained_embedded_cnn_lstm/model', '.h5'))"
   ]
  },
  {
   "cell_type": "code",
   "execution_count": 57,
   "metadata": {
    "ExecuteTime": {
     "end_time": "2019-02-02T12:23:50.090190Z",
     "start_time": "2019-02-02T12:23:44.014956Z"
    }
   },
   "outputs": [
    {
     "name": "stdout",
     "output_type": "stream",
     "text": [
      "acc: 54.22%\n"
     ]
    }
   ],
   "source": [
    "# Test model on pan2018 data\n",
    "scores = model.evaluate(val_text, val_label, verbose=0)\n",
    "print(\"%s: %.2f%%\" % (model.metrics_names[1], scores[1]*100))"
   ]
  },
  {
   "cell_type": "markdown",
   "metadata": {},
   "source": [
    "## Train CNN-LSTM-Model on Pan"
   ]
  },
  {
   "cell_type": "code",
   "execution_count": 47,
   "metadata": {
    "ExecuteTime": {
     "end_time": "2019-02-02T09:17:10.131208Z",
     "start_time": "2019-02-02T08:52:30.191853Z"
    }
   },
   "outputs": [
    {
     "name": "stdout",
     "output_type": "stream",
     "text": [
      "Next available file: ./logs/word_embeddings/run_7\n",
      "_________________________________________________________________\n",
      "Layer (type)                 Output Shape              Param #   \n",
      "=================================================================\n",
      "inputs (InputLayer)          (None, 1000)              0         \n",
      "_________________________________________________________________\n",
      "embedding_7 (Embedding)      (None, 1000, 100)         1000000   \n",
      "_________________________________________________________________\n",
      "conv1d_5 (Conv1D)            (None, 969, 32)           102432    \n",
      "_________________________________________________________________\n",
      "max_pooling1d_5 (MaxPooling1 (None, 193, 32)           0         \n",
      "_________________________________________________________________\n",
      "lstm_5 (LSTM)                (None, 32)                8320      \n",
      "_________________________________________________________________\n",
      "dropout_16 (Dropout)         (None, 32)                0         \n",
      "_________________________________________________________________\n",
      "dense_17 (Dense)             (None, 16)                528       \n",
      "_________________________________________________________________\n",
      "dense_18 (Dense)             (None, 16)                272       \n",
      "_________________________________________________________________\n",
      "dropout_17 (Dropout)         (None, 16)                0         \n",
      "_________________________________________________________________\n",
      "main_output (Dense)          (None, 1)                 17        \n",
      "=================================================================\n",
      "Total params: 1,111,569\n",
      "Trainable params: 1,111,569\n",
      "Non-trainable params: 0\n",
      "_________________________________________________________________\n",
      "Train on 2980 samples, validate on 1492 samples\n",
      "Epoch 1/200\n",
      "2980/2980 [==============================] - 57s 19ms/step - loss: 1.0505 - acc: 0.5164 - val_loss: 1.0374 - val_acc: 0.5114\n",
      "Epoch 2/200\n",
      "2980/2980 [==============================] - 60s 20ms/step - loss: 1.0254 - acc: 0.5010 - val_loss: 1.0128 - val_acc: 0.5094\n",
      "Epoch 3/200\n",
      "2980/2980 [==============================] - 62s 21ms/step - loss: 1.0010 - acc: 0.5077 - val_loss: 0.9894 - val_acc: 0.5027\n",
      "Epoch 4/200\n",
      "2980/2980 [==============================] - 61s 20ms/step - loss: 0.9781 - acc: 0.4960 - val_loss: 0.9671 - val_acc: 0.5007\n",
      "Epoch 5/200\n",
      "2980/2980 [==============================] - 60s 20ms/step - loss: 0.9563 - acc: 0.5057 - val_loss: 0.9460 - val_acc: 0.4933\n",
      "Epoch 6/200\n",
      "2980/2980 [==============================] - 58s 19ms/step - loss: 0.9352 - acc: 0.5379 - val_loss: 0.9260 - val_acc: 0.5201\n",
      "Epoch 7/200\n",
      "2980/2980 [==============================] - 61s 21ms/step - loss: 0.9159 - acc: 0.5262 - val_loss: 0.9071 - val_acc: 0.5127\n",
      "Epoch 8/200\n",
      "2980/2980 [==============================] - 61s 20ms/step - loss: 0.8971 - acc: 0.5423 - val_loss: 0.8892 - val_acc: 0.5007\n",
      "Epoch 9/200\n",
      "2980/2980 [==============================] - 60s 20ms/step - loss: 0.8797 - acc: 0.5480 - val_loss: 0.8725 - val_acc: 0.5114\n",
      "Epoch 10/200\n",
      "2980/2980 [==============================] - 59s 20ms/step - loss: 0.8623 - acc: 0.5705 - val_loss: 0.8569 - val_acc: 0.5000\n",
      "Epoch 11/200\n",
      "2980/2980 [==============================] - 58s 20ms/step - loss: 0.8465 - acc: 0.5789 - val_loss: 0.8423 - val_acc: 0.5121\n",
      "Epoch 12/200\n",
      "2980/2980 [==============================] - 58s 19ms/step - loss: 0.8312 - acc: 0.6081 - val_loss: 0.8287 - val_acc: 0.5034\n",
      "Epoch 13/200\n",
      "2980/2980 [==============================] - 57s 19ms/step - loss: 0.8152 - acc: 0.6346 - val_loss: 0.8162 - val_acc: 0.5040\n",
      "Epoch 14/200\n",
      "2980/2980 [==============================] - 59s 20ms/step - loss: 0.8009 - acc: 0.6399 - val_loss: 0.8047 - val_acc: 0.5221\n",
      "Epoch 15/200\n",
      "2980/2980 [==============================] - 60s 20ms/step - loss: 0.7832 - acc: 0.6768 - val_loss: 0.7945 - val_acc: 0.5221\n",
      "Epoch 16/200\n",
      "2980/2980 [==============================] - 61s 20ms/step - loss: 0.7642 - acc: 0.6799 - val_loss: 0.7847 - val_acc: 0.5161\n",
      "Epoch 17/200\n",
      "2980/2980 [==============================] - 58s 20ms/step - loss: 0.7388 - acc: 0.7215 - val_loss: 0.7768 - val_acc: 0.5382\n",
      "Epoch 18/200\n",
      "2980/2980 [==============================] - 58s 20ms/step - loss: 0.7133 - acc: 0.7295 - val_loss: 0.7703 - val_acc: 0.5422\n",
      "Epoch 19/200\n",
      "2980/2980 [==============================] - 58s 19ms/step - loss: 0.6808 - acc: 0.7688 - val_loss: 0.7780 - val_acc: 0.5456\n",
      "Epoch 20/200\n",
      "2980/2980 [==============================] - 58s 20ms/step - loss: 0.6526 - acc: 0.7966 - val_loss: 0.7601 - val_acc: 0.5529\n",
      "Epoch 21/200\n",
      "2980/2980 [==============================] - 58s 19ms/step - loss: 0.6222 - acc: 0.8101 - val_loss: 0.7654 - val_acc: 0.5630\n",
      "Epoch 22/200\n",
      "2980/2980 [==============================] - 58s 20ms/step - loss: 0.5895 - acc: 0.8198 - val_loss: 0.7651 - val_acc: 0.5509\n",
      "Epoch 23/200\n",
      "2980/2980 [==============================] - 58s 20ms/step - loss: 0.5536 - acc: 0.8446 - val_loss: 0.7785 - val_acc: 0.5503\n",
      "Epoch 24/200\n",
      "2980/2980 [==============================] - 58s 20ms/step - loss: 0.5052 - acc: 0.8664 - val_loss: 0.7988 - val_acc: 0.5657\n",
      "Epoch 25/200\n",
      "2980/2980 [==============================] - 58s 20ms/step - loss: 0.4689 - acc: 0.8822 - val_loss: 0.8176 - val_acc: 0.5643\n"
     ]
    },
    {
     "data": {
      "image/png": "[encoded data removed]",
      "text/plain": [
       "<Figure size 432x288 with 2 Axes>"
      ]
     },
     "metadata": {},
     "output_type": "display_data"
    }
   ],
   "source": [
    "settings = {\n",
    "    'folder': aatm_support.next_file('./logs/word_embeddings/run', ''),\n",
    "    'embedding.units': 100,\n",
    "    'cnn.1.units': 32,\n",
    "    'cnn.1.len': 32,\n",
    "    'cnn.1.acti': 'relu',\n",
    "    'pooling.1.len': 5,\n",
    "    'lstm.1.units': 32,\n",
    "    'lstm.1.dropout': 0.4,\n",
    "    'dense.1.units': 16,\n",
    "    'dense.1.acti': 'relu',\n",
    "    'dense.1.dropout': 0.4,\n",
    "    'out.acti': 'sigmoid',\n",
    "    'lr.initial': 0.0001,\n",
    "    'epochs': 200,\n",
    "    'batch_size': 32,\n",
    "    'early_stop.monitor': 'val_loss',\n",
    "    'early_stop.min_delta': 0.001,\n",
    "    'early_stop.patience': 5,\n",
    "    'kernel.regularizer': 0.01\n",
    "}\n",
    "\n",
    "model = cnn_lstm_model(input_dim=pan_text.shape[1], settings=settings)\n",
    "\n",
    "history = model.fit(\n",
    "    pan_text,\n",
    "    [\n",
    "        pan_label, \n",
    "    ],\n",
    "    batch_size=settings['batch_size'],\n",
    "    epochs=settings['epochs'], \n",
    "    validation_data=(\n",
    "        val_text, \n",
    "        [\n",
    "            val_label, \n",
    "        ],\n",
    "    ),\n",
    "    callbacks=[\n",
    "        EarlyStopping(\n",
    "            monitor=settings['early_stop.monitor'], \n",
    "            min_delta=settings['early_stop.min_delta'],\n",
    "            patience=settings['early_stop.patience']\n",
    "        ), \n",
    "        TensorBoardLogger(\n",
    "            log_dir=settings['folder'], \n",
    "            histogram_freq=0,\n",
    "            batch_size=settings['batch_size'], \n",
    "            write_graph=False,\n",
    "            settings_str_to_log=json.dumps(settings, ensure_ascii=False)\n",
    "        )\n",
    "    ]\n",
    ")\n",
    "\n",
    "draw_history(history)"
   ]
  },
  {
   "cell_type": "code",
   "execution_count": 48,
   "metadata": {
    "ExecuteTime": {
     "end_time": "2019-02-02T09:20:51.870319Z",
     "start_time": "2019-02-02T09:20:50.498141Z"
    }
   },
   "outputs": [
    {
     "name": "stdout",
     "output_type": "stream",
     "text": [
      "Next available file: ./models/Embedded_models/pan_embedding_cnn_lstm/model_1.h5\n"
     ]
    }
   ],
   "source": [
    "# Run this to save a model after training\n",
    "model.save(aatm_support.next_file('./models/Embedded_models/pan_embedding_cnn_lstm/model', '.h5'))"
   ]
  },
  {
   "cell_type": "code",
   "execution_count": 49,
   "metadata": {
    "ExecuteTime": {
     "end_time": "2019-02-02T09:20:58.492853Z",
     "start_time": "2019-02-02T09:20:52.570470Z"
    }
   },
   "outputs": [
    {
     "name": "stdout",
     "output_type": "stream",
     "text": [
      "acc: 56.43%\n"
     ]
    }
   ],
   "source": [
    "# Test model on pan2018 data\n",
    "scores = model.evaluate(val_text, val_label, verbose=0)\n",
    "print(\"%s: %.2f%%\" % (model.metrics_names[1], scores[1]*100))"
   ]
  },
  {
   "cell_type": "code",
   "execution_count": null,
   "metadata": {},
   "outputs": [],
   "source": []
  }
 ],
 "metadata": {
  "kernelspec": {
   "display_name": "Python 3",
   "language": "python",
   "name": "python3"
  },
  "language_info": {
   "codemirror_mode": {
    "name": "ipython",
    "version": 3
   },
   "file_extension": ".py",
   "mimetype": "text/x-python",
   "name": "python",
   "nbconvert_exporter": "python",
   "pygments_lexer": "ipython3",
   "version": "3.6.5"
  },
  "toc": {
   "base_numbering": 1,
   "nav_menu": {},
   "number_sections": true,
   "sideBar": true,
   "skip_h1_title": true,
   "title_cell": "Table of Contents",
   "title_sidebar": "Contents",
   "toc_cell": true,
   "toc_position": {
    "height": "calc(100% - 180px)",
    "left": "10px",
    "top": "150px",
    "width": "384px"
   },
   "toc_section_display": true,
   "toc_window_display": true
  },
  "varInspector": {
   "cols": {
    "lenName": 16,
    "lenType": 16,
    "lenVar": 40
   },
   "kernels_config": {
    "python": {
     "delete_cmd_postfix": "",
     "delete_cmd_prefix": "del ",
     "library": "var_list.py",
     "varRefreshCmd": "print(var_dic_list())"
    },
    "r": {
     "delete_cmd_postfix": ") ",
     "delete_cmd_prefix": "rm(",
     "library": "var_list.r",
     "varRefreshCmd": "cat(var_dic_list()) "
    }
   },
   "types_to_exclude": [
    "module",
    "function",
    "builtin_function_or_method",
    "instance",
    "_Feature"
   ],
   "window_display": false
  }
 },
 "nbformat": 4,
 "nbformat_minor": 2
}
