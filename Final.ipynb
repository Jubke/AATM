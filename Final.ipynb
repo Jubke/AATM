{
 "cells": [
  {
   "cell_type": "markdown",
   "metadata": {},
   "source": [
    "# Identifikation von Texten mit geteilter Autorenschaft"
   ]
  },
  {
   "cell_type": "markdown",
   "metadata": {
    "toc": true
   },
   "source": [
    "<h1>Inhaltsverzeichnis<span class=\"tocSkip\"></span></h1>\n",
    "<div class=\"toc\"><ul class=\"toc-item\"><li><span><a href=\"#Abstract\" data-toc-modified-id=\"Abstract-1\"><span class=\"toc-item-num\">1&nbsp;&nbsp;</span>Abstract</a></span></li><li><span><a href=\"#Einführung\" data-toc-modified-id=\"Einführung-2\"><span class=\"toc-item-num\">2&nbsp;&nbsp;</span>Einführung</a></span><ul class=\"toc-item\"><li><span><a href=\"#Motivation\" data-toc-modified-id=\"Motivation-2.1\"><span class=\"toc-item-num\">2.1&nbsp;&nbsp;</span>Motivation</a></span></li><li><span><a href=\"#Problemstellung\" data-toc-modified-id=\"Problemstellung-2.2\"><span class=\"toc-item-num\">2.2&nbsp;&nbsp;</span>Problemstellung</a></span></li><li><span><a href=\"#Vorgehen\" data-toc-modified-id=\"Vorgehen-2.3\"><span class=\"toc-item-num\">2.3&nbsp;&nbsp;</span>Vorgehen</a></span></li><li><span><a href=\"#Related-Research\" data-toc-modified-id=\"Related-Research-2.4\"><span class=\"toc-item-num\">2.4&nbsp;&nbsp;</span>Related Research</a></span></li><li><span><a href=\"#Theorie\" data-toc-modified-id=\"Theorie-2.5\"><span class=\"toc-item-num\">2.5&nbsp;&nbsp;</span>Theorie</a></span><ul class=\"toc-item\"><li><span><a href=\"#Features\" data-toc-modified-id=\"Features-2.5.1\"><span class=\"toc-item-num\">2.5.1&nbsp;&nbsp;</span>Features</a></span></li></ul></li><li><span><a href=\"#Notebook-Vorbereitung\" data-toc-modified-id=\"Notebook-Vorbereitung-2.6\"><span class=\"toc-item-num\">2.6&nbsp;&nbsp;</span>Notebook Vorbereitung</a></span><ul class=\"toc-item\"><li><span><a href=\"#Laden-eigener-Module\" data-toc-modified-id=\"Laden-eigener-Module-2.6.1\"><span class=\"toc-item-num\">2.6.1&nbsp;&nbsp;</span>Laden eigener Module</a></span></li><li><span><a href=\"#Laden-von-externen-Bibliotheken\" data-toc-modified-id=\"Laden-von-externen-Bibliotheken-2.6.2\"><span class=\"toc-item-num\">2.6.2&nbsp;&nbsp;</span>Laden von externen Bibliotheken</a></span></li><li><span><a href=\"#Globale-Intialisierungen\" data-toc-modified-id=\"Globale-Intialisierungen-2.6.3\"><span class=\"toc-item-num\">2.6.3&nbsp;&nbsp;</span>Globale Intialisierungen</a></span></li></ul></li></ul></li><li><span><a href=\"#Verwendete-Datensätze\" data-toc-modified-id=\"Verwendete-Datensätze-3\"><span class=\"toc-item-num\">3&nbsp;&nbsp;</span>Verwendete Datensätze</a></span><ul class=\"toc-item\"><li><span><a href=\"#CMU-Book-Summary-Datensatz\" data-toc-modified-id=\"CMU-Book-Summary-Datensatz-3.1\"><span class=\"toc-item-num\">3.1&nbsp;&nbsp;</span>CMU Book Summary Datensatz</a></span></li><li><span><a href=\"#Konstruktion-von-gelabelten-Daten\" data-toc-modified-id=\"Konstruktion-von-gelabelten-Daten-3.2\"><span class=\"toc-item-num\">3.2&nbsp;&nbsp;</span>Konstruktion von gelabelten Daten</a></span><ul class=\"toc-item\"><li><span><a href=\"#Kombinatorische-Variablen\" data-toc-modified-id=\"Kombinatorische-Variablen-3.2.1\"><span class=\"toc-item-num\">3.2.1&nbsp;&nbsp;</span>Kombinatorische Variablen</a></span></li><li><span><a href=\"#Ähnlichkeitsmaß\" data-toc-modified-id=\"Ähnlichkeitsmaß-3.2.2\"><span class=\"toc-item-num\">3.2.2&nbsp;&nbsp;</span>Ähnlichkeitsmaß</a></span></li><li><span><a href=\"#Konstruktion-von-Datensätzen\" data-toc-modified-id=\"Konstruktion-von-Datensätzen-3.2.3\"><span class=\"toc-item-num\">3.2.3&nbsp;&nbsp;</span>Konstruktion von Datensätzen</a></span><ul class=\"toc-item\"><li><span><a href=\"#Book-Summary-1\" data-toc-modified-id=\"Book-Summary-1-3.2.3.1\"><span class=\"toc-item-num\">3.2.3.1&nbsp;&nbsp;</span>Book Summary 1</a></span></li><li><span><a href=\"#Book-Summary-2\" data-toc-modified-id=\"Book-Summary-2-3.2.3.2\"><span class=\"toc-item-num\">3.2.3.2&nbsp;&nbsp;</span>Book Summary 2</a></span></li></ul></li></ul></li><li><span><a href=\"#Alternativer-Datensatz-zur-Verifikation-der-verwendeten-Ansätze\" data-toc-modified-id=\"Alternativer-Datensatz-zur-Verifikation-der-verwendeten-Ansätze-3.3\"><span class=\"toc-item-num\">3.3&nbsp;&nbsp;</span>Alternativer Datensatz zur Verifikation der verwendeten Ansätze</a></span></li></ul></li><li><span><a href=\"#Text-Repräsentation\" data-toc-modified-id=\"Text-Repräsentation-4\"><span class=\"toc-item-num\">4&nbsp;&nbsp;</span>Text Repräsentation</a></span><ul class=\"toc-item\"><li><span><a href=\"#Feature-Auswahl\" data-toc-modified-id=\"Feature-Auswahl-4.1\"><span class=\"toc-item-num\">4.1&nbsp;&nbsp;</span>Feature Auswahl</a></span><ul class=\"toc-item\"><li><span><a href=\"#Konfiguration\" data-toc-modified-id=\"Konfiguration-4.1.1\"><span class=\"toc-item-num\">4.1.1&nbsp;&nbsp;</span>Konfiguration</a></span></li><li><span><a href=\"#Durchführung\" data-toc-modified-id=\"Durchführung-4.1.2\"><span class=\"toc-item-num\">4.1.2&nbsp;&nbsp;</span>Durchführung</a></span></li></ul></li><li><span><a href=\"#Feature-Berechnung\" data-toc-modified-id=\"Feature-Berechnung-4.2\"><span class=\"toc-item-num\">4.2&nbsp;&nbsp;</span>Feature Berechnung</a></span></li></ul></li><li><span><a href=\"#Identifikation-von-Texten-mit-geteilter-Autorenschaft\" data-toc-modified-id=\"Identifikation-von-Texten-mit-geteilter-Autorenschaft-5\"><span class=\"toc-item-num\">5&nbsp;&nbsp;</span>Identifikation von Texten mit geteilter Autorenschaft</a></span><ul class=\"toc-item\"><li><span><a href=\"#Verwendete-Evaluations-Metrik\" data-toc-modified-id=\"Verwendete-Evaluations-Metrik-5.1\"><span class=\"toc-item-num\">5.1&nbsp;&nbsp;</span>Verwendete Evaluations-Metrik</a></span></li><li><span><a href=\"#Baseline\" data-toc-modified-id=\"Baseline-5.2\"><span class=\"toc-item-num\">5.2&nbsp;&nbsp;</span>Baseline</a></span></li><li><span><a href=\"#Ansatz-1:-Bi-direktionale-LSTM-Netze-basierend-auf-lexikalischen-und-syntaktischen-Merkmalen\" data-toc-modified-id=\"Ansatz-1:-Bi-direktionale-LSTM-Netze-basierend-auf-lexikalischen-und-syntaktischen-Merkmalen-5.3\"><span class=\"toc-item-num\">5.3&nbsp;&nbsp;</span>Ansatz 1: Bi-direktionale LSTM Netze basierend auf lexikalischen und syntaktischen Merkmalen</a></span><ul class=\"toc-item\"><li><span><a href=\"#Segmentierung-von-Texten\" data-toc-modified-id=\"Segmentierung-von-Texten-5.3.1\"><span class=\"toc-item-num\">5.3.1&nbsp;&nbsp;</span>Segmentierung von Texten</a></span></li><li><span><a href=\"#Aufbau-des-Modells\" data-toc-modified-id=\"Aufbau-des-Modells-5.3.2\"><span class=\"toc-item-num\">5.3.2&nbsp;&nbsp;</span>Aufbau des Modells</a></span></li><li><span><a href=\"#Training-mit-dem-Book-Summary-2-Datensatz\" data-toc-modified-id=\"Training-mit-dem-Book-Summary-2-Datensatz-5.3.3\"><span class=\"toc-item-num\">5.3.3&nbsp;&nbsp;</span>Training mit dem Book Summary 2 Datensatz</a></span></li><li><span><a href=\"#Training-mit-dem-PAN-Datensatz\" data-toc-modified-id=\"Training-mit-dem-PAN-Datensatz-5.3.4\"><span class=\"toc-item-num\">5.3.4&nbsp;&nbsp;</span>Training mit dem PAN Datensatz</a></span></li><li><span><a href=\"#Evaluation-der-trainierten-Modelle\" data-toc-modified-id=\"Evaluation-der-trainierten-Modelle-5.3.5\"><span class=\"toc-item-num\">5.3.5&nbsp;&nbsp;</span>Evaluation der trainierten Modelle</a></span></li></ul></li><li><span><a href=\"#Ansatz-2:-Parallele-LSTM-Netze-zum-Vergleich-temporal-gegensätzlicher-Stilentwicklungen\" data-toc-modified-id=\"Ansatz-2:-Parallele-LSTM-Netze-zum-Vergleich-temporal-gegensätzlicher-Stilentwicklungen-5.4\"><span class=\"toc-item-num\">5.4&nbsp;&nbsp;</span>Ansatz 2: Parallele LSTM Netze zum Vergleich temporal gegensätzlicher Stilentwicklungen</a></span><ul class=\"toc-item\"><li><span><a href=\"#Segmentierung-von-Texten\" data-toc-modified-id=\"Segmentierung-von-Texten-5.4.1\"><span class=\"toc-item-num\">5.4.1&nbsp;&nbsp;</span>Segmentierung von Texten</a></span></li><li><span><a href=\"#Aufbau-des-Modells\" data-toc-modified-id=\"Aufbau-des-Modells-5.4.2\"><span class=\"toc-item-num\">5.4.2&nbsp;&nbsp;</span>Aufbau des Modells</a></span></li><li><span><a href=\"#Training-auf-dem-Book-Summary-2-Datensatz\" data-toc-modified-id=\"Training-auf-dem-Book-Summary-2-Datensatz-5.4.3\"><span class=\"toc-item-num\">5.4.3&nbsp;&nbsp;</span>Training auf dem Book Summary 2 Datensatz</a></span></li><li><span><a href=\"#Training-auf-dem-PAN-Datensatz\" data-toc-modified-id=\"Training-auf-dem-PAN-Datensatz-5.4.4\"><span class=\"toc-item-num\">5.4.4&nbsp;&nbsp;</span>Training auf dem PAN Datensatz</a></span></li><li><span><a href=\"#Evaluierung-der-trainierten-Modelle\" data-toc-modified-id=\"Evaluierung-der-trainierten-Modelle-5.4.5\"><span class=\"toc-item-num\">5.4.5&nbsp;&nbsp;</span>Evaluierung der trainierten Modelle</a></span></li></ul></li><li><span><a href=\"#Ansatz-3:-Worteinbettung\" data-toc-modified-id=\"Ansatz-3:-Worteinbettung-5.5\"><span class=\"toc-item-num\">5.5&nbsp;&nbsp;</span>Ansatz 3: Worteinbettung</a></span><ul class=\"toc-item\"><li><span><a href=\"#Laden-der-Datensätze\" data-toc-modified-id=\"Laden-der-Datensätze-5.5.1\"><span class=\"toc-item-num\">5.5.1&nbsp;&nbsp;</span>Laden der Datensätze</a></span></li><li><span><a href=\"#LSTM-auf-Basis-von-Worteinbettungen\" data-toc-modified-id=\"LSTM-auf-Basis-von-Worteinbettungen-5.5.2\"><span class=\"toc-item-num\">5.5.2&nbsp;&nbsp;</span>LSTM auf Basis von Worteinbettungen</a></span></li><li><span><a href=\"#Bidirektionales-LSTM-auf-Basis-von-Worteinbettungen\" data-toc-modified-id=\"Bidirektionales-LSTM-auf-Basis-von-Worteinbettungen-5.5.3\"><span class=\"toc-item-num\">5.5.3&nbsp;&nbsp;</span>Bidirektionales LSTM auf Basis von Worteinbettungen</a></span></li><li><span><a href=\"#1-dimensionales-CNN-auf-Baisis-von-Worteinbettungen\" data-toc-modified-id=\"1-dimensionales-CNN-auf-Baisis-von-Worteinbettungen-5.5.4\"><span class=\"toc-item-num\">5.5.4&nbsp;&nbsp;</span>1-dimensionales CNN auf Baisis von Worteinbettungen</a></span></li><li><span><a href=\"#CNN-in-Kombination-mit-LSTM-auf-Basis-von-Worteinbettungen\" data-toc-modified-id=\"CNN-in-Kombination-mit-LSTM-auf-Basis-von-Worteinbettungen-5.5.5\"><span class=\"toc-item-num\">5.5.5&nbsp;&nbsp;</span>CNN in Kombination mit LSTM auf Basis von Worteinbettungen</a></span></li><li><span><a href=\"#CNN-in-Kombination-mit-LSTM-auf-Basis-von-vortrainierten-Worteinbettungen\" data-toc-modified-id=\"CNN-in-Kombination-mit-LSTM-auf-Basis-von-vortrainierten-Worteinbettungen-5.5.6\"><span class=\"toc-item-num\">5.5.6&nbsp;&nbsp;</span>CNN in Kombination mit LSTM auf Basis von vortrainierten Worteinbettungen</a></span></li><li><span><a href=\"#CNN-in-Kombination-mit-LSTM-trainiert-auf-dem-PAN-Datensatz\" data-toc-modified-id=\"CNN-in-Kombination-mit-LSTM-trainiert-auf-dem-PAN-Datensatz-5.5.7\"><span class=\"toc-item-num\">5.5.7&nbsp;&nbsp;</span>CNN in Kombination mit LSTM trainiert auf dem PAN-Datensatz</a></span></li></ul></li></ul></li><li><span><a href=\"#Comparison\" data-toc-modified-id=\"Comparison-6\"><span class=\"toc-item-num\">6&nbsp;&nbsp;</span>Comparison</a></span></li><li><span><a href=\"#Fazit\" data-toc-modified-id=\"Fazit-7\"><span class=\"toc-item-num\">7&nbsp;&nbsp;</span>Fazit</a></span></li></ul></div>"
   ]
  },
  {
   "cell_type": "markdown",
   "metadata": {},
   "source": [
    "## Abstract"
   ]
  },
  {
   "cell_type": "markdown",
   "metadata": {},
   "source": [
    "## Einführung"
   ]
  },
  {
   "cell_type": "markdown",
   "metadata": {},
   "source": [
    "### Motivation"
   ]
  },
  {
   "cell_type": "markdown",
   "metadata": {},
   "source": [
    "Die Zahl der verfügbaren Textdaten wächst exponentiell an und ein immer größerer Anteil der Bevölkerung nutzt die im Internet angebotenen Texte als primäre Informationsquelle. Die dort veröffentlichten Zeitungsartikel, Magazine, Bücher, Internetseiten und Posts in den Sozialen Medien bieten eine große Wissensbasis ([Montserrat Gomez Adorno, Rios, Posadas Durán, Sidorov und Sierra, 2018](http://www.cys.cic.ipn.mx/ojs/index.php/CyS/article/view/2882/2429) S.1). Sie haben einen starken Einfluss auf die öffentliche Meinung, sind jedoch auch einfach zu manipulieren. Spätestens seit den U.S. Präsidentschaftswahlen im Jahr 2016, in denen sogenannte \"Fake news\" über Twitter verbreitet wurde, sollte sich jeder diesem Problem bewusst sein.\n",
    "Die Frage nach der Authentizität der Texte ist daher stark in den Vordergrund gerückt worden ([Kestemont et al.](http://ceur-ws.org/Vol-2125/invited_paper_2.pdf) S.1f.). Zwar gibt es bereits viele veröffentlichte Arbeiten bezüglich der Zuordnung von Texten zu dem entsprechenden Verfasser, jedoch benötigen diese eine feste Menge an Autoren und müssen auf dieser trainiert werden. Zudem wäre es nicht möglich zu erkennen, ob lediglich eine einzelne Passage des Textes nachträglich manipuliert wurde, eine Entscheidung mit der selbst Menschen Probleme haben. Ein interessanter Ansatz und aktuelles Forschungsthema ist es, zu untersuchen, ob zwischen zwei Texten oder innerhalb eines Textes eine Änderung des Schreibstils vorliegt und anhand dieser Analyse zu entscheiden, ob der Text von demselben Autor stammen oder ob mehrere Autoren beteiligt waren. \n",
    "In dieser Seminararbeit wird versucht diese Problemstellung mithilfe verschiedener Methoden und Modelle aus der \"Natural language processing\" und \"Text Mining\" zu lösen."
   ]
  },
  {
   "cell_type": "markdown",
   "metadata": {},
   "source": [
    "### Problemstellung"
   ]
  },
  {
   "cell_type": "markdown",
   "metadata": {},
   "source": [
    "Die Identifikation von Texten mit geteilter Autorenschaft wird in der Literatur auch als Style Change Detektion (SCD) bezeichnet. Ziel ist es, Texte intrinsisch auf eine Änderung des Schreibstils zu untersuchen. Als Schreibstil bezeichnet man dabei die Art und Weise der Autoren bestimmte Inhalte auszudrücken. Da sich dieser von Autor zu Autor unterscheidet, kann von einer plötzlichen Stiländerung innerhalb eines Textes auf einen weiteren Autor und somit auf eine geteilte Autorenschaft geschlossen werden.\n",
    "Es handelt sich um ein binäres Klassifikationsproblem, das sich mithilfe verschiedener Verfahren des Maschinellen Lernens lösen lässt. Dafür wird in dieser Arbeit auf den CMU Book Summary Datensatz zurückgegriffen. Dieser umfasst über 16000 Zusammenfassungen von Büchern. Die Problemstellung untergliedert sich in zwei Teilaufgaben. \n",
    "\n",
    "Da es sich um überwachtes Lernen handelt, müssen zunächst gelabelte Daten künstlich generiert werden. Dazu sollen Texte aus dem gegeben Datensatz miteinander kombiniert werden. Die Herausforderung besteht darin, lediglich sich inhaltlich sehr ähnliche Texte zu vermischen. Somit wird sichergestellt, dass im weiteren Verlauf der Arbeit die stilistischen Merkmale relevant sind und nicht anhand von inhaltlichen Brüchen unterschieden werden kann. Des Weiteren kann die Schwierigkeit der Aufgabe über die Anzahl und die Positionen der Kombinationen innerhalb eines Textes erhöht werden.\n",
    "\n",
    "In dem Zweiten Teil der Arbeit geht es um die Identifikation dieser kombinierten Texte, die jetzt einer geteilten Autorenschaft unterliegen. Zuerst soll eine einfache Baseline geschaffen werden, um eine Referenz auf diesem Datensatz zu haben. Anschließend werden komplexere Modelle trainiert und die Ergebnisse verglichen. "
   ]
  },
  {
   "cell_type": "markdown",
   "metadata": {},
   "source": [
    "### Vorgehen"
   ]
  },
  {
   "cell_type": "markdown",
   "metadata": {},
   "source": [
    "Für die Erzeugung der gelabelten Daten werden zunächst lediglich ähnliche Texte aneinandergehängt, sodass in jedem Text maximal ein Stilbruch und zwei Autoren vorkommen. Werden mit diesem Vorgehen gute Ergebnisse erzielt, so könnte die Schwierigkeit durch eine stärkere Vermischung erhöht werden. Die Ähnlichkeit der Text wird dabei über die im Datensatz enthaltene Genre-Information der zusammengefassten Bücher berechnet. \n",
    "Die Baseline besteht aus einer SVM, einem Random Forrest und einem LightGBM.\n",
    "Für die Klassifikation werden zwei unterschiedliche Ansätze ausprobiert und miteinander verglichen. Zum einen werden die Text in Fenster unterteilt und für jedes dieser Fenster konstruierte Merkmale extrahiert. Dabei werden lexikalische und syntaktische Merkmale berücksichtigt. Da dieser Ansatz jedoch die Struktur und die Grammatik der Texte vernachlässigt, wird noch der Ansatz verfolgt, mittels Worteinbettung den kompletten Text in ein Rekurrentes Neuronales Netz zu übergeben.\n",
    "Da sich bereits zu Beginn Zweifel gegenüber der Qualität des Booksummary-Datensatzes ergeben haben, werden die Ergebnisse anschließend zusätzlich auf einem bereits gelabelte Datensatz aus der PAN CLEF 2018 Challenge validiert, um die Generalisierbarkeit zu überprüfen."
   ]
  },
  {
   "cell_type": "markdown",
   "metadata": {},
   "source": [
    "### Related Research"
   ]
  },
  {
   "cell_type": "markdown",
   "metadata": {},
   "source": [
    "Zur im vorherigen Abschnitt beschriebenen Aufgabenstellung finden man in der Literatur nur wenig Veröffentlichungen. Einige aktuelle Arbeiten zur Style Change Detection findet man in der [PAN CLEF-2018 Challenge](http://ceur-ws.org/Vol-2125/invited_paper_2.pdf). Bei [PAN](https://pan.webis.de) handelt es sich um eine Plattform, auf der seit 2009 jährlich Aufgabenstellungen zu ausgewählten Themenbereichen und Datensätzen im Bereich der maschinellen Textverarbeitung veröffentlicht werden. Insgesamt gab es im Jahr 2018 im Hinblick auf die Detektion von Stilbrüchen fünf Abgaben. \n",
    "Den ersten Platz belegte entgegen dem aktuellen Trend zu Deep Learning Zlatkova et al. mit einer Genauigkeit von 0.893 auf dem vorgegebenen Testdatensatz. Dafür wurden Texte in mehrere sich überschneidende Fenster unterteilt und für diese jeweils vorgegebene Merkmale berechnete. Anschließend wurden diese an ein Ensemble-Learning-System übergeben, das auf SVM, einen Random Forest, AdaBoost, MLP und LightGBM beruht.\n",
    "\n",
    "Bereits 2017 hat PAN eine zur oben beschriebenen Problemstellung sehr ähnliche Aufgabe unter dem Titel [Style breach detection](http://ceur-ws.org/Vol-1866/invited_paper_3.pdf) veröffentlicht. Diese geht jedoch noch einen Schritt weiter und beschäftigt sich mit der Identifikation der genauen Positionen, an denen sich der Schreibstil ändert. Im Rahmen dieser Aufgabe wurden lediglich 3 Lösungen abgegeben. Zwar konnten alle die zufallsbasierte Baseline übertreffen, jedoch keine sonderlich guten Ergebnisse erzielen. \n",
    "\n",
    "Eine große Verwandtschaft zur Style Change Detection weist auch das Themengebiet der Plagiatserkennung auf. Ziel ist es hierbei, Stellen in Texten zu finden, in denen auf Inhalte aus fremden Arbeiten zurückgegriffen wird, ohne dass diese als solche gekennzeichnet werden. Es wird dabei zwischen dem extrinsischen und dem intrinsischen Ansatz unterschieden.\n",
    "Beim Erstgenannten wird auf ein Referenzdatensatz zurückgegriffen, in welchem nach Quellen für mögliche Plagiate durchsucht wird ([Stamatatos et al.](http://ceur-ws.org/Vol-1609/16090691.pdf) S. 3).\n",
    "Bei der zweiten Herangehensweise wird lediglich der zu untersuchende Text betrachtet. Im Vordergrund steht hierbei auch der persönliche Schreibstil des Autors. Es wird versucht mithilfe verschiedener Verfahren Stellen im Text zu identifizieren, in denen der Schreibstil signifikant von dem restlichen Text abweicht. ([Polydouri, Siolas und Stafylopatis, 2017](https://link.springer.com/content/pdf/10.1007%2F978-3-319-65172-9_9.pdf) S.1) \n",
    "Hierfür wurden zumeist unüberwachte Verfahren zur Ausreißererkennung verwendet. \n",
    "Grundannahme für diese Verfahren ist es, dass ein Großteil des Textes von ein und demselben Autor stammt. ([Kuznetsov, Motrenko, Kuznetsova, und Strijov](http://ceur-ws.org/Vol-1609/16090912.pdf) S.1)\n",
    "Für diese Arbeit ist besonders die intrinsische Plagiatserkennung von Bedeutung. Arbeiten zu diesem Themengebiet fanden auch im Rahmen der [PAN-Reihe](https://pan.webis.de/tasks.html) statt. In den Jahren 2009 bis 2011 gab es jeweils sowohl Aufgaben zur intrinsischen als auch zur extrinsischen Plagiatserkennung. 2016 wurde die Aufgabenstellung unter dem Begriff „Authorship diarization“ in einer abgewandelten Form wieder aufgenommen mit dem Ziel Textpassagen entsprechend ihren Autoren zu clustern ([Stamatatos et al.](http://ceur-ws.org/Vol-1609/16090691.pdf) S. 3). \n",
    "\n",
    "Ein weiteres etwas entfernteres Themengebiet ist die Authorship Attribution, also die Zuordnung anonymer Texte zu den jeweiligen Autoren, von denen sie verfasst wurden. Auch wenn sich diese Aufgabenstellung stark von den in dieser Arbeit verfolgten Ziele unterscheidet, so ist die Herangehensweise doch sehr ähnlich. Denn im Gegensatz zu einer inhaltsbasierten Klassifikation, wird auch hier die Ähnlichkeit der Texte mittels stilistischer Merkmale berechnet. Für die Identifikation einer geteilten Autorenschaft eines Textes kann dem zu folge auf dieselben Features zurückgegriffen werden.  Auch hierzu wurden im Rahmen der PAN-Serie mehrere Arbeiten veröffentlich. Zusätzlich gibt es viele Arbeiten die sich insbesondere mit der Wahl der richtigen Merkmale auseinandergesetzt haben. Dazu zählen beispielsweise die Arbeiten von [Stamatatos](http://citeseerx.ist.psu.edu/viewdoc/download?doi=10.1.1.440.1634&rep=rep1&type=pdf), von [Houvardas and Stamatatos](https://link.springer.com/content/pdf/10.1007%2F11861461_10.pdf) oder von [Sapkota, Bethard, Montes-y-Gomez, und Thamar Solorio](http://aclweb.org/anthology/N15-1010).\n"
   ]
  },
  {
   "cell_type": "markdown",
   "metadata": {},
   "source": [
    "### Theorie"
   ]
  },
  {
   "cell_type": "markdown",
   "metadata": {},
   "source": [
    "Für die Durchführung einer Klassifikation mittels mathematischer Modelle, müssen die Texte zunächst in numerische Tensoren überführt werden. Ein wichtiger Bestandteil dieser Vektorisierung ist die Zerlegung der Texte in Tokens. Dabei werden die Texte in einzelne Buchtstaben oder einzelne Wörter aufgeteilt. Anschließend können entweder festgelegte Merkmale berechnet und an das Modell übergeben werden oder man wandelt die Token in Vektoren um und übergibt diese direkt an das Modell. Im Folgenden werden beide Ansätze kurz vorgestellt.   \n",
    "\n",
    "**Konstruierte Merkmale:**\n",
    "\n",
    "Für jeden Text werden dabei im Voraus festgelegte Merkmale berechnet, die die verschiedene Schreibstile der Autoren möglichst stark voneinander abgrenzen sollen. [Stamatatos](http://citeseerx.ist.psu.edu/viewdoc/download?doi=10.1.1.440.1634&rep=rep1&type=pdf) unterscheidet dabei zwischen lexikalischen, zeichenbasierten, syntaktischen, semantischen und anwendungsbezogenen Merkmalen. \n",
    " \n",
    "Beispiele für lexikalische Merkmale sind die durchschnittliche Wort-/ Satzlänge, die durchschnittliche Fehlerrate und der Wortschatz des Autors.\n",
    "Weitere verbreitete lexikalische Merkmale sind die Häufigkeiten der auftretenden Wörter und Wortkombinationen, den sogenannten N-Grammen. Dieser Ansatz ist auch unter dem Begriff „Bag of words“ bzw. „Bag of n-grams“ bekannt. Dabei lassen sich die betrachteten Wörter in Funktions- und Inhaltswörter unterteilen. Im Rahmen einer stilistischen Repräsentation der Texte spielen Funktionswörter eine wichtige Rolle. Hierbei handelt es sich um kurze und sehr häufig vorkommende Wörter, die für den Inhalt eines Satzes irrelevant sind und nur zur Verbindung der Inhaltswörter dienen. Während diese in inhaltsbasierten Textklassifikationen herausgefiltert werden, tragen sie viel zu einer stilistischen Abgrenzung verschiedener Autoren bei. \n",
    "\n",
    "Auch bei zeichenbasierten Merkmalen wird die Häufigkeit des Auftretens von einzelnen Zeichen und zeichenbasierter N-Gramme betrachtet. Das Auftreten von Buchstaben, Zahlen, Groß- und Kleinschreibweisen und Leerzeichen gibt Auskunft über den Schreibstil des Autors ([Stamatatos](http://citeseerx.ist.psu.edu/viewdoc/download?doi=10.1.1.440.1634&rep=rep1&type=pdf) S. 4 ff.).\n",
    "Diese eignen sich besonders gut zur Zuordnung der Texte zu ihren entsprechenden Autoren, wobei besonders jene zu guten Ergebnissen beitragen, die Wortanfänge/-enden oder Satzzeichen beinhalten ([Sapkota, Bethard, Montes-y-Gomez, und Thamar Solorio](http://aclweb.org/anthology/N15-1010), S.1 ff.). \n",
    "\n",
    "Des Weiteren gibt es syntaktische und semantische Merkmale, die jedoch stark von der entsprechenden Sprache abhängen. Ein Beispiel für ein semantische Merkmale sind N-Gramme auf Basis von Part-of-Speech-Tags. \n",
    "\n",
    "Bei allen N-Grammen stellt sich für die Merkmalsauswahl die Frage nach der richtigen Wahl des \"N\", welches die Anzahl der berücksichtigten Wörter/Zeichen festlegt.\n",
    "Generell gilt, je höher die Ordnung der N-Gramme, desto mehr Kontext wird betrachtet. Jedoch wird dadurch auch die Dimensionen des entstehenden Merkmalraums stark erhöht ([Stamatatos](http://citeseerx.ist.psu.edu/viewdoc/download?doi=10.1.1.440.1634&rep=rep1&type=pdf) S. 7). Verfahren wie Stemming oder Lemmatizing können genutzt werden, um die Dimensionen zu reduzieren.\n",
    "\n",
    "Die Betrachtung der Häufigkeiten ist relativ simpel und wird in vielen Arbeiten verwendet. Sie hat jedoch den Nachteil, dass die Tokens als Menge anstatt einer Sequenz wahrgenommen, wodurch jedoch die Reihenfolge, Grammatik und Struktur der Texte missachtet werden.\n",
    "\n",
    "\n",
    "\n",
    "**Gelernte Merkmale:**\n",
    "\n",
    "Im Gegensatz zu den selbst berechneten Merkmalen, können die Token mittels One-Hot-Encoding auch direkt in Vektoren umgewandelt werden. Der Vorteil dieses Vorgehens liegt darin, dass im Vergleich zum \"Bag of Words\"-Ansatz die Struktur des Textes erhalten bleibt. Diese Repräsentationsform führt jedoch zu sehr hohen Dimensionen, da in der Regel innerhalb eines Korpus oftmals zehntausende verschiedener Wörter vorkommen. Verfahren der Worteinbettung ordnen dagegen jedem Token einen dichtbesetzteren Vektor zu. Ziel dieser Verfahren ist es mithilfe der Vektoren auch die semantischen Abhängigkeiten der Wörter abzubilden, sodass Wörter mit einer ähnlichen Bedeutung auch ähnlich Vektoren erhalten. \n",
    "Die bekanntesten Verfahren sind der [Word2Vec](https://arxiv.org/pdf/1402.3722.pdf)- und der [GloVe](http://www.aclweb.org/anthology/D14-1162)-Ansatz. \n",
    "Deep-Learning-Verfahren, wie zum Bespiel LSTMs oder CNNs, können anhand dieser Vektoren Sequenzen von Wörtern oder Zeichen erlernen und mithilfe der identifizierten Muster Klassifizierungen durchführen."
   ]
  },
  {
   "cell_type": "markdown",
   "metadata": {},
   "source": [
    "### Notebook Vorbereitung"
   ]
  },
  {
   "cell_type": "markdown",
   "metadata": {},
   "source": [
    "#### Laden eigener Module"
   ]
  },
  {
   "cell_type": "code",
   "execution_count": 77,
   "metadata": {
    "ExecuteTime": {
     "end_time": "2019-02-07T14:08:34.423128Z",
     "start_time": "2019-02-07T14:08:34.418032Z"
    },
    "init_cell": true
   },
   "outputs": [],
   "source": [
    "import datasets\n",
    "import aatm_support\n",
    "from tensor_board_logger import TensorBoardLogger"
   ]
  },
  {
   "cell_type": "markdown",
   "metadata": {},
   "source": [
    "#### Laden von externen Bibliotheken"
   ]
  },
  {
   "cell_type": "code",
   "execution_count": 78,
   "metadata": {
    "ExecuteTime": {
     "end_time": "2019-02-07T14:08:34.436181Z",
     "start_time": "2019-02-07T14:08:34.430294Z"
    },
    "init_cell": true
   },
   "outputs": [],
   "source": [
    "import matplotlib.pyplot as plt\n",
    "import pandas as pd\n",
    "\n",
    "from sklearn.externals.joblib import Memory\n",
    "from sklearn.metrics.pairwise import cosine_similarity\n",
    "from sklearn.model_selection import train_test_split, StratifiedKFold\n",
    "from sklearn.svm import SVC\n",
    "from sklearn.ensemble import RandomForestClassifier\n",
    "\n",
    "import lightgbm as lgb\n",
    "\n",
    "from keras.models import Model\n",
    "from keras.models import load_model\n",
    "from keras.layers import LSTM, ConvLSTM2D, Activation, Dense, Dropout, Input, MaxPooling1D, concatenate, BatchNormalization, Bidirectional, Dot, Average, Lambda, Flatten\n",
    "from keras.optimizers import RMSprop, Adam\n",
    "from keras.preprocessing.text import Tokenizer\n",
    "from keras.callbacks import EarlyStopping, TensorBoard, ReduceLROnPlateau\n",
    "from keras import regularizers\n",
    "from keras import backend as K"
   ]
  },
  {
   "cell_type": "markdown",
   "metadata": {},
   "source": [
    "#### Globale Intialisierungen"
   ]
  },
  {
   "cell_type": "code",
   "execution_count": 79,
   "metadata": {
    "ExecuteTime": {
     "end_time": "2019-02-07T14:08:34.444564Z",
     "start_time": "2019-02-07T14:08:34.438269Z"
    },
    "init_cell": true
   },
   "outputs": [],
   "source": [
    "memory = Memory(location='./tmp', verbose=0)"
   ]
  },
  {
   "cell_type": "markdown",
   "metadata": {},
   "source": [
    "## Verwendete Datensätze"
   ]
  },
  {
   "cell_type": "markdown",
   "metadata": {},
   "source": [
    "Zusammen mit der Aufgabenstellung wurde der [CMU Book Summary Datensatz](http://www.cs.cmu.edu/~dbamman/booksummaries.html) vorgeschlagen. Teil der Aufgabenstellung war es aus diesem Datensatz einen für das Problem der SCD geeigneten gelabelten Datensatz zu erstellen, indem Texte des CMU Book Summary Datensatzes rekombiniert werden.\n",
    "\n",
    "Im folgenden wird der Datensatz kurz vorgestellt und begründet warum der CMU Book Summary Datensatz für die Aufgabenstellung nicht ideal ist. Nichtsdestotrotz wird in diesem Kapitel weiter vorgestellt wie gelabelte Daten für das SCD Problem konstruhiert wurden. Die zwei daraus resultierenden Datensätze, die im weiteren Verlauf verwendet wurden werden beschrieben.\n",
    "\n",
    "Motiviert durch die Vorbehalte gegenüber dem Datensatz wird außerdem ein alternativer Datensatz von der [PAN Style Change Detection @ CELF 2018](https://pan.webis.de/clef18/pan18-web/index.html) vorgestellt, der bei weiteren Arbeiten ebenfalls als Benchmark und zur methodischen Validierung herangezogen wurde."
   ]
  },
  {
   "cell_type": "markdown",
   "metadata": {},
   "source": [
    "### CMU Book Summary Datensatz\n",
    "\n",
    "Der 2013 von David Bamman and Noah Smith veröffentliche [CMU Book Summary Datensatz](http://www.cs.cmu.edu/~dbamman/booksummaries.html) enthält 16.559 inhaltiche Zusammenfassungen von Büchern von Wikipedia sowie Metadaten über Autor, Titel, Publikationsatum und Genre des zusammengefassten Buches, sowie deren ID auf Wikipedia und Freebase (Metadaten)."
   ]
  },
  {
   "cell_type": "code",
   "execution_count": 6,
   "metadata": {
    "ExecuteTime": {
     "end_time": "2019-02-02T13:13:53.718723Z",
     "start_time": "2019-02-02T13:13:53.464611Z"
    }
   },
   "outputs": [
    {
     "name": "stdout",
     "output_type": "stream",
     "text": [
      "Dokumente insgesamt:\t 16559\n",
      "Jedes Dokument hat 7 Einträge.\n",
      "Index(['wiki_id', 'firebase_id', 'title', 'author', 'pub_date', 'genres',\n",
      "       'plot'],\n",
      "      dtype='object')\n"
     ]
    }
   ],
   "source": [
    "bs_data = datasets.load_book_summary_raw()\n",
    "\n",
    "# Total entries\n",
    "print(\"Dokumente insgesamt:\\t\", bs_data.shape[0])\n",
    "print(\"Jedes Dokument hat %d Einträge.\" % (bs_data.shape[1]))\n",
    "print(bs_data.columns)"
   ]
  },
  {
   "cell_type": "code",
   "execution_count": 10,
   "metadata": {
    "ExecuteTime": {
     "end_time": "2019-02-02T13:14:31.369281Z",
     "start_time": "2019-02-02T13:14:31.346998Z"
    }
   },
   "outputs": [
    {
     "name": "stdout",
     "output_type": "stream",
     "text": [
      "Einmalige Wikipedia IDs: 16559\n",
      "Einmalige Firebase IDs:\t 16559\n",
      "Einmalige Titles:\t 16277\n",
      "Einmalige Authors:\t 4715\n",
      "Einmalige Pub. Dates:\t 2640\n",
      "\n",
      "Einige Einträge fehlen:\n",
      "wiki_id           0\n",
      "firebase_id       0\n",
      "title             0\n",
      "author         2382\n",
      "pub_date       5610\n",
      "genres         3718\n",
      "plot              0\n",
      "dtype: int64\n"
     ]
    }
   ],
   "source": [
    "# Entries are unique books by ids...\n",
    "print(\"Einmalige Wikipedia IDs:\", bs_data.wiki_id.unique().size)\n",
    "print(\"Einmalige Firebase IDs:\\t\", bs_data.firebase_id.unique().size)\n",
    "# ...but not by title\n",
    "print(\"Einmalige Titles:\\t\", bs_data.title.unique().size)\n",
    "print(\"Einmalige Authors:\\t\", bs_data.author.unique().size)\n",
    "print(\"Einmalige Pub. Dates:\\t\", bs_data.pub_date.unique().size)\n",
    "\n",
    "print(\"\\nEinige Einträge fehlen:\")\n",
    "print(bs_data.isnull().sum())"
   ]
  },
  {
   "cell_type": "markdown",
   "metadata": {},
   "source": [
    "Der Datensatz wurde veröffentlicht im Zusammenhang mit Arbeiten zum Abgleich von Volltexten und Zusammenfassungen, sodass der Fokus auf Metadaten zu den zusammengefassten Büchern lag, nicht auf den Zusammenfassungen selbst. Es gilt hervorzuheben, dass die Informationen zur Autorenschaft sich auf das zusammengefasste Buch beziehen und nicht auf die Zusammenfassung selbst. Die im Datensatz enthaltenen Metainformationen sind im Kontext der intrinsischen Stilanalyse mit Ausnahme der Genre nicht von Bedeutung.\n",
    "\n",
    "Bei dem Versuch durch Kombination der Dokumente einen gelabelten Datensatz zu konstruieren muss aufgrund der fehlenden Metainformationen zu den Zusammenfassungen die Annahmen getroffen werden, dass jede Zusammenfassung von einem andere Autor stammt. Da die Zusammenfassungen von Wikipedia stammen impliziert dies jedoch zwei Risiken:\n",
    "\n",
    "1. Zusammenfassungen könnten vom selben Autor stammen.\n",
    "2. Zusammenfassungen könnten von mehreren Personen verfasst oder redigiert worden sein.\n",
    "\n",
    "Da es im Rahmen dieser Arbeit nicht möglich ist diese Risiken zu mitigieren (z.B. durch Ergänzen geigneter Metainformationen), wird stattdessen auf einen zusätzlichen Datensatz zurückgegriffen (siehe [Kapitel 3.3](#Alternativer-Datensatz-zur-Verifikation-der-verwendeten-Ansätze)). \n",
    "\n",
    "In Anwendungsscenarien der Authentizitätserkennung bei Texten ist es unwahrscheinlich, dass nicht authentische Textpassagen vollkommen andere Inhalte aufweisen als der restliche Text. Um einen möglichst realistischen Datensatz zu erhalten und eine Erkennung der Bruchstellen nach inhaltlichen Texteigenschaften zu vermeiden, sollen die Konstruktion gelabelter Texte deshalb nach Maßstäben ihrer inhaltlichen Kompatibilität stattfinden. Das gewälte Maß dazu wird auf den gegeben Genreinformationen basieren. Vorteilhaft ist an dieser Stelle, dass es sich um Zusammenfassungen und damit bereits um Abstrakte und in ihrer Art und Aufbau vermutlich ähnliche Texte handelt.\n",
    "\n",
    "Folgend wird also der Datensatz in Bezug auf die Genre-Informationen untersucht."
   ]
  },
  {
   "cell_type": "code",
   "execution_count": 31,
   "metadata": {
    "ExecuteTime": {
     "end_time": "2019-02-02T12:26:38.755526Z",
     "start_time": "2019-02-02T12:26:38.750493Z"
    }
   },
   "outputs": [],
   "source": [
    "def extract_genre_book_relations(data):\n",
    "    # Subset original data\n",
    "    temp = data.loc[:, ['wiki_id', 'genres']]\n",
    "    # drop rows without genres\n",
    "    temp = temp.dropna()\n",
    "    # extract `id: genre` pairs to lists\n",
    "    temp.genres = temp.genres.str.replace('[{}\"]', '', regex=True).str.split(', ')\n",
    "    # map each genre <=> book relation to a seperate row\n",
    "    genre_tags = []\n",
    "    for key, row in temp.iterrows():\n",
    "        book_id = row[0]\n",
    "        tags = pd.Series(row[1]).str.split(': ')\n",
    "        for genre_id, genre_name in tags:\n",
    "            genre_tags += [[book_id, genre_id, genre_name]]\n",
    "\n",
    "    genre_tags = pd.DataFrame(genre_tags)\n",
    "    genre_tags.columns = ['wiki_id', 'genre_id', 'genre_name']\n",
    "    \n",
    "    return genre_tags\n",
    "    \n",
    "def extract_genres(genre_tags):\n",
    "    # Extract unique genres\n",
    "    genres = genre_tags.groupby(['genre_id', 'genre_name']).agg('count')\n",
    "    genres.columns = ['count']\n",
    "    \n",
    "    print(\"Genre Data\")\n",
    "    print(genres.describe())\n",
    "    print(\"\\nNote that there are more unique ids than names ('Mystery' genre)\")\n",
    "    \n",
    "    return genres"
   ]
  },
  {
   "cell_type": "code",
   "execution_count": 32,
   "metadata": {
    "ExecuteTime": {
     "end_time": "2019-02-02T12:26:44.213400Z",
     "start_time": "2019-02-02T12:26:39.526544Z"
    },
    "scrolled": true
   },
   "outputs": [
    {
     "name": "stdout",
     "output_type": "stream",
     "text": [
      "Genre Data\n",
      "             count\n",
      "count   228.000000\n",
      "mean    131.596491\n",
      "std     545.391873\n",
      "min       1.000000\n",
      "25%       2.000000\n",
      "50%       6.500000\n",
      "75%      29.000000\n",
      "max    4747.000000\n",
      "\n",
      "Note that there are more unique ids than names ('Mystery' genre)\n",
      "\n",
      "Top 10 Genres\n",
      "                                  count\n",
      "genre_id  genre_name                   \n",
      "/m/02xlf  Fiction                  4747\n",
      "/m/014dfn Speculative fiction      4314\n",
      "/m/06n90  Science Fiction          2870\n",
      "/m/05hgj  Novel                    2463\n",
      "/m/01hmnh Fantasy                  2413\n",
      "/m/0dwly  Children's literature    2122\n",
      "/m/02n4kr Mystery                  1395\n",
      "/m/03mfnf Young adult literature    825\n",
      "/m/0c3351 Suspense                  765\n",
      "/m/0lsxr  Crime Fiction             753\n"
     ]
    }
   ],
   "source": [
    "genre_tags = extract_genre_book_relations(bs_data)\n",
    "genres = extract_genres(genre_tags)\n",
    "print(\"\\nTop 10 Genres\")\n",
    "print(genres.sort_values('count', ascending=False)[0:10])"
   ]
  },
  {
   "cell_type": "code",
   "execution_count": 50,
   "metadata": {
    "ExecuteTime": {
     "end_time": "2019-02-02T12:46:31.636275Z",
     "start_time": "2019-02-02T12:46:31.523342Z"
    }
   },
   "outputs": [
    {
     "data": {
      "image/png": "[encoded data removed]",
      "text/plain": [
       "<Figure size 432x288 with 1 Axes>"
      ]
     },
     "metadata": {},
     "output_type": "display_data"
    },
    {
     "name": "stdout",
     "output_type": "stream",
     "text": [
      "         genre_name\n",
      "count  12841.000000\n",
      "mean       2.336578\n",
      "std        1.401971\n",
      "min        1.000000\n",
      "25%        1.000000\n",
      "50%        2.000000\n",
      "75%        3.000000\n",
      "max       11.000000\n"
     ]
    }
   ],
   "source": [
    "# count genres per book\n",
    "n_genres_per_book = genre_tags.loc[:,['wiki_id', 'genre_name']].groupby('wiki_id').count()\n",
    "# draw histogram\n",
    "n_genres_per_book.hist()\n",
    "plt.title(\"Verteilung der Anzahl von Genres pro Buch\")\n",
    "plt.ylabel(\"Anzahl Bücher mit x Genres\")\n",
    "plt.xlabel('Anzahl Genres')\n",
    "plt.show()\n",
    "print(n_genres_per_book.describe())"
   ]
  },
  {
   "cell_type": "markdown",
   "metadata": {
    "ExecuteTime": {
     "end_time": "2019-02-02T12:49:25.439748Z",
     "start_time": "2019-02-02T12:49:25.435840Z"
    }
   },
   "source": [
    "Es gibt 228 Genres nach ID, jedoch nur 227 eindeutige Genres nach Bezeichnung. Das Genre 'Mystery' wird unter zwei IDs geführt. Bereits unter den Top 10 Genres lässt sich gut erkennen, dass es sich bei vielen Genres auch um Sub-Genres handelt, z.B. 'Fiction' und 'Crime Fiction'. Durchschnittlich ist ein Genre 132 mal vergeben. 75% der Genres sind nur 29 mal oder weniger vertreten. Das häufigste Genre mit 4747 Dokumenten ist 'Fiction'. Im Durchschnitt werden jedem Buch 2,34 Genre zugeordnet. Es haben 50% aller Bücher 2 oder weniger, 75% haben 3 oder weniger Genre zugeordnet."
   ]
  },
  {
   "cell_type": "markdown",
   "metadata": {},
   "source": [
    "### Konstruktion von gelabelten Daten"
   ]
  },
  {
   "cell_type": "markdown",
   "metadata": {},
   "source": []
  },
  {
   "cell_type": "markdown",
   "metadata": {},
   "source": [
    "#### Kombinatorische Variablen\n",
    "\n",
    "Bei der Kombination von Texten gibt es mehrere Faktoren, die berücksichtigt und variiert werden können, um verschiedene Datensätze zu erstellen. Es liegt nahe, dass das Vorgehen bei der Erstellung des Datensatzes später Einfluss auf die Ergebnisse bei der Identifizierung der selben Texte hat.\n",
    "\n",
    "**Ähnlichkeit der Texte:**\n",
    "Durch Variation eines Schwellenwerts in Bezug auf die minimale Ähnlichkeit - gegeben eines geeigneten Ähnlichkeitmaßes - kann die Schwierigkeit der resultierenden Kombinationen beeinflusst werden kann. Die Bestimmung der geteilten Urheberschaft von Texten, die sich nach einem geeigneten Maß im Voraus ähnlicher sind, könnte schwieriger zu erkennen sein als bei einem kombinierten Text, bei dem Originaltexte im Vorfeld als weniger ähnlich eingestuft wurden.\n",
    "\n",
    "**Wiederverwendung von Texten:**\n",
    "Soll bei der Kombination von Texten mit oder ohne Zurücklegen kombiniert werden? Ein Text, der für die Kombination verwendet wurde, kann entweder für die Kombination mit zusätzlichen Texten wiederverwendet werden oder eben nicht. Dies kann ebenso für die Wiederverwendung als einzelner Text im resultierenden Datensatz variiert werden.\n",
    "\n",
    "**Verfahren zur Kombination:**\n",
    "Es gibt verschiedene Möglichkeiten, Texte zu kombinieren. Die triviale Variante ist zwei Texte aneinander zu hängen. Ein anderer Ansatz könnte darin bestehen, einzelne Texte in Absätze oder Sätze aufzuteilen und diese dann zu verschachteln oder zufällig zu mischen.\n",
    "\n",
    "**Anzahl der zu kombinierenden Texte:**\n",
    "Beliebig viele Texte können zu Texten gemeinsamer Autorenschaft mit unterschiedlichem Grad kombiniert werden, also bspw. 2, 3 oder mehr Autoren.\n",
    "\n",
    "**Anteil der kombinierten Texte am resultierenden Datensatz:**\n",
    "Soll ein ausgeglichener oder ein unausgeglichener Datensatz erstellt werden? Letzterer ist dabei wahrscheinlich realistischer da unter viele authentischen Dokumenten wenige unauthentische sein werden. Andererseits ist ein ausgeglichener Datensatz in den meisten Fälle besser um Algorithmen effizient und ohne Bias zu trainieren."
   ]
  },
  {
   "cell_type": "markdown",
   "metadata": {},
   "source": [
    "#### Ähnlichkeitsmaß"
   ]
  },
  {
   "cell_type": "markdown",
   "metadata": {},
   "source": [
    "Die Ähnlichkeit zu kombinierender Texte wird als primärer Faktor für Schwierigkeit und Qualität des resultierenden Datensatzes betrachtet. Die Autoren des Datensatz für die [2018 PAN Style Change Detection](http://ceur-ws.org/Vol-2125/invited_paper_2.pdf) haben dies bspw. dadurch sichergestellt, dass Fragen und Antworten aus dem technisch Forum Stack Overflow verwendet wurden, für Metainformationen zu den enthaltenen Themen und Subthemen verfügbar waren. Analog verwenden wir bei dem Book Summary Datensatz die vergebenen Genre und Subgenre.\n",
    "\n",
    "Dazu wird für jedes Dokument ein Vektor erstellt der binär die Zugehörigkeit zu jedem Genre kodiert (\"k-hot encoding\"). Jede Dimension des Vektorraums repräsentiert also die Zugehörigkeit zu einem Genre, die entweder mit 1 (\"zugehörig\") oder 0 (\"nicht zugehörig\") belegt wird. \n",
    "\n",
    "Da vor allem Texte mit hoher Ähnlichkeit von Interesse sind, wurden bei der Kodierung der Genres ausschließlich die Genres berücksichtigt, die mindestens zwei Texten zugeordnet werden. Dadurch reduziert sich die Dimension des Vektorraums von 228 auf 183."
   ]
  },
  {
   "cell_type": "code",
   "execution_count": 19,
   "metadata": {
    "ExecuteTime": {
     "end_time": "2019-02-02T14:19:47.517394Z",
     "start_time": "2019-02-02T14:19:47.510092Z"
    }
   },
   "outputs": [],
   "source": [
    "# Extract k-hot-encoding of genres\n",
    "@memory.cache\n",
    "def extract_genre_vectors(data):\n",
    "    # parse genre strings\n",
    "    result = data.genres.str.replace('[{}\"]', '', regex=True) \\\n",
    "                        .str.replace('/m/.+?: ', '', regex=True) \\\n",
    "                        .str.get_dummies(', ')\n",
    "    # Prefix and normalize genre columns\n",
    "    result.columns = ['genre_' + str(col) for col in result.columns.str.lower().str.replace('[^a-z]', '_')]\n",
    "    # Select genres that have been assigned at least twice.\n",
    "    # \n",
    "    # Assuming we use genres only to match text an additional dimensions \n",
    "    # that is never shared will only make a text more 'different' from \n",
    "    # all other text. No information gain in that.\n",
    "    # \n",
    "    # This reduces genres from 227 to 183. \n",
    "    result = result.loc[:, result.sum(axis=0) >= 2]\n",
    "    \n",
    "    return result"
   ]
  },
  {
   "cell_type": "markdown",
   "metadata": {},
   "source": [
    "Als Ähnlichkeitsmaß für die berechneten Vektoren wird die Kosinus-Ähnlichkeit verwendet. Die Kosinus-Ähnlichkeit zeigt die Ähnlichkeit der Ausrichtung zweier Vektoren an, indem sie den Cosinus des Winkels zwischen diesen Vektoren misst. Die Größe der Vektoren ist nicht relevant. Die Kosinus-Ähnlichkeit ist 0 für orthogonale Vektoren, 1 für Vektoren gleicher Ausrichtung oder -1 für diametral entgegengesetzte Vektoren.\n",
    "\n",
    "$$ similarity: S_C(x,y) = cos(\\pmb x, \\pmb y) = \\frac {\\pmb x \\cdot \\pmb y}{||\\pmb x|| \\cdot ||\\pmb y||} $$\n",
    "\n",
    "Da jeder Text mit jedem anderen verglichen wird erhalten wir eine entsprechende Matrix."
   ]
  },
  {
   "cell_type": "code",
   "execution_count": 80,
   "metadata": {
    "ExecuteTime": {
     "end_time": "2019-02-07T14:08:34.459374Z",
     "start_time": "2019-02-07T14:08:34.446435Z"
    },
    "init_cell": true
   },
   "outputs": [],
   "source": [
    "@memory.cache\n",
    "def calc_cosine_sim_matrix(genres):\n",
    "    # calculate cosine similarities\n",
    "    result = cosine_similarity(genres)\n",
    "    # override lower diagonal with nan to drop duplicates and self combination\n",
    "    result[np.tril_indices(result.shape[0])] = np.nan\n",
    "    # downcast precision to reduce memory footprint\n",
    "    result = pd.DataFrame(result).apply(pd.to_numeric, downcast='float')\n",
    "    return result"
   ]
  },
  {
   "cell_type": "markdown",
   "metadata": {},
   "source": [
    "#### Konstruktion von Datensätzen"
   ]
  },
  {
   "cell_type": "markdown",
   "metadata": {},
   "source": [
    "Mit den berechneten Ähnlichkeiten der Texte und unter berücksichtigung der weiteren Faktoren als Variablen wurden zwei Datensätze konstruiert. Implementiert wurde die einfache Kombination durch aneinanderhängen von zwei Texten mit und ohne Zurücklegen unter Berücksichtigung des erwünschten Anteils gemischter oder einfacher Texte im resultierenden Datensatz und eines Grenzwertes für die Ähnlichkeit der zu kombinierenden Texte."
   ]
  },
  {
   "cell_type": "code",
   "execution_count": 81,
   "metadata": {
    "ExecuteTime": {
     "end_time": "2019-02-07T14:08:34.482836Z",
     "start_time": "2019-02-07T14:08:34.461554Z"
    },
    "init_cell": true
   },
   "outputs": [],
   "source": [
    "def build_dataset(\n",
    "    # the dataset \n",
    "    data,\n",
    "    # the similarity matrix\n",
    "    sim_matrix,\n",
    "    # the minimum similarity between the combined texts\n",
    "    sim_threshold = 0.5,\n",
    "    # flag to reuse texts\n",
    "    reuse_texts = False,\n",
    "    # target share of combined texts in the resulting dataset\n",
    "    target_share = 0.2,\n",
    "    # name of the columns containing the text\n",
    "    text_col = 'plot',\n",
    "    # number of texts to combine, only 2 is supported\n",
    "    comb_degree = 2,\n",
    "    # Method of combination, only 'append' is implemented\n",
    "    # combination = 'append'\n",
    "):  \n",
    "    # We focus on the combination of two texts only.\n",
    "    if comb_degree > 2:\n",
    "        raise NotImplementedError\n",
    "\n",
    "    # Total number of available texts\n",
    "    n_total = data.shape[0]\n",
    "    # Instantiate number of texts that will be combined\n",
    "    n_combine = 0\n",
    "    # Calculate number of combined texts\n",
    "    if (reuse_texts):\n",
    "        n_combine = (n_total / ( 1 / target_share - 1)) * comb_degree\n",
    "    else:\n",
    "        # Number of texts that will be combined\n",
    "        n_combine = n_total * comb_degree / (1/target_share + comb_degree - 1)\n",
    "    \n",
    "    # `n_combine` should be an integer value and dividable by `comb_degree` and\n",
    "    # we will interpret target_share as minimum.\n",
    "    n_combine = math.ceil(n_combine)\n",
    "    n_combine += (n_combine % comb_degree)\n",
    "    \n",
    "    # Instantiate number of resulting combined texts\n",
    "    n_combined = int(n_combine / comb_degree)\n",
    "    # Number of texts that will directly be taken into the in the final dataset without combination\n",
    "    if reuse_texts:\n",
    "        n_direct = n_total\n",
    "    else:\n",
    "        n_direct = n_total - n_combine\n",
    "    \n",
    "    # Number of resulting texts\n",
    "    n_result = n_direct + n_combined\n",
    "    actual_share = n_combined/n_result\n",
    "    \n",
    "    print('Total # of input texts: ', n_total)\n",
    "    print('# of texts to combine: ', n_combine)\n",
    "    print('# of resulting texts with shared authorship: ', n_combined)\n",
    "    print('# of resulting texts without shared authorship: ', n_direct)\n",
    "    print('Total # of resulting texts: ', n_result)\n",
    "    print('Actual share of texts with shared authorship: ', actual_share)\n",
    "    \n",
    "    # dropping nan\n",
    "    sim_df = sim_matrix.stack()\n",
    "    # drop combinations below threshold and return left viable choices\n",
    "    choices = sim_df[sim_df >= sim_threshold]\n",
    "    \n",
    "    to_combine = np.ndarray((n_combined), dtype=tuple)\n",
    "    if reuse_texts:\n",
    "        choices = choices.index.values\n",
    "        # random selection of viable indice combinations\n",
    "        to_combine = np.random.choice(choices, n_combined, replace=False)\n",
    "    else:\n",
    "        for i in range(to_combine.shape[0]):\n",
    "            # choose random tuple\n",
    "            choice = np.random.choice(choices.loc[choices.notna()].index.values)\n",
    "            to_combine[i] = choice\n",
    "            # drop all tuples including either choice\n",
    "            choices.loc[[choice[0], choice[1]]] = np.nan\n",
    "            choices.loc[:, [choice[0], choice[1]]] = np.nan\n",
    "\n",
    "    tc_values = list(sum(to_combine,()))\n",
    "    all_values = pd.Series(data.index.values)\n",
    "    if reuse_texts:\n",
    "        to_direct = all_values\n",
    "    else:\n",
    "        to_direct = all_values[~all_values.isin(tc_values)]\n",
    "    \n",
    "    # combine texts\n",
    "    combined = pd.DataFrame([[append_texts(data, ids, text_col), 1] for ids in to_combine])\n",
    "    direct = pd.DataFrame([[data[text_col][i], 0] for i in to_direct])\n",
    "    \n",
    "    result = pd.concat(\n",
    "        [combined, direct],\n",
    "        axis=0,\n",
    "        ignore_index=True, \n",
    "        copy=False\n",
    "    )\n",
    "    \n",
    "    result.columns = ['text', 'label']\n",
    "    \n",
    "    return result\n",
    "\n",
    "def append_texts(data, ids, text_col = 'plot'):\n",
    "    t = \"\"\n",
    "    for i in range(len(ids)):\n",
    "        t += data[text_col][ids[i]]\n",
    "    return t"
   ]
  },
  {
   "cell_type": "markdown",
   "metadata": {},
   "source": [
    "##### Book Summary 1"
   ]
  },
  {
   "cell_type": "markdown",
   "metadata": {},
   "source": [
    "Der erste Datensatz _Book Summary 1_ verwendet jeden Text nur ein einziges Mal. Der Ähnlichkeitsschwellwert liegt bei 0,8 und der Datensatz ist ausgeglichen. Es gibt 5.520 Texte mit geteilter Autorenschaft und 5.519 Texte ohne geteilte Autorenschaft. Insgesamt enthält der Datensatz 11.039 Dokumente."
   ]
  },
  {
   "cell_type": "code",
   "execution_count": 5,
   "metadata": {
    "ExecuteTime": {
     "end_time": "2019-02-06T10:05:53.231781Z",
     "start_time": "2019-02-06T10:05:53.219966Z"
    },
    "scrolled": true
   },
   "outputs": [
    {
     "name": "stdout",
     "output_type": "stream",
     "text": [
      "Total # of input texts:  16559\n",
      "# of texts to combine:  11040\n",
      "# of resulting texts with shared authorship:  5520\n",
      "# of resulting texts without shared authorship:  5519\n",
      "Total # of resulting texts:  11039\n",
      "Actual share of texts with shared authorship:  0.5000452939577861\n",
      "Next available file: ./datasets/book_summary_1.csv\n"
     ]
    }
   ],
   "source": [
    "# THIS WAS USED TO CONSTRUCT THE DATASET, \n",
    "# WOULD HOWEVER PRODUCE A DIFFERENT DATASET WHEN RUN AGAIN\n",
    "sim_matrix = calc_cosine_sim_matrix(extract_genre_vectors(bs_data))\n",
    "book_summary_1 = build_dataset(\n",
    "    bs_data,\n",
    "    sim_matrix,\n",
    "    sim_threshold = 0.8,\n",
    "    target_share = 0.5\n",
    ")\n",
    "\n",
    "dataset.to_csv(aatm_support.next_file('./datasets/book_summary', '.csv'), encoding='utf-8', doublequote=True)"
   ]
  },
  {
   "cell_type": "code",
   "execution_count": 12,
   "metadata": {
    "ExecuteTime": {
     "end_time": "2019-02-06T10:09:01.166347Z",
     "start_time": "2019-02-06T10:09:00.950992Z"
    }
   },
   "outputs": [
    {
     "name": "stdout",
     "output_type": "stream",
     "text": [
      "<class 'pandas.core.frame.DataFrame'>\n",
      "Int64Index: 11039 entries, 0 to 11038\n",
      "Data columns (total 2 columns):\n",
      "text     11039 non-null object\n",
      "label    11039 non-null int64\n",
      "dtypes: int64(1), object(1)\n",
      "memory usage: 258.7+ KB\n"
     ]
    }
   ],
   "source": [
    "book_summary_1 = datasets.load_book_summary_1()\n",
    "book_summary_1.info()"
   ]
  },
  {
   "cell_type": "markdown",
   "metadata": {},
   "source": [
    "##### Book Summary 2"
   ]
  },
  {
   "cell_type": "markdown",
   "metadata": {},
   "source": [
    "Der zweite Datensatz _Book Summary 2_ legt Texte nach dem ziehen zurück, woraus ein entsprechend größerer Datensatz resultiert. Der Ähnlichkeitsschwellwert liegt bei 0,95 und der Datensatz ist ausgeglichen. Es gibt 14.794 Texte mit geteilter Autorenschaft und 14.794 Texte ohne geteilte Autorenschaft. Insgesamt enthält der Datensatz 29.588 Dokumente. Vor der Kombination wurden Außenseiter im Sinne von besonders langen und besonders kurzen Texten entfernt, wodurch der Ausgangsdatensatz auf 14.794 reduziert wurde. Alle diese Texte sind als nicht kombinierte Texte im resultierenden Datensatz enthalten."
   ]
  },
  {
   "cell_type": "code",
   "execution_count": null,
   "metadata": {
    "scrolled": true
   },
   "outputs": [
    {
     "name": "stdout",
     "output_type": "stream",
     "text": [
      "Total # of input texts:  14794\n",
      "# of texts to combine:  29588\n",
      "# of resulting texts with shared authorship:  14794\n",
      "# of resulting texts without shared authorship:  14794\n",
      "Total # of resulting texts:  29588\n",
      "Actual share of texts with shared authorship:  0.5\n",
      "Next available file: ./datasets/book_summary_2.csv\n"
     ]
    }
   ],
   "source": [
    "# THIS WAS USED TO CONSTRUCT THE DATASET, \n",
    "# WOULD HOWEVER PRODUCE A DIFFERENT DATASET WHEN RUN AGAIN\n",
    "\n",
    "# filter very short and very long texts\n",
    "plot_len = bs_data['plot'].str.len()\n",
    "bs_data_filtered = bs_data.loc[(plot_len - plot_len.mean() < 2 * plot_len.std()) & (plot_len >= 300)]\n",
    "bs_data_filtered.reset_index(inplace=True)\n",
    "\n",
    "# calculate similarity matrix\n",
    "sim_matrix = calc_cosine_sim_matrix(extract_genres(data))\n",
    "\n",
    "dataset = build_dataset(\n",
    "    data,\n",
    "    sim_matrix,\n",
    "    sim_threshold = 0.95,\n",
    "    target_share = 0.5,\n",
    "    reuse_texts = True\n",
    ")\n",
    "\n",
    "dataset.to_csv(aatm_support.next_file('./datasets/book_summary', '.csv'), encoding='utf-8', doublequote=True)"
   ]
  },
  {
   "cell_type": "code",
   "execution_count": 13,
   "metadata": {
    "ExecuteTime": {
     "end_time": "2019-02-06T10:09:42.295455Z",
     "start_time": "2019-02-06T10:09:41.764156Z"
    }
   },
   "outputs": [
    {
     "name": "stdout",
     "output_type": "stream",
     "text": [
      "<class 'pandas.core.frame.DataFrame'>\n",
      "Int64Index: 29588 entries, 0 to 29587\n",
      "Data columns (total 2 columns):\n",
      "text     29588 non-null object\n",
      "label    29588 non-null int64\n",
      "dtypes: int64(1), object(1)\n",
      "memory usage: 693.5+ KB\n"
     ]
    }
   ],
   "source": [
    "book_summary_2 = datasets.load_book_summary_2()\n",
    "book_summary_2.info()"
   ]
  },
  {
   "cell_type": "markdown",
   "metadata": {},
   "source": [
    "### Alternativer Datensatz zur Verifikation der verwendeten Ansätze"
   ]
  },
  {
   "cell_type": "markdown",
   "metadata": {},
   "source": [
    "Aufgrund der Bedenken an der Tauglichkeit des CMU Book Summary Datensatzes für das SCD Problem (siehe [Kapitel 3.1](#CMU-Book-Summary-Datensatz)), wurde der Datensatz der [PAN Style Change Detection](http://ceur-ws.org/Vol-2125/invited_paper_2.pdf) Aufgabe als Alternativer Datensatz herangezogen. Der Datensatz wurde für ein im Rahmen der [CLEF Conference](http://clef2018.clef-initiative.eu) veranstaltetes \"evaluabtion lab\" herausgegeben. \n",
    "\n",
    "Er beinhaltet insgesamt 5.824 Dokumente, die aus Fragen und Antworten des [StackExchange](https://stackexchange.com) Forum-Netzwerks zusammengestellt wurden. Der Texte enthalten zwischen 300 und 1000 Token und wurden bereinigt um Texte die von anderen Autoren editiert wurden. Bei der Erstellung wurde auf eine ausgewogene Verteilung von Autoren, Themen und Subthemen, sowie Anzahl an Autorenwechseln und der Länge der Texte geachtet. Dies gilt sowohl bei Dokumenten von mehreren als auch bei Dokumenten von einem Autor. \n",
    "\n",
    "Insgesamt stellt der Datensatz damit ein wesentlich qualitativere Grundlage zur Entwicklung von Algorithmen zur Erkennung von Texten mit mehreren Autoren da. Mit rund 5.824 Dokumenten ist er jedoch vergleichweise klein, was grade für die Verarbeitung in tiefen Neuronalen Netzen Herausforderungen mit sich bringt."
   ]
  },
  {
   "cell_type": "markdown",
   "metadata": {},
   "source": [
    "## Text Repräsentation"
   ]
  },
  {
   "cell_type": "markdown",
   "metadata": {},
   "source": [
    "### Feature Auswahl"
   ]
  },
  {
   "cell_type": "markdown",
   "metadata": {},
   "source": [
    "Für diese Arbeit werden neben verschiedenen von Hand ausgewählten Merkmalen N-grams auf Wort, \n",
    "Zeichen und POS mit jeweils variablen Längen betrachtet. Für die Umsetzung wird dabei die Open-Source-Library [NLTK](http://www.nltk.org/) verwendet, da diese sehr modular aufgebaut und weit verbreitet ist.\n",
    "Da die Dimensionen des Merkmalraums abhängig von der Anzahl der Wörter innerhalb eines N-Grammes stark ansteigen, soll im Feature-Selektion-Schritt im Voraus über den vollständigen Korpus algorithmisch eine Auswahl getroffen, welche N-Gramme für eine Klassifikation hinsichtlich des Schreibstils relevant sind. \n",
    "\n",
    "Wie bereits in [Kapitel 2.5](#Theorie) beschrieben, werden zunächst die Textdaten in Tokens zerlegt. Bereits bei diesem Vorgang gibt es eine Vielzahl von Möglichkeiten, die zu unterschiedlichen Ergebnisse führen können und die Dimension des Merkmalraums stark beeinflussen. Um im späteren Verlauf der Arbeit etwas Spielraum zu haben, wird versucht diesen Vorgang möglichst flexibel zu gestalten. Beispielsweise kann über Parameter gesteuert werden, ob die Wörter in Originalform vorliegen oder mittels Stemming oder Lemmatizing auf den Wortstamm zurückgeführt werden sollen. Außerdem können ausgewählte Satzzeichen entfernt, Groß- und Kleinschreibung angepasst und Wörter, sowohl nach Länge als auch nach der Zugehörigkeit zu einem Korpus mit Funktionswörtern, gefiltert werden. \n",
    "\n",
    "Für die Erstellung der N-Gramme wird auf den [CountVectorizer](https://scikit-learn.org/stable/modules/generated/sklearn.feature_extraction.text.CountVectorizer.html#sklearn.feature_extraction.text.CountVectorizer) von sklearn zurückgegriffen, der für eine festgelegte Menge aller gewünschten N-Grams und den Tokens die N-Gramme und ihre Häufigkeiten innerhalb jedes Textes bestimmt. \n",
    "Dieser Vorgang wird für die Wort-, Zeichen- und die POS-basierten N-Gramme durchgeführt. Für die POS-Identifizierung wird auf den [POS-Tagger von NLTK](http://www.nltk.org/api/nltk.tag.html) zurückgegriffen. \n",
    "Innerhalb jeder dieser drei Kategorien wird für jedes unterschiedliche 'N' eine Selektion der Merkmale getroffen. \n",
    "\n",
    "Um einen Vergleich zu ermöglichen, müssen die Häufigkeiten skaliert werden. Dazu werden jeweils die Häufigkeiten der N-Gramme eines Textes ins Verhältnis zur Gesamtzahl aller Token des Textes gesetzt. Alternativ könnte zur Normalisierung auch der TFIDF-Ansatz verwendet werden. Dieser wird im folgenden jedoch nicht genutzt, da dieser die Gewichte der relevanten Funktionswörter auf null setzt.\n",
    "\n",
    "Die Relevanz der Features kann anschließend sowohl auf Basis der Häufigkeiten als auch der [Varianzen](https://scikit-learn.org/stable/modules/generated/sklearn.feature_selection.VarianceThreshold.html#sklearn.feature_selection.VarianceThreshold) über alle Texte des Korpus hinweg bestimmt werden, wobei auch eine Kombination beider Filtermethoden möglich ist.  Hohe Häufigkeiten der N-Gramme lassen auf ein Funktionswort schließen, die als äußert aussagekräftig für den Schreibstil von Autoren gelten. \n",
    "Eine hohe Varianz dagegen deutet auf ein besonders diskriminatives Merkmal hin. Neben dem Filtern über relativen und absoluten Grenzwerten für die Anzahl der Features, könne auch Quantile angegeben werden, sodass ein gewisser Anteil der Gesamthäufigkeiten oder der Gesamtvarianz abgedeckt ist.\n",
    "\n"
   ]
  },
  {
   "cell_type": "markdown",
   "metadata": {},
   "source": [
    "#### Konfiguration"
   ]
  },
  {
   "cell_type": "markdown",
   "metadata": {},
   "source": [
    "Mit dieser Methode werden die Parameter festgelegt, die beschreiben wie gefiltert werden soll. Es kann nach Varianz eines Merkmals und nach der Häufigkeit über den gesamten Korpus hinweg gefiltert werden. Für jedes N-Gramm kann eine relative oder eine absolute Zahl an gewünschten Merkmalen angegeben werden. Zusätzlich können auch Quantile und Thresholds als Filterkriterium gewählt werden."
   ]
  },
  {
   "cell_type": "code",
   "execution_count": 12,
   "metadata": {
    "ExecuteTime": {
     "end_time": "2019-02-04T12:53:47.408828Z",
     "start_time": "2019-02-04T12:53:47.403022Z"
    },
    "init_cell": true
   },
   "outputs": [],
   "source": [
    "def set_filter_params(\n",
    "    var_word_n_grams  = (True, 'absolute', [5000, 500, 500]),\n",
    "    var_char_n_grams  = (True, 'absolute', [500, 500, 500, 500]),\n",
    "    var_pos_n_grams   = (True, 'absolute', [500, 500, 500]),\n",
    "    freq_word_n_grams = (True, 'absolute', [2000, 2000, 2000]),\n",
    "    freq_char_n_grams = (True, 'absolute', [2000, 2000, 2000, 2000]),\n",
    "    freq_pos_n_grams  = (True, 'absolute', [2000, 2000, 2000])):\n",
    "\n",
    "    return {\n",
    "        # Filter by variance: (flag, Type_of_filter, [thresholds for each n in\n",
    "        # word_n_grams])\n",
    "        'var_word_n_grams': var_word_n_grams,      \n",
    "        # Filter by variance: (flag, Type_of_filter, [thresholds for each n in\n",
    "        # char_n_grams])\n",
    "        'var_char_n_grams': var_char_n_grams,   \n",
    "        # Filter by variance: (flag, Type_of_filter, [thresholds for each n in\n",
    "        # pos_n_grams])\n",
    "        'var_pos_n_grams': var_pos_n_grams,       \n",
    "        # Use the most common features: (flag, Type_of_filter, [thresholds for each n\n",
    "        # in word_n_grams])\n",
    "        'freq_word_n_grams': freq_word_n_grams,\n",
    "        # Use the most common features: (flag, Type_of_filter, [thresholds for each n\n",
    "        # in char_n_grams])\n",
    "        'freq_char_n_grams': freq_char_n_grams,           \n",
    "        # Use the most common features: (flag, Type_of_filter, [thresholds for each n\n",
    "        # in pos_n_grams])\n",
    "        'freq_pos_n_grams': freq_pos_n_grams\n",
    "    }"
   ]
  },
  {
   "cell_type": "markdown",
   "metadata": {},
   "source": [
    "Mithilfe dieser Methode können die Parameter festgelegt werden, die beschreiben welche Merkmale berücksichtigt werden sollen. "
   ]
  },
  {
   "cell_type": "code",
   "execution_count": 13,
   "metadata": {
    "ExecuteTime": {
     "end_time": "2019-02-04T12:53:47.416049Z",
     "start_time": "2019-02-04T12:53:47.410593Z"
    },
    "init_cell": true
   },
   "outputs": [],
   "source": [
    "def set_features_to_calc(\n",
    "        char_n_grams= [1,2,3,4],        \n",
    "        word_n_grams = [1,2,3],                                          \n",
    "        pos_n_grams=[1,2,3],                      \n",
    "        avg_sent_len=True,                         \n",
    "        avg_word_len=True,                         \n",
    "        token_per_sent=True,                      \n",
    "        vocabulary_richness=True\n",
    "    ):\n",
    "\n",
    "    return{\n",
    "        # list with n for char_n_grams\n",
    "        'char_n_grams': char_n_grams,        \n",
    "        # list with n for word_n_grams\n",
    "        'word_n_grams': word_n_grams,                                          \n",
    "        # list with n for pos_n_grams\n",
    "        'pos_n_grams': pos_n_grams,                      \n",
    "        # flag if average sentence length should be calculated\n",
    "        'avg_sent_len': avg_sent_len,                         \n",
    "        # flag if average token length should be calculated\n",
    "        'avg_word_len': avg_word_len,                         \n",
    "        # flag if token per sentences should be calculated\n",
    "        'token_per_sent':token_per_sent,                      \n",
    "        # flag if vocabulary_richness should be calculated\n",
    "        'vocabulary_richness': vocabulary_richness             \n",
    "    }"
   ]
  },
  {
   "cell_type": "markdown",
   "metadata": {},
   "source": [
    "Mit dieser Methode werden die Parameter für das Tokenisieren der Texte festgelegt. Dies wird für die Erstellung der Wort N-Gramme benötigt. Beispielsweise kann festgelegt werden, auf welcher Ebene tokenisiert und wie gefiltert wird, ob die Schreibweise vereinheitlicht werden soll oder ob die Wörter auf ihren Wortstamm zurückgeführt werden sollen. "
   ]
  },
  {
   "cell_type": "code",
   "execution_count": 14,
   "metadata": {
    "ExecuteTime": {
     "end_time": "2019-02-04T12:53:47.432238Z",
     "start_time": "2019-02-04T12:53:47.417792Z"
    },
    "init_cell": true
   },
   "outputs": [],
   "source": [
    "def set_token_params_1 (\n",
    "    word_tokenizer = RegexpTokenizer(r'\\w+'),      \n",
    "    sent_tokenizer = nltk.data.load('tokenizers/punkt/english.pickle'), \n",
    "    get_tokens = 'sentence',                                                    \n",
    "    word_strain = 'stem',\n",
    "    filter_length = ('long', 0),                                                \n",
    "    handle_stopwords = '',                                                      \n",
    "    get_sentences = False,                                                      \n",
    "    punctuation = \"[,;.!—]\",                                                   \n",
    "    lower_stop_words = set(stopwords.words('english')),                         \n",
    "    uncapitalized = True):    \n",
    "    \n",
    "    return {\n",
    "        # Word tokenizer\n",
    "        'word_tokenizer': word_tokenizer,\n",
    "        # Sentence tokenizer\n",
    "        'sent_tokenizer': sent_tokenizer,\n",
    "        # Group tokens: 'text'|'sentence'\n",
    "        'get_tokens': get_tokens,\n",
    "        # 'lemma'|'stem'\n",
    "        'word_strain': word_strain,\n",
    "        # Get tokens with length >= <int> or <= <int>: ('long',<int>)|('short',<int>)\n",
    "        'filter_length': filter_length,\n",
    "        # 'get'|'remove'\n",
    "        'handle_stopwords': handle_stopwords, \n",
    "        # Sentences tokens\n",
    "        'get_sentences': get_sentences,\n",
    "        # Remove punctuation\n",
    "        'punctuation': punctuation,\n",
    "        # Stopwords\n",
    "        'lower_stop_words': lower_stop_words,\n",
    "        # Original or uncapitalized stemms/lemmas\n",
    "        'uncapitalized': uncapitalized \n",
    "    }"
   ]
  },
  {
   "cell_type": "code",
   "execution_count": 15,
   "metadata": {
    "ExecuteTime": {
     "end_time": "2019-02-04T12:53:47.437465Z",
     "start_time": "2019-02-04T12:53:47.434030Z"
    },
    "init_cell": true
   },
   "outputs": [],
   "source": [
    "# helper to load feaure sets later\n",
    "def load_feature_selection(num=None, base='.//Features//selected_features'):\n",
    "    if num:\n",
    "        path = f'{base}_{num}.txt'\n",
    "    else:\n",
    "        path = aatm_support.last_file(base)\n",
    "    \n",
    "    return pd.read_csv(\n",
    "        path,\n",
    "        sep = ',',\n",
    "        header = 0, \n",
    "        index_col = 0\n",
    "    )"
   ]
  },
  {
   "cell_type": "code",
   "execution_count": 16,
   "metadata": {
    "ExecuteTime": {
     "end_time": "2019-02-04T12:53:47.448921Z",
     "start_time": "2019-02-04T12:53:47.439615Z"
    },
    "init_cell": true
   },
   "outputs": [],
   "source": [
    "@memory.cache\n",
    "def run_feature_selection(\n",
    "        serie_texts,\n",
    "        features_to_calc = set_features_to_calc(), \n",
    "        token_params_1 = set_token_params_1(),\n",
    "        filter_params = set_filter_params(\n",
    "            var_word_n_grams=(True, 'threshold', [0.001, 0.001, 0.001]),\n",
    "            var_char_n_grams=(True, 'threshold', [0.001, 0.001, 0.001, 0.001]),\n",
    "            var_pos_n_grams=(True, 'threshold', [0.01, 0.01, 0.01]),\n",
    "            freq_word_n_grams=(False,'',[ ]),\n",
    "            freq_char_n_grams=(False,'',[]),\n",
    "            freq_pos_n_grams=(False,'',[])\n",
    "        ),\n",
    "        cv_min_df = 0.1\n",
    "    ):\n",
    "\n",
    "    features = FEATURE_SELECTOR_v4.select_features(\n",
    "        serie_texts,                          \n",
    "        features_to_calc, \n",
    "        token_params_1,              \n",
    "        filter_params,\n",
    "        path_to_features = aatm_support.last_file('.//Features//selected_features'),\n",
    "        flag_extract_features = False,\n",
    "        cv_min_df = cv_min_df,         \n",
    "        normalization_type = ''\n",
    "    )\n",
    "    \n",
    "    with open(aatm_support.next_file('.//Features//selected_features'), 'w') as f:\n",
    "        json.dump(features, f)\n",
    "    "
   ]
  },
  {
   "cell_type": "code",
   "execution_count": 17,
   "metadata": {
    "ExecuteTime": {
     "end_time": "2019-02-04T12:53:47.454196Z",
     "start_time": "2019-02-04T12:53:47.451023Z"
    },
    "init_cell": true
   },
   "outputs": [],
   "source": [
    "# helper to load feaure sets later\n",
    "def load_features(num=None, base='.//Features//calc_features'):\n",
    "    if num:\n",
    "        path = f'{base}_{num}.txt'\n",
    "    else:\n",
    "        path = aatm_support.last_file(base)\n",
    "    \n",
    "    return pd.read_csv(\n",
    "        path,\n",
    "        sep = ',',\n",
    "        header = 0, \n",
    "        index_col = 0\n",
    "    )"
   ]
  },
  {
   "cell_type": "markdown",
   "metadata": {},
   "source": [
    "#### Durchführung"
   ]
  },
  {
   "cell_type": "markdown",
   "metadata": {},
   "source": [
    "Hier wird beispielhaft eine Selektion der N-Gramme ausgeführt. Es wird lediglich nach der Häufigkeit gefiltert, sodass zum Beispiel auf Wortebene nur die Kunktionswörter berücksichtigt werden. Für jede Kategorie sollen dabei 100 Merkmale zurückgegeben werden. Für die restlichen Parameter werden die Default-Werte verwendet."
   ]
  },
  {
   "cell_type": "code",
   "execution_count": 20,
   "metadata": {
    "ExecuteTime": {
     "end_time": "2019-01-27T14:04:00.347097Z",
     "start_time": "2019-01-27T13:15:35.783002Z"
    }
   },
   "outputs": [
    {
     "name": "stdout",
     "output_type": "stream",
     "text": [
      "Last valid file: .//Features//selected_features_2.txt\n",
      "Next available file: .//Features//selected_features_3.txt\n"
     ]
    },
    {
     "name": "stderr",
     "output_type": "stream",
     "text": [
      "/Users/julianluebke/anaconda3/lib/python3.6/site-packages/ipykernel_launcher.py:15: UserWarning: Persisting input arguments took 0.61s to run.\n",
      "If this happens often in your code, it can cause performance problems \n",
      "(results will be correct in all cases). \n",
      "The reason for this is probably some large input arguments for a wrapped\n",
      " function (e.g. large strings).\n",
      "THIS IS A JOBLIB ISSUE. If you can, kindly provide the joblib's team with an\n",
      " example so that they can fix the problem.\n",
      "  from ipykernel import kernelapp as app\n"
     ]
    }
   ],
   "source": [
    "# For constructed data\n",
    "run_feature_selection(\n",
    "    load_dataset('2').text, \n",
    "    filter_params = set_filter_params(\n",
    "        var_word_n_grams=(False, '', []),\n",
    "        var_char_n_grams=(False, '', []),\n",
    "        var_pos_n_grams=(False, '', []),\n",
    "        freq_word_n_grams=(True, 'absolute', [100, 100, 100]),\n",
    "        freq_char_n_grams=(True, 'absolute', [100, 100, 100, 100]),\n",
    "        freq_pos_n_grams=(True, 'absolute', [100, 100, 100])\n",
    "    )\n",
    ")"
   ]
  },
  {
   "cell_type": "markdown",
   "metadata": {},
   "source": [
    "### Feature Berechnung"
   ]
  },
  {
   "cell_type": "markdown",
   "metadata": {},
   "source": [
    "Bei der Feature Berechnung werden die Ergebnisse der Feature Selektion aufgegriffen. Für jeden Text des Training- und Testdatensatzes werden die Häufigkeiten der ausgewählten N-Gramme bestimmt. Dazu werden dem CountVectorizer die ermittelten Merkmale als Dictionary mit den selektierten Merkmalen übergeben, sodass bei lediglich diese bei der Erzeugung der Häufigkeitsmatrix berücksichtigt werden. Zusätzlich werden auch die manuell selektierten Merkmale berechnet. Dazu gehören die die durchschnittliche Satzlänge, die durchschnittliche Anzahl an Zeichen pro Wort, die durchschnittliche Anzahl an Token pro Satz und die Größe des verwendeten Vokabulars. \n",
    "Im Folgenden wird dies beispielhaft für den Pan-Datensatz ausgeführt."
   ]
  },
  {
   "cell_type": "code",
   "execution_count": null,
   "metadata": {},
   "outputs": [],
   "source": [
    "@memory.cache\n",
    "def run_feature_extraction(series, save=True, selected_features=None):\n",
    "    if selected_features == None:\n",
    "        path_to_features = aatm_support.last_file('.//Features//selected_features')\n",
    "    else:\n",
    "        path_to_features = f'./Features/{selected_features}.txt'\n",
    "    \n",
    "    extracted_features = FEATURE_SELECTOR_v4.select_features(\n",
    "        serie_texts=series,                          \n",
    "        features_to_calc = set_features_to_calc(), \n",
    "        token_params_1 = set_token_params_1(),\n",
    "        filter_params= set_filter_params(\n",
    "            (False,'',[]),(False,'',[]),(False,'',[]),(False,'',[]),(False,'',[]),(False,'',[])\n",
    "        ),\n",
    "        path_to_features = path_to_features,    \n",
    "        flag_extract_features= True,\n",
    "        cv_min_df = 0,                           \n",
    "        normalization_type= ''\n",
    "    )\n",
    "    \n",
    "    print(extracted_features.info())\n",
    "        \n",
    "    # Save the calculated features\n",
    "    if save:\n",
    "        extracted_features.to_csv(\n",
    "            path_or_buf = aatm_support.next_file('.//Features//calc_features'),\n",
    "            sep = ',', \n",
    "            header = True,\n",
    "            index = True\n",
    "        )\n",
    "    \n",
    "    return extracted_features"
   ]
  },
  {
   "cell_type": "code",
   "execution_count": 27,
   "metadata": {
    "ExecuteTime": {
     "end_time": "2019-02-04T10:43:28.349067Z",
     "start_time": "2019-02-04T10:40:31.510369Z"
    }
   },
   "outputs": [
    {
     "name": "stdout",
     "output_type": "stream",
     "text": [
      "<class 'pandas.core.frame.DataFrame'>\n",
      "RangeIndex: 2980 entries, 0 to 2979\n",
      "Columns: 1108 entries, avg_sent_len to NNP NNP NNP\n",
      "dtypes: float64(1108)\n",
      "memory usage: 25.2 MB\n",
      "None\n",
      "Next available file: .//Features//calc_features_2.txt\n"
     ]
    }
   ],
   "source": [
    "data = load_pan_data('training')\n",
    "extracted_features = run_feature_extraction(data.text, selected_features='selected_features_pan_training_1')"
   ]
  },
  {
   "cell_type": "markdown",
   "metadata": {},
   "source": [
    "## Identifikation von Texten mit geteilter Autorenschaft"
   ]
  },
  {
   "cell_type": "markdown",
   "metadata": {},
   "source": [
    "Basierend auf einer reihe von Beobachtungen unter den Einreichungen der PAN 2018 SCD Aufgabe werden zwei Ansätze zur Lösung des SCD Problems verfolgt und verglichen. \n",
    "\n",
    "Die erste Beobachtung ist, dass der von [Schaetti](http://ceur-ws.org/Vol-2125/invited_paper_2.pdf) zur PAN SCD 2018 vorgestellte Ansatz eines Character-basierten Convolutional Neural Network seiner Einschätzung nach unter anderem aufgrund des relativ kleinen Datensatzes mit nur 62% Genauigkeit den letzten Platz unter den eingereichten Lösungen belegt. Um dieses Ergebnis zu erreichen musst Schaetti bereits den Datensatz durch erneute rekobination der gegebenen Probleme auf ca. 18.000 Probleme erweitern. Die Vermuting liegt also nahe, dass ein Netz das komplett eigenständig Features lernen soll die zur Diskriminierung zweier Autorenstile geeignet sind deutlich mehr Daten benötigt.\n",
    "\n",
    "Das parallele hierarchische Attention Network von [M. Hosseinia and A. Mukherjee](http://ceur-ws.org/Vol-2125/paper_91.pdf) erreichte hingegen mit 82% die zweitbeste Leistung. Sie gaben ihrem Neuronalen Netz als Eingabe Parse Tree Feature (PTF) Embeddings. Dies entspricht der Eingabe des Textes als deren kodierte Satzstruktur und vermeidet so direkt jeglichen Einfluss des Inhalts auf das Ergebnis. Ebenso wird dem Netz nicht die Featureextraktion selbst überlassen, sondern es wird auf das Erkennen von Mustern beschränkt.\n",
    "\n",
    "Die dritte Beobachtung ist das weitere erfolgreiche Lösungen ([Zlatkova et al.](https://www.researchgate.net/profile/Momchil_Hardalov/publication/327268227_Recursive_Style_Breach_Detection_with_Multifaceted_Ensemble_Learning/links/5b9e0907a6fdccd3cb5a848b/Recursive-Style-Breach-Detection-with-Multifaceted-Ensemble-Learning.pdf?_sg%5B0%5D=6JOrLDdgo2QX5BCW_eUPQnbsvkvXD0BRSVBSC951bkfz2nl6HanfYCwG7bLLe7LheXdlkGsCReYu_BATjqGFcA.sufIfxS0aZo12zvN0NE3HD8ZQZB0so2OZP9x3-aHbL6HY9nBNa55LgJi1lEsLIZiu_-55qwzV5-7DoxjUqaqDg&_sg%5B1%5D=qFhJKbYJH-nLdAAAG6UEaaU75xAEAfaiNIumEbSvr77bdIrbNtvCWnUDmNYpTQbLRG9XwmC1oC96cM5vSON591aV6laI8bcOF-OED7V7Kyew.sufIfxS0aZo12zvN0NE3HD8ZQZB0so2OZP9x3-aHbL6HY9nBNa55LgJi1lEsLIZiu_-55qwzV5-7DoxjUqaqDg&_iepl=), [Safin und Ogaltsov](http://ceur-ws.org/Vol-2125/paper_104.pdf)) sich gemeinhin auf vorselektierte lexikalische und syntaktische Features gestützt haben, damit jedoch ein Ensemble von Klassifkatoren trainiert haben.\n",
    "\n",
    "Im ersten Ansatz sollen weitere Möglichkeiten geprüft werden, vorab extrahierte Features als Eingabe für Neuronale Netze zu verwenden und so für die relativ kleinen Datenmengen zu kompensieren. Es werden statistischen und syntaktischen Features verwendet, um ein Neuronales Netz zu trainieren.\n",
    "\n",
    "Im zweiten Ansatz werden Word-Embbedings verwendet ein Neuronales Netz zu trainieren. **BEGRÜNDUNG**\n",
    "\n",
    "Zu Beginn werden verschiedene Standard-Algorithmen als Baseline für die Klassifizierung angewandt."
   ]
  },
  {
   "cell_type": "markdown",
   "metadata": {},
   "source": [
    "### Verwendete Evaluations-Metrik"
   ]
  },
  {
   "cell_type": "markdown",
   "metadata": {},
   "source": [
    "Zur Bewertung der vorgestellten Modelle wird die Genauigkeit verwendet, also der Anteil der korrekt klassifizierten Beispielen an allen evaluierten Beispielen:\n",
    "\n",
    "$$ acc = \\frac {Anzahl\\ korrekt\\ klassifizierter\\ Beispiele}{Anzahl\\ aller\\ Beispiele} = \\frac {TP + TN}{TP + FP + TN + FN}  $$\n"
   ]
  },
  {
   "cell_type": "markdown",
   "metadata": {},
   "source": [
    "### Baseline"
   ]
  },
  {
   "cell_type": "markdown",
   "metadata": {},
   "source": [
    "Zum Vergleich von späteren Ergebnissen werden eine [SVM](https://scikit-learn.org/stable/modules/generated/sklearn.svm.SVC.html) und eine [Random Forest](https://scikit-learn.org/stable/modules/generated/sklearn.ensemble.RandomForestClassifier.html) Implementierung von Sklearn, sowie der [LightGBM](https://lightgbm.readthedocs.io/en/latest/) Algorithmus von Microsoft verwendet. Sie werden jeweils über die gesamte Menge extrahierter Features für jeden Datensatz trainiert und evaluiert."
   ]
  },
  {
   "cell_type": "code",
   "execution_count": 8,
   "metadata": {
    "ExecuteTime": {
     "end_time": "2019-02-04T12:59:27.344348Z",
     "start_time": "2019-02-04T12:59:27.340314Z"
    }
   },
   "outputs": [],
   "source": [
    "# Trains and scores three machines for a single dataset and saves the score to a result table\n",
    "def train_and_score(name, results, X_train, X_test, y_train, y_test):\n",
    "    # SVM training and score\n",
    "    svm_clf = SVC(gamma='auto')\n",
    "    svm_clf.fit(X_train, y_train)\n",
    "    results['SVM'][name] = svm_clf.score(X_test, y_test)\n",
    "\n",
    "    # SVM training and score\n",
    "    rf_clf = RandomForestClassifier(n_estimators=300)\n",
    "    rf_clf.fit(X_train, y_train)\n",
    "    results['RF'][name] = rf_clf.score(X_test, y_test)\n",
    "    \n",
    "    # SVM training and score\n",
    "    lgb_clf = lgb.LGBMClassifier(n_estimators=300)\n",
    "    lgb_clf.fit(X_train, y_train)\n",
    "    results['LightGBM'][name] = lgb_clf.score(X_test, y_test)\n",
    "    \n",
    "    return results"
   ]
  },
  {
   "cell_type": "code",
   "execution_count": 10,
   "metadata": {
    "ExecuteTime": {
     "end_time": "2019-02-04T15:54:03.755388Z",
     "start_time": "2019-02-04T15:39:14.800540Z"
    },
    "scrolled": true
   },
   "outputs": [
    {
     "name": "stdout",
     "output_type": "stream",
     "text": [
      "                     SVM        RF  LightGBM\n",
      "Book Summary 1  0.583333  0.740217  0.776087\n",
      "Book Summary 2  0.574557  0.728268  0.813438\n",
      "PAN             0.568365  0.682976  0.695710\n"
     ]
    }
   ],
   "source": [
    "# prepare results table\n",
    "results = pd.DataFrame(\n",
    "    np.zeros((3,3)), \n",
    "    index=['Book Summary 1', 'Book Summary 2', 'PAN'], \n",
    "    columns=['SVM', 'RF', 'LightGBM']\n",
    ")\n",
    "\n",
    "# Baseline for Book Summary 1\n",
    "train_and_score('Book Summary 1', results, *train_test_split(\n",
    "    datasets.load_extracted_features('bs_1'), \n",
    "    datasets.load_book_summary_1().label,\n",
    "    test_size=0.25\n",
    "))\n",
    "\n",
    "# Baseline for Book Summary 2\n",
    "train_and_score('Book Summary 2', results, *train_test_split(\n",
    "    datasets.load_extracted_features('bs_2'), \n",
    "    datasets.load_book_summary_2().label,\n",
    "    test_size=0.25\n",
    "))\n",
    "\n",
    "# Baseline for PAN\n",
    "train_and_score('PAN', results, \n",
    "    datasets.load_extracted_features('pan_training_1'), \n",
    "    datasets.load_extracted_features('pan_validation_1'),\n",
    "    datasets.load_pan_data('training').label,\n",
    "    datasets.load_pan_data('validation').label\n",
    ")\n",
    "\n",
    "print(results)"
   ]
  },
  {
   "cell_type": "markdown",
   "metadata": {},
   "source": [
    "### Ansatz 1: Bi-direktionale LSTM Netze basierend auf lexikalischen und syntaktischen Merkmalen  "
   ]
  },
  {
   "cell_type": "markdown",
   "metadata": {},
   "source": [
    "In einem ersten Ansatz verwenden wir ein Netz aus vier bi-dirktionalen LSTM Schichten (eines für jede Feature Gruppe) gefolgt von zwei vollständig verknüpften Schichten zur Klassifizierung. Die Zeitschritte der LSTM Schicht sind dabei jeweils eine Sequence des Textes, sodass deren temporale Abhängigkeit eine Veränderung der Merkmale im Laufe des Textes kodieren kann."
   ]
  },
  {
   "cell_type": "markdown",
   "metadata": {},
   "source": [
    "#### Segmentierung von Texten"
   ]
  },
  {
   "cell_type": "markdown",
   "metadata": {
    "ExecuteTime": {
     "end_time": "2019-02-04T16:01:11.640009Z",
     "start_time": "2019-02-04T16:01:11.635226Z"
    }
   },
   "source": [
    "Um zeitliche Veränderungen von Features zu erfassen werden diese jeweils über gleichlange Segmente des Textes berechnet. Die Anzahl der Segmente ist dabei immer gleich. Die Länge varriert also zwsichen Segmenten unterschiedlicher Dokumente nicht aber zwischen den Segmenten eines Dokumentes. Die auf jedem Segment berechneten Features werden durch die Länge der Segmente normiert, sodass diese über Dokumente hinweg vergleichbar sind**[VERWEIS FEATUREBERECHNUNG]**.\n",
    "\n",
    "Die Anzahl der verwendeten Segmente wurde auf vier festgesetzt. Die Wahl basiert auf der Anzahl der vorkommenden Autorenwechsel im PAN Datensatz. Sie macht aber auch Sinn für die Book Summary Datensätze, die zwar nur einen Wechsel haben, der durch Kombination unterschiedlich langer Texte prinzipiell jedoch auch im vorderen oder hinteren Teil des  Gesamttextes liegen kann. Eine höhere Zahl an Abschnitten würde zwar feinere Granularität erlauben aber auch das resultierende Netz ungleich komplexer machen. Die vier Abschnitte scheinen deshlab ein guter Kompromis. Weitere Experimente mit feingranularerer Segmentierung könnten bei der Identifizierung genauer Positionen von Stilbrüchen interessant werden."
   ]
  },
  {
   "cell_type": "code",
   "execution_count": 26,
   "metadata": {
    "ExecuteTime": {
     "end_time": "2019-02-06T14:01:45.266542Z",
     "start_time": "2019-02-06T14:01:45.259558Z"
    }
   },
   "outputs": [],
   "source": [
    "@memory.cache\n",
    "def split_to_windows(series, windows):\n",
    "    # split into characters\n",
    "    result = series.str.split()\n",
    "    # split char sequences into windows of equal length\n",
    "    result = pd.DataFrame(result.apply(np.array_split, indices_or_sections=windows).tolist())\n",
    "    # join characters per window \n",
    "    result = result.applymap(lambda s: \" \".join(s) )\n",
    "    return result\n",
    "\n",
    "@memory.cache\n",
    "def extract_features_for_windows(series, windows=4, save=True, selected_features=None):\n",
    "    # split into windows\n",
    "    result = split_to_windows(series, windows)\n",
    "    \n",
    "    # run feature extraction per window\n",
    "    columns = result.columns\n",
    "    for col in columns:\n",
    "        features = run_feature_extraction(result[col], False, selected_features=selected_features)\n",
    "        result = pd.concat([result, features], axis=1)\n",
    "        print(result.info())\n",
    "    \n",
    "    # drop text columns\n",
    "    result.drop(columns=columns, axis=1, inplace=True)\n",
    "\n",
    "    # Save the calculated features\n",
    "    if save:\n",
    "        result.to_csv(\n",
    "            path_or_buf = aatm_support.next_file('.//Features//calc_features_with_windows'),\n",
    "            sep = ',', \n",
    "            header = True,\n",
    "            index = True\n",
    "        )\n",
    "    \n",
    "    return result\n",
    "\n",
    "# Helper to reshape the feature data loaded from file to fit one window per timestep\n",
    "def reshape_by_windows(data, windows = 4):\n",
    "    return data.values.reshape((data.shape[0], windows, int(data.shape[1] / windows)))"
   ]
  },
  {
   "cell_type": "markdown",
   "metadata": {},
   "source": [
    "#### Aufbau des Modells"
   ]
  },
  {
   "cell_type": "markdown",
   "metadata": {},
   "source": [
    "Das Modell besteht im wesentlichen aus vier paralellen Netzen die je eine Feature-Gruppe (Lexikatlische Feature, Character-N-Grams, Word-N-Grams, PoS-N-Grams) als Input erhalten. \n",
    "\n",
    "Jedes der Netze verwendet über die Inputs zunächst eine Batch-Normalization Schicht nach [S. Ioffe und C. Szegedy (2015)](https://arxiv.org/pdf/1502.03167). Die Normalisierung hilft das Lernen bei starken Schwankungen der Verteilung der Inputparameter zu stabilisieren und zu beschleunigen. Vor allem bei den N-Grams sind solche Schwankungen zwischen einzelnen Beispielen zu erwaten.\n",
    "\n",
    "Auf die Normalisierung folgt jeweils ein bi-direktionales LSTM, wobei die Anzahl der Neuronen ggfs. je nach Feature-Gruppe variiert. Die LSTM-Schichten lernen dabei Muster in den Features und Abhängigkeiten dieser Muster zwsichen den einzelnen Textabschnitten. Die LSTM-Schichten verwenden jeweils einen Dropout, um einem Overfitting auf den relativ kleinen Datensätzen entgegenzuwirken. Ebenfalls zu diesem Zweck wird sowohl für die Kernel als auch für die  Verbindungen zwischen den temporalen Schritten des LSTM eine L2 oder _weight decay_ Regularisierung angewandt. Der λ-Parameter wurde dabei experimentell in den einzelnen Netzen optimiert. Als Aktivierungsfunktion der LSTM Netze wurden experimentell Exponential Linear Units (ELU) gewählt [\\[D. Clevert, T. Unterthiner, S. Hochreiter 2015\\]](https://arxiv.org/pdf/1511.07289).\n",
    "\n",
    "Die paralellen Netze werden anschließend wieder zusammengeführt, gefolgt von zwei vollständig vernetzte Schichten, die ebenfalls jeweils mit Dropout und L2 Regularisierung optimiert werden. Zuletzt wird eine einzelnes Neuron mit sigmoider Aktivierungsfunktion zur binären klassifikation verwendet. Als Fehlerfunktion wird die Binary Cross-Entropy verwendet. "
   ]
  },
  {
   "cell_type": "code",
   "execution_count": null,
   "metadata": {
    "ExecuteTime": {
     "end_time": "2019-02-06T14:42:04.670597Z",
     "start_time": "2019-02-06T14:28:25.063Z"
    }
   },
   "outputs": [],
   "source": [
    "def build_multi_input_lstm_model(\n",
    "    input_dims,\n",
    "    settings,\n",
    "    windows = 4\n",
    "):\n",
    "    # We have four inputs. One for each type of feature: \n",
    "    # Lexical Features, Word N-Grams, Character N-Grams, POS N-Grams\n",
    "    lex_input = Input(shape=[windows, input_dims[0]], name='lex_input')   # 4 lexical features\n",
    "    word_input = Input(shape=[windows, input_dims[1]], name='word_input') # most freq. word (1,2,3)-grams\n",
    "    char_input = Input(shape=[windows, input_dims[2]], name='char_input') # most freq. char (1,2,3,4)-grams\n",
    "    pos_input = Input(shape=[windows, input_dims[3]], name='pos_input')   # most freq. pos (1,2,3)-grams\n",
    "    \n",
    "    lex_norm = BatchNormalization(axis=2)(lex_input) \n",
    "    word_norm = BatchNormalization(axis=2)(word_input)\n",
    "    char_norm = BatchNormalization(axis=2)(char_input)\n",
    "    pos_norm = BatchNormalization(axis=2)(pos_input) \n",
    "    \n",
    "    # A LSTM will transform the window sequence into a single vector,\n",
    "    # containing information about the entire sequence of windows\n",
    "    lex_output = Bidirectional(LSTM(\n",
    "        settings['lex.lstm.units'],\n",
    "        dropout=settings['lex.lstm.dropout'],\n",
    "        recurrent_regularizer=regularizers.l2(settings['lex.lstm.reg_recurrent']),\n",
    "        kernel_regularizer=regularizers.l2(settings['lex.lstm.reg_kernel']),\n",
    "        activation='elu'\n",
    "    ))(lex_norm)\n",
    "    word_output = Bidirectional(LSTM(\n",
    "        settings['word.lstm.units'], \n",
    "        dropout=settings['word.lstm.dropout'],\n",
    "        recurrent_regularizer=regularizers.l2(settings['word.lstm.reg_recurrent']),\n",
    "        kernel_regularizer=regularizers.l2(settings['word.lstm.reg_kernel']),\n",
    "        activation='elu'\n",
    "    ))(word_norm)\n",
    "    char_output = Bidirectional(LSTM(\n",
    "        settings['char.lstm.units'], \n",
    "        dropout=settings['char.lstm.dropout'],\n",
    "        recurrent_regularizer=regularizers.l2(settings['char.lstm.reg_recurrent']),\n",
    "        kernel_regularizer=regularizers.l2(settings['char.lstm.reg_kernel']),\n",
    "        activation='elu'\n",
    "    ))(char_norm)\n",
    "    pos_output = Bidirectional(LSTM(\n",
    "        settings['pos.lstm.units'],\n",
    "        dropout=settings['pos.lstm.dropout'],\n",
    "        recurrent_regularizer=regularizers.l2(settings['pos.lstm.reg_recurrent']),\n",
    "        kernel_regularizer=regularizers.l2(settings['pos.lstm.reg_kernel']),\n",
    "        activation='elu'\n",
    "    ))(pos_norm)\n",
    "    \n",
    "    # Next we join the LSTM outputs into a densely connected network\n",
    "    x = concatenate([lex_output, word_output, char_output, pos_output])\n",
    "    \n",
    "    x = Dense(\n",
    "        settings['dense.1.units'],\n",
    "        activation=settings['dense.1.acti'],\n",
    "        kernel_regularizer=regularizers.l2(settings['dense.1.reg_kernel'])\n",
    "    )(x)\n",
    "    x = BatchNormalization()(x)\n",
    "    x = Dropout(settings['dense.1.dropout'])(x)\n",
    "    x = Dense(\n",
    "        settings['dense.2.units'],\n",
    "        activation=settings['dense.2.acti'],\n",
    "        kernel_regularizer=regularizers.l2(settings['dense.2.reg_kernel'])\n",
    "    )(x)\n",
    "    x = BatchNormalization()(x)\n",
    "    x = Dropout(settings['dense.2.dropout'])(x)\n",
    "    \n",
    "    # And finally we add layer for the output\n",
    "    main_output = Dense(1, activation=settings['out.acti'], name='main_output')(x)\n",
    "    \n",
    "    model = Model(\n",
    "        inputs=[\n",
    "            lex_input,\n",
    "            word_input,\n",
    "            char_input,\n",
    "            pos_input\n",
    "        ], \n",
    "        outputs=[\n",
    "            main_output\n",
    "        ]\n",
    "    )\n",
    "    \n",
    "    model.summary()\n",
    "    \n",
    "    model.compile(\n",
    "        optimizer=RMSprop(lr=settings['lr.initial']),\n",
    "        loss='binary_crossentropy',\n",
    "        metrics=['accuracy']\n",
    "    )\n",
    "    \n",
    "    return model\n",
    "\n",
    "# Helper to split window data into correct input shape for the network\n",
    "def get_inputs_for_model(data, input_dims, windows = 4):\n",
    "    # split for inputs\n",
    "    return [\n",
    "        data[:,:,0:input_dims[0]], \n",
    "        data[:,:,input_dims[0]:sum(input_dims[0:2])], \n",
    "        data[:,:,sum(input_dims[0:2]):sum(input_dims[0:3])], \n",
    "        data[:,:,sum(input_dims[0:3]):]\n",
    "    ]"
   ]
  },
  {
   "cell_type": "markdown",
   "metadata": {},
   "source": [
    "#### Training mit dem Book Summary 2 Datensatz"
   ]
  },
  {
   "cell_type": "markdown",
   "metadata": {},
   "source": [
    "Während die Struktur des Netzes erhalten bleibt, werden für die einzelnen Datensätze die Parameter angepasst. Die hier aufgezeigten Einstellungen entsprechen denen der vorgestellten Modelle. Um konsistente Ergebnisse zu produzieren, werden zur Evaluierung gespeicherte Modelle geladen."
   ]
  },
  {
   "cell_type": "code",
   "execution_count": 40,
   "metadata": {
    "ExecuteTime": {
     "end_time": "2019-02-06T15:33:31.097408Z",
     "start_time": "2019-02-06T15:11:59.403932Z"
    },
    "scrolled": true
   },
   "outputs": [],
   "source": [
    "data = datasets.load_book_summary_2()\n",
    "features = datasets.load_extracted_features('with_windows_bs_2')\n",
    "# 821 cols per window\n",
    "# 0:4\n",
    "# 4:216 => 212\n",
    "# 216:589 => 373\n",
    "# 616: => 232\n",
    "input_dims = (4, 212, 373, 232)\n",
    "\n",
    "features = reshape_by_windows(features)\n",
    "\n",
    "# split into test and training data\n",
    "X_train, X_test, y_train, y_test = train_test_split(features, data.label, test_size=0.25, random_state=42)\n",
    "\n",
    "settings = {\n",
    "    'folder': aatm_support.next_file('./logs/4-lstms-merged/run', ''),\n",
    "    'lex.lstm.units': 16,\n",
    "    'lex.lstm.dropout': 0.1,\n",
    "    'lex.lstm.reg_recurrent': 0.01,\n",
    "    'lex.lstm.reg_kernel': 0.01,\n",
    "    'word.lstm.units': 64,\n",
    "    'word.lstm.dropout': 0.1,\n",
    "    'word.lstm.reg_recurrent': 0.01,\n",
    "    'word.lstm.reg_kernel': 0.01,\n",
    "    'char.lstm.units': 64,\n",
    "    'char.lstm.dropout': 0.1,\n",
    "    'char.lstm.reg_recurrent': 0.01,\n",
    "    'char.lstm.reg_kernel': 0.01,\n",
    "    'pos.lstm.units': 64,\n",
    "    'pos.lstm.dropout': 0.1,\n",
    "    'pos.lstm.reg_recurrent': 0.01,\n",
    "    'pos.lstm.reg_kernel': 0.01,\n",
    "    'dense.1.units': 64,\n",
    "    'dense.1.acti': 'elu',\n",
    "    'dense.1.reg_kernel': 0.2,\n",
    "    'dense.1.dropout': 0.3,\n",
    "    'dense.2.units': 32,\n",
    "    'dense.2.acti': 'elu',\n",
    "    'dense.2.reg_kernel': 0.2,\n",
    "    'dense.2.dropout': 0.2,\n",
    "    'out.acti': 'sigmoid',\n",
    "    'lr.initial': 0.001,\n",
    "    'epochs': 50,\n",
    "    'batch_size': 32,\n",
    "    'early_stop.monitor': 'val_loss',\n",
    "    'early_stop.min_delta': 0,\n",
    "    'early_stop.patience': 15\n",
    "}\n",
    "\n",
    "model = build_multi_input_lstm_model(input_dims, settings)\n",
    "\n",
    "model.fit(\n",
    "    get_inputs_for_model(X_train, input_dims),\n",
    "    y_train,\n",
    "    shuffle=True,\n",
    "    batch_size=settings['batch_size'],\n",
    "    epochs=settings['epochs'], \n",
    "    validation_data=(\n",
    "        get_inputs_for_model(X_test, input_dims), \n",
    "        y_test\n",
    "    ),\n",
    "    callbacks=[\n",
    "        ReduceLROnPlateau(\n",
    "            monitor='val_loss',\n",
    "            factor=0.3,\n",
    "            patience=5, \n",
    "            min_lr=0.0005\n",
    "        ),\n",
    "        EarlyStopping(\n",
    "            monitor=settings['early_stop.monitor'], \n",
    "            min_delta=settings['early_stop.min_delta'],\n",
    "            patience=settings['early_stop.patience'],\n",
    "            restore_best_weights=True\n",
    "        ), \n",
    "        TensorBoardLogger(\n",
    "            log_dir=settings['folder'], \n",
    "            histogram_freq=0,\n",
    "            batch_size=settings['batch_size'], \n",
    "            write_graph=False,\n",
    "            settings_str_to_log=json.dumps(settings, ensure_ascii=False)\n",
    "        )\n",
    "    ]\n",
    ")"
   ]
  },
  {
   "cell_type": "markdown",
   "metadata": {},
   "source": [
    "**Zusammenfassung**\n",
    "\n",
    "Das folgende Modell wird für die Evaluierung und Präsentation verwendet."
   ]
  },
  {
   "cell_type": "code",
   "execution_count": 59,
   "metadata": {
    "ExecuteTime": {
     "end_time": "2019-02-06T16:14:23.916799Z",
     "start_time": "2019-02-06T16:13:19.033234Z"
    }
   },
   "outputs": [
    {
     "name": "stdout",
     "output_type": "stream",
     "text": [
      "__________________________________________________________________________________________________\n",
      "Layer (type)                    Output Shape         Param #     Connected to                     \n",
      "==================================================================================================\n",
      "lex_input (InputLayer)          (None, 4, 4)         0                                            \n",
      "__________________________________________________________________________________________________\n",
      "word_input (InputLayer)         (None, 4, 212)       0                                            \n",
      "__________________________________________________________________________________________________\n",
      "char_input (InputLayer)         (None, 4, 373)       0                                            \n",
      "__________________________________________________________________________________________________\n",
      "pos_input (InputLayer)          (None, 4, 232)       0                                            \n",
      "__________________________________________________________________________________________________\n",
      "batch_normalization_41 (BatchNo (None, 4, 4)         16          lex_input[0][0]                  \n",
      "__________________________________________________________________________________________________\n",
      "batch_normalization_42 (BatchNo (None, 4, 212)       848         word_input[0][0]                 \n",
      "__________________________________________________________________________________________________\n",
      "batch_normalization_43 (BatchNo (None, 4, 373)       1492        char_input[0][0]                 \n",
      "__________________________________________________________________________________________________\n",
      "batch_normalization_44 (BatchNo (None, 4, 232)       928         pos_input[0][0]                  \n",
      "__________________________________________________________________________________________________\n",
      "bidirectional_25 (Bidirectional (None, 32)           2688        batch_normalization_41[0][0]     \n",
      "__________________________________________________________________________________________________\n",
      "bidirectional_26 (Bidirectional (None, 128)          141824      batch_normalization_42[0][0]     \n",
      "__________________________________________________________________________________________________\n",
      "bidirectional_27 (Bidirectional (None, 128)          224256      batch_normalization_43[0][0]     \n",
      "__________________________________________________________________________________________________\n",
      "bidirectional_28 (Bidirectional (None, 128)          152064      batch_normalization_44[0][0]     \n",
      "__________________________________________________________________________________________________\n",
      "concatenate_7 (Concatenate)     (None, 416)          0           bidirectional_25[0][0]           \n",
      "                                                                 bidirectional_26[0][0]           \n",
      "                                                                 bidirectional_27[0][0]           \n",
      "                                                                 bidirectional_28[0][0]           \n",
      "__________________________________________________________________________________________________\n",
      "dense_13 (Dense)                (None, 64)           26688       concatenate_7[0][0]              \n",
      "__________________________________________________________________________________________________\n",
      "batch_normalization_45 (BatchNo (None, 64)           256         dense_13[0][0]                   \n",
      "__________________________________________________________________________________________________\n",
      "dropout_13 (Dropout)            (None, 64)           0           batch_normalization_45[0][0]     \n",
      "__________________________________________________________________________________________________\n",
      "dense_14 (Dense)                (None, 32)           2080        dropout_13[0][0]                 \n",
      "__________________________________________________________________________________________________\n",
      "batch_normalization_46 (BatchNo (None, 32)           128         dense_14[0][0]                   \n",
      "__________________________________________________________________________________________________\n",
      "dropout_14 (Dropout)            (None, 32)           0           batch_normalization_46[0][0]     \n",
      "__________________________________________________________________________________________________\n",
      "main_output (Dense)             (None, 1)            33          dropout_14[0][0]                 \n",
      "==================================================================================================\n",
      "Total params: 553,301\n",
      "Trainable params: 551,467\n",
      "Non-trainable params: 1,834\n",
      "__________________________________________________________________________________________________\n"
     ]
    }
   ],
   "source": [
    "load_model('./models/4-lstms-merged/model_1.h5').summary()"
   ]
  },
  {
   "cell_type": "markdown",
   "metadata": {},
   "source": [
    "![lstm-merged-acc](./img/lstm-merged-acc.png)\n",
    "![lstm-merged-loss](./img/lstm-merged-loss.png)\n",
    "![lstm-merged-val-acc](./img/lstm-merged-val-acc.png)\n",
    "![lstm-merged-val-loss](./img/lstm-merged-val-loss.png)"
   ]
  },
  {
   "cell_type": "markdown",
   "metadata": {},
   "source": [
    "#### Training mit dem PAN Datensatz"
   ]
  },
  {
   "cell_type": "markdown",
   "metadata": {},
   "source": [
    "Während die Struktur des Netzes erhalten bleibt, werden für die einzelnen Datensätze die Parameter angepasst. Die hier aufgezeigten Einstellungen entsprechen denen der vorgestellten Modelle. Um konsistente Ergebnisse zu produzieren, werden zur Evaluierung gespeicherte Modelle geladen."
   ]
  },
  {
   "cell_type": "code",
   "execution_count": null,
   "metadata": {},
   "outputs": [],
   "source": [
    "data_train = datasets.load_pan_data('training')\n",
    "data_val = datasets.load_pan_data('validation')\n",
    "features_train = datasets.load_extracted_features('with_windows_pan_training_2')\n",
    "features_val = datasets.load_extracted_features('with_windows_pan_valiation_2')\n",
    "# 848 cols per window\n",
    "# lex: 0:4 => 4\n",
    "# word: 4:231 => 227\n",
    "# chars: 231:616 => 385\n",
    "# pos: 616: => 232\n",
    "input_dims = (4, 227, 385, 232)\n",
    "\n",
    "features_train = reshape_by_windows(features_train)\n",
    "features_val = reshape_by_windows(features_val)\n",
    "\n",
    "# split into test and training data\n",
    "X_train = features_train \n",
    "X_test = features_val\n",
    "y_train = data_train.label\n",
    "y_test = data_val.label\n",
    "\n",
    "settings = {\n",
    "    'folder': aatm_support.next_file('./logs/4-lstms-merged-pan/run', ''),\n",
    "    'lex.lstm.units': 16,\n",
    "    'lex.lstm.dropout': 0.5,\n",
    "    'lex.lstm.reg_recurrent': 0.3,\n",
    "    'lex.lstm.reg_kernel': 0.2,\n",
    "    'word.lstm.units': 64,\n",
    "    'word.lstm.dropout': 0.5,\n",
    "    'word.lstm.reg_recurrent': 0.3,\n",
    "    'word.lstm.reg_kernel': 0.2,\n",
    "    'char.lstm.units': 64,\n",
    "    'char.lstm.dropout': 0.5,\n",
    "    'char.lstm.reg_recurrent': 0.3,\n",
    "    'char.lstm.reg_kernel': 0.2,\n",
    "    'pos.lstm.units': 64,\n",
    "    'pos.lstm.dropout': 0.5,\n",
    "    'pos.lstm.reg_recurrent': 0.3,\n",
    "    'pos.lstm.reg_kernel': 0.2,\n",
    "    'dense.1.units': 128,\n",
    "    'dense.1.acti': 'elu',\n",
    "    'dense.1.reg_kernel': 0.3,\n",
    "    'dense.1.dropout': 0.5,\n",
    "    'dense.2.units': 64,\n",
    "    'dense.2.acti': 'elu',\n",
    "    'dense.2.reg_kernel': 0.3,\n",
    "    'dense.2.dropout': 0.5,\n",
    "    'out.acti': 'sigmoid',\n",
    "    'lr.initial': 0.005,\n",
    "    'epochs': 50,\n",
    "    'batch_size': 50,\n",
    "    'early_stop.monitor': 'val_loss',\n",
    "    'early_stop.min_delta': 0,\n",
    "    'early_stop.patience': 15\n",
    "}\n",
    "\n",
    "model = build_multi_input_lstm_model(input_dims, settings)\n",
    "\n",
    "model.fit(\n",
    "    get_inputs_for_model(X_train, input_dims),\n",
    "    y_train,\n",
    "    batch_size=settings['batch_size'],\n",
    "    shuffle=True,\n",
    "    epochs=settings['epochs'], \n",
    "    validation_data=(\n",
    "        get_inputs_for_model(X_test, input_dims),\n",
    "        y_test,\n",
    "    ),\n",
    "    callbacks=[\n",
    "        ReduceLROnPlateau(\n",
    "            monitor='val_loss',\n",
    "            factor=0.5,\n",
    "            patience=5, \n",
    "            min_lr=0.0005\n",
    "        ),\n",
    "        EarlyStopping(\n",
    "            monitor=settings['early_stop.monitor'], \n",
    "            min_delta=settings['early_stop.min_delta'],\n",
    "            patience=settings['early_stop.patience'],\n",
    "            restore_best_weights=True\n",
    "        ), \n",
    "        TensorBoardLogger(\n",
    "            log_dir=settings['folder'], \n",
    "            histogram_freq=0,\n",
    "            batch_size=settings['batch_size'], \n",
    "            write_graph=False,\n",
    "            settings_str_to_log=json.dumps(settings, ensure_ascii=False)\n",
    "        )\n",
    "    ]\n",
    ")"
   ]
  },
  {
   "cell_type": "markdown",
   "metadata": {},
   "source": [
    "**Zusammenfassung**\n",
    "\n",
    "Das folgende Modell wird für die Evaluierung und Präsentation verwendet."
   ]
  },
  {
   "cell_type": "code",
   "execution_count": 60,
   "metadata": {
    "ExecuteTime": {
     "end_time": "2019-02-06T16:40:01.073255Z",
     "start_time": "2019-02-06T16:38:48.515449Z"
    },
    "scrolled": true
   },
   "outputs": [
    {
     "name": "stdout",
     "output_type": "stream",
     "text": [
      "__________________________________________________________________________________________________\n",
      "Layer (type)                    Output Shape         Param #     Connected to                     \n",
      "==================================================================================================\n",
      "lex_input (InputLayer)          (None, 4, 4)         0                                            \n",
      "__________________________________________________________________________________________________\n",
      "word_input (InputLayer)         (None, 4, 227)       0                                            \n",
      "__________________________________________________________________________________________________\n",
      "char_input (InputLayer)         (None, 4, 385)       0                                            \n",
      "__________________________________________________________________________________________________\n",
      "pos_input (InputLayer)          (None, 4, 232)       0                                            \n",
      "__________________________________________________________________________________________________\n",
      "batch_normalization_143 (BatchN (None, 4, 4)         16          lex_input[0][0]                  \n",
      "__________________________________________________________________________________________________\n",
      "batch_normalization_144 (BatchN (None, 4, 227)       908         word_input[0][0]                 \n",
      "__________________________________________________________________________________________________\n",
      "batch_normalization_145 (BatchN (None, 4, 385)       1540        char_input[0][0]                 \n",
      "__________________________________________________________________________________________________\n",
      "batch_normalization_146 (BatchN (None, 4, 232)       928         pos_input[0][0]                  \n",
      "__________________________________________________________________________________________________\n",
      "bidirectional_81 (Bidirectional (None, 32)           2688        batch_normalization_143[0][0]    \n",
      "__________________________________________________________________________________________________\n",
      "bidirectional_82 (Bidirectional (None, 128)          149504      batch_normalization_144[0][0]    \n",
      "__________________________________________________________________________________________________\n",
      "bidirectional_83 (Bidirectional (None, 128)          230400      batch_normalization_145[0][0]    \n",
      "__________________________________________________________________________________________________\n",
      "bidirectional_84 (Bidirectional (None, 128)          152064      batch_normalization_146[0][0]    \n",
      "__________________________________________________________________________________________________\n",
      "concatenate_45 (Concatenate)    (None, 416)          0           bidirectional_81[0][0]           \n",
      "                                                                 bidirectional_82[0][0]           \n",
      "                                                                 bidirectional_83[0][0]           \n",
      "                                                                 bidirectional_84[0][0]           \n",
      "__________________________________________________________________________________________________\n",
      "dense_89 (Dense)                (None, 128)          53376       concatenate_45[0][0]             \n",
      "__________________________________________________________________________________________________\n",
      "batch_normalization_147 (BatchN (None, 128)          512         dense_89[0][0]                   \n",
      "__________________________________________________________________________________________________\n",
      "dropout_88 (Dropout)            (None, 128)          0           batch_normalization_147[0][0]    \n",
      "__________________________________________________________________________________________________\n",
      "dense_90 (Dense)                (None, 64)           8256        dropout_88[0][0]                 \n",
      "__________________________________________________________________________________________________\n",
      "batch_normalization_148 (BatchN (None, 64)           256         dense_90[0][0]                   \n",
      "__________________________________________________________________________________________________\n",
      "dropout_89 (Dropout)            (None, 64)           0           batch_normalization_148[0][0]    \n",
      "__________________________________________________________________________________________________\n",
      "main_output (Dense)             (None, 1)            65          dropout_89[0][0]                 \n",
      "==================================================================================================\n",
      "Total params: 600,513\n",
      "Trainable params: 598,433\n",
      "Non-trainable params: 2,080\n",
      "__________________________________________________________________________________________________\n"
     ]
    }
   ],
   "source": [
    "load_model('./models/4-lstms-merged-pan/model_1.h5').summary()"
   ]
  },
  {
   "cell_type": "markdown",
   "metadata": {},
   "source": [
    "![lstm-merged-pan-acc](./img/lstm-merged-pan-acc.png)\n",
    "![lstm-merged-pan-loss](./img/lstm-merged-pan-loss.png)\n",
    "![lstm-merged-pan-val-acc](./img/lstm-merged-pan-val-acc.png)\n",
    "![lstm-merged-pan-val-loss](./img/lstm-merged-pan-val-loss.png)"
   ]
  },
  {
   "cell_type": "markdown",
   "metadata": {},
   "source": [
    "#### Evaluation der trainierten Modelle"
   ]
  },
  {
   "cell_type": "code",
   "execution_count": 57,
   "metadata": {
    "ExecuteTime": {
     "end_time": "2019-02-06T16:08:53.452198Z",
     "start_time": "2019-02-06T16:08:53.448849Z"
    },
    "scrolled": true
   },
   "outputs": [],
   "source": [
    "def evalulate_multi_input_lstm(model, data, features, input_dims):\n",
    "    result = model.evaluate(\n",
    "        get_inputs_for_model(reshape_by_windows(features), input_dims), \n",
    "        data.label\n",
    "    )\n",
    "\n",
    "    print('Loss: {:f}'.format(result[0]))\n",
    "    print('Accuracy: {:.2f}%'.format(result[1] * 100))\n",
    "    print('\\n\\n')"
   ]
  },
  {
   "cell_type": "code",
   "execution_count": 58,
   "metadata": {
    "ExecuteTime": {
     "end_time": "2019-02-06T16:13:18.758237Z",
     "start_time": "2019-02-06T16:08:53.551290Z"
    }
   },
   "outputs": [
    {
     "name": "stdout",
     "output_type": "stream",
     "text": [
      "Book Summary 1\n",
      "11039/11039 [==============================] - 11s 1ms/step\n",
      "Loss: 0.532000\n",
      "Accuracy: 76.63%\n",
      "\n",
      "\n",
      "\n",
      "Book Summary 2\n",
      "7397/7397 [==============================] - 11s 1ms/step\n",
      "Loss: 0.499192\n",
      "Accuracy: 77.90%\n",
      "\n",
      "\n",
      "\n",
      "PAN\n",
      "1352/1352 [==============================] - 10s 7ms/step\n",
      "Loss: 1.039965\n",
      "Accuracy: 60.80%\n",
      "\n",
      "\n",
      "\n"
     ]
    }
   ],
   "source": [
    "print('Book Summary 1')\n",
    "evalulate_multi_input_lstm(\n",
    "    load_model('./models/4-lstms-merged/model_1.h5'),\n",
    "    datasets.load_book_summary_1(),\n",
    "    datasets.load_extracted_features('with_windows_bs_1.2'),\n",
    "    input_dims = (4, 212, 373, 232)\n",
    ")\n",
    "print('Book Summary 2')\n",
    "X_train, X_test, y_train, y_test = train_test_split(\n",
    "    datasets.load_extracted_features('with_windows_bs_2'), \n",
    "    datasets.load_book_summary_2(), \n",
    "    test_size=0.25,\n",
    "    random_state=42 # produces consistent result with training splits\n",
    ")\n",
    "\n",
    "evalulate_multi_input_lstm(\n",
    "    load_model('./models/4-lstms-merged/model_1.h5'),\n",
    "    y_test,\n",
    "    X_test,\n",
    "    input_dims = (4, 212, 373, 232)\n",
    ")\n",
    "print('PAN')\n",
    "evalulate_multi_input_lstm(\n",
    "    load_model('./models/4-lstms-merged-pan/model_1.h5'),\n",
    "    datasets.load_pan_data('test'),\n",
    "    datasets.load_extracted_features('with_windows_pan_test_2'),\n",
    "    input_dims = (4, 227, 385, 232)\n",
    ")"
   ]
  },
  {
   "cell_type": "markdown",
   "metadata": {},
   "source": [
    "### Ansatz 2: Parallele LSTM Netze zum Vergleich temporal gegensätzlicher Stilentwicklungen"
   ]
  },
  {
   "cell_type": "markdown",
   "metadata": {
    "ExecuteTime": {
     "end_time": "2019-02-04T18:52:46.152369Z",
     "start_time": "2019-02-04T18:52:46.148695Z"
    }
   },
   "source": [
    "Basierend auf [M. Hosseinia and A. Mukherjee (2018)](http://ceur-ws.org/Vol-2125/paper_91.pdf) werden im zweiten Ansatz zwei paralelle LSTM Netze verwendet. Die Textabschnitte werden jedoch in das eine vorwärts in das andere rückwärts eingespeißt. In den LSTMs werden dann Muster für jeden Abschnitt gelernt, auch in Abhängigkeit der vorherigen Zeitschritte. Die LSTM Netze geben jeweils einen Output pro Unit und Textabshnitt anstatt einem einzigen für den letzten Textabschnitt. Diese Sequenzen werden dann paarweise verglichen, sodass im zum Beispiel der erste Textabschnitt und die dort erkannten Muster oder stilistischen Eigenschaften mit denen im letzten Textabschnitt verglichen werden. Unterscheiden sich der Stil im Laufe der Abschnitte, sollten die resultierenden Sequenzen größere Unterschiede aufweisen, als bei einem konsistenten Text."
   ]
  },
  {
   "cell_type": "markdown",
   "metadata": {},
   "source": [
    "#### Segmentierung von Texten"
   ]
  },
  {
   "cell_type": "markdown",
   "metadata": {
    "ExecuteTime": {
     "end_time": "2019-02-04T18:01:14.685338Z",
     "start_time": "2019-02-04T17:56:11.644Z"
    }
   },
   "source": [
    "Die Segmentierung entspricht der aus [Kapitel 5.3.1](#Segmentierung-von-Texten)."
   ]
  },
  {
   "cell_type": "markdown",
   "metadata": {},
   "source": [
    "#### Aufbau des Modells"
   ]
  },
  {
   "cell_type": "markdown",
   "metadata": {},
   "source": [
    "Das Modell besteht aus zwei parallelen Netzenvon denen eines die Textabschnitte in richtiger und das zweite in umgekehrter Reihenfolge als Eingabe erhält. Beide Netze erhalten alle Feature aus allen feature-Gruppe als Eingabe.\n",
    "\n",
    "Jedes der Netze verwendet über die Inputs zunächst wieder eine Batch-Normalization Schicht. Auf die Normalisierung folgt jeweils eine LSTM Schicht. Im Unterschied zum ersten Ansatz kommt wird auch für die Verbindungen zwischen den temporalen Schritten des LSTM ein Dropout angewandt. Als Aktivierungsfunktion der LSTM Netze wurde ein Tangens hyperbolicus (tanh) gewählt. Beide LSTM-Schichten geben eine Sequenz für jeden Zeitschritt aus. Die zweite LSTM-Schicht (x2) geht die Zeitschritte rückwärts durch.\n",
    "\n",
    "Die parallelen Netze werden anschließend wieder zusammengeführt. Im Unterschied zum ersten Ansatz nicht durch Aneinanderhängen der Ausgaben sondern durch eine Kombination aus der paarweisen Kosinus-Ähnlichkeit und dem paarweisen Durchschnitt der Ausgabe. Es folgen ebenfalls zwei vollständig vernetzte Schichten eine einzelnes Neuron mit sigmoider Aktivierungsfunktion zur binären Klassifikation. Als Fehlerfunktion wird die Binary Cross-Entropy verwendet."
   ]
  },
  {
   "cell_type": "code",
   "execution_count": 82,
   "metadata": {
    "ExecuteTime": {
     "end_time": "2019-02-07T15:09:56.325952Z",
     "start_time": "2019-02-07T15:09:56.248941Z"
    }
   },
   "outputs": [],
   "source": [
    "def getFaRLSTM(\n",
    "    n_features,\n",
    "    settings,\n",
    "    windows = 4\n",
    "):\n",
    "    # We have four inputs. One for each type of feature: \n",
    "    # Lexical Features, Word N-Grams, Character N-Grams, POS N-Grams\n",
    "    i = Input(shape=[windows, n_features], name='input')\n",
    "    \n",
    "    x = BatchNormalization(axis=2)(i)\n",
    "    \n",
    "    # A LSTM will transform the window sequence into a single vector,\n",
    "    # containing information about the entire sequence of windows\n",
    "    x1 = LSTM(\n",
    "        settings['forward.lstm.units'],\n",
    "        dropout=settings['forward.lstm.dropout'],\n",
    "        recurrent_dropout=settings['forward.lstm.dropout'],\n",
    "        recurrent_regularizer=regularizers.l2(settings['forward.lstm.reg_recurrent']),\n",
    "        kernel_regularizer=regularizers.l2(settings['forward.lstm.reg_kernel']),\n",
    "        return_sequences=True,\n",
    "        activation='elu'\n",
    "    )(x)\n",
    "    \n",
    "    x2 = LSTM(\n",
    "        settings['backward.lstm.units'],\n",
    "        dropout=settings['backward.lstm.dropout'],\n",
    "        recurrent_dropout=settings['backward.lstm.dropout'],\n",
    "        recurrent_regularizer=regularizers.l2(settings['backward.lstm.reg_recurrent']),\n",
    "        kernel_regularizer=regularizers.l2(settings['backward.lstm.reg_kernel']),\n",
    "        return_sequences=True,\n",
    "        activation='elu',\n",
    "        go_backwards=True\n",
    "    )(x)\n",
    "    \n",
    "    # Next we join the LSTM outputs into a densely connected network\n",
    "    dot = Dot(2, normalize=True)([x1, x2])\n",
    "    avg = Average()([x1,x2])\n",
    "    x = concatenate([dot, avg])\n",
    "    x = Flatten()(x)\n",
    "    \n",
    "    x = Dense(\n",
    "        settings['dense.1.units'],\n",
    "        activation=settings['dense.1.acti'],\n",
    "        kernel_regularizer=regularizers.l2(settings['dense.1.reg_kernel'])\n",
    "    )(x)\n",
    "    x = BatchNormalization()(x)\n",
    "    x = Dropout(settings['dense.1.dropout'])(x)\n",
    "    x = Dense(\n",
    "        settings['dense.2.units'],\n",
    "        activation=settings['dense.2.acti'],\n",
    "        kernel_regularizer=regularizers.l2(settings['dense.2.reg_kernel'])\n",
    "    )(x)\n",
    "    x = BatchNormalization()(x)\n",
    "    x = Dropout(settings['dense.2.dropout'])(x)\n",
    "    \n",
    "    # And finally we add a layer for the output\n",
    "    o = Dense(1, activation=settings['out.acti'], name='main_output')(x)\n",
    "    \n",
    "    model = Model(inputs=[i], outputs=[o])\n",
    "    model.summary()\n",
    "    \n",
    "    model.compile(\n",
    "        optimizer=RMSprop(lr=settings['lr.initial']),\n",
    "        loss='binary_crossentropy',\n",
    "        metrics=['accuracy']\n",
    "    )\n",
    "    \n",
    "    return model"
   ]
  },
  {
   "cell_type": "markdown",
   "metadata": {},
   "source": [
    "#### Training auf dem Book Summary 2 Datensatz"
   ]
  },
  {
   "cell_type": "markdown",
   "metadata": {},
   "source": [
    "Während die Struktur des Netzes erhalten bleibt, werden für die einzelnen Datensätze die Parameter angepasst. Die hier aufgezeigten Einstellungen entsprechen denen der vorgestellten Modelle. Um konsistente Ergebnisse zu produzieren, werden zur Evaluierung gespeicherte Modelle geladen."
   ]
  },
  {
   "cell_type": "code",
   "execution_count": null,
   "metadata": {},
   "outputs": [],
   "source": [
    "data = datasets.load_book_summary_2()\n",
    "features = datasets.load_extracted_features('with_windows_bs_2')\n",
    "\n",
    "features = reshape_by_windows(features)\n",
    "\n",
    "# split into test and training data\n",
    "X_train, X_test, y_train, y_test = train_test_split(features, data.label, test_size=0.2)\n",
    "\n",
    "settings = {\n",
    "    'folder': aatm_support.next_file('./logs/FaRLSTM-constructed-2/run', ''),\n",
    "    'forward.lstm.units': 32,\n",
    "    'forward.lstm.dropout': 0.2,\n",
    "    'forward.lstm.reg_recurrent': 0.055,\n",
    "    'forward.lstm.reg_kernel': 0.05,\n",
    "    'backward.lstm.units': 32,\n",
    "    'backward.lstm.dropout': 0.2,\n",
    "    'forward.lstm.reg_recurrent': 0.055,\n",
    "    'forward.lstm.reg_kernel': 0.05,\n",
    "    'dense.1.units': 16,\n",
    "    'dense.1.acti': 'elu',\n",
    "    'dense.1.reg_kernel': 0.1,\n",
    "    'dense.1.dropout': 0.2,\n",
    "    'dense.2.units': 8,\n",
    "    'dense.2.acti': 'relu',\n",
    "    'dense.2.reg_kernel': 0.1,\n",
    "    'dense.2.dropout': 0.2,\n",
    "    'out.acti': 'sigmoid',\n",
    "    'lr.initial': 0.002,\n",
    "    'epochs': 100,\n",
    "    'batch_size': 50,\n",
    "    'early_stop.monitor': 'val_loss',\n",
    "    'early_stop.min_delta': 0,\n",
    "    'early_stop.patience': 8\n",
    "}\n",
    "\n",
    "\n",
    "# Build the model\n",
    "n_features = features.shape[2]\n",
    "model = getFaRLSTM(n_features, settings)\n",
    "\n",
    "model.fit(\n",
    "    X_train,\n",
    "    y_train,\n",
    "    batch_size=settings['batch_size'],\n",
    "    shuffle=True,\n",
    "    epochs=settings['epochs'], \n",
    "    validation_data=(\n",
    "        X_test,\n",
    "        y_test,\n",
    "    ),\n",
    "    callbacks=[\n",
    "        ReduceLROnPlateau(\n",
    "            monitor='val_loss',\n",
    "            factor=0.5,\n",
    "            patience=2, \n",
    "            min_lr=0.0005\n",
    "        ),\n",
    "        EarlyStopping(\n",
    "            monitor=settings['early_stop.monitor'], \n",
    "            min_delta=settings['early_stop.min_delta'],\n",
    "            patience=settings['early_stop.patience'],\n",
    "            restore_best_weights=True\n",
    "        ), \n",
    "        TensorBoardLogger(\n",
    "            log_dir=settings['folder'], \n",
    "            histogram_freq=0,\n",
    "            batch_size=settings['batch_size'], \n",
    "            write_graph=False,\n",
    "            settings_str_to_log=json.dumps(settings, ensure_ascii=False)\n",
    "        )\n",
    "    ]\n",
    ")"
   ]
  },
  {
   "cell_type": "markdown",
   "metadata": {},
   "source": [
    "**Zusammenfassung**\n",
    "\n",
    "Das folgende Modell wird für die Evaluierung und Präsentation verwendet."
   ]
  },
  {
   "cell_type": "code",
   "execution_count": 61,
   "metadata": {
    "ExecuteTime": {
     "end_time": "2019-02-06T16:47:08.403561Z",
     "start_time": "2019-02-06T16:46:06.068072Z"
    },
    "scrolled": false
   },
   "outputs": [
    {
     "name": "stdout",
     "output_type": "stream",
     "text": [
      "__________________________________________________________________________________________________\n",
      "Layer (type)                    Output Shape         Param #     Connected to                     \n",
      "==================================================================================================\n",
      "input (InputLayer)              (None, 4, 821)       0                                            \n",
      "__________________________________________________________________________________________________\n",
      "batch_normalization_82 (BatchNo (None, 4, 821)       3284        input[0][0]                      \n",
      "__________________________________________________________________________________________________\n",
      "lstm_63 (LSTM)                  (None, 4, 32)        109312      batch_normalization_82[0][0]     \n",
      "__________________________________________________________________________________________________\n",
      "lstm_64 (LSTM)                  (None, 4, 32)        109312      batch_normalization_82[0][0]     \n",
      "__________________________________________________________________________________________________\n",
      "dot_25 (Dot)                    (None, 4, 4)         0           lstm_63[0][0]                    \n",
      "                                                                 lstm_64[0][0]                    \n",
      "__________________________________________________________________________________________________\n",
      "average_10 (Average)            (None, 4, 32)        0           lstm_63[0][0]                    \n",
      "                                                                 lstm_64[0][0]                    \n",
      "__________________________________________________________________________________________________\n",
      "concatenate_10 (Concatenate)    (None, 4, 36)        0           dot_25[0][0]                     \n",
      "                                                                 average_10[0][0]                 \n",
      "__________________________________________________________________________________________________\n",
      "flatten_16 (Flatten)            (None, 144)          0           concatenate_10[0][0]             \n",
      "__________________________________________________________________________________________________\n",
      "dense_43 (Dense)                (None, 16)           2320        flatten_16[0][0]                 \n",
      "__________________________________________________________________________________________________\n",
      "batch_normalization_83 (BatchNo (None, 16)           64          dense_43[0][0]                   \n",
      "__________________________________________________________________________________________________\n",
      "dropout_43 (Dropout)            (None, 16)           0           batch_normalization_83[0][0]     \n",
      "__________________________________________________________________________________________________\n",
      "dense_44 (Dense)                (None, 8)            136         dropout_43[0][0]                 \n",
      "__________________________________________________________________________________________________\n",
      "batch_normalization_84 (BatchNo (None, 8)            32          dense_44[0][0]                   \n",
      "__________________________________________________________________________________________________\n",
      "dropout_44 (Dropout)            (None, 8)            0           batch_normalization_84[0][0]     \n",
      "__________________________________________________________________________________________________\n",
      "main_output (Dense)             (None, 1)            9           dropout_44[0][0]                 \n",
      "==================================================================================================\n",
      "Total params: 224,469\n",
      "Trainable params: 222,779\n",
      "Non-trainable params: 1,690\n",
      "__________________________________________________________________________________________________\n"
     ]
    }
   ],
   "source": [
    "load_model('./models/FaRLSTM-constructed-2/model_0.h5').summary()"
   ]
  },
  {
   "cell_type": "markdown",
   "metadata": {},
   "source": [
    "![farlstm-acc](./img/farlstm-acc.png)\n",
    "![farlstm-loss](./img/farlstm-loss.png)\n",
    "![farlstm-val-acc](./img/farlstm-val-acc.png)\n",
    "![farlstm-val-loss](./img/farlstm-val-loss.png)"
   ]
  },
  {
   "cell_type": "markdown",
   "metadata": {},
   "source": [
    "#### Training auf dem PAN Datensatz"
   ]
  },
  {
   "cell_type": "markdown",
   "metadata": {},
   "source": [
    "Während die Struktur des Netzes erhalten bleibt, werden für die einzelnen Datensätze die Parameter angepasst. Die hier aufgezeigten Einstellungen entsprechen denen der vorgestellten Modelle. Um konsistente Ergebnisse zu produzieren, werden zur Evaluierung gespeicherte Modelle geladen."
   ]
  },
  {
   "cell_type": "code",
   "execution_count": 109,
   "metadata": {
    "ExecuteTime": {
     "end_time": "2019-02-07T17:31:43.641840Z",
     "start_time": "2019-02-07T17:24:55.015677Z"
    }
   },
   "outputs": [
    {
     "name": "stdout",
     "output_type": "stream",
     "text": [
      "Next available file: ./logs/FaRLSTM/run_33\n",
      "__________________________________________________________________________________________________\n",
      "Layer (type)                    Output Shape         Param #     Connected to                     \n",
      "==================================================================================================\n",
      "input (InputLayer)              (None, 4, 848)       0                                            \n",
      "__________________________________________________________________________________________________\n",
      "batch_normalization_95 (BatchNo (None, 4, 848)       3392        input[0][0]                      \n",
      "__________________________________________________________________________________________________\n",
      "lstm_61 (LSTM)                  (None, 4, 8)         27424       batch_normalization_95[0][0]     \n",
      "__________________________________________________________________________________________________\n",
      "lstm_62 (LSTM)                  (None, 4, 8)         27424       batch_normalization_95[0][0]     \n",
      "__________________________________________________________________________________________________\n",
      "dot_17 (Dot)                    (None, 4, 4)         0           lstm_61[0][0]                    \n",
      "                                                                 lstm_62[0][0]                    \n",
      "__________________________________________________________________________________________________\n",
      "average_17 (Average)            (None, 4, 8)         0           lstm_61[0][0]                    \n",
      "                                                                 lstm_62[0][0]                    \n",
      "__________________________________________________________________________________________________\n",
      "concatenate_24 (Concatenate)    (None, 4, 12)        0           dot_17[0][0]                     \n",
      "                                                                 average_17[0][0]                 \n",
      "__________________________________________________________________________________________________\n",
      "flatten_17 (Flatten)            (None, 48)           0           concatenate_24[0][0]             \n",
      "__________________________________________________________________________________________________\n",
      "dense_47 (Dense)                (None, 16)           784         flatten_17[0][0]                 \n",
      "__________________________________________________________________________________________________\n",
      "batch_normalization_96 (BatchNo (None, 16)           64          dense_47[0][0]                   \n",
      "__________________________________________________________________________________________________\n",
      "dropout_47 (Dropout)            (None, 16)           0           batch_normalization_96[0][0]     \n",
      "__________________________________________________________________________________________________\n",
      "dense_48 (Dense)                (None, 8)            136         dropout_47[0][0]                 \n",
      "__________________________________________________________________________________________________\n",
      "batch_normalization_97 (BatchNo (None, 8)            32          dense_48[0][0]                   \n",
      "__________________________________________________________________________________________________\n",
      "dropout_48 (Dropout)            (None, 8)            0           batch_normalization_97[0][0]     \n",
      "__________________________________________________________________________________________________\n",
      "main_output (Dense)             (None, 1)            9           dropout_48[0][0]                 \n",
      "==================================================================================================\n",
      "Total params: 59,265\n",
      "Trainable params: 57,521\n",
      "Non-trainable params: 1,744\n",
      "__________________________________________________________________________________________________\n",
      "\n",
      "Fold  0\n",
      "Train on 3576 samples, validate on 896 samples\n",
      "Epoch 1/100\n",
      "3576/3576 [==============================] - 25s 7ms/step - loss: 10.2550 - acc: 0.5081 - val_loss: 2.3520 - val_acc: 0.4955\n",
      "Epoch 2/100\n",
      "3576/3576 [==============================] - 3s 921us/step - loss: 1.5260 - acc: 0.5364 - val_loss: 1.1095 - val_acc: 0.5714\n",
      "Epoch 3/100\n",
      "3576/3576 [==============================] - 3s 906us/step - loss: 0.9909 - acc: 0.5305 - val_loss: 0.8992 - val_acc: 0.5770\n",
      "Epoch 4/100\n",
      "3576/3576 [==============================] - 3s 937us/step - loss: 0.8671 - acc: 0.5534 - val_loss: 0.8184 - val_acc: 0.6071\n",
      "Epoch 5/100\n",
      "3576/3576 [==============================] - 4s 994us/step - loss: 0.8181 - acc: 0.6074 - val_loss: 0.8023 - val_acc: 0.6116\n",
      "Epoch 6/100\n",
      "3576/3576 [==============================] - 4s 1ms/step - loss: 0.8007 - acc: 0.6021 - val_loss: 0.7669 - val_acc: 0.6462\n",
      "Epoch 7/100\n",
      "3576/3576 [==============================] - 4s 999us/step - loss: 0.7833 - acc: 0.6253 - val_loss: 0.7852 - val_acc: 0.6183\n",
      "Epoch 8/100\n",
      "3576/3576 [==============================] - 4s 1ms/step - loss: 0.7719 - acc: 0.6225 - val_loss: 0.7947 - val_acc: 0.6071\n",
      "Epoch 9/100\n",
      "3576/3576 [==============================] - 3s 948us/step - loss: 0.7680 - acc: 0.6250 - val_loss: 0.7840 - val_acc: 0.5882\n",
      "Epoch 10/100\n",
      "3576/3576 [==============================] - 4s 980us/step - loss: 0.7591 - acc: 0.6278 - val_loss: 0.7523 - val_acc: 0.6071\n",
      "Epoch 11/100\n",
      "3576/3576 [==============================] - 4s 995us/step - loss: 0.7476 - acc: 0.6337 - val_loss: 0.7399 - val_acc: 0.6350\n",
      "Epoch 12/100\n",
      "3576/3576 [==============================] - 4s 1ms/step - loss: 0.7491 - acc: 0.6242 - val_loss: 0.7471 - val_acc: 0.6295\n",
      "Epoch 13/100\n",
      "3576/3576 [==============================] - 3s 977us/step - loss: 0.7508 - acc: 0.6261 - val_loss: 0.7394 - val_acc: 0.6049\n",
      "Epoch 14/100\n",
      "3576/3576 [==============================] - 4s 1ms/step - loss: 0.7413 - acc: 0.6376 - val_loss: 0.7326 - val_acc: 0.6272\n",
      "Epoch 15/100\n",
      "3576/3576 [==============================] - 4s 1ms/step - loss: 0.7486 - acc: 0.6272 - val_loss: 0.7547 - val_acc: 0.6105\n",
      "Epoch 16/100\n",
      "3576/3576 [==============================] - 4s 1ms/step - loss: 0.7414 - acc: 0.6353 - val_loss: 0.7269 - val_acc: 0.6362\n",
      "Epoch 17/100\n",
      "3576/3576 [==============================] - 4s 1ms/step - loss: 0.7342 - acc: 0.6351 - val_loss: 0.7521 - val_acc: 0.6161\n",
      "Epoch 18/100\n",
      "3576/3576 [==============================] - 4s 1ms/step - loss: 0.7462 - acc: 0.6323 - val_loss: 0.7276 - val_acc: 0.6406\n",
      "Epoch 19/100\n",
      "3576/3576 [==============================] - 4s 991us/step - loss: 0.7398 - acc: 0.6317 - val_loss: 0.7208 - val_acc: 0.6228\n",
      "Epoch 20/100\n",
      "3576/3576 [==============================] - 4s 1ms/step - loss: 0.7439 - acc: 0.6236 - val_loss: 0.7390 - val_acc: 0.6150\n",
      "Epoch 21/100\n",
      "3576/3576 [==============================] - 4s 1ms/step - loss: 0.7426 - acc: 0.6446 - val_loss: 0.7678 - val_acc: 0.6016\n",
      "Epoch 22/100\n",
      "3576/3576 [==============================] - 4s 1ms/step - loss: 0.7419 - acc: 0.6423 - val_loss: 0.7414 - val_acc: 0.6295\n",
      "Epoch 23/100\n",
      "3576/3576 [==============================] - 4s 1ms/step - loss: 0.7334 - acc: 0.6331 - val_loss: 0.7447 - val_acc: 0.6283\n",
      "Epoch 24/100\n",
      "3576/3576 [==============================] - 4s 1ms/step - loss: 0.7289 - acc: 0.6351 - val_loss: 0.7238 - val_acc: 0.6317\n",
      "\n",
      "Fold  1\n",
      "Train on 3578 samples, validate on 894 samples\n",
      "Epoch 1/100\n",
      "3578/3578 [==============================] - 3s 951us/step - loss: 0.7313 - acc: 0.6397 - val_loss: 0.7275 - val_acc: 0.6309\n",
      "Epoch 2/100\n",
      "3578/3578 [==============================] - 3s 970us/step - loss: 0.7282 - acc: 0.6462 - val_loss: 0.7469 - val_acc: 0.6130\n",
      "Epoch 3/100\n",
      "3578/3578 [==============================] - 4s 999us/step - loss: 0.7292 - acc: 0.6473 - val_loss: 0.7427 - val_acc: 0.6230\n",
      "Epoch 4/100\n",
      "3578/3578 [==============================] - 4s 1ms/step - loss: 0.7363 - acc: 0.6428 - val_loss: 0.7574 - val_acc: 0.6063\n",
      "Epoch 5/100\n",
      "3578/3578 [==============================] - 4s 1ms/step - loss: 0.7270 - acc: 0.6465 - val_loss: 0.7435 - val_acc: 0.6432\n",
      "Epoch 6/100\n",
      "3578/3578 [==============================] - 4s 1ms/step - loss: 0.7356 - acc: 0.6543 - val_loss: 0.7481 - val_acc: 0.6174\n",
      "\n",
      "Fold  2\n",
      "Train on 3578 samples, validate on 894 samples\n",
      "Epoch 1/100\n",
      "3578/3578 [==============================] - 3s 943us/step - loss: 0.7404 - acc: 0.6286 - val_loss: 0.7259 - val_acc: 0.6655\n",
      "Epoch 2/100\n",
      "3578/3578 [==============================] - 4s 1ms/step - loss: 0.7334 - acc: 0.6392 - val_loss: 0.7542 - val_acc: 0.6409\n",
      "Epoch 3/100\n",
      "3578/3578 [==============================] - 4s 1ms/step - loss: 0.7358 - acc: 0.6599 - val_loss: 0.7075 - val_acc: 0.6544\n",
      "Epoch 4/100\n",
      "3578/3578 [==============================] - 4s 1ms/step - loss: 0.7417 - acc: 0.6442 - val_loss: 0.7003 - val_acc: 0.6779\n",
      "Epoch 5/100\n",
      "3578/3578 [==============================] - 4s 1ms/step - loss: 0.7401 - acc: 0.6439 - val_loss: 0.6942 - val_acc: 0.6465\n",
      "Epoch 6/100\n",
      "3578/3578 [==============================] - 4s 1ms/step - loss: 0.7353 - acc: 0.6448 - val_loss: 0.7093 - val_acc: 0.6812\n",
      "Epoch 7/100\n",
      "3578/3578 [==============================] - 4s 1ms/step - loss: 0.7377 - acc: 0.6490 - val_loss: 0.7116 - val_acc: 0.6812\n",
      "Epoch 8/100\n",
      "3578/3578 [==============================] - 4s 1ms/step - loss: 0.7369 - acc: 0.6434 - val_loss: 0.7239 - val_acc: 0.6398\n",
      "Epoch 9/100\n",
      "3578/3578 [==============================] - 4s 1ms/step - loss: 0.7228 - acc: 0.6395 - val_loss: 0.7285 - val_acc: 0.6521\n",
      "Epoch 10/100\n",
      "3578/3578 [==============================] - 4s 1ms/step - loss: 0.7285 - acc: 0.6465 - val_loss: 0.7130 - val_acc: 0.6443\n",
      "\n",
      "Fold  3\n",
      "Train on 3578 samples, validate on 894 samples\n",
      "Epoch 1/100\n",
      "3578/3578 [==============================] - 4s 996us/step - loss: 0.7341 - acc: 0.6358 - val_loss: 0.7081 - val_acc: 0.6790\n",
      "Epoch 2/100\n",
      "3578/3578 [==============================] - 4s 1ms/step - loss: 0.7310 - acc: 0.6400 - val_loss: 0.7132 - val_acc: 0.6745\n",
      "Epoch 3/100\n",
      "3578/3578 [==============================] - 4s 1ms/step - loss: 0.7307 - acc: 0.6442 - val_loss: 0.7053 - val_acc: 0.6555\n",
      "Epoch 4/100\n",
      "3578/3578 [==============================] - 4s 1ms/step - loss: 0.7286 - acc: 0.6414 - val_loss: 0.7119 - val_acc: 0.6499\n",
      "Epoch 5/100\n",
      "3578/3578 [==============================] - 4s 1ms/step - loss: 0.7332 - acc: 0.6420 - val_loss: 0.7248 - val_acc: 0.6286\n",
      "Epoch 6/100\n",
      "3578/3578 [==============================] - 4s 1ms/step - loss: 0.7312 - acc: 0.6411 - val_loss: 0.7080 - val_acc: 0.6398\n",
      "Epoch 7/100\n",
      "3578/3578 [==============================] - 4s 1ms/step - loss: 0.7341 - acc: 0.6523 - val_loss: 0.7010 - val_acc: 0.6566\n",
      "Epoch 8/100\n",
      "3578/3578 [==============================] - 4s 1ms/step - loss: 0.7301 - acc: 0.6465 - val_loss: 0.7002 - val_acc: 0.6723\n",
      "Epoch 9/100\n",
      "3578/3578 [==============================] - 4s 1ms/step - loss: 0.7323 - acc: 0.6498 - val_loss: 0.6891 - val_acc: 0.6678\n",
      "Epoch 10/100\n",
      "3578/3578 [==============================] - 4s 1ms/step - loss: 0.7342 - acc: 0.6481 - val_loss: 0.7061 - val_acc: 0.6711\n",
      "Epoch 11/100\n",
      "3578/3578 [==============================] - 4s 1ms/step - loss: 0.7327 - acc: 0.6442 - val_loss: 0.7018 - val_acc: 0.6723\n",
      "Epoch 12/100\n",
      "3578/3578 [==============================] - 4s 1ms/step - loss: 0.7305 - acc: 0.6540 - val_loss: 0.7518 - val_acc: 0.6264\n",
      "Epoch 13/100\n",
      "3578/3578 [==============================] - 4s 1ms/step - loss: 0.7251 - acc: 0.6596 - val_loss: 0.7275 - val_acc: 0.6421\n",
      "Epoch 14/100\n",
      "3578/3578 [==============================] - 4s 1ms/step - loss: 0.7364 - acc: 0.6481 - val_loss: 0.7359 - val_acc: 0.6432\n",
      "\n",
      "Fold  4\n",
      "Train on 3578 samples, validate on 894 samples\n",
      "Epoch 1/100\n",
      "3578/3578 [==============================] - 4s 1ms/step - loss: 0.7290 - acc: 0.6420 - val_loss: 0.7114 - val_acc: 0.6342\n",
      "Epoch 2/100\n",
      "3578/3578 [==============================] - 3s 941us/step - loss: 0.7222 - acc: 0.6568 - val_loss: 0.7140 - val_acc: 0.6398\n",
      "Epoch 3/100\n",
      "3578/3578 [==============================] - 4s 1ms/step - loss: 0.7241 - acc: 0.6532 - val_loss: 0.7243 - val_acc: 0.6398\n",
      "Epoch 4/100\n",
      "3578/3578 [==============================] - 4s 1ms/step - loss: 0.7240 - acc: 0.6484 - val_loss: 0.7210 - val_acc: 0.6600\n",
      "Epoch 5/100\n",
      "3578/3578 [==============================] - 4s 1ms/step - loss: 0.7262 - acc: 0.6537 - val_loss: 0.7049 - val_acc: 0.6398\n",
      "Epoch 6/100\n",
      "3578/3578 [==============================] - 4s 1ms/step - loss: 0.7194 - acc: 0.6439 - val_loss: 0.7323 - val_acc: 0.6197\n",
      "Epoch 7/100\n",
      "3578/3578 [==============================] - 4s 1ms/step - loss: 0.7243 - acc: 0.6554 - val_loss: 0.7272 - val_acc: 0.6409\n",
      "Epoch 8/100\n",
      "3578/3578 [==============================] - 4s 1ms/step - loss: 0.7212 - acc: 0.6481 - val_loss: 0.7385 - val_acc: 0.6208\n",
      "Epoch 9/100\n",
      "3578/3578 [==============================] - 4s 1ms/step - loss: 0.7184 - acc: 0.6562 - val_loss: 0.7194 - val_acc: 0.6622\n",
      "Epoch 10/100\n",
      "3578/3578 [==============================] - 4s 1ms/step - loss: 0.7246 - acc: 0.6546 - val_loss: 0.7357 - val_acc: 0.6376\n"
     ]
    }
   ],
   "source": [
    "# data_train = datasets.load_pan_data('training')\n",
    "data_val = datasets.load_pan_data('validation')\n",
    "features_train = datasets.load_extracted_features('with_windows_pan_training_2')\n",
    "features_val = datasets.load_extracted_features('with_windows_pan_validation_2')\n",
    "\n",
    "features_train = reshape_by_windows(features_train)\n",
    "features_val = reshape_by_windows(features_val)\n",
    "\n",
    "# combine training and validation set for cross validation\n",
    "# evaluation uses test dataset\n",
    "X_train = np.concatenate((features_train, features_val))\n",
    "y_train = np.concatenate((data_train.label,data_val.label))\n",
    "\n",
    "settings = {\n",
    "    'folds': 5,\n",
    "    'folder': aatm_support.next_file('./logs/FaRLSTM/run', ''),\n",
    "    'forward.lstm.units': 8,\n",
    "    'forward.lstm.dropout': 0.2,\n",
    "    'forward.lstm.reg_recurrent': 0.4,\n",
    "    'forward.lstm.reg_kernel': 0.4,\n",
    "    'backward.lstm.units': 8,\n",
    "    'backward.lstm.dropout': 0.2,\n",
    "    'backward.lstm.reg_recurrent': 0.4,\n",
    "    'backward.lstm.reg_kernel': 0.4,\n",
    "    'dense.1.units': 16,\n",
    "    'dense.1.acti': 'elu',\n",
    "    'dense.1.reg_kernel': 0.1,\n",
    "    'dense.1.dropout': 0.3,\n",
    "    'dense.2.units': 8,\n",
    "    'dense.2.acti': 'elu',\n",
    "    'dense.2.reg_kernel': 0.1,\n",
    "    'dense.2.dropout': 0.3,\n",
    "    'out.acti': 'sigmoid',\n",
    "    'lr.initial': 0.001,\n",
    "    'epochs': 100,\n",
    "    'batch_size': 16,\n",
    "    'early_stop.monitor': 'val_loss',\n",
    "    'early_stop.min_delta': 0,\n",
    "    'early_stop.patience': 5\n",
    "}\n",
    "\n",
    "\n",
    "# Build the model\n",
    "n_features = features_train.shape[2]\n",
    "model = getFaRLSTM(n_features, settings)\n",
    "\n",
    "folds = list(StratifiedKFold(n_splits=settings['folds'], shuffle=True).split(X_train, y_train))\n",
    "\n",
    "# train for each fold\n",
    "for j, (train_idx, test_idx) in enumerate(folds):\n",
    "    print('\\nFold ', j)\n",
    "    X_train_cv = X_train[train_idx]\n",
    "    y_train_cv = y_train[train_idx]\n",
    "    X_test_cv = X_train[test_idx]\n",
    "    y_test_cv = y_train[test_idx]\n",
    "\n",
    "    model.fit(\n",
    "        X_train_cv,\n",
    "        y_train_cv,\n",
    "        batch_size=settings['batch_size'],\n",
    "        shuffle=True,\n",
    "        epochs=settings['epochs'], \n",
    "        validation_data=(\n",
    "            X_test_cv,\n",
    "            y_test_cv,\n",
    "        ),\n",
    "        callbacks=[\n",
    "            EarlyStopping(\n",
    "                monitor=settings['early_stop.monitor'], \n",
    "                min_delta=settings['early_stop.min_delta'],\n",
    "                patience=settings['early_stop.patience'],\n",
    "                restore_best_weights=(j + 1 == settings['folds'])\n",
    "            ), \n",
    "            TensorBoardLogger(\n",
    "                log_dir=settings['folder'], \n",
    "                histogram_freq=0,\n",
    "                batch_size=settings['batch_size'], \n",
    "                write_graph=False,\n",
    "                settings_str_to_log=json.dumps(settings, ensure_ascii=False)\n",
    "            )\n",
    "        ]\n",
    "    )"
   ]
  },
  {
   "cell_type": "markdown",
   "metadata": {},
   "source": [
    "**Zusammenfassung**\n",
    "\n",
    "Das folgende Modell wird für die Evaluierung und Präsentation verwendet."
   ]
  },
  {
   "cell_type": "code",
   "execution_count": 113,
   "metadata": {
    "ExecuteTime": {
     "end_time": "2019-02-07T17:40:21.441437Z",
     "start_time": "2019-02-07T17:38:51.268843Z"
    },
    "scrolled": true
   },
   "outputs": [
    {
     "name": "stdout",
     "output_type": "stream",
     "text": [
      "__________________________________________________________________________________________________\n",
      "Layer (type)                    Output Shape         Param #     Connected to                     \n",
      "==================================================================================================\n",
      "input (InputLayer)              (None, 4, 848)       0                                            \n",
      "__________________________________________________________________________________________________\n",
      "batch_normalization_95 (BatchNo (None, 4, 848)       3392        input[0][0]                      \n",
      "__________________________________________________________________________________________________\n",
      "lstm_61 (LSTM)                  (None, 4, 8)         27424       batch_normalization_95[0][0]     \n",
      "__________________________________________________________________________________________________\n",
      "lstm_62 (LSTM)                  (None, 4, 8)         27424       batch_normalization_95[0][0]     \n",
      "__________________________________________________________________________________________________\n",
      "dot_17 (Dot)                    (None, 4, 4)         0           lstm_61[0][0]                    \n",
      "                                                                 lstm_62[0][0]                    \n",
      "__________________________________________________________________________________________________\n",
      "average_17 (Average)            (None, 4, 8)         0           lstm_61[0][0]                    \n",
      "                                                                 lstm_62[0][0]                    \n",
      "__________________________________________________________________________________________________\n",
      "concatenate_24 (Concatenate)    (None, 4, 12)        0           dot_17[0][0]                     \n",
      "                                                                 average_17[0][0]                 \n",
      "__________________________________________________________________________________________________\n",
      "flatten_17 (Flatten)            (None, 48)           0           concatenate_24[0][0]             \n",
      "__________________________________________________________________________________________________\n",
      "dense_47 (Dense)                (None, 16)           784         flatten_17[0][0]                 \n",
      "__________________________________________________________________________________________________\n",
      "batch_normalization_96 (BatchNo (None, 16)           64          dense_47[0][0]                   \n",
      "__________________________________________________________________________________________________\n",
      "dropout_47 (Dropout)            (None, 16)           0           batch_normalization_96[0][0]     \n",
      "__________________________________________________________________________________________________\n",
      "dense_48 (Dense)                (None, 8)            136         dropout_47[0][0]                 \n",
      "__________________________________________________________________________________________________\n",
      "batch_normalization_97 (BatchNo (None, 8)            32          dense_48[0][0]                   \n",
      "__________________________________________________________________________________________________\n",
      "dropout_48 (Dropout)            (None, 8)            0           batch_normalization_97[0][0]     \n",
      "__________________________________________________________________________________________________\n",
      "main_output (Dense)             (None, 1)            9           dropout_48[0][0]                 \n",
      "==================================================================================================\n",
      "Total params: 59,265\n",
      "Trainable params: 57,521\n",
      "Non-trainable params: 1,744\n",
      "__________________________________________________________________________________________________\n"
     ]
    }
   ],
   "source": [
    "load_model('./models/FaRLSTM/model_8.h5').summary()"
   ]
  },
  {
   "cell_type": "markdown",
   "metadata": {},
   "source": [
    "![farlstm-pan-acc](./img/farlstm-pan-acc.png)\n",
    "![farlstm-pan-loss](./img/farlstm-pan-loss.png)\n",
    "![farlstm-pan-val-acc](./img/farlstm-pan-val-acc.png)\n",
    "![farlstm-pan-val-loss](./img/farlstm-pan-val-loss.png)"
   ]
  },
  {
   "cell_type": "markdown",
   "metadata": {
    "ExecuteTime": {
     "end_time": "2019-02-04T18:01:14.690067Z",
     "start_time": "2019-02-04T17:58:23.520Z"
    }
   },
   "source": [
    "#### Evaluierung der trainierten Modelle"
   ]
  },
  {
   "cell_type": "code",
   "execution_count": 70,
   "metadata": {
    "ExecuteTime": {
     "end_time": "2019-02-07T13:52:04.288360Z",
     "start_time": "2019-02-07T13:52:04.279429Z"
    }
   },
   "outputs": [],
   "source": [
    "def evalulate_farlstm(model, data, features):\n",
    "    result = model.evaluate(\n",
    "        reshape_by_windows(features), \n",
    "        data.label\n",
    "    )\n",
    "\n",
    "    print('Loss: {:f}'.format(result[0]))\n",
    "    print('Accuracy: {:.2f}%'.format(result[1] * 100))\n",
    "    print('\\n\\n')"
   ]
  },
  {
   "cell_type": "code",
   "execution_count": 115,
   "metadata": {
    "ExecuteTime": {
     "end_time": "2019-02-07T17:48:19.494177Z",
     "start_time": "2019-02-07T17:42:15.600845Z"
    }
   },
   "outputs": [
    {
     "name": "stdout",
     "output_type": "stream",
     "text": [
      "Book Summary 1\n",
      "11039/11039 [==============================] - 19s 2ms/step\n",
      "Loss: 0.599818\n",
      "Accuracy: 75.52%\n",
      "\n",
      "\n",
      "\n",
      "Book Summary 2\n",
      "7397/7397 [==============================] - 17s 2ms/step\n",
      "Loss: 0.511149\n",
      "Accuracy: 80.57%\n",
      "\n",
      "\n",
      "\n",
      "PAN\n",
      "1352/1352 [==============================] - 15s 11ms/step\n",
      "Loss: 0.712533\n",
      "Accuracy: 64.64%\n",
      "\n",
      "\n",
      "\n"
     ]
    }
   ],
   "source": [
    "print('Book Summary 1')\n",
    "evalulate_farlstm(\n",
    "    load_model('./models/FaRLSTM-constructed-2/model_0.h5'),\n",
    "    datasets.load_book_summary_1(),\n",
    "    datasets.load_extracted_features('with_windows_bs_1.2')\n",
    ")\n",
    "print('Book Summary 2')\n",
    "X_train, X_test, y_train, y_test = train_test_split(\n",
    "    datasets.load_extracted_features('with_windows_bs_2'), \n",
    "    datasets.load_book_summary_2(), \n",
    "    test_size=0.25,\n",
    "    random_state=42 # produces consistent result with training splits\n",
    ")\n",
    "\n",
    "evalulate_farlstm(\n",
    "    load_model('./models/FaRLSTM-constructed-2/model_0.h5'),\n",
    "    y_test,\n",
    "    X_test\n",
    ")\n",
    "print('PAN')\n",
    "evalulate_farlstm(\n",
    "    load_model('./models/FaRLSTM/model_8.h5'),\n",
    "    datasets.load_pan_data('test'),\n",
    "    datasets.load_extracted_features('with_windows_pan_test_2')\n",
    ")"
   ]
  },
  {
   "cell_type": "markdown",
   "metadata": {},
   "source": [
    "### Ansatz 3: Worteinbettung"
   ]
  },
  {
   "cell_type": "markdown",
   "metadata": {},
   "source": [
    "Bis jetzt wurden die Merkmale immer zuerst festgelegt, berechnet und anschließend in das Modell gegeben. Diese beinhalteten neben konstruierten Merkmalen, wie zum Beispiel die die durchschnittliche Satzlänge, N-Gramme auf Basis von Wörtern, Zeichen und PoS-Tags. Dabei geht jedoch die Struktur des Textes verloren. Im folgenden Abschnitt werden die Modelle auf Worteinbettungen trainiert wie sie in [Kapitel 2.5](#Theorie) beschrieben werden. Dabei wird eine Kombination zwischen einem CNN und einem LSTM verwendet. Weitere Modelle befinden sich im Anhang. "
   ]
  },
  {
   "cell_type": "code",
   "execution_count": 6,
   "metadata": {
    "ExecuteTime": {
     "end_time": "2019-02-01T14:11:02.005489Z",
     "start_time": "2019-02-01T14:11:02.001938Z"
    }
   },
   "outputs": [],
   "source": [
    "\"\"\"Diese Methode dient dazu die Texte in die gewünschte Form zu bringen, sodass diese anschließend in ein Modell mit einem führenden Embedding-Layer übergeben werden können. Hierfür wird jeder Texte in ein Array mit Integern überführt, wobei jeder Integer-Wert für ein ganz bestimmtes Wort steht. \n",
    "Für die weiteren Schritte müssen die Längen der Arrays angeglichen werden. Hierfür wird eine gewünschte Länge vorgegeben. Texte die eine geringere Länge aufweisen werden mittels Padding ergänzt, wobei das Array entweder zu Beginn oder am Ende mit 0-Werten ergänzt werden. Texte, die hingegen zu lang waren, werden gekürzt, indem Wörter weggelassen werden. Als Ergebnis erhält man einen Integermatrix mit m Zeilen und n Spalten, wobei m der Anzahl der Texte und n der festgelegten Länge.\n",
    "Anschließend wird das Datenset in Trainings- und Testdaten unterteilt.\"\"\"\n",
    "\n",
    "def prepare_data(tokenizer, serie_texts, labels, max_len=1000, test_size=0.33, random_state=42, max_words=10000):\n",
    "    \"\"\"\n",
    "    Input: \n",
    "        tokenizer,\n",
    "        serie_texts: pd.Series with documents, \n",
    "        labels: pd.Series with labels,\n",
    "        max_len: Length of the array per text after padding,\n",
    "        test_size: Size of the test set,\n",
    "        random_state: Random_state\n",
    "        random_state: random_state\n",
    "        max_words: The k most frequent words\n",
    "    Output: Test and train data\n",
    "    Method: Tokenizing, Indexing, Padding and splitting into test and train data\n",
    "    \"\"\"\n",
    "\n",
    "    #Tokenizing and Indexing\n",
    "    sequences = tok.texts_to_sequences(serie_texts)\n",
    "    #Padding to make sure that all the texts has the same lenght\n",
    "    sequences_matrix = sequence.pad_sequences(sequences, maxlen=max_len)\n",
    "\n",
    "    # Split the dataset into test and training data\n",
    "    X_train, X_test, y_train, y_test = train_test_split(sequences_matrix, labels, test_size=test_size, random_state=random_state)\n",
    "    return X_train, X_test, y_train, y_test"
   ]
  },
  {
   "cell_type": "code",
   "execution_count": 7,
   "metadata": {
    "ExecuteTime": {
     "end_time": "2019-02-01T14:11:05.426948Z",
     "start_time": "2019-02-01T14:11:05.422031Z"
    }
   },
   "outputs": [],
   "source": [
    "# Draw the accuracy and the loss for the training as well as the validation data\n",
    "def draw_history(history):\n",
    "    \n",
    "    # Accuracies\n",
    "    acc = history.history['acc']\n",
    "    val_acc = history.history['val_acc']\n",
    "    loss = history.history['loss']\n",
    "    val_loss = history.history['val_loss']\n",
    "\n",
    "    epochs = range(1, len(acc) + 1)\n",
    "\n",
    "    plt.figure(1)\n",
    "    plt.subplot(211)\n",
    "    plt.plot(epochs, loss, 'b', label='Training loss')\n",
    "    plt.plot(epochs, val_loss, 'g', label='Validation loss')\n",
    "    plt.title('Training and validation loss')\n",
    "    plt.xlabel('Epochs')\n",
    "    plt.ylabel('Loss')\n",
    "    plt.legend()\n",
    "    \n",
    "    acc_values = acc\n",
    "    val_acc_values = val_acc\n",
    "\n",
    "    plt.subplot(212)\n",
    "    plt.plot(epochs, acc, 'b', label='Training acc')\n",
    "    plt.plot(epochs, val_acc, 'g', label='Validation acc')\n",
    "    plt.title('Training and validation accuracy')\n",
    "    plt.xlabel('Epochs')\n",
    "    plt.ylabel('Accuracy')\n",
    "    plt.legend()\n",
    "\n",
    "    plt.show()"
   ]
  },
  {
   "cell_type": "markdown",
   "metadata": {},
   "source": [
    "#### Laden der Datensätze"
   ]
  },
  {
   "cell_type": "markdown",
   "metadata": {},
   "source": [
    "**Booksummary**\n",
    "\n",
    "Die Daten des Booksummaries-Korpus werden geladen und entsprechend aufbereitet. Dazu gehört die Tokenisierung, das Padding und die Aufteilung in Test- und Trainingsdaten."
   ]
  },
  {
   "cell_type": "code",
   "execution_count": 8,
   "metadata": {
    "ExecuteTime": {
     "end_time": "2019-02-01T14:11:23.666093Z",
     "start_time": "2019-02-01T14:11:22.723160Z"
    }
   },
   "outputs": [
    {
     "data": {
      "text/plain": [
       "29588"
      ]
     },
     "execution_count": 8,
     "metadata": {},
     "output_type": "execute_result"
    }
   ],
   "source": [
    "# Path to the data\n",
    "path_data='.//datasets//constructed_2.csv'\n",
    "\n",
    "# Load the data\n",
    "df_texts=pd.read_csv(path_data,sep=',',header=0, index_col=0)\n",
    "\n",
    "# Documents\n",
    "serie_texts=df_texts.text\n",
    "serie_texts.size\n",
    "\n",
    "# Labels\n",
    "labels=df_texts.label\n",
    "labels.size"
   ]
  },
  {
   "cell_type": "code",
   "execution_count": 9,
   "metadata": {
    "ExecuteTime": {
     "end_time": "2019-02-01T14:11:24.572681Z",
     "start_time": "2019-02-01T14:11:24.570172Z"
    }
   },
   "outputs": [],
   "source": [
    "# Length for padding\n",
    "max_len=1000\n",
    "# Size of the test set\n",
    "test_size=0.33\n",
    "# The most n frequent words\n",
    "max_words=10000\n"
   ]
  },
  {
   "cell_type": "code",
   "execution_count": 10,
   "metadata": {
    "ExecuteTime": {
     "end_time": "2019-02-01T14:11:38.225181Z",
     "start_time": "2019-02-01T14:11:25.244690Z"
    }
   },
   "outputs": [],
   "source": [
    "# Train Tokenizer\n",
    "tok = Tokenizer(num_words=max_words)\n",
    "tok.fit_on_texts(serie_texts)\n"
   ]
  },
  {
   "cell_type": "code",
   "execution_count": 11,
   "metadata": {
    "ExecuteTime": {
     "end_time": "2019-02-01T14:11:50.055865Z",
     "start_time": "2019-02-01T14:11:38.239829Z"
    }
   },
   "outputs": [],
   "source": [
    "# Booksummaries_data as word embeddings\n",
    "X_train, X_test, y_train, y_test = prepare_data(tok,serie_texts=serie_texts,max_len=max_len, labels=df_texts.label,test_size=test_size,max_words=max_words)"
   ]
  },
  {
   "cell_type": "markdown",
   "metadata": {},
   "source": [
    "**PAN-Daten**\n",
    "\n",
    "Die Daten des Pan-Korpus werden geladen und entsprechend aufbereitet. Dazu gehört die Tokenisierung, das Padding. Dieser Datensatz bereits in Test-, Trainings- und Validierungsdaten unterteilt wird."
   ]
  },
  {
   "cell_type": "code",
   "execution_count": 12,
   "metadata": {
    "ExecuteTime": {
     "end_time": "2019-02-01T14:11:55.367673Z",
     "start_time": "2019-02-01T14:11:52.627957Z"
    }
   },
   "outputs": [
    {
     "name": "stdout",
     "output_type": "stream",
     "text": [
      "Anzahl Dokument m: 2980\n",
      "Anzahl Token n: 1000\n"
     ]
    }
   ],
   "source": [
    "# Pan2018 training data\n",
    "pan_data=datasets.load_pan_data(name = 'training')\n",
    "pan_text=pan_data.text\n",
    "pan_label=pan_data.label\n",
    "\n",
    "#Tokenizing and Indexing\n",
    "pan_text = tok.texts_to_sequences(pan_text)\n",
    "#Padding\n",
    "pan_text = sequence.pad_sequences(pan_text, maxlen=max_len)\n",
    "# Size\n",
    "print(\"Anzahl Dokument m:\",pan_text.shape[0])\n",
    "print(\"Anzahl Token n:\",pan_text.shape[1])"
   ]
  },
  {
   "cell_type": "code",
   "execution_count": 13,
   "metadata": {
    "ExecuteTime": {
     "end_time": "2019-02-01T14:12:38.837403Z",
     "start_time": "2019-02-01T14:12:37.552917Z"
    }
   },
   "outputs": [
    {
     "name": "stdout",
     "output_type": "stream",
     "text": [
      "Anzahl Dokument m: 1492\n",
      "Anzahl Token n: 1000\n"
     ]
    }
   ],
   "source": [
    "#Pan2018 validation data\n",
    "val_data = datasets.load_pan_data('validation')\n",
    "val_text=val_data.text\n",
    "val_label=val_data.label\n",
    "\n",
    "#Tokenizing and Indexing\n",
    "val_text = tok.texts_to_sequences(val_text)\n",
    "#Padding\n",
    "val_text = sequence.pad_sequences(val_text, maxlen=max_len)\n",
    "# Size\n",
    "print(\"Anzahl Dokument m:\",val_text.shape[0])\n",
    "print(\"Anzahl Token n:\",val_text.shape[1])"
   ]
  },
  {
   "cell_type": "code",
   "execution_count": 14,
   "metadata": {},
   "outputs": [
    {
     "name": "stdout",
     "output_type": "stream",
     "text": [
      "Anzahl Dokument m: 1352\n",
      "Anzahl Token n: 1000\n"
     ]
    }
   ],
   "source": [
    "#Pan2018 test data\n",
    "test_data = datasets.load_pan_data('test')\n",
    "test_text=test_data.text\n",
    "test_label=test_data.label\n",
    "\n",
    "#Tokenizing and Indexing\n",
    "test_text = tok.texts_to_sequences(test_text)\n",
    "#Padding\n",
    "test_text = sequence.pad_sequences(test_text, maxlen=max_len)\n",
    "# Size\n",
    "print(\"Anzahl Dokument m:\",test_text.shape[0])\n",
    "print(\"Anzahl Token n:\",test_text.shape[1])"
   ]
  },
  {
   "cell_type": "code",
   "execution_count": 15,
   "metadata": {},
   "outputs": [
    {
     "name": "stdout",
     "output_type": "stream",
     "text": [
      "Anzahl Dokument m: 4472\n",
      "Anzahl Token n: 1000\n"
     ]
    }
   ],
   "source": [
    "# Concatenate the training and the validiation data to increase the number of training data\n",
    "pan_text=np.concatenate([pan_text,val_text]) \n",
    "pan_label=np.concatenate([pan_label,val_label])\n",
    "print(\"Anzahl Dokument m:\",pan_text.shape[0])\n",
    "print(\"Anzahl Token n:\",pan_text.shape[1])"
   ]
  },
  {
   "cell_type": "markdown",
   "metadata": {},
   "source": [
    "#### CNN in Kombination mit LSTM auf Basis von Worteinbettungen"
   ]
  },
  {
   "cell_type": "markdown",
   "metadata": {},
   "source": [
    "Das Modell besteht aus einem Embedding-, einer Convolutional-, einer LSTM-, sowie einer Dense-Schicht.\n",
    "Als Input wird eine Matrix übergeben, deren Dimensionen der Anzahl der Texte und der Anzahl der Token pro Text entsprechen. Letztere ist mittels Padding auf 1000 normiert worden. Jeder Wert der Matrix entspricht einem Integer-Wert, der wiederum für ein bestimmtes Wort repräsentiert. Die Embedding-Schicht dient dazu, diese Integer-Werte in Vektoren der Dimension 100 umzuwandeln. Welches Wort letztendlich durch welchen Vektor repräsentiert wird, wird wie bei den anderen Schichten im Laufe des Trainings durch das Anpassen der Gewichte mittels Backpropagation optimiert, sodass der Fehler minimiert wird. Alternative Ansätze zur Berechnung der Vektoren sind die Word2Vec-, sowie die GloVe-Methode. Im Gegensatz zu den bisherigen Ansätzen werden die Texte als Ganzes in das Neuronale Netz übergeben.\n",
    "\n",
    "Die Idee eine Faltung der Vektoren durchzuführen, bevor diese an ein LSTM übergeben werden, wird in der Arbeit [\"A C-LSTM Neural Network for Text Classification\"](https://arxiv.org/pdf/1511.08630.pdf) aus dem Jahr 2015 genauer beschrieben. Es sollen die Stärken beider Modelle kombiniert werden. Das CNN ist in der Lage lokale Korrelation durch Anpassung der Gewichte der Filter zu erlernen. Diese werden auf dem gesamten Text gleich angewendet, sodass Parameter eingespart werden können. Durch den Sliding-Window-Ansatz der Filter werden sozusagen N-Gramme aus den Texten extrahiert und durch die Faltung werde diese abstrahiert. Das LSTM ist in der Lage diese abstrahierten Merkmale als Sequenzen zu betrachten und die Änderung der gelernten Merkmale über einen Zeitverlauf betrachten. Zwischen dem CNN und dem LSTM ist eine Max-Pooling-Schicht zwischengeschaltet, die die Dimensionen reduziert.\n",
    "Das Output des LSTMs wird anschließend an eine Dense-Schicht übergeben, bevor die eigentliche Klassifikation durchgeführt wird."
   ]
  },
  {
   "cell_type": "code",
   "execution_count": 17,
   "metadata": {
    "ExecuteTime": {
     "end_time": "2019-02-01T14:20:08.780427Z",
     "start_time": "2019-02-01T14:20:08.773685Z"
    }
   },
   "outputs": [],
   "source": [
    "def cnn_lstm_model(input_dim, settings):\n",
    "    inputs = Input(name='inputs',shape=[input_dim])\n",
    "    layer =  Embedding(max_words,settings['embedding.units'],input_length=input_dim)(inputs)\n",
    "    \n",
    "    layer = Conv1D(settings['cnn.1.units'], settings['cnn.1.len'], activation=settings['cnn.1.acti'])(layer)\n",
    "    layer = MaxPooling1D(settings['pooling.1.len'])(layer)\n",
    "    \n",
    "    layer = LSTM(settings['lstm.1.units'],dropout=settings['lstm.1.dropout'])(layer)\n",
    "    layer = Dropout(settings['lstm.1.dropout'])(layer)\n",
    "    \n",
    "    layer = Dense(\n",
    "        settings['dense.1.units'], \n",
    "        activation=settings['dense.1.acti'],\n",
    "        kernel_regularizer=regularizers.l2(settings['kernel.regularizer'])\n",
    "    )(layer)\n",
    "    layer = Dense(\n",
    "        settings['dense.1.units'],\n",
    "        activation=settings['dense.1.acti'],\n",
    "        kernel_regularizer=regularizers.l2(settings['kernel.regularizer'])\n",
    "    )(layer)\n",
    "    layer = Dropout(settings['dense.1.dropout'])(layer)\n",
    "    \n",
    "    output = Dense(1, activation=settings['out.acti'], name='main_output')(layer)\n",
    "    \n",
    "    model = Model(inputs, output)\n",
    "    model.summary()\n",
    "    \n",
    "    model.compile(\n",
    "        optimizer=RMSprop(lr=settings['lr.initial']),\n",
    "        loss={\n",
    "            'main_output': 'binary_crossentropy',\n",
    "        },\n",
    "        loss_weights={\n",
    "            'main_output': 1., \n",
    "        },\n",
    "        metrics=['accuracy']\n",
    "    )\n",
    "    return model\n",
    "    "
   ]
  },
  {
   "cell_type": "markdown",
   "metadata": {},
   "source": [
    "Diese Vektoren werden in der zweiten Schicht mittels eines eindimensionalen Filters gefaltet. Die Länge des Filters beträgt dabei neun Wörter. Ähnlich wie bei den N-Grammen wird dabei sehr granular vorgegangen, indem der Stride bei eins belassen wird. Es wird kein Padding durchgeführt, wodurch bereits hier eine geringe Dimensionsreduktion stattfindet. Das Output der Faltung entspricht einer abstrahierten Version von N-Grammen der Länge neun. Insgesamt kommen 32 Filter zum Einsatz. Durch das anschließende Max-Pooling der Länge fünf und einem Stride von eins wird die Dimension stark reduziert. Die gelernten Merkmale werden anschließend an eine LSTM-Schicht mit 32 Einheiten übergeben.\n",
    "Um Overfitting zu vermeiden, kommen desweitern Dropout-Schichten, sowie Regularisierungen zum Einsatz. Durch ersteres wird verhindert, dass Neuronen während des Trainings zu starke Abhängigkeiten entwickeln. Mittels Regularisierungen wird hohen Gewichten entgegengewirkt."
   ]
  },
  {
   "cell_type": "code",
   "execution_count": 38,
   "metadata": {
    "ExecuteTime": {
     "end_time": "2019-02-02T01:36:49.549030Z",
     "start_time": "2019-02-01T23:39:11.631794Z"
    }
   },
   "outputs": [
    {
     "name": "stdout",
     "output_type": "stream",
     "text": [
      "Next available file: ./logs/word_embeddings/run_36\n",
      "_________________________________________________________________\n",
      "Layer (type)                 Output Shape              Param #   \n",
      "=================================================================\n",
      "inputs (InputLayer)          (None, 1000)              0         \n",
      "_________________________________________________________________\n",
      "embedding_7 (Embedding)      (None, 1000, 100)         1000000   \n",
      "_________________________________________________________________\n",
      "conv1d_7 (Conv1D)            (None, 992, 32)           28832     \n",
      "_________________________________________________________________\n",
      "max_pooling1d_7 (MaxPooling1 (None, 198, 32)           0         \n",
      "_________________________________________________________________\n",
      "lstm_6 (LSTM)                (None, 32)                8320      \n",
      "_________________________________________________________________\n",
      "dropout_11 (Dropout)         (None, 32)                0         \n",
      "_________________________________________________________________\n",
      "dense_11 (Dense)             (None, 16)                528       \n",
      "_________________________________________________________________\n",
      "dense_12 (Dense)             (None, 16)                272       \n",
      "_________________________________________________________________\n",
      "dropout_12 (Dropout)         (None, 16)                0         \n",
      "_________________________________________________________________\n",
      "main_output (Dense)          (None, 1)                 17        \n",
      "=================================================================\n",
      "Total params: 1,037,969\n",
      "Trainable params: 1,037,969\n",
      "Non-trainable params: 0\n",
      "_________________________________________________________________\n",
      "Train on 19823 samples, validate on 9765 samples\n",
      "Epoch 1/200\n",
      "19823/19823 [==============================] - 364s 18ms/step - loss: 0.9788 - acc: 0.5424 - val_loss: 0.8906 - val_acc: 0.6750\n",
      "Epoch 2/200\n",
      "19823/19823 [==============================] - 320s 16ms/step - loss: 0.7975 - acc: 0.6876 - val_loss: 0.7287 - val_acc: 0.6960\n",
      "Epoch 3/200\n",
      "19823/19823 [==============================] - 332s 17ms/step - loss: 0.6771 - acc: 0.7289 - val_loss: 0.6145 - val_acc: 0.7584\n",
      "Epoch 4/200\n",
      "19823/19823 [==============================] - 341s 17ms/step - loss: 0.5970 - acc: 0.7639 - val_loss: 0.5439 - val_acc: 0.7900\n",
      "Epoch 5/200\n",
      "19823/19823 [==============================] - 312s 16ms/step - loss: 0.5311 - acc: 0.7973 - val_loss: 0.5030 - val_acc: 0.8014\n",
      "Epoch 6/200\n",
      "19823/19823 [==============================] - 304s 15ms/step - loss: 0.4816 - acc: 0.8209 - val_loss: 0.4792 - val_acc: 0.8077\n",
      "Epoch 7/200\n",
      "19823/19823 [==============================] - 308s 16ms/step - loss: 0.4449 - acc: 0.8373 - val_loss: 0.4716 - val_acc: 0.8044\n",
      "Epoch 8/200\n",
      "19823/19823 [==============================] - 331s 17ms/step - loss: 0.4129 - acc: 0.8533 - val_loss: 0.4519 - val_acc: 0.8163\n",
      "Epoch 9/200\n",
      "19823/19823 [==============================] - 326s 16ms/step - loss: 0.3899 - acc: 0.8600 - val_loss: 0.4559 - val_acc: 0.8159\n",
      "Epoch 10/200\n",
      "19823/19823 [==============================] - 325s 16ms/step - loss: 0.3695 - acc: 0.8704 - val_loss: 0.4454 - val_acc: 0.8172\n",
      "Epoch 11/200\n",
      "19823/19823 [==============================] - 327s 16ms/step - loss: 0.3529 - acc: 0.8780 - val_loss: 0.4611 - val_acc: 0.8104\n",
      "Epoch 12/200\n",
      "19823/19823 [==============================] - 326s 16ms/step - loss: 0.3371 - acc: 0.8849 - val_loss: 0.4693 - val_acc: 0.8129\n",
      "Epoch 13/200\n",
      "19823/19823 [==============================] - 326s 16ms/step - loss: 0.3281 - acc: 0.8897 - val_loss: 0.4566 - val_acc: 0.8134\n",
      "Epoch 14/200\n",
      "19823/19823 [==============================] - 330s 17ms/step - loss: 0.3165 - acc: 0.8929 - val_loss: 0.4681 - val_acc: 0.8121\n",
      "Epoch 15/200\n",
      "19823/19823 [==============================] - 331s 17ms/step - loss: 0.3017 - acc: 0.9007 - val_loss: 0.4764 - val_acc: 0.8128\n"
     ]
    },
    {
     "data": {
      "image/png": "[encoded data removed]",
      "text/plain": [
       "<Figure size 432x288 with 2 Axes>"
      ]
     },
     "metadata": {
      "needs_background": "light"
     },
     "output_type": "display_data"
    }
   ],
   "source": [
    "settings = {\n",
    "    'folder': aatm_support.next_file('./logs/word_embeddings/run', ''),\n",
    "    'embedding.units': embedding_dim,\n",
    "    'cnn.1.units': 32,\n",
    "    'cnn.1.len': 9,\n",
    "    'cnn.1.acti': 'relu',\n",
    "    'pooling.1.len': 5,\n",
    "    'lstm.1.units': 32,\n",
    "    'lstm.1.dropout': 0.2,\n",
    "    'dense.1.units': 16,\n",
    "    'dense.1.acti': 'relu',\n",
    "    'dense.1.dropout': 0.2,\n",
    "    'out.acti': 'sigmoid',\n",
    "    'lr.initial': 0.0001,\n",
    "    'epochs': 200,\n",
    "    'batch_size': 32,\n",
    "    'early_stop.monitor': 'val_loss',\n",
    "    'early_stop.min_delta': 0.001,\n",
    "    'early_stop.patience': 5,\n",
    "    'kernel.regularizer': 0.01\n",
    "}\n",
    "\n",
    "model = cnn_lstm_model(input_dim=X_train.shape[1], settings=settings)\n",
    "\n",
    "history = model.fit(\n",
    "    X_train,\n",
    "    [\n",
    "        y_train, \n",
    "    ],\n",
    "    batch_size=settings['batch_size'],\n",
    "    epochs=settings['epochs'], \n",
    "    validation_data=(\n",
    "        X_test, \n",
    "        [\n",
    "            y_test, \n",
    "        ],\n",
    "    ),\n",
    "    callbacks=[\n",
    "        EarlyStopping(\n",
    "            monitor=settings['early_stop.monitor'], \n",
    "            min_delta=settings['early_stop.min_delta'],\n",
    "            patience=settings['early_stop.patience']\n",
    "        ), \n",
    "        TensorBoardLogger(\n",
    "            log_dir=settings['folder'], \n",
    "            histogram_freq=0,\n",
    "            batch_size=settings['batch_size'], \n",
    "            write_graph=False,\n",
    "            settings_str_to_log=json.dumps(settings, ensure_ascii=False)\n",
    "        )\n",
    "    ]\n",
    ")\n",
    "\n",
    "draw_history(history)"
   ]
  },
  {
   "cell_type": "code",
   "execution_count": 21,
   "metadata": {
    "ExecuteTime": {
     "end_time": "2019-02-02T01:36:50.655481Z",
     "start_time": "2019-02-02T01:36:49.551902Z"
    }
   },
   "outputs": [
    {
     "name": "stdout",
     "output_type": "stream",
     "text": [
      "Next available file: ./models/Embedded_models/embedded_cnn_lstm/model_1.h5\n"
     ]
    }
   ],
   "source": [
    "# Run this to save a model after training\n",
    "model.save(aatm_support.next_file('./models/Embedded_models/embedded_cnn_lstm/model', '.h5'))"
   ]
  },
  {
   "cell_type": "code",
   "execution_count": 22,
   "metadata": {
    "ExecuteTime": {
     "end_time": "2019-02-02T01:36:57.506696Z",
     "start_time": "2019-02-02T01:36:50.657615Z"
    }
   },
   "outputs": [
    {
     "name": "stdout",
     "output_type": "stream",
     "text": [
      "acc: 53.55%\n"
     ]
    }
   ],
   "source": [
    "# Test model on pan2018 data\n",
    "scores = model.evaluate(val_text, val_label, verbose=0)\n",
    "print(\"%s: %.2f%%\" % (model.metrics_names[1], scores[1]*100))"
   ]
  },
  {
   "cell_type": "markdown",
   "metadata": {},
   "source": [
    "#### CNN in Kombination mit LSTM auf Basis von vortrainierten Worteinbettungen"
   ]
  },
  {
   "cell_type": "markdown",
   "metadata": {},
   "source": [
    "Da das Erlernen der Worteinbettungen die Anzahl der Parameter extrem erhöht und nur eine geringe Anzahl an Trainingsdaten vorliegt, wird im Folgenden versucht bereits vortrainierte Gewichte zu nutzen. Diese basieren auf dem [GloVe-Ansatz](https://nlp.stanford.edu/projects/glove/) und wurden auf Wikipedia und Gigaword 5 erlernt. Diese repräsentieren 400000 Wörter. Die Dimensionen der Vektoren betragen wie bereits beim vorherigen Ansatz 100. Zuerst müssen diese jedoch in die richtige Form gebracht werden, sodass sie an die Embedding-Schicht übergeben werden können. Diese Schicht wird dann für das spätere Training eingefroren, sodass sich die Gewichte nicht mehr anpassen können."
   ]
  },
  {
   "cell_type": "code",
   "execution_count": 23,
   "metadata": {
    "ExecuteTime": {
     "end_time": "2019-02-02T09:21:34.880383Z",
     "start_time": "2019-02-02T09:21:24.836735Z"
    }
   },
   "outputs": [
    {
     "name": "stdout",
     "output_type": "stream",
     "text": [
      "Found 400000 word vectors.\n"
     ]
    }
   ],
   "source": [
    "# Get Glove weights\n",
    "glove_dir = './/glove.6B'\n",
    "\n",
    "embeddings_index = {}\n",
    "# Read the data and split word and weights\n",
    "f = open(os.path.join(glove_dir, 'glove.6B.100d.txt'),'r', encoding='utf8')\n",
    "for line in f:\n",
    "    values = line.split(' ')\n",
    "    word = values[0]\n",
    "    coefs = np.asarray(values[1:], dtype='float32')\n",
    "    embeddings_index[word] = coefs\n",
    "f.close()\n",
    "\n",
    "print('Found %s word vectors.' % len(embeddings_index))\n"
   ]
  },
  {
   "cell_type": "code",
   "execution_count": 26,
   "metadata": {
    "ExecuteTime": {
     "end_time": "2019-02-02T09:27:34.010653Z",
     "start_time": "2019-02-02T09:27:19.133461Z"
    }
   },
   "outputs": [
    {
     "data": {
      "text/plain": [
       "array([[ 0.        ,  0.        ,  0.        , ...,  0.        ,\n",
       "         0.        ,  0.        ],\n",
       "       [-0.038194  , -0.24487001,  0.72812003, ..., -0.1459    ,\n",
       "         0.82779998,  0.27061999],\n",
       "       [-0.18970001,  0.050024  ,  0.19084001, ..., -0.39804   ,\n",
       "         0.47646999, -0.15983   ],\n",
       "       ...,\n",
       "       [ 0.        ,  0.        ,  0.        , ...,  0.        ,\n",
       "         0.        ,  0.        ],\n",
       "       [-0.50269002,  0.056798  ,  0.21261001, ...,  0.085045  ,\n",
       "         0.60573   , -0.73576999],\n",
       "       [ 0.70137   , -0.51065999,  0.16745   , ...,  0.57358998,\n",
       "        -0.15755001, -0.23511   ]])"
      ]
     },
     "execution_count": 26,
     "metadata": {},
     "output_type": "execute_result"
    }
   ],
   "source": [
    "# build embedding matrix\n",
    "embedding_dim = 100\n",
    "word_index=tok.word_index\n",
    "# Matrix with the needed Dimensions\n",
    "embedding_matrix = np.zeros((max_words, embedding_dim))\n",
    "for word, i in word_index.items():\n",
    "    embedding_vector = embeddings_index.get(word)\n",
    "    if i < max_words:\n",
    "        if embedding_vector is not None:\n",
    "            # Words not found in embedding index will be all-zeros.\n",
    "            embedding_matrix[i] = embedding_vector\n",
    "            \n",
    "embedding_matrix"
   ]
  },
  {
   "cell_type": "markdown",
   "metadata": {},
   "source": [
    "Die restlichen Parameter wurden bei den selben Werten belassen, sodass eine Vergleichbarkeit mit dem vorherigen Modell gegeben ist."
   ]
  },
  {
   "cell_type": "code",
   "execution_count": 28,
   "metadata": {
    "ExecuteTime": {
     "end_time": "2019-02-02T12:01:23.900335Z",
     "start_time": "2019-02-02T09:45:29.965731Z"
    },
    "scrolled": true
   },
   "outputs": [
    {
     "name": "stdout",
     "output_type": "stream",
     "text": [
      "Next available file: ./logs/word_embeddings/run_34\n",
      "_________________________________________________________________\n",
      "Layer (type)                 Output Shape              Param #   \n",
      "=================================================================\n",
      "inputs (InputLayer)          (None, 1000)              0         \n",
      "_________________________________________________________________\n",
      "embedding_5 (Embedding)      (None, 1000, 100)         1000000   \n",
      "_________________________________________________________________\n",
      "conv1d_5 (Conv1D)            (None, 992, 32)           28832     \n",
      "_________________________________________________________________\n",
      "max_pooling1d_5 (MaxPooling1 (None, 198, 32)           0         \n",
      "_________________________________________________________________\n",
      "lstm_4 (LSTM)                (None, 32)                8320      \n",
      "_________________________________________________________________\n",
      "dropout_7 (Dropout)          (None, 32)                0         \n",
      "_________________________________________________________________\n",
      "dense_7 (Dense)              (None, 16)                528       \n",
      "_________________________________________________________________\n",
      "dense_8 (Dense)              (None, 16)                272       \n",
      "_________________________________________________________________\n",
      "dropout_8 (Dropout)          (None, 16)                0         \n",
      "_________________________________________________________________\n",
      "main_output (Dense)          (None, 1)                 17        \n",
      "=================================================================\n",
      "Total params: 1,037,969\n",
      "Trainable params: 1,037,969\n",
      "Non-trainable params: 0\n",
      "_________________________________________________________________\n",
      "Train on 19823 samples, validate on 9765 samples\n",
      "Epoch 1/200\n",
      "19823/19823 [==============================] - 285s 14ms/step - loss: 0.9959 - acc: 0.5021 - val_loss: 0.9326 - val_acc: 0.5183\n",
      "Epoch 2/200\n",
      "19823/19823 [==============================] - 287s 14ms/step - loss: 0.8816 - acc: 0.5087 - val_loss: 0.8348 - val_acc: 0.5062\n",
      "Epoch 3/200\n",
      "19823/19823 [==============================] - 290s 15ms/step - loss: 0.8006 - acc: 0.4993 - val_loss: 0.7696 - val_acc: 0.5253\n",
      "Epoch 4/200\n",
      "19823/19823 [==============================] - 266s 13ms/step - loss: 0.7480 - acc: 0.5149 - val_loss: 0.7287 - val_acc: 0.5884\n",
      "Epoch 5/200\n",
      "19823/19823 [==============================] - 258s 13ms/step - loss: 0.7185 - acc: 0.5424 - val_loss: 0.7045 - val_acc: 0.6435\n",
      "Epoch 6/200\n",
      "19823/19823 [==============================] - 259s 13ms/step - loss: 0.6971 - acc: 0.6017 - val_loss: 0.6642 - val_acc: 0.6853\n",
      "Epoch 7/200\n",
      "19823/19823 [==============================] - 259s 13ms/step - loss: 0.6604 - acc: 0.6626 - val_loss: 0.6417 - val_acc: 0.6777\n",
      "Epoch 8/200\n",
      "19823/19823 [==============================] - 259s 13ms/step - loss: 0.6296 - acc: 0.6844 - val_loss: 0.6148 - val_acc: 0.6913\n",
      "Epoch 9/200\n",
      "19823/19823 [==============================] - 258s 13ms/step - loss: 0.6132 - acc: 0.6955 - val_loss: 0.6071 - val_acc: 0.6893\n",
      "Epoch 10/200\n",
      "19823/19823 [==============================] - 259s 13ms/step - loss: 0.6004 - acc: 0.7083 - val_loss: 0.5950 - val_acc: 0.7036\n",
      "Epoch 11/200\n",
      "19823/19823 [==============================] - 258s 13ms/step - loss: 0.5873 - acc: 0.7181 - val_loss: 0.5913 - val_acc: 0.7041\n",
      "Epoch 12/200\n",
      "19823/19823 [==============================] - 258s 13ms/step - loss: 0.5822 - acc: 0.7206 - val_loss: 0.6059 - val_acc: 0.6916\n",
      "Epoch 13/200\n",
      "19823/19823 [==============================] - 258s 13ms/step - loss: 0.5760 - acc: 0.7292 - val_loss: 0.5848 - val_acc: 0.7126\n",
      "Epoch 14/200\n",
      "19823/19823 [==============================] - 259s 13ms/step - loss: 0.5680 - acc: 0.7312 - val_loss: 0.5524 - val_acc: 0.7319\n",
      "Epoch 15/200\n",
      "19823/19823 [==============================] - 258s 13ms/step - loss: 0.5598 - acc: 0.7349 - val_loss: 0.5381 - val_acc: 0.7422\n",
      "Epoch 16/200\n",
      "19823/19823 [==============================] - 298s 15ms/step - loss: 0.5514 - acc: 0.7404 - val_loss: 0.5640 - val_acc: 0.7262\n",
      "Epoch 17/200\n",
      "19823/19823 [==============================] - 269s 14ms/step - loss: 0.5480 - acc: 0.7461 - val_loss: 0.5229 - val_acc: 0.7604\n",
      "Epoch 18/200\n",
      "19823/19823 [==============================] - 263s 13ms/step - loss: 0.5349 - acc: 0.7575 - val_loss: 0.5352 - val_acc: 0.7509\n",
      "Epoch 19/200\n",
      "19823/19823 [==============================] - 262s 13ms/step - loss: 0.5305 - acc: 0.7575 - val_loss: 0.5017 - val_acc: 0.7760\n",
      "Epoch 20/200\n",
      "19823/19823 [==============================] - 270s 14ms/step - loss: 0.5238 - acc: 0.7592 - val_loss: 0.5429 - val_acc: 0.7437\n",
      "Epoch 21/200\n",
      "19823/19823 [==============================] - 260s 13ms/step - loss: 0.5161 - acc: 0.7661 - val_loss: 0.5091 - val_acc: 0.7719\n",
      "Epoch 22/200\n",
      "19823/19823 [==============================] - 276s 14ms/step - loss: 0.5043 - acc: 0.7767 - val_loss: 0.5186 - val_acc: 0.7606\n",
      "Epoch 23/200\n",
      "19823/19823 [==============================] - 267s 13ms/step - loss: 0.4980 - acc: 0.7816 - val_loss: 0.4802 - val_acc: 0.7873\n",
      "Epoch 24/200\n",
      "19823/19823 [==============================] - 271s 14ms/step - loss: 0.4939 - acc: 0.7806 - val_loss: 0.5489 - val_acc: 0.7447\n",
      "Epoch 25/200\n",
      "19823/19823 [==============================] - 280s 14ms/step - loss: 0.4834 - acc: 0.7904 - val_loss: 0.5114 - val_acc: 0.7732\n",
      "Epoch 26/200\n",
      "19823/19823 [==============================] - 296s 15ms/step - loss: 0.4824 - acc: 0.7922 - val_loss: 0.4675 - val_acc: 0.7947\n",
      "Epoch 27/200\n",
      "19823/19823 [==============================] - 281s 14ms/step - loss: 0.4741 - acc: 0.7963 - val_loss: 0.4803 - val_acc: 0.7860\n",
      "Epoch 28/200\n",
      "19823/19823 [==============================] - 287s 14ms/step - loss: 0.4664 - acc: 0.8001 - val_loss: 0.4576 - val_acc: 0.7948\n",
      "Epoch 29/200\n",
      "19823/19823 [==============================] - 293s 15ms/step - loss: 0.4581 - acc: 0.8049 - val_loss: 0.4651 - val_acc: 0.7867\n",
      "Epoch 30/200\n",
      "19823/19823 [==============================] - 298s 15ms/step - loss: 0.4519 - acc: 0.8089 - val_loss: 0.4518 - val_acc: 0.7987\n",
      "Epoch 31/200\n",
      "19823/19823 [==============================] - 275s 14ms/step - loss: 0.4435 - acc: 0.8141 - val_loss: 0.5064 - val_acc: 0.7730\n",
      "Epoch 32/200\n",
      "19823/19823 [==============================] - 271s 14ms/step - loss: 0.4376 - acc: 0.8191 - val_loss: 0.4504 - val_acc: 0.8039\n",
      "Epoch 33/200\n",
      "19823/19823 [==============================] - 272s 14ms/step - loss: 0.4334 - acc: 0.8216 - val_loss: 0.4448 - val_acc: 0.8120\n",
      "Epoch 34/200\n",
      "19823/19823 [==============================] - 276s 14ms/step - loss: 0.4239 - acc: 0.8261 - val_loss: 0.4418 - val_acc: 0.8092\n",
      "Epoch 35/200\n",
      "19823/19823 [==============================] - 271s 14ms/step - loss: 0.4185 - acc: 0.8295 - val_loss: 0.4590 - val_acc: 0.7997\n",
      "Epoch 36/200\n",
      "19823/19823 [==============================] - 274s 14ms/step - loss: 0.4105 - acc: 0.8347 - val_loss: 0.4515 - val_acc: 0.8024\n",
      "Epoch 37/200\n",
      "19823/19823 [==============================] - 272s 14ms/step - loss: 0.4047 - acc: 0.8402 - val_loss: 0.4323 - val_acc: 0.8162\n",
      "Epoch 38/200\n",
      "19823/19823 [==============================] - 282s 14ms/step - loss: 0.3971 - acc: 0.8430 - val_loss: 0.4365 - val_acc: 0.8137\n",
      "Epoch 39/200\n",
      "19823/19823 [==============================] - 297s 15ms/step - loss: 0.3869 - acc: 0.8490 - val_loss: 0.4458 - val_acc: 0.8050\n",
      "Epoch 40/200\n",
      "19823/19823 [==============================] - 293s 15ms/step - loss: 0.3858 - acc: 0.8477 - val_loss: 0.4273 - val_acc: 0.8203\n",
      "Epoch 41/200\n",
      "19823/19823 [==============================] - 295s 15ms/step - loss: 0.3774 - acc: 0.8535 - val_loss: 0.5277 - val_acc: 0.7680\n",
      "Epoch 42/200\n",
      "19823/19823 [==============================] - 315s 16ms/step - loss: 0.3707 - acc: 0.8565 - val_loss: 0.4823 - val_acc: 0.7959\n",
      "Epoch 43/200\n",
      "19823/19823 [==============================] - 288s 15ms/step - loss: 0.3685 - acc: 0.8580 - val_loss: 0.4230 - val_acc: 0.8204\n",
      "Epoch 44/200\n",
      "19823/19823 [==============================] - 297s 15ms/step - loss: 0.3619 - acc: 0.8596 - val_loss: 0.4269 - val_acc: 0.8248\n",
      "Epoch 45/200\n",
      "19823/19823 [==============================] - 292s 15ms/step - loss: 0.3522 - acc: 0.8680 - val_loss: 0.4337 - val_acc: 0.8196\n",
      "Epoch 46/200\n",
      "19823/19823 [==============================] - 263s 13ms/step - loss: 0.3492 - acc: 0.8661 - val_loss: 0.4219 - val_acc: 0.8261\n",
      "Epoch 47/200\n",
      "19823/19823 [==============================] - 334s 17ms/step - loss: 0.3415 - acc: 0.8717 - val_loss: 0.4342 - val_acc: 0.8226\n",
      "Epoch 48/200\n",
      "19823/19823 [==============================] - 290s 15ms/step - loss: 0.3410 - acc: 0.8717 - val_loss: 0.4457 - val_acc: 0.8179\n",
      "Epoch 49/200\n",
      "19823/19823 [==============================] - 286s 14ms/step - loss: 0.3389 - acc: 0.8730 - val_loss: 0.4318 - val_acc: 0.8237\n",
      "Epoch 50/200\n",
      "19823/19823 [==============================] - 286s 14ms/step - loss: 0.3246 - acc: 0.8803 - val_loss: 0.4449 - val_acc: 0.8164\n",
      "Epoch 51/200\n",
      "19823/19823 [==============================] - 303s 15ms/step - loss: 0.3206 - acc: 0.8831 - val_loss: 0.4251 - val_acc: 0.8271\n"
     ]
    },
    {
     "data": {
      "image/png": "[encoded data removed]",
      "text/plain": [
       "<Figure size 432x288 with 2 Axes>"
      ]
     },
     "metadata": {
      "needs_background": "light"
     },
     "output_type": "display_data"
    }
   ],
   "source": [
    "settings = {\n",
    "    'folder': aatm_support.next_file('./logs/word_embeddings/run', ''),\n",
    "    'embedding.units': embedding_dim,\n",
    "    'cnn.1.units': 32,\n",
    "    'cnn.1.len': 9,\n",
    "    'cnn.1.acti': 'relu',\n",
    "    'pooling.1.len': 5,\n",
    "    'lstm.1.units': 32,\n",
    "    'lstm.1.dropout': 0.2,\n",
    "    'dense.1.units': 16,\n",
    "    'dense.1.acti': 'relu',\n",
    "    'dense.1.dropout': 0.2,\n",
    "    'out.acti': 'sigmoid',\n",
    "    'lr.initial': 0.0001,\n",
    "    'epochs': 200,\n",
    "    'batch_size': 32,\n",
    "    'early_stop.monitor': 'val_loss',\n",
    "    'early_stop.min_delta': 0.001,\n",
    "    'early_stop.patience': 5,\n",
    "    'kernel.regularizer': 0.01\n",
    "}\n",
    "\n",
    "model = cnn_lstm_model(input_dim=X_train.shape[1], settings=settings)\n",
    "\n",
    "#Freeze layer\n",
    "model.layers[1].set_weights([embedding_matrix])\n",
    "model.layers[1].trainable=False\n",
    "\n",
    "model.compile(\n",
    "    optimizer=RMSprop(lr=settings['lr.initial']),\n",
    "    loss={\n",
    "        'main_output': 'binary_crossentropy',\n",
    "    },\n",
    "    loss_weights={\n",
    "        'main_output': 1., \n",
    "    },\n",
    "    metrics=['accuracy']\n",
    ")\n",
    "\n",
    "history = model.fit(\n",
    "    X_train,\n",
    "    [\n",
    "        y_train, \n",
    "    ],\n",
    "    batch_size=settings['batch_size'],\n",
    "    epochs=settings['epochs'], \n",
    "    validation_data=(\n",
    "        X_test, \n",
    "        [\n",
    "            y_test, \n",
    "        ],\n",
    "    ),\n",
    "    callbacks=[\n",
    "        EarlyStopping(\n",
    "            monitor=settings['early_stop.monitor'], \n",
    "            min_delta=settings['early_stop.min_delta'],\n",
    "            patience=settings['early_stop.patience']\n",
    "        ), \n",
    "        TensorBoardLogger(\n",
    "            log_dir=settings['folder'], \n",
    "            histogram_freq=0,\n",
    "            batch_size=settings['batch_size'], \n",
    "            write_graph=False,\n",
    "            settings_str_to_log=json.dumps(settings, ensure_ascii=False)\n",
    "        )\n",
    "    ]\n",
    ")\n",
    "\n",
    "draw_history(history)"
   ]
  },
  {
   "cell_type": "code",
   "execution_count": 29,
   "metadata": {
    "ExecuteTime": {
     "end_time": "2019-02-02T12:18:19.570385Z",
     "start_time": "2019-02-02T12:18:17.323813Z"
    }
   },
   "outputs": [
    {
     "name": "stdout",
     "output_type": "stream",
     "text": [
      "Next available file: ./models/Embedded_models/pretrained_embedded_cnn_lstm/model_1.h5\n"
     ]
    }
   ],
   "source": [
    "# Run this to save a model after training\n",
    "model.save(aatm_support.next_file('./models/Embedded_models/pretrained_embedded_cnn_lstm/model', '.h5'))"
   ]
  },
  {
   "cell_type": "code",
   "execution_count": 30,
   "metadata": {
    "ExecuteTime": {
     "end_time": "2019-02-02T12:23:50.090190Z",
     "start_time": "2019-02-02T12:23:44.014956Z"
    }
   },
   "outputs": [
    {
     "name": "stdout",
     "output_type": "stream",
     "text": [
      "acc: 54.69%\n"
     ]
    }
   ],
   "source": [
    "# Test model on pan2018 data\n",
    "scores = model.evaluate(val_text, val_label, verbose=0)\n",
    "print(\"%s: %.2f%%\" % (model.metrics_names[1], scores[1]*100))"
   ]
  },
  {
   "cell_type": "markdown",
   "metadata": {},
   "source": [
    "Mit bereits vortrainierten Gewichten konnte keine aussagekräftige Verbesserung erzielt werden. Auch mit 300-dimensionalen Vektoren war dies nicht möglich. Ein weiterer Ansatz wäre das Word2Vec- oder den GloVe-Modell speziell auf dem Booksummary Datensatz zu trainieren. Dies war in der vorliegenden Arbeit aus zeitlichen Gründen jedoch nicht mehr möglich."
   ]
  },
  {
   "cell_type": "markdown",
   "metadata": {},
   "source": [
    "#### CNN in Kombination mit LSTM trainiert auf dem PAN-Datensatz"
   ]
  },
  {
   "cell_type": "markdown",
   "metadata": {},
   "source": [
    "Zwar konnten mit den vorherigen Ansätzen Modelle trainiert werden, die auf dem Booksummary-Datensatz eine Genauigkeit von über 80% erreichen, jedoch können diese nicht auf den PAN-Datensatz übertragen werden. Dort erreichen sie lediglich knapp über 50%. Daher wird das CNN-LSTM-Modell hier mit leicht angepassten Parametern auf dem PAN-Datensatz trainiert. Statt einer Filterlänge von 9 wird eine Länge von 32 verwendet. Dadurch kann auf dem PAN-Datensatz immerhin eine Genauigkeit von knapp 65% erzielt werden."
   ]
  },
  {
   "cell_type": "code",
   "execution_count": 2,
   "metadata": {},
   "outputs": [
    {
     "name": "stdout",
     "output_type": "stream",
     "text": [
      "Next available file: ./logs/word_embeddings/run_25\n",
      "_________________________________________________________________\n",
      "Layer (type)                 Output Shape              Param #   \n",
      "=================================================================\n",
      "inputs (InputLayer)          (None, 1000)              0         \n",
      "_________________________________________________________________\n",
      "embedding_6 (Embedding)      (None, 1000, 100)         1000000   \n",
      "_________________________________________________________________\n",
      "conv1d_4 (Conv1D)            (None, 969, 32)           102432    \n",
      "_________________________________________________________________\n",
      "max_pooling1d_4 (MaxPooling1 (None, 193, 32)           0         \n",
      "_________________________________________________________________\n",
      "lstm_6 (LSTM)                (None, 32)                8320      \n",
      "_________________________________________________________________\n",
      "dropout_7 (Dropout)          (None, 32)                0         \n",
      "_________________________________________________________________\n",
      "dense_7 (Dense)              (None, 16)                528       \n",
      "_________________________________________________________________\n",
      "dense_8 (Dense)              (None, 16)                272       \n",
      "_________________________________________________________________\n",
      "dropout_8 (Dropout)          (None, 16)                0         \n",
      "_________________________________________________________________\n",
      "main_output (Dense)          (None, 1)                 17        \n",
      "=================================================================\n",
      "Total params: 1,111,569\n",
      "Trainable params: 1,111,569\n",
      "Non-trainable params: 0\n",
      "_________________________________________________________________\n",
      "Train on 4472 samples, validate on 1352 samples\n",
      "Epoch 1/200\n",
      "4472/4472 [==============================] - 169s 38ms/step - loss: 1.0479 - acc: 0.4946 - val_loss: 1.0284 - val_acc: 0.5074\n",
      "Epoch 2/200\n",
      "4472/4472 [==============================] - 166s 37ms/step - loss: 1.0103 - acc: 0.5065 - val_loss: 0.9926 - val_acc: 0.5059\n",
      "Epoch 3/200\n",
      "4472/4472 [==============================] - 178s 40ms/step - loss: 0.9761 - acc: 0.4886 - val_loss: 0.9594 - val_acc: 0.5000\n",
      "Epoch 4/200\n",
      "4472/4472 [==============================] - 161s 36ms/step - loss: 0.9440 - acc: 0.5051 - val_loss: 0.9288 - val_acc: 0.5007\n",
      "Epoch 5/200\n",
      "4472/4472 [==============================] - 171s 38ms/step - loss: 0.9147 - acc: 0.4984 - val_loss: 0.9005 - val_acc: 0.5030\n",
      "Epoch 6/200\n",
      "4472/4472 [==============================] - 166s 37ms/step - loss: 0.8873 - acc: 0.5101 - val_loss: 0.8746 - val_acc: 0.5007\n",
      "Epoch 7/200\n",
      "4472/4472 [==============================] - 163s 37ms/step - loss: 0.8627 - acc: 0.5083 - val_loss: 0.8511 - val_acc: 0.5044\n",
      "Epoch 8/200\n",
      "4472/4472 [==============================] - 165s 37ms/step - loss: 0.8403 - acc: 0.5114 - val_loss: 0.8298 - val_acc: 0.5074\n",
      "Epoch 9/200\n",
      "4472/4472 [==============================] - 160s 36ms/step - loss: 0.8197 - acc: 0.5186 - val_loss: 0.8104 - val_acc: 0.4970\n",
      "Epoch 10/200\n",
      "4472/4472 [==============================] - 161s 36ms/step - loss: 0.8015 - acc: 0.5174 - val_loss: 0.7931 - val_acc: 0.5000\n",
      "Epoch 11/200\n",
      "4472/4472 [==============================] - 161s 36ms/step - loss: 0.7852 - acc: 0.5161 - val_loss: 0.7776 - val_acc: 0.5007\n",
      "Epoch 12/200\n",
      "4472/4472 [==============================] - 163s 36ms/step - loss: 0.7703 - acc: 0.5239 - val_loss: 0.7638 - val_acc: 0.5000\n",
      "Epoch 13/200\n",
      "4472/4472 [==============================] - 170s 38ms/step - loss: 0.7573 - acc: 0.5275 - val_loss: 0.7516 - val_acc: 0.5059\n",
      "Epoch 14/200\n",
      "4472/4472 [==============================] - 164s 37ms/step - loss: 0.7458 - acc: 0.5255 - val_loss: 0.7411 - val_acc: 0.5067\n",
      "Epoch 15/200\n",
      "4472/4472 [==============================] - 156s 35ms/step - loss: 0.7358 - acc: 0.5546 - val_loss: 0.7320 - val_acc: 0.5126\n",
      "Epoch 16/200\n",
      "4472/4472 [==============================] - 158s 35ms/step - loss: 0.7271 - acc: 0.5671 - val_loss: 0.7243 - val_acc: 0.5340\n",
      "Epoch 17/200\n",
      "4472/4472 [==============================] - 164s 37ms/step - loss: 0.7192 - acc: 0.5832 - val_loss: 0.7178 - val_acc: 0.5274\n",
      "Epoch 18/200\n",
      "4472/4472 [==============================] - 161s 36ms/step - loss: 0.7120 - acc: 0.6058 - val_loss: 0.7124 - val_acc: 0.5237\n",
      "Epoch 19/200\n",
      "4472/4472 [==============================] - 160s 36ms/step - loss: 0.7030 - acc: 0.6297 - val_loss: 0.7050 - val_acc: 0.5407\n",
      "Epoch 20/200\n",
      "4472/4472 [==============================] - 165s 37ms/step - loss: 0.6864 - acc: 0.6715 - val_loss: 0.6907 - val_acc: 0.6280\n",
      "Epoch 21/200\n",
      "4472/4472 [==============================] - 170s 38ms/step - loss: 0.6654 - acc: 0.7153 - val_loss: 0.6791 - val_acc: 0.6391\n",
      "Epoch 22/200\n",
      "4472/4472 [==============================] - 177s 40ms/step - loss: 0.6417 - acc: 0.7475 - val_loss: 0.6689 - val_acc: 0.6487\n",
      "Epoch 23/200\n",
      "4472/4472 [==============================] - 171s 38ms/step - loss: 0.6166 - acc: 0.7661 - val_loss: 0.6657 - val_acc: 0.6546\n",
      "Epoch 24/200\n",
      "4472/4472 [==============================] - 172s 38ms/step - loss: 0.5927 - acc: 0.7840 - val_loss: 0.6630 - val_acc: 0.6435\n",
      "Epoch 25/200\n",
      "4472/4472 [==============================] - 172s 39ms/step - loss: 0.5628 - acc: 0.8108 - val_loss: 0.6733 - val_acc: 0.6287\n",
      "Epoch 26/200\n",
      "4472/4472 [==============================] - 177s 40ms/step - loss: 0.5357 - acc: 0.8216 - val_loss: 0.6772 - val_acc: 0.6391\n",
      "Epoch 27/200\n",
      "4472/4472 [==============================] - 169s 38ms/step - loss: 0.5158 - acc: 0.8372 - val_loss: 0.6736 - val_acc: 0.6487\n",
      "Epoch 28/200\n",
      "4472/4472 [==============================] - 177s 40ms/step - loss: 0.4974 - acc: 0.8468 - val_loss: 0.7105 - val_acc: 0.6346\n",
      "Epoch 29/200\n",
      "4472/4472 [==============================] - 171s 38ms/step - loss: 0.4738 - acc: 0.8551 - val_loss: 0.6856 - val_acc: 0.6280\n"
     ]
    },
    {
     "data": {
      "image/png": "[encoded data removed]",
      "text/plain": [
       "<Figure size 432x288 with 2 Axes>"
      ]
     },
     "metadata": {
      "needs_background": "light"
     },
     "output_type": "display_data"
    }
   ],
   "source": [
    "settings = {\n",
    "    'folder': aatm_support.next_file('./logs/word_embeddings/run', ''),\n",
    "    'embedding.units': 100,\n",
    "    'cnn.1.units': 32,\n",
    "    'cnn.1.len': 32,\n",
    "    'cnn.1.acti': 'relu',\n",
    "    'pooling.1.len': 5,\n",
    "    'lstm.1.units': 32,\n",
    "    'lstm.1.dropout': 0.4,\n",
    "    'dense.1.units': 16,\n",
    "    'dense.1.acti': 'relu',\n",
    "    'dense.1.dropout': 0.4,\n",
    "    'out.acti': 'sigmoid',\n",
    "    'lr.initial': 0.0001,\n",
    "    'epochs': 200,\n",
    "    'batch_size': 32,\n",
    "    'early_stop.monitor': 'val_loss',\n",
    "    'early_stop.min_delta': 0.001,\n",
    "    'early_stop.patience': 5,\n",
    "    'kernel.regularizer': 0.01\n",
    "}\n",
    "\n",
    "model = cnn_lstm_model(input_dim=pan_text.shape[1], settings=settings)\n",
    "\n",
    "history = model.fit(\n",
    "    pan_text,\n",
    "    [\n",
    "        pan_label, \n",
    "    ],\n",
    "    batch_size=settings['batch_size'],\n",
    "    epochs=settings['epochs'], \n",
    "    validation_data=(\n",
    "        test_text, \n",
    "        [\n",
    "            test_label, \n",
    "        ],\n",
    "    ),\n",
    "    callbacks=[\n",
    "        EarlyStopping(\n",
    "            monitor=settings['early_stop.monitor'], \n",
    "            min_delta=settings['early_stop.min_delta'],\n",
    "            patience=settings['early_stop.patience']\n",
    "        ), \n",
    "        TensorBoardLogger(\n",
    "            log_dir=settings['folder'], \n",
    "            histogram_freq=0,\n",
    "            batch_size=settings['batch_size'], \n",
    "            write_graph=False,\n",
    "            settings_str_to_log=json.dumps(settings, ensure_ascii=False)\n",
    "        )\n",
    "    ]\n",
    ")\n",
    "\n",
    "draw_history(history)"
   ]
  },
  {
   "cell_type": "code",
   "execution_count": 35,
   "metadata": {},
   "outputs": [
    {
     "name": "stdout",
     "output_type": "stream",
     "text": [
      "Next available file: ./models/Embedded_models/pan_embedding_cnn_lstm/model_1.h5\n"
     ]
    }
   ],
   "source": [
    "# Run this to save a model after training\n",
    "model.save(aatm_support.next_file('./models/Embedded_models/pan_embedding_cnn_lstm/model', '.h5'))"
   ]
  },
  {
   "cell_type": "markdown",
   "metadata": {},
   "source": [
    "## Comparison"
   ]
  },
  {
   "cell_type": "markdown",
   "metadata": {},
   "source": [
    "Es wurden neben den drei Modellen der Baseline drei eigene Modelle vorgestellt auf jeweils zwei Datesätzen (Book Summary 2 & PAN) trainiert und auf je drei Datensätzen (Book Summary 1, 2 & PAN) evaluiert.\n",
    "\n",
    "**Genauigkeit der Modelle auf den Datzensätzen in Prozent (%)**\n",
    "\n",
    "| Datensatz      | SVM | RF  | LightGBM | A1) LSTM pro Feature Gruppe | A2) Parallele LSTM    | A3) CNN + LSTM |\n",
    "|----------------|-----|-----|----------|-------------------------|-------------------|------------|\n",
    "| Book Summary 1 | 58% | 74% | **78%**  | 77%*                    | 76%*              | -          |\n",
    "| Book Summary 2 | 57% | 73% | **81%**  | 78%                     | **81%**           | **81%**    |\n",
    "| PAN            | 57% | 68% | **70%**  | 61%                     | 65%               | 65%        |\n",
    "\n",
    "_\\*Die Ergebnisse wurden für den Book Summary 1 Datensatz mit den jeweils auf Book Summary 2 trainierten Modellen erreicht_\n",
    "\n",
    "Für alle drei Datensätze sind die Ergebnisse des nicht optimierten LightGBM führend. Für den Book Summary 2 Datensatz konnten mit dem zweiten Ansatz der parallelen LSTM die Textabschnitte vorwärts und rückwärts als Eingabe bekommen haben und mit der Kombination aus CNN und LSTM Schichten zumindest ebenso gute Ergebnisse erreicht werden. Auf dem PAN Datensatz sind alle vorgestellten Ansätze jedoch mit maximal 65% Genauigkeit noch weit hinter dem LightGBM mit 70%.\n",
    "\n",
    "Innerhalb der Book Summary Datensätze sind die Ergebnisse mit nur geringem Unterschied von 1% bei Ansatz 1 und 5% bei Ansatz 2 gut übertragbar. Versuche auf dem Book Summary Datensatz trainierte Modelle auf den PAN Datensatz zu übertragen oder umgekehrt sind aufgrund der gewählten extrahierten Features nur mit Book Summary 1 möglich gewesen und ohne Ausnahme mit einer Genauigkeit rund um 50% alle fehlgeschlagen.\n",
    "\n",
    "Während die Ansätze 1 und 2 ebenso gute Ergebnisse wie Ansatz 3 erzielt haben, ließ sich nicht bestätigen, dass durch die vorab extrahierten Features eine bessere Performance auf den relativ kleinen Datensätzen erreicht werden kann. Durch das ausbleibende Trainieren der Embedding-Schichten, sind jedoch die Trainingszeiten für Ansatz 1 und 2 wesentliche kürzer. Während sich Ansatz 1 und Ansatz 2 in rund 6 bzw. 10 Minuten durchgelaufen sind, hat Ansatz 3 knapp über 2 Stunden benötigt.\n",
    "\n",
    "Im Vergleich zu den bei der PAN Style Change Detection Aufgabe 2018 eingereichten Modellen hätten unsere Ansätze 2 und 3 mit 65% Genauigkeit den 4. Platz belegt. Das nächst bessere Modell wäre jedoch mit 80% ([Safin und Ogaltsov](http://ceur-ws.org/Vol-2125/paper_104.pdf)) wesentlich besser gewesen, während die folgenden Modelle mit 64% ([Khan](http://ceur-ws.org/Vol-2125/paper_170.pdf)) und 62% ([Schaetti](http://ceur-ws.org/Vol-2125/invited_paper_2.pdf)) nah bei einander liegen."
   ]
  },
  {
   "cell_type": "markdown",
   "metadata": {},
   "source": [
    "![Comparison_models.PNG](attachment:Comparison_models.PNG) <br>"
   ]
  },
  {
   "cell_type": "markdown",
   "metadata": {},
   "source": [
    "In Abb. **tbd xx** ist abschließend der Vergleich der verschiedenen "
   ]
  },
  {
   "cell_type": "markdown",
   "metadata": {},
   "source": [
    "## Fazit"
   ]
  },
  {
   "cell_type": "markdown",
   "metadata": {},
   "source": [
    "Zusammenfassend lässt sich feststellen, dass es prinzipiell gelungen ist mit einer Genauigkeit von über 80% gute Ergebnisse auf dem Booksummary-Datensatz zu erreichen. Die Ergebnisse sind jedoch nicht ohne Vorbehalt im hinblicka uf das Ziel der Identifizierung von Texten mit geteilter Autornschaft, da die zugrundliegenden Daten von Wikipedia stammen und so eine mehrfache Autorenschaft auch bei den negativ gelabelten Texten nicht ausgeschlossen werden kann. Dies wirft die Frage auf, ob tatsächlich der Stil der Autoren erkannt und Veränderungen dessen zu den Ergebnissen führen oder andere Eigenschaften (wie z.B. starke inhaltliche Unterschiede) ausschlaggebend sind. Im Vergleich haben die selben Modelle mit 65% Genauigkeit auf dem besser aufbereiteten PAN Datensatz schlechtere Ergenisse erzielt. \n",
    "\n",
    "Im Vergleich der Modelle und ihrer Trainingslaufzeiten lässt sich abschließend feststellen, dass die Extraktion von definierten Features als Input für Neuronale Netze lediglich einen zeitlichen Vorteil beim Trainieren von tiefen Neuronalen Netzen bringt, keine Verbesserung der Ergebnisse. Während die Architektur in Ansatz 3 auf der Lernen von Word-N-Grams ausgerichtet ist, bleibt es eine interessante Frage für weitere Experimente, ob andere vor alle lexikalische Featuers wie bspw. die durchschnittliche Satzlänge in einem solchen Netz codiert werden können und zur Klassifizierung beitragen. \n",
    "\n",
    "Desweiteren ist aufgefallen, dass alle drei Ansätze stark von einem Bias durch die Trainingsdaten betroffen sind. Zum einen war der Einsatz verschiedenster Techniken zur Vermeidung von Overfitting auf den Trainingsdaten nötig, um die Netze auf relativ kleinen datenmenge zu trainieren. Zum anderen ist auch die Übertragbarkeit der trainierten Modelle zwischen den Datensätzen nicht gegeben. Auch die einbezogene verwandte Forschung spricht dafür, dass die Generalisierbarkeit von Modellen im Bereich der Style Change Detection noch weitreichender Verbesserung bedarf. Ein Beispiel für Bemühungen in diese Richtung ist die PAN Aufgabe zur [Cross-domain Authorship Attribution](https://pan.webis.de/clef18/pan18-web/author-identification.html), die parallell zur Style Change Detection ausgeschrieben wurde. \n",
    "\n",
    "Sowohl im Sinne der Generalisierbarkeit als auch, um potentiale tieferer Neuronaler Netze in diesem Bereich zu erfroschen, besteht der Bedarf an umfangreicheren Datensätzen für diese Forschungsfrage. "
   ]
  },
  {
   "cell_type": "code",
   "execution_count": null,
   "metadata": {},
   "outputs": [],
   "source": []
  }
 ],
 "metadata": {
  "celltoolbar": "Initialization Cell",
  "kernelspec": {
   "display_name": "Python 3",
   "language": "python",
   "name": "python3"
  },
  "language_info": {
   "codemirror_mode": {
    "name": "ipython",
    "version": 3
   },
   "file_extension": ".py",
   "mimetype": "text/x-python",
   "name": "python",
   "nbconvert_exporter": "python",
   "pygments_lexer": "ipython3",
   "version": "3.6.6"
  },
  "toc": {
   "base_numbering": 1,
   "nav_menu": {},
   "number_sections": true,
   "sideBar": true,
   "skip_h1_title": true,
   "title_cell": "Inhaltsverzeichnis",
   "title_sidebar": "Contents",
   "toc_cell": true,
   "toc_position": {
    "height": "calc(100% - 180px)",
    "left": "10px",
    "top": "150px",
    "width": "384px"
   },
   "toc_section_display": true,
   "toc_window_display": true
  },
  "varInspector": {
   "cols": {
    "lenName": 16,
    "lenType": 16,
    "lenVar": 40
   },
   "kernels_config": {
    "python": {
     "delete_cmd_postfix": "",
     "delete_cmd_prefix": "del ",
     "library": "var_list.py",
     "varRefreshCmd": "print(var_dic_list())"
    },
    "r": {
     "delete_cmd_postfix": ") ",
     "delete_cmd_prefix": "rm(",
     "library": "var_list.r",
     "varRefreshCmd": "cat(var_dic_list()) "
    }
   },
   "position": {
    "height": "562px",
    "left": "1567px",
    "right": "4px",
    "top": "114px",
    "width": "349px"
   },
   "types_to_exclude": [
    "module",
    "function",
    "builtin_function_or_method",
    "instance",
    "_Feature"
   ],
   "window_display": true
  }
 },
 "nbformat": 4,
 "nbformat_minor": 2
}
