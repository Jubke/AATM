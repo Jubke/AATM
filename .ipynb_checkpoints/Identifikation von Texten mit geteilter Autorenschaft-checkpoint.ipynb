{
 "cells": [
  {
   "cell_type": "markdown",
   "metadata": {},
   "source": [
    "# Identifikation von Texten mit geteilter Autorenschaft"
   ]
  },
  {
   "cell_type": "markdown",
   "metadata": {
    "toc": true
   },
   "source": [
    "<h1>Table of Contents<span class=\"tocSkip\"></span></h1>\n",
    "<div class=\"toc\"><ul class=\"toc-item\"><li><span><a href=\"#Data-Exploration:-booksummaries\" data-toc-modified-id=\"Data-Exploration:-booksummaries-1\"><span class=\"toc-item-num\">1&nbsp;&nbsp;</span>Data Exploration: booksummaries</a></span><ul class=\"toc-item\"><li><span><a href=\"#Extracting-Genres\" data-toc-modified-id=\"Extracting-Genres-1.1\"><span class=\"toc-item-num\">1.1&nbsp;&nbsp;</span>Extracting Genres</a></span></li><li><span><a href=\"#Wieviele-Autoren-haben-in-wievielen-unterschiedlichen-Genres-publiziert?\" data-toc-modified-id=\"Wieviele-Autoren-haben-in-wievielen-unterschiedlichen-Genres-publiziert?-1.2\"><span class=\"toc-item-num\">1.2&nbsp;&nbsp;</span>Wieviele Autoren haben in wievielen unterschiedlichen Genres publiziert?</a></span></li><li><span><a href=\"#Wieviele-Autoren-haben-wieviele-unterschiedliche-Bücher-publiziert?\" data-toc-modified-id=\"Wieviele-Autoren-haben-wieviele-unterschiedliche-Bücher-publiziert?-1.3\"><span class=\"toc-item-num\">1.3&nbsp;&nbsp;</span>Wieviele Autoren haben wieviele unterschiedliche Bücher publiziert?</a></span></li><li><span><a href=\"#Doppelbelegung-von-Titeln\" data-toc-modified-id=\"Doppelbelegung-von-Titeln-1.4\"><span class=\"toc-item-num\">1.4&nbsp;&nbsp;</span>Doppelbelegung von Titeln</a></span></li></ul></li><li><span><a href=\"#Mixing-Plots\" data-toc-modified-id=\"Mixing-Plots-2\"><span class=\"toc-item-num\">2&nbsp;&nbsp;</span>Mixing Plots</a></span><ul class=\"toc-item\"><li><span><a href=\"#Generate-Binary-Genre-Vectors-per-book\" data-toc-modified-id=\"Generate-Binary-Genre-Vectors-per-book-2.1\"><span class=\"toc-item-num\">2.1&nbsp;&nbsp;</span>Generate Binary Genre Vectors per book</a></span></li><li><span><a href=\"#Similarity-Measures\" data-toc-modified-id=\"Similarity-Measures-2.2\"><span class=\"toc-item-num\">2.2&nbsp;&nbsp;</span>Similarity Measures</a></span><ul class=\"toc-item\"><li><span><a href=\"#Cosine-Similarity\" data-toc-modified-id=\"Cosine-Similarity-2.2.1\"><span class=\"toc-item-num\">2.2.1&nbsp;&nbsp;</span>Cosine-Similarity</a></span><ul class=\"toc-item\"><li><span><a href=\"#Similarity-Matrix\" data-toc-modified-id=\"Similarity-Matrix-2.2.1.1\"><span class=\"toc-item-num\">2.2.1.1&nbsp;&nbsp;</span>Similarity Matrix</a></span></li></ul></li></ul></li><li><span><a href=\"#Construction-of-artificial-texts-with-shared-authorship\" data-toc-modified-id=\"Construction-of-artificial-texts-with-shared-authorship-2.3\"><span class=\"toc-item-num\">2.3&nbsp;&nbsp;</span>Construction of artificial texts with shared authorship</a></span><ul class=\"toc-item\"><li><span><a href=\"#Combinatoric-considerations\" data-toc-modified-id=\"Combinatoric-considerations-2.3.1\"><span class=\"toc-item-num\">2.3.1&nbsp;&nbsp;</span>Combinatoric considerations</a></span></li><li><span><a href=\"#Building-a-dataset\" data-toc-modified-id=\"Building-a-dataset-2.3.2\"><span class=\"toc-item-num\">2.3.2&nbsp;&nbsp;</span>Building a dataset</a></span></li><li><span><a href=\"#The-simple-case\" data-toc-modified-id=\"The-simple-case-2.3.3\"><span class=\"toc-item-num\">2.3.3&nbsp;&nbsp;</span>The simple case</a></span></li></ul></li><li><span><a href=\"#Helpers\" data-toc-modified-id=\"Helpers-2.4\"><span class=\"toc-item-num\">2.4&nbsp;&nbsp;</span>Helpers</a></span></li></ul></li></ul></div>"
   ]
  },
  {
   "cell_type": "markdown",
   "metadata": {},
   "source": [
    "## Data Exploration: booksummaries\n",
    "\n",
    "Basic data exploration of the booksummaries dataset."
   ]
  },
  {
   "cell_type": "code",
   "execution_count": 1,
   "metadata": {
    "ExecuteTime": {
     "end_time": "2018-12-07T08:54:03.998336Z",
     "start_time": "2018-12-07T08:54:02.814117Z"
    },
    "init_cell": true
   },
   "outputs": [],
   "source": [
    "# Imports\n",
    "import pandas as pd\n",
    "import numpy as np\n",
    "import matplotlib.pyplot as plt\n",
    "from scipy import stats\n",
    "import math\n",
    "from sklearn.metrics.pairwise import cosine_similarity\n",
    "from sklearn.externals.joblib import Memory"
   ]
  },
  {
   "cell_type": "markdown",
   "metadata": {},
   "source": [
    "Initialize Memory"
   ]
  },
  {
   "cell_type": "code",
   "execution_count": 2,
   "metadata": {
    "ExecuteTime": {
     "end_time": "2018-12-07T08:54:04.003507Z",
     "start_time": "2018-12-07T08:54:04.000225Z"
    },
    "init_cell": true
   },
   "outputs": [],
   "source": [
    "memory = Memory(location='./tmp', verbose=0)"
   ]
  },
  {
   "cell_type": "markdown",
   "metadata": {},
   "source": [
    "Loading the data"
   ]
  },
  {
   "cell_type": "code",
   "execution_count": 3,
   "metadata": {
    "ExecuteTime": {
     "end_time": "2018-12-07T08:54:04.010528Z",
     "start_time": "2018-12-07T08:54:04.005279Z"
    },
    "init_cell": true
   },
   "outputs": [],
   "source": [
    "@memory.cache\n",
    "def load_raw_data():\n",
    "    return pd.read_csv(\n",
    "        './datasets/booksummaries/booksummaries.txt', \n",
    "        header=None,\n",
    "        sep='\\t',\n",
    "        names=['wiki_id', 'firebase_id', 'title', 'author', 'pub_date', 'genres', 'plot'],\n",
    "        dtype={\n",
    "            'wiki_id': 'uint32',\n",
    "            'author': 'category'\n",
    "        }\n",
    "    )"
   ]
  },
  {
   "cell_type": "code",
   "execution_count": 4,
   "metadata": {
    "ExecuteTime": {
     "end_time": "2018-12-07T08:54:04.929219Z",
     "start_time": "2018-12-07T08:54:04.012364Z"
    },
    "init_cell": true
   },
   "outputs": [],
   "source": [
    "data = load_raw_data()"
   ]
  },
  {
   "cell_type": "code",
   "execution_count": 6,
   "metadata": {
    "ExecuteTime": {
     "end_time": "2018-11-10T17:30:09.158075Z",
     "start_time": "2018-11-10T17:30:09.154422Z"
    }
   },
   "outputs": [
    {
     "data": {
      "text/plain": [
       "(16559, 7)"
      ]
     },
     "execution_count": 6,
     "metadata": {},
     "output_type": "execute_result"
    }
   ],
   "source": [
    "# Number of entries\n",
    "data.shape"
   ]
  },
  {
   "cell_type": "code",
   "execution_count": 11,
   "metadata": {
    "ExecuteTime": {
     "end_time": "2018-11-10T17:30:10.351625Z",
     "start_time": "2018-11-10T17:30:10.338886Z"
    }
   },
   "outputs": [
    {
     "name": "stdout",
     "output_type": "stream",
     "text": [
      "Unique Wikipedia IDs:\t 16559\n",
      "Unique Firebase IDs:\t 16559\n",
      "Unique Titles:\t\t 16277\n",
      "Unique Authors:\t\t 4715\n",
      "Unique Pub. Dates:\t 2640\n"
     ]
    }
   ],
   "source": [
    "# Entries are unique books by ids...\n",
    "print(\"Unique Wikipedia IDs:\\t\", data.wiki_id.unique().size)\n",
    "print(\"Unique Firebase IDs:\\t\", data.firebase_id.unique().size)\n",
    "# ...but not by title\n",
    "print(\"Unique Titles:\\t\\t\", data.title.unique().size)\n",
    "print(\"Unique Authors:\\t\\t\", data.author.unique().size)\n",
    "print(\"Unique Pub. Dates:\\t\", data.pub_date.unique().size)"
   ]
  },
  {
   "cell_type": "code",
   "execution_count": 8,
   "metadata": {
    "ExecuteTime": {
     "end_time": "2018-11-10T17:30:13.022434Z",
     "start_time": "2018-11-10T17:30:13.008452Z"
    },
    "scrolled": true
   },
   "outputs": [
    {
     "data": {
      "text/plain": [
       "wiki_id           0\n",
       "firebase_id       0\n",
       "title             0\n",
       "author         2382\n",
       "pub_date       5610\n",
       "genres         3718\n",
       "plot              0\n",
       "dtype: int64"
      ]
     },
     "execution_count": 8,
     "metadata": {},
     "output_type": "execute_result"
    }
   ],
   "source": [
    "# We have some missing values\n",
    "data.isnull().sum()"
   ]
  },
  {
   "cell_type": "markdown",
   "metadata": {
    "heading_collapsed": true
   },
   "source": [
    "### Extracting Genres"
   ]
  },
  {
   "cell_type": "code",
   "execution_count": null,
   "metadata": {
    "ExecuteTime": {
     "end_time": "2018-12-07T08:45:36.165532Z",
     "start_time": "2018-12-07T08:45:34.967Z"
    },
    "hidden": true
   },
   "outputs": [],
   "source": [
    "# Subset original data\n",
    "temp = data.loc[:, ['wiki_id', 'genres']]\n",
    "# drop rows without genres\n",
    "temp = temp.dropna()\n",
    "# extract `id: genre` pairs to lists\n",
    "temp.genres = temp.genres.str.replace('[{}\"]', '', regex=True).str.split(', ')\n",
    "# map each genre <=> book relation to a seperate row\n",
    "genre_tags = []\n",
    "for key, row in temp.iterrows():\n",
    "    book_id = row[0]\n",
    "    tags = pd.Series(row[1]).str.split(': ')\n",
    "    for genre_id, genre_name in tags:\n",
    "        genre_tags += [[book_id, genre_id, genre_name]]\n",
    "\n",
    "\n",
    "genre_tags = pd.DataFrame(genre_tags)\n",
    "genre_tags.columns = ['wiki_id', 'genre_id', 'genre_name']"
   ]
  },
  {
   "cell_type": "code",
   "execution_count": null,
   "metadata": {
    "ExecuteTime": {
     "end_time": "2018-12-07T08:45:36.168265Z",
     "start_time": "2018-12-07T08:45:34.969Z"
    },
    "hidden": true
   },
   "outputs": [],
   "source": [
    "# Extract unique genres\n",
    "genres = genre_tags.groupby(['genre_id', 'genre_name']).agg('count')\n",
    "genres.columns = ['count']\n",
    "genres.describe() # Note that there are more unique ids than names (\"Mystery\" genre)"
   ]
  },
  {
   "cell_type": "code",
   "execution_count": 6,
   "metadata": {
    "ExecuteTime": {
     "end_time": "2018-11-10T18:05:59.641621Z",
     "start_time": "2018-11-10T18:05:59.630953Z"
    },
    "hidden": true,
    "scrolled": true
   },
   "outputs": [
    {
     "data": {
      "text/html": [
       "<div>\n",
       "<style scoped>\n",
       "    .dataframe tbody tr th:only-of-type {\n",
       "        vertical-align: middle;\n",
       "    }\n",
       "\n",
       "    .dataframe tbody tr th {\n",
       "        vertical-align: top;\n",
       "    }\n",
       "\n",
       "    .dataframe thead th {\n",
       "        text-align: right;\n",
       "    }\n",
       "</style>\n",
       "<table border=\"1\" class=\"dataframe\">\n",
       "  <thead>\n",
       "    <tr style=\"text-align: right;\">\n",
       "      <th></th>\n",
       "      <th></th>\n",
       "      <th>count</th>\n",
       "    </tr>\n",
       "    <tr>\n",
       "      <th>genre_id</th>\n",
       "      <th>genre_name</th>\n",
       "      <th></th>\n",
       "    </tr>\n",
       "  </thead>\n",
       "  <tbody>\n",
       "    <tr>\n",
       "      <th>/m/02xlf</th>\n",
       "      <th>Fiction</th>\n",
       "      <td>4747</td>\n",
       "    </tr>\n",
       "    <tr>\n",
       "      <th>/m/014dfn</th>\n",
       "      <th>Speculative fiction</th>\n",
       "      <td>4314</td>\n",
       "    </tr>\n",
       "    <tr>\n",
       "      <th>/m/06n90</th>\n",
       "      <th>Science Fiction</th>\n",
       "      <td>2870</td>\n",
       "    </tr>\n",
       "    <tr>\n",
       "      <th>/m/05hgj</th>\n",
       "      <th>Novel</th>\n",
       "      <td>2463</td>\n",
       "    </tr>\n",
       "    <tr>\n",
       "      <th>/m/01hmnh</th>\n",
       "      <th>Fantasy</th>\n",
       "      <td>2413</td>\n",
       "    </tr>\n",
       "    <tr>\n",
       "      <th>/m/0dwly</th>\n",
       "      <th>Children's literature</th>\n",
       "      <td>2122</td>\n",
       "    </tr>\n",
       "    <tr>\n",
       "      <th>/m/02n4kr</th>\n",
       "      <th>Mystery</th>\n",
       "      <td>1395</td>\n",
       "    </tr>\n",
       "    <tr>\n",
       "      <th>/m/03mfnf</th>\n",
       "      <th>Young adult literature</th>\n",
       "      <td>825</td>\n",
       "    </tr>\n",
       "    <tr>\n",
       "      <th>/m/0c3351</th>\n",
       "      <th>Suspense</th>\n",
       "      <td>765</td>\n",
       "    </tr>\n",
       "    <tr>\n",
       "      <th>/m/0lsxr</th>\n",
       "      <th>Crime Fiction</th>\n",
       "      <td>753</td>\n",
       "    </tr>\n",
       "  </tbody>\n",
       "</table>\n",
       "</div>"
      ],
      "text/plain": [
       "                                  count\n",
       "genre_id  genre_name                   \n",
       "/m/02xlf  Fiction                  4747\n",
       "/m/014dfn Speculative fiction      4314\n",
       "/m/06n90  Science Fiction          2870\n",
       "/m/05hgj  Novel                    2463\n",
       "/m/01hmnh Fantasy                  2413\n",
       "/m/0dwly  Children's literature    2122\n",
       "/m/02n4kr Mystery                  1395\n",
       "/m/03mfnf Young adult literature    825\n",
       "/m/0c3351 Suspense                  765\n",
       "/m/0lsxr  Crime Fiction             753"
      ]
     },
     "execution_count": 6,
     "metadata": {},
     "output_type": "execute_result"
    }
   ],
   "source": [
    "# Top 10 Genres\n",
    "genres.sort_values('count', ascending=False)[0:10]"
   ]
  },
  {
   "cell_type": "code",
   "execution_count": 7,
   "metadata": {
    "ExecuteTime": {
     "end_time": "2018-11-10T17:30:39.771474Z",
     "start_time": "2018-11-10T17:30:39.457859Z"
    },
    "hidden": true
   },
   "outputs": [
    {
     "data": {
      "text/plain": [
       "array([[<matplotlib.axes._subplots.AxesSubplot object at 0x7effcb9ebc18>]], dtype=object)"
      ]
     },
     "execution_count": 7,
     "metadata": {},
     "output_type": "execute_result"
    },
    {
     "data": {
      "image/png": "[encoded data removed]",
      "text/plain": [
       "<Figure size 432x288 with 1 Axes>"
      ]
     },
     "metadata": {
      "needs_background": "light"
     },
     "output_type": "display_data"
    }
   ],
   "source": [
    "# Number of genres per book\n",
    "genre_tags.loc[:,['wiki_id', 'genre_name']].groupby('wiki_id').count().hist()"
   ]
  },
  {
   "cell_type": "code",
   "execution_count": 5,
   "metadata": {
    "ExecuteTime": {
     "end_time": "2018-12-07T08:54:04.934928Z",
     "start_time": "2018-12-07T08:54:04.931923Z"
    },
    "hidden": true,
    "init_cell": true
   },
   "outputs": [],
   "source": [
    "def genres_for_books(wiki_ids):\n",
    "    return genre_tags.loc[genre_tags['wiki_id'].isin(wiki_ids)]\n",
    "\n",
    "# Look up multiple books\n",
    "# genres_for_books(data.wiki_id.iloc[0:3])\n",
    "# To look up single book wrap in an array\n",
    "# genres_for_books([data.wiki_id[0]])"
   ]
  },
  {
   "cell_type": "code",
   "execution_count": 6,
   "metadata": {
    "ExecuteTime": {
     "end_time": "2018-12-07T08:54:04.939596Z",
     "start_time": "2018-12-07T08:54:04.936667Z"
    },
    "hidden": true,
    "init_cell": true
   },
   "outputs": [],
   "source": [
    "def genres_for_author(author):\n",
    "    books_for_author = data.loc[data['author'] == author].loc[:, 'wiki_id']\n",
    "    return genres_for_books(books_for_author)\n",
    "\n",
    "# Look up genres for single author\n",
    "# genres_for_author('George Orwell')"
   ]
  },
  {
   "cell_type": "markdown",
   "metadata": {
    "heading_collapsed": true
   },
   "source": [
    "### Wieviele Autoren haben in wievielen unterschiedlichen Genres publiziert?"
   ]
  },
  {
   "cell_type": "code",
   "execution_count": 10,
   "metadata": {
    "ExecuteTime": {
     "end_time": "2018-11-10T17:30:50.716330Z",
     "start_time": "2018-11-10T17:30:46.012049Z"
    },
    "hidden": true
   },
   "outputs": [
    {
     "data": {
      "text/html": [
       "<div>\n",
       "<style scoped>\n",
       "    .dataframe tbody tr th:only-of-type {\n",
       "        vertical-align: middle;\n",
       "    }\n",
       "\n",
       "    .dataframe tbody tr th {\n",
       "        vertical-align: top;\n",
       "    }\n",
       "\n",
       "    .dataframe thead th {\n",
       "        text-align: right;\n",
       "    }\n",
       "</style>\n",
       "<table border=\"1\" class=\"dataframe\">\n",
       "  <thead>\n",
       "    <tr style=\"text-align: right;\">\n",
       "      <th></th>\n",
       "      <th>1</th>\n",
       "    </tr>\n",
       "  </thead>\n",
       "  <tbody>\n",
       "    <tr>\n",
       "      <th>count</th>\n",
       "      <td>4714.000000</td>\n",
       "    </tr>\n",
       "    <tr>\n",
       "      <th>mean</th>\n",
       "      <td>2.441451</td>\n",
       "    </tr>\n",
       "    <tr>\n",
       "      <th>std</th>\n",
       "      <td>2.489543</td>\n",
       "    </tr>\n",
       "    <tr>\n",
       "      <th>min</th>\n",
       "      <td>0.000000</td>\n",
       "    </tr>\n",
       "    <tr>\n",
       "      <th>25%</th>\n",
       "      <td>1.000000</td>\n",
       "    </tr>\n",
       "    <tr>\n",
       "      <th>50%</th>\n",
       "      <td>2.000000</td>\n",
       "    </tr>\n",
       "    <tr>\n",
       "      <th>75%</th>\n",
       "      <td>3.000000</td>\n",
       "    </tr>\n",
       "    <tr>\n",
       "      <th>max</th>\n",
       "      <td>22.000000</td>\n",
       "    </tr>\n",
       "  </tbody>\n",
       "</table>\n",
       "</div>"
      ],
      "text/plain": [
       "                 1\n",
       "count  4714.000000\n",
       "mean      2.441451\n",
       "std       2.489543\n",
       "min       0.000000\n",
       "25%       1.000000\n",
       "50%       2.000000\n",
       "75%       3.000000\n",
       "max      22.000000"
      ]
     },
     "execution_count": 10,
     "metadata": {},
     "output_type": "execute_result"
    }
   ],
   "source": [
    "authors = data.groupby('author')\n",
    "\n",
    "author_genres = []\n",
    "for name, group in authors:\n",
    "    author_genres += [\n",
    "        [name, genres_for_books(group.wiki_id).genre_name.unique().size]\n",
    "    ]\n",
    "\n",
    "author_genres = pd.DataFrame(author_genres)\n",
    "author_genres.describe()"
   ]
  },
  {
   "cell_type": "code",
   "execution_count": 11,
   "metadata": {
    "ExecuteTime": {
     "end_time": "2018-11-10T17:30:50.893146Z",
     "start_time": "2018-11-10T17:30:50.760854Z"
    },
    "hidden": true
   },
   "outputs": [
    {
     "data": {
      "text/plain": [
       "array([[<matplotlib.axes._subplots.AxesSubplot object at 0x7effcb9fa828>]], dtype=object)"
      ]
     },
     "execution_count": 11,
     "metadata": {},
     "output_type": "execute_result"
    },
    {
     "data": {
      "image/png": "[encoded data removed]",
      "text/plain": [
       "<Figure size 432x288 with 1 Axes>"
      ]
     },
     "metadata": {
      "needs_background": "light"
     },
     "output_type": "display_data"
    }
   ],
   "source": [
    "author_genres.hist( bins=22 )"
   ]
  },
  {
   "cell_type": "markdown",
   "metadata": {
    "heading_collapsed": true
   },
   "source": [
    "### Wieviele Autoren haben wieviele unterschiedliche Bücher publiziert?"
   ]
  },
  {
   "cell_type": "code",
   "execution_count": 17,
   "metadata": {
    "ExecuteTime": {
     "end_time": "2018-11-10T17:31:04.932409Z",
     "start_time": "2018-11-10T17:31:04.724303Z"
    },
    "hidden": true,
    "scrolled": true
   },
   "outputs": [
    {
     "data": {
      "image/png": "[encoded data removed]",
      "text/plain": [
       "<Figure size 432x288 with 1 Axes>"
      ]
     },
     "metadata": {
      "needs_background": "light"
     },
     "output_type": "display_data"
    }
   ],
   "source": [
    "num_titles_per_author=authors.title.nunique()\n",
    "plt=num_titles_per_author.hist(bins=num_titles_per_author.max())"
   ]
  },
  {
   "cell_type": "code",
   "execution_count": 18,
   "metadata": {
    "ExecuteTime": {
     "end_time": "2018-11-10T17:31:05.702545Z",
     "start_time": "2018-11-10T17:31:05.696255Z"
    },
    "hidden": true
   },
   "outputs": [
    {
     "name": "stdout",
     "output_type": "stream",
     "text": [
      "count    4714.000000\n",
      "mean        3.006364\n",
      "std         5.098350\n",
      "min         1.000000\n",
      "25%         1.000000\n",
      "50%         1.000000\n",
      "75%         3.000000\n",
      "max        74.000000\n",
      "Name: title, dtype: float64\n"
     ]
    }
   ],
   "source": [
    "print(num_titles_per_author.describe())"
   ]
  },
  {
   "cell_type": "markdown",
   "metadata": {
    "heading_collapsed": true
   },
   "source": [
    "### Doppelbelegung von Titeln"
   ]
  },
  {
   "cell_type": "code",
   "execution_count": 19,
   "metadata": {
    "ExecuteTime": {
     "end_time": "2018-11-10T17:31:09.121318Z",
     "start_time": "2018-11-10T17:31:08.731932Z"
    },
    "hidden": true
   },
   "outputs": [
    {
     "name": "stdout",
     "output_type": "stream",
     "text": [
      "Anzahl der doppelten Titeln: (246, 7)\n"
     ]
    }
   ],
   "source": [
    "titles=data.groupby(\"title\")\n",
    "print('Anzahl der doppelten Titeln:',titles.nunique().loc[titles.nunique().wiki_id > 1].shape)"
   ]
  },
  {
   "cell_type": "code",
   "execution_count": 20,
   "metadata": {
    "ExecuteTime": {
     "end_time": "2018-11-10T17:31:10.189600Z",
     "start_time": "2018-11-10T17:31:09.811324Z"
    },
    "hidden": true
   },
   "outputs": [
    {
     "data": {
      "text/html": [
       "<div>\n",
       "<style scoped>\n",
       "    .dataframe tbody tr th:only-of-type {\n",
       "        vertical-align: middle;\n",
       "    }\n",
       "\n",
       "    .dataframe tbody tr th {\n",
       "        vertical-align: top;\n",
       "    }\n",
       "\n",
       "    .dataframe thead th {\n",
       "        text-align: right;\n",
       "    }\n",
       "</style>\n",
       "<table border=\"1\" class=\"dataframe\">\n",
       "  <thead>\n",
       "    <tr style=\"text-align: right;\">\n",
       "      <th></th>\n",
       "      <th>wiki_id</th>\n",
       "      <th>firebase_id</th>\n",
       "      <th>title</th>\n",
       "      <th>author</th>\n",
       "      <th>pub_date</th>\n",
       "      <th>genres</th>\n",
       "      <th>plot</th>\n",
       "    </tr>\n",
       "    <tr>\n",
       "      <th>title</th>\n",
       "      <th></th>\n",
       "      <th></th>\n",
       "      <th></th>\n",
       "      <th></th>\n",
       "      <th></th>\n",
       "      <th></th>\n",
       "      <th></th>\n",
       "    </tr>\n",
       "  </thead>\n",
       "  <tbody>\n",
       "    <tr>\n",
       "      <th>1945</th>\n",
       "      <td>2</td>\n",
       "      <td>2</td>\n",
       "      <td>1</td>\n",
       "      <td>2</td>\n",
       "      <td>2</td>\n",
       "      <td>2</td>\n",
       "      <td>2</td>\n",
       "    </tr>\n",
       "    <tr>\n",
       "      <th>A Casa</th>\n",
       "      <td>2</td>\n",
       "      <td>2</td>\n",
       "      <td>1</td>\n",
       "      <td>2</td>\n",
       "      <td>0</td>\n",
       "      <td>2</td>\n",
       "      <td>2</td>\n",
       "    </tr>\n",
       "    <tr>\n",
       "      <th>A Taste for Death</th>\n",
       "      <td>2</td>\n",
       "      <td>2</td>\n",
       "      <td>1</td>\n",
       "      <td>2</td>\n",
       "      <td>1</td>\n",
       "      <td>2</td>\n",
       "      <td>2</td>\n",
       "    </tr>\n",
       "    <tr>\n",
       "      <th>Abduction</th>\n",
       "      <td>2</td>\n",
       "      <td>2</td>\n",
       "      <td>1</td>\n",
       "      <td>2</td>\n",
       "      <td>2</td>\n",
       "      <td>2</td>\n",
       "      <td>2</td>\n",
       "    </tr>\n",
       "    <tr>\n",
       "      <th>American Beauty</th>\n",
       "      <td>2</td>\n",
       "      <td>2</td>\n",
       "      <td>1</td>\n",
       "      <td>2</td>\n",
       "      <td>2</td>\n",
       "      <td>1</td>\n",
       "      <td>2</td>\n",
       "    </tr>\n",
       "  </tbody>\n",
       "</table>\n",
       "</div>"
      ],
      "text/plain": [
       "                   wiki_id  firebase_id  title  author  pub_date  genres  plot\n",
       "title                                                                         \n",
       "1945                     2            2      1       2         2       2     2\n",
       "A Casa                   2            2      1       2         0       2     2\n",
       "A Taste for Death        2            2      1       2         1       2     2\n",
       "Abduction                2            2      1       2         2       2     2\n",
       "American Beauty          2            2      1       2         2       1     2"
      ]
     },
     "execution_count": 20,
     "metadata": {},
     "output_type": "execute_result"
    }
   ],
   "source": [
    "titles.nunique().loc[titles.nunique().wiki_id > 1].head()"
   ]
  },
  {
   "cell_type": "code",
   "execution_count": 21,
   "metadata": {
    "hidden": true
   },
   "outputs": [
    {
     "data": {
      "text/plain": [
       "<matplotlib.axes._subplots.AxesSubplot at 0x7f24982aaf28>"
      ]
     },
     "execution_count": 21,
     "metadata": {},
     "output_type": "execute_result"
    },
    {
     "data": {
      "image/png": "[encoded data removed]",
      "text/plain": [
       "<Figure size 432x288 with 1 Axes>"
      ]
     },
     "metadata": {
      "needs_background": "light"
     },
     "output_type": "display_data"
    }
   ],
   "source": [
    "titles.nunique().wiki_id.hist()"
   ]
  },
  {
   "cell_type": "markdown",
   "metadata": {},
   "source": [
    "## Mixing Plots"
   ]
  },
  {
   "cell_type": "markdown",
   "metadata": {},
   "source": [
    "### Generate Binary Genre Vectors per book"
   ]
  },
  {
   "cell_type": "code",
   "execution_count": 7,
   "metadata": {
    "ExecuteTime": {
     "end_time": "2018-12-07T08:54:04.946517Z",
     "start_time": "2018-12-07T08:54:04.941413Z"
    },
    "init_cell": true
   },
   "outputs": [],
   "source": [
    "# Extract k-hot-encoding of genres\n",
    "@memory.cache\n",
    "def extract_genres(data):\n",
    "    result = data.genres.str.replace('[{}\"]', '', regex=True) \\\n",
    "                         .str.replace('/m/.+?: ', '', regex=True) \\\n",
    "                         .str.get_dummies(', ')\n",
    "    # Prefix and normalize genre columns\n",
    "    result.columns = ['genre_' + str(col) for col in result.columns.str.lower().str.replace('[^a-z]', '_')]\n",
    "    # Select genres that have been assigned at least twice.\n",
    "    # \n",
    "    # Assuming we use genres only to match text an additional dimensions \n",
    "    # that is never shared will only make a text more 'different' from \n",
    "    # all other text. No information gain in that.\n",
    "    # \n",
    "    # This reduces genres from 227 to 183. \n",
    "    result = result.loc[:, result.sum(axis=0) >= 2]\n",
    "    \n",
    "    return result"
   ]
  },
  {
   "cell_type": "markdown",
   "metadata": {},
   "source": [
    "### Similarity Measures"
   ]
  },
  {
   "cell_type": "markdown",
   "metadata": {},
   "source": [
    "#### Cosine-Similarity"
   ]
  },
  {
   "cell_type": "markdown",
   "metadata": {},
   "source": [
    "The cosine similarity indicates similarity of orientation of two vectors by measuring the cosine of the angle between those vectors. Magnitude of the vectors is not of relevance. The cosine similarity is 0 for orthogonal vectors, 1 for vectors of the same orientation or -1  for diametrically opposed vectors.\n",
    "\n",
    "$$ similarity: S_C(x,y) = cos(\\pmb x, \\pmb y) = \\frac {\\pmb x \\cdot \\pmb y}{||\\pmb x|| \\cdot ||\\pmb y||} $$\n",
    "\n",
    "As we are using the cosine similarity to compare attribute vectors in strictly positive space we can use the cosine distance, which is the complement of the cosine similarity in positive space. A distance of 0 indicates same orientation, a distance of 1 indicates no similarity or decorrelation and values in between indicate similarity or dissimilarity.\n",
    "\n",
    "$$ D_C(x,y) = 1 - S_C(x,y) $$"
   ]
  },
  {
   "cell_type": "markdown",
   "metadata": {},
   "source": [
    "##### Similarity Matrix"
   ]
  },
  {
   "cell_type": "markdown",
   "metadata": {},
   "source": [
    "We calculate pairwise cosine similar for our books binary genre vectors."
   ]
  },
  {
   "cell_type": "code",
   "execution_count": 8,
   "metadata": {
    "ExecuteTime": {
     "end_time": "2018-12-07T08:54:04.952591Z",
     "start_time": "2018-12-07T08:54:04.948595Z"
    },
    "init_cell": true
   },
   "outputs": [],
   "source": [
    "@memory.cache\n",
    "def calc_cosine_sim_matrix(genres):\n",
    "    result = cosine_similarity(genres)\n",
    "    result[np.tril_indices(result.shape[0])] = np.nan\n",
    "    result = pd.DataFrame(result).apply(pd.to_numeric, downcast='float')\n",
    "    return result"
   ]
  },
  {
   "cell_type": "code",
   "execution_count": 9,
   "metadata": {
    "ExecuteTime": {
     "end_time": "2018-12-07T08:54:04.958073Z",
     "start_time": "2018-12-07T08:54:04.954680Z"
    },
    "init_cell": true
   },
   "outputs": [],
   "source": [
    "@memory.cache\n",
    "def calc_cosine_dist_matrix(genres):\n",
    "    return (calc_cosine_sim_matrix(genres) * -1.0) + 1.0"
   ]
  },
  {
   "cell_type": "code",
   "execution_count": 12,
   "metadata": {
    "ExecuteTime": {
     "end_time": "2018-12-07T08:54:58.587894Z",
     "start_time": "2018-12-07T08:54:17.311844Z"
    }
   },
   "outputs": [],
   "source": [
    "sim_matrix = calc_cosine_sim_matrix(extract_genres(data))"
   ]
  },
  {
   "cell_type": "markdown",
   "metadata": {},
   "source": [
    "### Construction of artificial texts with shared authorship"
   ]
  },
  {
   "cell_type": "markdown",
   "metadata": {},
   "source": [
    "As there is no labeled dataset of texts with shared and non-shared authorship (or at least non we know of), we have to construct a labeled dataset by artificially combining texts, then treating them as text of shared authorship and mix them with texts that have not been altered and are therefore considered to be of a non-shared authorship."
   ]
  },
  {
   "cell_type": "markdown",
   "metadata": {},
   "source": [
    "#### Combinatoric considerations"
   ]
  },
  {
   "cell_type": "markdown",
   "metadata": {},
   "source": [
    "While combining texts for mixed authorship there are several factors that can be considered and varied to create different datasets that might effect the results later.\n",
    "\n",
    "__Degree of similarity__  \n",
    "By varying a threshold of similarity we assume that the difficulty of resulting combinations can be effected. Determining shared authorship of texts that are more alike by any given measure upfront, might be more difficult to detect than with a combined text of which original texts were considered less alike upfront.\n",
    "\n",
    "__Reuse of texts__  \n",
    "A text that was used for combination could be or not be reused for combination with additional texts or it could also be not be used as a text of non-shared authorship in the same dataset.\n",
    "\n",
    "__Method of combination__  \n",
    "There are different ways to combine texts. The simplest being to append on text to another. Another approach could be to split individual texts into paragraphs or sentences and interleave or randomly mix those tokens.\n",
    "  \n",
    "__Number of texts being combined__  \n",
    "Any number of texts could be combined to create texts of shared authorship with different degrees, e.g. 1 to n authors.\n",
    "  \n",
    "__Share of combined texts in the resulting dataset__  \n",
    "Depending on used features and techniques the percentage of shared texts vs texts of single authorship might effect the algorithms performance for new unrelated datasets."
   ]
  },
  {
   "cell_type": "markdown",
   "metadata": {},
   "source": [
    "#### Building a dataset"
   ]
  },
  {
   "cell_type": "code",
   "execution_count": 14,
   "metadata": {
    "ExecuteTime": {
     "end_time": "2018-12-07T08:56:44.715453Z",
     "start_time": "2018-12-07T08:56:44.705067Z"
    },
    "init_cell": true
   },
   "outputs": [],
   "source": [
    "def build_dataset(\n",
    "    # The dataset \n",
    "    data,\n",
    "    sim_matrix,\n",
    "    sim_threshold = 0.5,\n",
    "    reuse_texts = False,\n",
    "    combination = 'append',\n",
    "    comb_degree = 2,\n",
    "    target_share = 0.2,\n",
    "    text_col = 'plot'\n",
    "):  \n",
    "    if comb_degree > 2:\n",
    "        raise NotImplementedError\n",
    "    # Total number of available texts\n",
    "    n_total = data.shape[0]\n",
    "    # Instantiate number of texts that will be combined\n",
    "    n_combine = 0\n",
    "    # Calculate number of combined texts\n",
    "    if (reuse_texts):\n",
    "        raise NotImplementedError\n",
    "    else:\n",
    "        # Number of texts that will be combined\n",
    "        n_combine = n_total * comb_degree / (1/target_share + comb_degree - 1)\n",
    "    \n",
    "    # `n_combine` should be an integer value and dividable by `comb_degree` and\n",
    "    # we will interpret target_share as minimum.\n",
    "    n_combine = math.ceil(n_combine)\n",
    "    n_combine += (n_combine % comb_degree)\n",
    "    \n",
    "    \n",
    "    # Instantiate number of resulting combined texts\n",
    "    n_combined = int(n_combine / comb_degree)\n",
    "    # Number of texts that will directly be taken into the in the final dataset without combination\n",
    "    n_direct = n_total - n_combine\n",
    "    \n",
    "    # Number of resulting texts\n",
    "    n_result = n_direct + n_combined\n",
    "    actual_share = n_combined/n_result\n",
    "    \n",
    "    print('Total # of input texts: ', n_total)\n",
    "    print('# of texts to combine: ', n_combine)\n",
    "    print('# of resulting texts with shared authorship: ', n_combined)\n",
    "    print('# of resulting texts without shared authorship: ', n_direct)\n",
    "    print('Total # of resulting texts: ', n_result)\n",
    "    print('Actual share of texts with shared authorship: ', actual_share)\n",
    "    \n",
    "    # override lower diagonal with nan to drop duplicates and self combination.\n",
    "    # SHOULD BE DONE BEFORE PASSED TO THIS METHOD\n",
    "    # sim_matrix[np.tril_indices(sim_matrix.shape[0])] = np.nan\n",
    "    # dropping nan\n",
    "    sim_df = sim_matrix.stack()\n",
    "    # drop combinations below threshold and return left viable choices\n",
    "    choices = sim_df[sim_df >= sim_threshold]\n",
    "    \n",
    "    to_combine = np.ndarray((n_combined), dtype=tuple)\n",
    "    if reuse_texts:\n",
    "        choices = choices.index.values\n",
    "        to_combine = np.random.choice(choices, n_combined, replace=False)\n",
    "    else:\n",
    "        for i in range(to_combine.shape[0]):\n",
    "            # choose random tuple\n",
    "            choice = np.random.choice(choices.loc[choices.notna()].index.values)\n",
    "            to_combine[i] = choice\n",
    "            # drop all tuples including either choice\n",
    "            choices.loc[[choice[0], choice[1]]] = np.nan\n",
    "            choices.loc[:, [choice[0], choice[1]]] = np.nan\n",
    "\n",
    "    tc_values = list(sum(to_combine,()))\n",
    "    all_values = pd.Series(data.index.values)\n",
    "    to_direct = all_values[~all_values.isin(tc_values)]\n",
    "    \n",
    "    # combine texts\n",
    "    combined = pd.DataFrame([[append_texts(data, ids, text_col), 1] for ids in to_combine])\n",
    "    direct = pd.DataFrame([[data[text_col][i], 0] for i in to_direct])\n",
    "    \n",
    "    result = pd.concat(\n",
    "        [combined, direct],\n",
    "        axis=0,\n",
    "        ignore_index=True, \n",
    "        copy=False\n",
    "    )\n",
    "    \n",
    "    result.columns = ['text', 'label']\n",
    "    \n",
    "    return result"
   ]
  },
  {
   "cell_type": "code",
   "execution_count": 11,
   "metadata": {
    "ExecuteTime": {
     "end_time": "2018-12-07T08:54:04.977940Z",
     "start_time": "2018-12-07T08:54:04.974416Z"
    },
    "init_cell": true
   },
   "outputs": [],
   "source": [
    "def append_texts(data, ids, text_col = 'plot'):\n",
    "    t = \"\"\n",
    "    for i in range(len(ids)):\n",
    "        t += data[text_col][ids[i]]\n",
    "    return t"
   ]
  },
  {
   "cell_type": "markdown",
   "metadata": {},
   "source": [
    "#### The simple case"
   ]
  },
  {
   "cell_type": "markdown",
   "metadata": {},
   "source": [
    "To start with we will go with a simple case:"
   ]
  },
  {
   "cell_type": "code",
   "execution_count": 15,
   "metadata": {
    "ExecuteTime": {
     "end_time": "2018-12-07T08:56:54.776831Z",
     "start_time": "2018-12-07T08:56:54.720067Z"
    }
   },
   "outputs": [
    {
     "name": "stdout",
     "output_type": "stream",
     "text": [
      "<class 'pandas.core.frame.DataFrame'>\n",
      "RangeIndex: 16559 entries, 0 to 16558\n",
      "Columns: 16559 entries, 0 to 16558\n",
      "dtypes: float32(16559)\n",
      "memory usage: 1.0 GB\n"
     ]
    }
   ],
   "source": [
    "sim_matrix.info()"
   ]
  },
  {
   "cell_type": "code",
   "execution_count": 17,
   "metadata": {
    "ExecuteTime": {
     "end_time": "2018-12-07T08:58:22.260070Z",
     "start_time": "2018-12-07T08:58:22.215352Z"
    }
   },
   "outputs": [
    {
     "name": "stdout",
     "output_type": "stream",
     "text": [
      "Total # of input texts:  100\n",
      "# of texts to combine:  34\n",
      "# of resulting texts with shared authorship:  17\n",
      "# of resulting texts without shared authorship:  66\n",
      "Total # of resulting texts:  83\n",
      "Actual share of texts with shared authorship:  0.20481927710843373\n"
     ]
    }
   ],
   "source": [
    "sample_size = 100 # data.shape[0]\n",
    "dataset = build_dataset(data.iloc[0:sample_size], sim_matrix.iloc[0:sample_size, 0:sample_size])"
   ]
  },
  {
   "cell_type": "code",
   "execution_count": 39,
   "metadata": {
    "ExecuteTime": {
     "end_time": "2018-11-25T17:06:42.512535Z",
     "start_time": "2018-11-25T17:06:42.495252Z"
    }
   },
   "outputs": [],
   "source": [
    "dataset.to_csv('../data/plots.csv', encoding='utf-8', doublequote=True)"
   ]
  },
  {
   "cell_type": "markdown",
   "metadata": {},
   "source": [
    "### Helpers"
   ]
  },
  {
   "cell_type": "code",
   "execution_count": 13,
   "metadata": {
    "ExecuteTime": {
     "end_time": "2018-12-07T08:55:14.465865Z",
     "start_time": "2018-12-07T08:55:14.361671Z"
    }
   },
   "outputs": [
    {
     "data": {
      "text/plain": [
       "[('sim_matrix', 1096802028),\n",
       " ('data', 83719140),\n",
       " ('Memory', 1184),\n",
       " ('NamespaceMagics', 888),\n",
       " ('append_texts', 136),\n",
       " ('build_dataset', 136),\n",
       " ('cosine_similarity', 136),\n",
       " ('genres_for_author', 136),\n",
       " ('genres_for_books', 136),\n",
       " ('var_dic_list', 136),\n",
       " ('np', 80),\n",
       " ('pd', 80),\n",
       " ('plt', 80),\n",
       " ('stats', 80),\n",
       " ('getsizeof', 72),\n",
       " ('calc_cosine_dist_matrix', 56),\n",
       " ('calc_cosine_sim_matrix', 56),\n",
       " ('extract_genres', 56),\n",
       " ('load_raw_data', 56),\n",
       " ('memory', 56)]"
      ]
     },
     "execution_count": 13,
     "metadata": {},
     "output_type": "execute_result"
    }
   ],
   "source": [
    "import sys\n",
    "\n",
    "# These are the usual ipython objects, including this one you are creating\n",
    "ipython_vars = ['In', 'Out', 'exit', 'quit', 'get_ipython', 'ipython_vars']\n",
    "\n",
    "# Get a sorted list of the objects and their sizes\n",
    "sorted(\n",
    "    [(x, sys.getsizeof(globals().get(x))) for x in dir() if not x.startswith('_') and x not in sys.modules and x not in ipython_vars],\n",
    "    key=lambda x: x[1], \n",
    "    reverse=True\n",
    ")"
   ]
  },
  {
   "cell_type": "code",
   "execution_count": null,
   "metadata": {},
   "outputs": [],
   "source": []
  }
 ],
 "metadata": {
  "celltoolbar": "Initialization Cell",
  "kernelspec": {
   "display_name": "Python 3",
   "language": "python",
   "name": "python3"
  },
  "language_info": {
   "codemirror_mode": {
    "name": "ipython",
    "version": 3
   },
   "file_extension": ".py",
   "mimetype": "text/x-python",
   "name": "python",
   "nbconvert_exporter": "python",
   "pygments_lexer": "ipython3",
   "version": "3.6.5"
  },
  "toc": {
   "base_numbering": 1,
   "nav_menu": {},
   "number_sections": true,
   "sideBar": true,
   "skip_h1_title": true,
   "title_cell": "Table of Contents",
   "title_sidebar": "Contents",
   "toc_cell": true,
   "toc_position": {
    "height": "calc(100% - 180px)",
    "left": "10px",
    "top": "150px",
    "width": "384px"
   },
   "toc_section_display": true,
   "toc_window_display": false
  },
  "varInspector": {
   "cols": {
    "lenName": 16,
    "lenType": 16,
    "lenVar": 40
   },
   "kernels_config": {
    "python": {
     "delete_cmd_postfix": "",
     "delete_cmd_prefix": "del ",
     "library": "var_list.py",
     "varRefreshCmd": "print(var_dic_list())"
    },
    "r": {
     "delete_cmd_postfix": ") ",
     "delete_cmd_prefix": "rm(",
     "library": "var_list.r",
     "varRefreshCmd": "cat(var_dic_list()) "
    }
   },
   "position": {
    "height": "537px",
    "left": "1550px",
    "right": "22px",
    "top": "120px",
    "width": "348px"
   },
   "types_to_exclude": [
    "module",
    "function",
    "builtin_function_or_method",
    "instance",
    "_Feature"
   ],
   "window_display": true
  }
 },
 "nbformat": 4,
 "nbformat_minor": 2
}
