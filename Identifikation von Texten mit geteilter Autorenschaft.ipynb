{
 "cells": [
  {
   "cell_type": "markdown",
   "metadata": {},
   "source": [
    "# Identifikation von Texten mit geteilter Autorenschaft"
   ]
  },
  {
   "cell_type": "markdown",
   "metadata": {},
   "source": [
    "## Data Exploration: booksummaries\n",
    "\n",
    "Basic data exploration of the booksummaries dataset."
   ]
  },
  {
   "cell_type": "code",
   "execution_count": 175,
   "metadata": {},
   "outputs": [],
   "source": [
    "# Imports\n",
    "import pandas as pd\n",
    "import numpy as np\n",
    "import matplotlib.pyplot as plt"
   ]
  },
  {
   "cell_type": "code",
   "execution_count": 176,
   "metadata": {},
   "outputs": [],
   "source": [
    "# Loading the data\n",
    "data = pd.read_csv(\n",
    "    './datasets/booksummaries/booksummaries.txt', \n",
    "    header=None,\n",
    "    sep='\\t',\n",
    "    names=['wiki_id', 'firebase_id', 'title', 'author', 'pub_date', 'genres', 'plot']\n",
    ")"
   ]
  },
  {
   "cell_type": "code",
   "execution_count": 177,
   "metadata": {},
   "outputs": [
    {
     "data": {
      "text/plain": [
       "(16559, 7)"
      ]
     },
     "execution_count": 177,
     "metadata": {},
     "output_type": "execute_result"
    }
   ],
   "source": [
    "# Number of entries\n",
    "data.shape"
   ]
  },
  {
   "cell_type": "code",
   "execution_count": 178,
   "metadata": {},
   "outputs": [
    {
     "name": "stdout",
     "output_type": "stream",
     "text": [
      "Unique Wikipedia IDs:\t 16559\n",
      "Unique Firebase IDs:\t 16559\n",
      "Unique Titles:\t\t 16277\n"
     ]
    }
   ],
   "source": [
    "# Entries are unique books by ids...\n",
    "print(\"Unique Wikipedia IDs:\\t\", data.wiki_id.unique().size)\n",
    "print(\"Unique Firebase IDs:\\t\", data.firebase_id.unique().size)\n",
    "# ...but not by title\n",
    "print(\"Unique Titles:\\t\\t\", data.title.unique().size)"
   ]
  },
  {
   "cell_type": "code",
   "execution_count": 179,
   "metadata": {
    "scrolled": true
   },
   "outputs": [
    {
     "data": {
      "text/plain": [
       "wiki_id           0\n",
       "firebase_id       0\n",
       "title             0\n",
       "author         2382\n",
       "pub_date       5610\n",
       "genres         3718\n",
       "plot              0\n",
       "dtype: int64"
      ]
     },
     "execution_count": 179,
     "metadata": {},
     "output_type": "execute_result"
    }
   ],
   "source": [
    "# We have some missing values\n",
    "data.isnull().sum()"
   ]
  },
  {
   "cell_type": "markdown",
   "metadata": {},
   "source": [
    "### Extracting Genres"
   ]
  },
  {
   "cell_type": "code",
   "execution_count": 180,
   "metadata": {},
   "outputs": [],
   "source": [
    "# Subset original data\n",
    "temp = data.loc[:, ['wiki_id', 'genres']]\n",
    "# drop rows without genres\n",
    "temp = temp.dropna()\n",
    "# extract `id: genre` pairs to lists\n",
    "temp.genres = temp.genres.str.replace('[{}\"]', '', regex=True).str.split(', ')\n",
    "# map each genre <=> book relation to a seperate row\n",
    "genre_tags = []\n",
    "for key, row in temp.iterrows():\n",
    "    book_id = row[0]\n",
    "    tags = pd.Series(row[1]).str.split(': ')\n",
    "    for genre_id, genre_name in tags:\n",
    "        genre_tags += [[book_id, genre_id, genre_name]]\n",
    "\n",
    "\n",
    "genre_tags = pd.DataFrame(genre_tags)\n",
    "genre_tags.columns = ['wiki_id', 'genre_id', 'genre_name']"
   ]
  },
  {
   "cell_type": "code",
   "execution_count": 181,
   "metadata": {},
   "outputs": [
    {
     "data": {
      "text/html": [
       "<div>\n",
       "<style scoped>\n",
       "    .dataframe tbody tr th:only-of-type {\n",
       "        vertical-align: middle;\n",
       "    }\n",
       "\n",
       "    .dataframe tbody tr th {\n",
       "        vertical-align: top;\n",
       "    }\n",
       "\n",
       "    .dataframe thead th {\n",
       "        text-align: right;\n",
       "    }\n",
       "</style>\n",
       "<table border=\"1\" class=\"dataframe\">\n",
       "  <thead>\n",
       "    <tr style=\"text-align: right;\">\n",
       "      <th></th>\n",
       "      <th>genre_id</th>\n",
       "      <th>genre_name</th>\n",
       "    </tr>\n",
       "  </thead>\n",
       "  <tbody>\n",
       "    <tr>\n",
       "      <th>count</th>\n",
       "      <td>228</td>\n",
       "      <td>228</td>\n",
       "    </tr>\n",
       "    <tr>\n",
       "      <th>unique</th>\n",
       "      <td>228</td>\n",
       "      <td>227</td>\n",
       "    </tr>\n",
       "    <tr>\n",
       "      <th>top</th>\n",
       "      <td>/m/08322</td>\n",
       "      <td>Mystery</td>\n",
       "    </tr>\n",
       "    <tr>\n",
       "      <th>freq</th>\n",
       "      <td>1</td>\n",
       "      <td>2</td>\n",
       "    </tr>\n",
       "  </tbody>\n",
       "</table>\n",
       "</div>"
      ],
      "text/plain": [
       "        genre_id genre_name\n",
       "count        228        228\n",
       "unique       228        227\n",
       "top     /m/08322    Mystery\n",
       "freq           1          2"
      ]
     },
     "execution_count": 181,
     "metadata": {},
     "output_type": "execute_result"
    }
   ],
   "source": [
    "# Extract unique genres\n",
    "genres = genre_tags.loc[:,['genre_id', 'genre_name']].drop_duplicates()\n",
    "genres.describe() # Note that there are more unique ids than names (\"Mystery\" genre)"
   ]
  },
  {
   "cell_type": "code",
   "execution_count": 182,
   "metadata": {},
   "outputs": [
    {
     "data": {
      "text/plain": [
       "Fiction                   4747\n",
       "Speculative fiction       4314\n",
       "Science Fiction           2870\n",
       "Novel                     2463\n",
       "Fantasy                   2413\n",
       "Children's literature     2122\n",
       "Mystery                   1396\n",
       "Young adult literature     825\n",
       "Suspense                   765\n",
       "Crime Fiction              753\n",
       "Name: genre_name, dtype: int64"
      ]
     },
     "execution_count": 182,
     "metadata": {},
     "output_type": "execute_result"
    }
   ],
   "source": [
    "# Top 10 Genres\n",
    "genre_tags.genre_name.value_counts()[0:10]"
   ]
  },
  {
   "cell_type": "code",
   "execution_count": 186,
   "metadata": {},
   "outputs": [],
   "source": [
    "def genres_for(wiki_id):\n",
    "    return genre_tags.loc[genre_tags['wiki_id'] == wiki_id]"
   ]
  },
  {
   "cell_type": "code",
   "execution_count": 187,
   "metadata": {},
   "outputs": [
    {
     "data": {
      "text/html": [
       "<div>\n",
       "<style scoped>\n",
       "    .dataframe tbody tr th:only-of-type {\n",
       "        vertical-align: middle;\n",
       "    }\n",
       "\n",
       "    .dataframe tbody tr th {\n",
       "        vertical-align: top;\n",
       "    }\n",
       "\n",
       "    .dataframe thead th {\n",
       "        text-align: right;\n",
       "    }\n",
       "</style>\n",
       "<table border=\"1\" class=\"dataframe\">\n",
       "  <thead>\n",
       "    <tr style=\"text-align: right;\">\n",
       "      <th></th>\n",
       "      <th>wiki_id</th>\n",
       "      <th>genre_id</th>\n",
       "      <th>genre_name</th>\n",
       "    </tr>\n",
       "  </thead>\n",
       "  <tbody>\n",
       "    <tr>\n",
       "      <th>0</th>\n",
       "      <td>620</td>\n",
       "      <td>/m/016lj8</td>\n",
       "      <td>Roman \\u00e0 clef</td>\n",
       "    </tr>\n",
       "    <tr>\n",
       "      <th>1</th>\n",
       "      <td>620</td>\n",
       "      <td>/m/06nbt</td>\n",
       "      <td>Satire</td>\n",
       "    </tr>\n",
       "    <tr>\n",
       "      <th>2</th>\n",
       "      <td>620</td>\n",
       "      <td>/m/0dwly</td>\n",
       "      <td>Children's literature</td>\n",
       "    </tr>\n",
       "    <tr>\n",
       "      <th>3</th>\n",
       "      <td>620</td>\n",
       "      <td>/m/014dfn</td>\n",
       "      <td>Speculative fiction</td>\n",
       "    </tr>\n",
       "    <tr>\n",
       "      <th>4</th>\n",
       "      <td>620</td>\n",
       "      <td>/m/02xlf</td>\n",
       "      <td>Fiction</td>\n",
       "    </tr>\n",
       "  </tbody>\n",
       "</table>\n",
       "</div>"
      ],
      "text/plain": [
       "   wiki_id   genre_id             genre_name\n",
       "0      620  /m/016lj8      Roman \\u00e0 clef\n",
       "1      620   /m/06nbt                 Satire\n",
       "2      620   /m/0dwly  Children's literature\n",
       "3      620  /m/014dfn    Speculative fiction\n",
       "4      620   /m/02xlf                Fiction"
      ]
     },
     "execution_count": 187,
     "metadata": {},
     "output_type": "execute_result"
    }
   ],
   "source": [
    "genres_for(data.wiki_id[0])"
   ]
  },
  {
   "cell_type": "markdown",
   "metadata": {},
   "source": [
    "### Authors"
   ]
  },
  {
   "cell_type": "code",
   "execution_count": null,
   "metadata": {},
   "outputs": [],
   "source": []
  },
  {
   "cell_type": "markdown",
   "metadata": {},
   "source": [
    "## Data Exploration: goodbooks-10k\n",
    "\n",
    "Basic data exploration of the goodbooks-10k dataset."
   ]
  },
  {
   "cell_type": "code",
   "execution_count": 189,
   "metadata": {},
   "outputs": [],
   "source": [
    "# Loading the data\n",
    "r = pd.read_csv( './datasets/goodbooks-10k/ratings.csv' )\n",
    "tr = pd.read_csv( './datasets/goodbooks-10k/to_read.csv' )\n",
    "b = pd.read_csv( './datasets/goodbooks-10k/books.csv' )\n",
    "\n",
    "t = pd.read_csv( './datasets/goodbooks-10k/tags.csv' )\n",
    "bt = pd.read_csv( './datasets/goodbooks-10k/book_tags.csv')\n",
    "\n"
   ]
  },
  {
   "cell_type": "markdown",
   "metadata": {},
   "source": [
    "## Combining the datasets"
   ]
  },
  {
   "cell_type": "code",
   "execution_count": 203,
   "metadata": {},
   "outputs": [
    {
     "data": {
      "text/plain": [
       "(2939, 30)"
      ]
     },
     "execution_count": 203,
     "metadata": {},
     "output_type": "execute_result"
    }
   ],
   "source": [
    "merged_data = data.merge(b, left_on=\"title\", right_on=\"original_title\")\n",
    "merged_data.shape"
   ]
  },
  {
   "cell_type": "code",
   "execution_count": null,
   "metadata": {},
   "outputs": [],
   "source": []
  }
 ],
 "metadata": {
  "kernelspec": {
   "display_name": "Python 3",
   "language": "python",
   "name": "python3"
  },
  "language_info": {
   "codemirror_mode": {
    "name": "ipython",
    "version": 3
   },
   "file_extension": ".py",
   "mimetype": "text/x-python",
   "name": "python",
   "nbconvert_exporter": "python",
   "pygments_lexer": "ipython3",
   "version": "3.6.5"
  }
 },
 "nbformat": 4,
 "nbformat_minor": 2
}
