{
 "cells": [
  {
   "cell_type": "markdown",
   "metadata": {},
   "source": [
    "# Identifikation von Texten mit geteilter Autorenschaft"
   ]
  },
  {
   "cell_type": "markdown",
   "metadata": {
    "toc": true
   },
   "source": [
    "<h1>Table of Contents<span class=\"tocSkip\"></span></h1>\n",
    "<div class=\"toc\"><ul class=\"toc-item\"><li><span><a href=\"#Dependencies\" data-toc-modified-id=\"Dependencies-1\"><span class=\"toc-item-num\">1&nbsp;&nbsp;</span>Dependencies</a></span></li><li><span><a href=\"#Data-Exploration:-booksummaries\" data-toc-modified-id=\"Data-Exploration:-booksummaries-2\"><span class=\"toc-item-num\">2&nbsp;&nbsp;</span>Data Exploration: booksummaries</a></span><ul class=\"toc-item\"><li><span><a href=\"#Extracting-Genres\" data-toc-modified-id=\"Extracting-Genres-2.1\"><span class=\"toc-item-num\">2.1&nbsp;&nbsp;</span>Extracting Genres</a></span></li><li><span><a href=\"#Wieviele-Autoren-haben-in-wievielen-unterschiedlichen-Genres-publiziert?\" data-toc-modified-id=\"Wieviele-Autoren-haben-in-wievielen-unterschiedlichen-Genres-publiziert?-2.2\"><span class=\"toc-item-num\">2.2&nbsp;&nbsp;</span>Wieviele Autoren haben in wievielen unterschiedlichen Genres publiziert?</a></span></li><li><span><a href=\"#Wieviele-Autoren-haben-wieviele-unterschiedliche-Bücher-publiziert?\" data-toc-modified-id=\"Wieviele-Autoren-haben-wieviele-unterschiedliche-Bücher-publiziert?-2.3\"><span class=\"toc-item-num\">2.3&nbsp;&nbsp;</span>Wieviele Autoren haben wieviele unterschiedliche Bücher publiziert?</a></span></li><li><span><a href=\"#Doppelbelegung-von-Titeln\" data-toc-modified-id=\"Doppelbelegung-von-Titeln-2.4\"><span class=\"toc-item-num\">2.4&nbsp;&nbsp;</span>Doppelbelegung von Titeln</a></span></li></ul></li><li><span><a href=\"#Mixing-Plots\" data-toc-modified-id=\"Mixing-Plots-3\"><span class=\"toc-item-num\">3&nbsp;&nbsp;</span>Mixing Plots</a></span><ul class=\"toc-item\"><li><span><a href=\"#Generate-Binary-Genre-Vectors-per-book\" data-toc-modified-id=\"Generate-Binary-Genre-Vectors-per-book-3.1\"><span class=\"toc-item-num\">3.1&nbsp;&nbsp;</span>Generate Binary Genre Vectors per book</a></span></li><li><span><a href=\"#Similarity-Measures\" data-toc-modified-id=\"Similarity-Measures-3.2\"><span class=\"toc-item-num\">3.2&nbsp;&nbsp;</span>Similarity Measures</a></span><ul class=\"toc-item\"><li><span><a href=\"#Cosine-Similarity\" data-toc-modified-id=\"Cosine-Similarity-3.2.1\"><span class=\"toc-item-num\">3.2.1&nbsp;&nbsp;</span>Cosine-Similarity</a></span><ul class=\"toc-item\"><li><span><a href=\"#Similarity-Matrix\" data-toc-modified-id=\"Similarity-Matrix-3.2.1.1\"><span class=\"toc-item-num\">3.2.1.1&nbsp;&nbsp;</span>Similarity Matrix</a></span></li></ul></li></ul></li><li><span><a href=\"#Construction-of-artificial-texts-with-shared-authorship\" data-toc-modified-id=\"Construction-of-artificial-texts-with-shared-authorship-3.3\"><span class=\"toc-item-num\">3.3&nbsp;&nbsp;</span>Construction of artificial texts with shared authorship</a></span><ul class=\"toc-item\"><li><span><a href=\"#Combinatoric-considerations\" data-toc-modified-id=\"Combinatoric-considerations-3.3.1\"><span class=\"toc-item-num\">3.3.1&nbsp;&nbsp;</span>Combinatoric considerations</a></span></li><li><span><a href=\"#Building-a-dataset\" data-toc-modified-id=\"Building-a-dataset-3.3.2\"><span class=\"toc-item-num\">3.3.2&nbsp;&nbsp;</span>Building a dataset</a></span></li><li><span><a href=\"#The-simple-case\" data-toc-modified-id=\"The-simple-case-3.3.3\"><span class=\"toc-item-num\">3.3.3&nbsp;&nbsp;</span>The simple case</a></span></li></ul></li><li><span><a href=\"#Helpers\" data-toc-modified-id=\"Helpers-3.4\"><span class=\"toc-item-num\">3.4&nbsp;&nbsp;</span>Helpers</a></span></li></ul></li><li><span><a href=\"#Feature-selection\" data-toc-modified-id=\"Feature-selection-4\"><span class=\"toc-item-num\">4&nbsp;&nbsp;</span>Feature selection</a></span><ul class=\"toc-item\"><li><span><a href=\"#Configuration\" data-toc-modified-id=\"Configuration-4.1\"><span class=\"toc-item-num\">4.1&nbsp;&nbsp;</span>Configuration</a></span></li><li><span><a href=\"#Feature-Selection\" data-toc-modified-id=\"Feature-Selection-4.2\"><span class=\"toc-item-num\">4.2&nbsp;&nbsp;</span>Feature Selection</a></span></li></ul></li><li><span><a href=\"#Feature-Extraction\" data-toc-modified-id=\"Feature-Extraction-5\"><span class=\"toc-item-num\">5&nbsp;&nbsp;</span>Feature Extraction</a></span><ul class=\"toc-item\"><li><span><a href=\"#Calculating-features-on-the-entire-text-as-a-single-sequence\" data-toc-modified-id=\"Calculating-features-on-the-entire-text-as-a-single-sequence-5.1\"><span class=\"toc-item-num\">5.1&nbsp;&nbsp;</span>Calculating features on the entire text as a single sequence</a></span></li><li><span><a href=\"#Calculating-features-on-sequences-of-each-text\" data-toc-modified-id=\"Calculating-features-on-sequences-of-each-text-5.2\"><span class=\"toc-item-num\">5.2&nbsp;&nbsp;</span>Calculating features on sequences of each text</a></span></li></ul></li><li><span><a href=\"#Training-Classifiers\" data-toc-modified-id=\"Training-Classifiers-6\"><span class=\"toc-item-num\">6&nbsp;&nbsp;</span>Training Classifiers</a></span><ul class=\"toc-item\"><li><span><a href=\"#Splitting-into-training-and-test-data\" data-toc-modified-id=\"Splitting-into-training-and-test-data-6.1\"><span class=\"toc-item-num\">6.1&nbsp;&nbsp;</span>Splitting into training and test data</a></span></li><li><span><a href=\"#SVM-baseline-classifier\" data-toc-modified-id=\"SVM-baseline-classifier-6.2\"><span class=\"toc-item-num\">6.2&nbsp;&nbsp;</span>SVM baseline classifier</a></span></li><li><span><a href=\"#Random-Forest-baseline-classifier\" data-toc-modified-id=\"Random-Forest-baseline-classifier-6.3\"><span class=\"toc-item-num\">6.3&nbsp;&nbsp;</span>Random Forest baseline classifier</a></span></li></ul></li></ul></div>"
   ]
  },
  {
   "cell_type": "markdown",
   "metadata": {},
   "source": [
    "## Dependencies"
   ]
  },
  {
   "cell_type": "code",
   "execution_count": 11,
   "metadata": {},
   "outputs": [],
   "source": [
    "import pandas as pd\n",
    "import numpy as np\n",
    "import matplotlib.pyplot as plt\n",
    "from scipy import stats\n",
    "import math\n",
    "from sklearn.metrics.pairwise import cosine_similarity\n",
    "from sklearn.externals.joblib import Memory\n",
    "\n",
    "from nltk.tokenize import RegexpTokenizer\n",
    "import nltk\n",
    "import pandas as pd\n",
    "from nltk.corpus import stopwords\n",
    "import FEATURE_SELECTOR_v4\n",
    "import datetime\n",
    "import json\n",
    "\n",
    "from sklearn.model_selection import train_test_split\n",
    "\n",
    "from sklearn.svm import SVC\n",
    "from sklearn.ensemble import RandomForestClassifier"
   ]
  },
  {
   "cell_type": "markdown",
   "metadata": {},
   "source": [
    "## Data Exploration: booksummaries\n",
    "\n",
    "Basic data exploration of the booksummaries dataset."
   ]
  },
  {
   "cell_type": "markdown",
   "metadata": {},
   "source": [
    "Initialize Memory"
   ]
  },
  {
   "cell_type": "code",
   "execution_count": 186,
   "metadata": {
    "ExecuteTime": {
     "end_time": "2018-12-10T10:38:27.929047Z",
     "start_time": "2018-12-10T10:38:27.923828Z"
    },
    "init_cell": true
   },
   "outputs": [],
   "source": [
    "memory = Memory(location='./tmp', verbose=0)"
   ]
  },
  {
   "cell_type": "markdown",
   "metadata": {},
   "source": [
    "Loading the data"
   ]
  },
  {
   "cell_type": "code",
   "execution_count": 187,
   "metadata": {
    "ExecuteTime": {
     "end_time": "2018-12-10T10:38:27.959711Z",
     "start_time": "2018-12-10T10:38:27.932634Z"
    },
    "init_cell": true
   },
   "outputs": [],
   "source": [
    "@memory.cache\n",
    "def load_raw_data():\n",
    "    return pd.read_csv(\n",
    "        './datasets/booksummaries/booksummaries.txt', \n",
    "        header=None,\n",
    "        sep='\\t',\n",
    "        names=['wiki_id', 'firebase_id', 'title', 'author', 'pub_date', 'genres', 'plot'],\n",
    "        dtype={\n",
    "            'wiki_id': 'uint32',\n",
    "            'author': 'category'\n",
    "        }\n",
    "    )"
   ]
  },
  {
   "cell_type": "code",
   "execution_count": 188,
   "metadata": {
    "ExecuteTime": {
     "end_time": "2018-12-10T10:38:28.665729Z",
     "start_time": "2018-12-10T10:38:27.961759Z"
    }
   },
   "outputs": [],
   "source": [
    "raw_data = load_raw_data()"
   ]
  },
  {
   "cell_type": "code",
   "execution_count": 6,
   "metadata": {
    "ExecuteTime": {
     "end_time": "2018-11-10T17:30:09.158075Z",
     "start_time": "2018-11-10T17:30:09.154422Z"
    }
   },
   "outputs": [
    {
     "data": {
      "text/plain": [
       "(16559, 7)"
      ]
     },
     "execution_count": 6,
     "metadata": {},
     "output_type": "execute_result"
    }
   ],
   "source": [
    "# Number of entries\n",
    "raw_data.shape"
   ]
  },
  {
   "cell_type": "code",
   "execution_count": 11,
   "metadata": {
    "ExecuteTime": {
     "end_time": "2018-11-10T17:30:10.351625Z",
     "start_time": "2018-11-10T17:30:10.338886Z"
    }
   },
   "outputs": [
    {
     "name": "stdout",
     "output_type": "stream",
     "text": [
      "Unique Wikipedia IDs:\t 16559\n",
      "Unique Firebase IDs:\t 16559\n",
      "Unique Titles:\t\t 16277\n",
      "Unique Authors:\t\t 4715\n",
      "Unique Pub. Dates:\t 2640\n"
     ]
    }
   ],
   "source": [
    "# Entries are unique books by ids...\n",
    "print(\"Unique Wikipedia IDs:\\t\", raw_data.wiki_id.unique().size)\n",
    "print(\"Unique Firebase IDs:\\t\", raw_data.firebase_id.unique().size)\n",
    "# ...but not by title\n",
    "print(\"Unique Titles:\\t\\t\", raw_data.title.unique().size)\n",
    "print(\"Unique Authors:\\t\\t\", raw_data.author.unique().size)\n",
    "print(\"Unique Pub. Dates:\\t\", raw_data.pub_date.unique().size)"
   ]
  },
  {
   "cell_type": "code",
   "execution_count": 8,
   "metadata": {
    "ExecuteTime": {
     "end_time": "2018-11-10T17:30:13.022434Z",
     "start_time": "2018-11-10T17:30:13.008452Z"
    },
    "scrolled": true
   },
   "outputs": [
    {
     "data": {
      "text/plain": [
       "wiki_id           0\n",
       "firebase_id       0\n",
       "title             0\n",
       "author         2382\n",
       "pub_date       5610\n",
       "genres         3718\n",
       "plot              0\n",
       "dtype: int64"
      ]
     },
     "execution_count": 8,
     "metadata": {},
     "output_type": "execute_result"
    }
   ],
   "source": [
    "# We have some missing values\n",
    "raw_data.isnull().sum()"
   ]
  },
  {
   "cell_type": "markdown",
   "metadata": {},
   "source": [
    "### Extracting Genres"
   ]
  },
  {
   "cell_type": "code",
   "execution_count": null,
   "metadata": {
    "ExecuteTime": {
     "end_time": "2018-12-07T08:45:36.165532Z",
     "start_time": "2018-12-07T08:45:34.967Z"
    }
   },
   "outputs": [],
   "source": [
    "# Subset original data\n",
    "temp = data.loc[:, ['wiki_id', 'genres']]\n",
    "# drop rows without genres\n",
    "temp = temp.dropna()\n",
    "# extract `id: genre` pairs to lists\n",
    "temp.genres = temp.genres.str.replace('[{}\"]', '', regex=True).str.split(', ')\n",
    "# map each genre <=> book relation to a seperate row\n",
    "genre_tags = []\n",
    "for key, row in temp.iterrows():\n",
    "    book_id = row[0]\n",
    "    tags = pd.Series(row[1]).str.split(': ')\n",
    "    for genre_id, genre_name in tags:\n",
    "        genre_tags += [[book_id, genre_id, genre_name]]\n",
    "\n",
    "\n",
    "genre_tags = pd.DataFrame(genre_tags)\n",
    "genre_tags.columns = ['wiki_id', 'genre_id', 'genre_name']"
   ]
  },
  {
   "cell_type": "code",
   "execution_count": null,
   "metadata": {
    "ExecuteTime": {
     "end_time": "2018-12-07T08:45:36.168265Z",
     "start_time": "2018-12-07T08:45:34.969Z"
    }
   },
   "outputs": [],
   "source": [
    "# Extract unique genres\n",
    "genres = genre_tags.groupby(['genre_id', 'genre_name']).agg('count')\n",
    "genres.columns = ['count']\n",
    "genres.describe() # Note that there are more unique ids than names (\"Mystery\" genre)"
   ]
  },
  {
   "cell_type": "code",
   "execution_count": 6,
   "metadata": {
    "ExecuteTime": {
     "end_time": "2018-11-10T18:05:59.641621Z",
     "start_time": "2018-11-10T18:05:59.630953Z"
    },
    "scrolled": true
   },
   "outputs": [
    {
     "data": {
      "text/html": [
       "<div>\n",
       "<style scoped>\n",
       "    .dataframe tbody tr th:only-of-type {\n",
       "        vertical-align: middle;\n",
       "    }\n",
       "\n",
       "    .dataframe tbody tr th {\n",
       "        vertical-align: top;\n",
       "    }\n",
       "\n",
       "    .dataframe thead th {\n",
       "        text-align: right;\n",
       "    }\n",
       "</style>\n",
       "<table border=\"1\" class=\"dataframe\">\n",
       "  <thead>\n",
       "    <tr style=\"text-align: right;\">\n",
       "      <th></th>\n",
       "      <th></th>\n",
       "      <th>count</th>\n",
       "    </tr>\n",
       "    <tr>\n",
       "      <th>genre_id</th>\n",
       "      <th>genre_name</th>\n",
       "      <th></th>\n",
       "    </tr>\n",
       "  </thead>\n",
       "  <tbody>\n",
       "    <tr>\n",
       "      <th>/m/02xlf</th>\n",
       "      <th>Fiction</th>\n",
       "      <td>4747</td>\n",
       "    </tr>\n",
       "    <tr>\n",
       "      <th>/m/014dfn</th>\n",
       "      <th>Speculative fiction</th>\n",
       "      <td>4314</td>\n",
       "    </tr>\n",
       "    <tr>\n",
       "      <th>/m/06n90</th>\n",
       "      <th>Science Fiction</th>\n",
       "      <td>2870</td>\n",
       "    </tr>\n",
       "    <tr>\n",
       "      <th>/m/05hgj</th>\n",
       "      <th>Novel</th>\n",
       "      <td>2463</td>\n",
       "    </tr>\n",
       "    <tr>\n",
       "      <th>/m/01hmnh</th>\n",
       "      <th>Fantasy</th>\n",
       "      <td>2413</td>\n",
       "    </tr>\n",
       "    <tr>\n",
       "      <th>/m/0dwly</th>\n",
       "      <th>Children's literature</th>\n",
       "      <td>2122</td>\n",
       "    </tr>\n",
       "    <tr>\n",
       "      <th>/m/02n4kr</th>\n",
       "      <th>Mystery</th>\n",
       "      <td>1395</td>\n",
       "    </tr>\n",
       "    <tr>\n",
       "      <th>/m/03mfnf</th>\n",
       "      <th>Young adult literature</th>\n",
       "      <td>825</td>\n",
       "    </tr>\n",
       "    <tr>\n",
       "      <th>/m/0c3351</th>\n",
       "      <th>Suspense</th>\n",
       "      <td>765</td>\n",
       "    </tr>\n",
       "    <tr>\n",
       "      <th>/m/0lsxr</th>\n",
       "      <th>Crime Fiction</th>\n",
       "      <td>753</td>\n",
       "    </tr>\n",
       "  </tbody>\n",
       "</table>\n",
       "</div>"
      ],
      "text/plain": [
       "                                  count\n",
       "genre_id  genre_name                   \n",
       "/m/02xlf  Fiction                  4747\n",
       "/m/014dfn Speculative fiction      4314\n",
       "/m/06n90  Science Fiction          2870\n",
       "/m/05hgj  Novel                    2463\n",
       "/m/01hmnh Fantasy                  2413\n",
       "/m/0dwly  Children's literature    2122\n",
       "/m/02n4kr Mystery                  1395\n",
       "/m/03mfnf Young adult literature    825\n",
       "/m/0c3351 Suspense                  765\n",
       "/m/0lsxr  Crime Fiction             753"
      ]
     },
     "execution_count": 6,
     "metadata": {},
     "output_type": "execute_result"
    }
   ],
   "source": [
    "# Top 10 Genres\n",
    "genres.sort_values('count', ascending=False)[0:10]"
   ]
  },
  {
   "cell_type": "code",
   "execution_count": 7,
   "metadata": {
    "ExecuteTime": {
     "end_time": "2018-11-10T17:30:39.771474Z",
     "start_time": "2018-11-10T17:30:39.457859Z"
    }
   },
   "outputs": [
    {
     "data": {
      "text/plain": [
       "array([[<matplotlib.axes._subplots.AxesSubplot object at 0x7effcb9ebc18>]], dtype=object)"
      ]
     },
     "execution_count": 7,
     "metadata": {},
     "output_type": "execute_result"
    },
    {
     "data": {
      "image/png": "[encoded data removed]",
      "text/plain": [
       "<Figure size 432x288 with 1 Axes>"
      ]
     },
     "metadata": {
      "needs_background": "light"
     },
     "output_type": "display_data"
    }
   ],
   "source": [
    "# Number of genres per book\n",
    "genre_tags.loc[:,['wiki_id', 'genre_name']].groupby('wiki_id').count().hist()"
   ]
  },
  {
   "cell_type": "code",
   "execution_count": 189,
   "metadata": {
    "ExecuteTime": {
     "end_time": "2018-12-10T10:38:28.673378Z",
     "start_time": "2018-12-10T10:38:28.667674Z"
    },
    "init_cell": true
   },
   "outputs": [],
   "source": [
    "def genres_for_books(wiki_ids):\n",
    "    return genre_tags.loc[genre_tags['wiki_id'].isin(wiki_ids)]\n",
    "\n",
    "# Look up multiple books\n",
    "# genres_for_books(data.wiki_id.iloc[0:3])\n",
    "# To look up single book wrap in an array\n",
    "# genres_for_books([data.wiki_id[0]])"
   ]
  },
  {
   "cell_type": "code",
   "execution_count": 190,
   "metadata": {
    "ExecuteTime": {
     "end_time": "2018-12-10T10:38:28.678541Z",
     "start_time": "2018-12-10T10:38:28.675587Z"
    },
    "init_cell": true
   },
   "outputs": [],
   "source": [
    "def genres_for_author(author):\n",
    "    books_for_author = data.loc[data['author'] == author].loc[:, 'wiki_id']\n",
    "    return genres_for_books(books_for_author)\n",
    "\n",
    "# Look up genres for single author\n",
    "# genres_for_author('George Orwell')"
   ]
  },
  {
   "cell_type": "markdown",
   "metadata": {},
   "source": [
    "### Wieviele Autoren haben in wievielen unterschiedlichen Genres publiziert?"
   ]
  },
  {
   "cell_type": "code",
   "execution_count": 10,
   "metadata": {
    "ExecuteTime": {
     "end_time": "2018-11-10T17:30:50.716330Z",
     "start_time": "2018-11-10T17:30:46.012049Z"
    }
   },
   "outputs": [
    {
     "data": {
      "text/html": [
       "<div>\n",
       "<style scoped>\n",
       "    .dataframe tbody tr th:only-of-type {\n",
       "        vertical-align: middle;\n",
       "    }\n",
       "\n",
       "    .dataframe tbody tr th {\n",
       "        vertical-align: top;\n",
       "    }\n",
       "\n",
       "    .dataframe thead th {\n",
       "        text-align: right;\n",
       "    }\n",
       "</style>\n",
       "<table border=\"1\" class=\"dataframe\">\n",
       "  <thead>\n",
       "    <tr style=\"text-align: right;\">\n",
       "      <th></th>\n",
       "      <th>1</th>\n",
       "    </tr>\n",
       "  </thead>\n",
       "  <tbody>\n",
       "    <tr>\n",
       "      <th>count</th>\n",
       "      <td>4714.000000</td>\n",
       "    </tr>\n",
       "    <tr>\n",
       "      <th>mean</th>\n",
       "      <td>2.441451</td>\n",
       "    </tr>\n",
       "    <tr>\n",
       "      <th>std</th>\n",
       "      <td>2.489543</td>\n",
       "    </tr>\n",
       "    <tr>\n",
       "      <th>min</th>\n",
       "      <td>0.000000</td>\n",
       "    </tr>\n",
       "    <tr>\n",
       "      <th>25%</th>\n",
       "      <td>1.000000</td>\n",
       "    </tr>\n",
       "    <tr>\n",
       "      <th>50%</th>\n",
       "      <td>2.000000</td>\n",
       "    </tr>\n",
       "    <tr>\n",
       "      <th>75%</th>\n",
       "      <td>3.000000</td>\n",
       "    </tr>\n",
       "    <tr>\n",
       "      <th>max</th>\n",
       "      <td>22.000000</td>\n",
       "    </tr>\n",
       "  </tbody>\n",
       "</table>\n",
       "</div>"
      ],
      "text/plain": [
       "                 1\n",
       "count  4714.000000\n",
       "mean      2.441451\n",
       "std       2.489543\n",
       "min       0.000000\n",
       "25%       1.000000\n",
       "50%       2.000000\n",
       "75%       3.000000\n",
       "max      22.000000"
      ]
     },
     "execution_count": 10,
     "metadata": {},
     "output_type": "execute_result"
    }
   ],
   "source": [
    "authors = data.groupby('author')\n",
    "\n",
    "author_genres = []\n",
    "for name, group in authors:\n",
    "    author_genres += [\n",
    "        [name, genres_for_books(group.wiki_id).genre_name.unique().size]\n",
    "    ]\n",
    "\n",
    "author_genres = pd.DataFrame(author_genres)\n",
    "author_genres.describe()"
   ]
  },
  {
   "cell_type": "code",
   "execution_count": 11,
   "metadata": {
    "ExecuteTime": {
     "end_time": "2018-11-10T17:30:50.893146Z",
     "start_time": "2018-11-10T17:30:50.760854Z"
    }
   },
   "outputs": [
    {
     "data": {
      "text/plain": [
       "array([[<matplotlib.axes._subplots.AxesSubplot object at 0x7effcb9fa828>]], dtype=object)"
      ]
     },
     "execution_count": 11,
     "metadata": {},
     "output_type": "execute_result"
    },
    {
     "data": {
      "image/png": "[encoded data removed]",
      "text/plain": [
       "<Figure size 432x288 with 1 Axes>"
      ]
     },
     "metadata": {
      "needs_background": "light"
     },
     "output_type": "display_data"
    }
   ],
   "source": [
    "author_genres.hist( bins=22 )"
   ]
  },
  {
   "cell_type": "markdown",
   "metadata": {},
   "source": [
    "### Wieviele Autoren haben wieviele unterschiedliche Bücher publiziert?"
   ]
  },
  {
   "cell_type": "code",
   "execution_count": 17,
   "metadata": {
    "ExecuteTime": {
     "end_time": "2018-11-10T17:31:04.932409Z",
     "start_time": "2018-11-10T17:31:04.724303Z"
    },
    "scrolled": true
   },
   "outputs": [
    {
     "data": {
      "image/png": "[encoded data removed]",
      "text/plain": [
       "<Figure size 432x288 with 1 Axes>"
      ]
     },
     "metadata": {
      "needs_background": "light"
     },
     "output_type": "display_data"
    }
   ],
   "source": [
    "num_titles_per_author=authors.title.nunique()\n",
    "plt=num_titles_per_author.hist(bins=num_titles_per_author.max())"
   ]
  },
  {
   "cell_type": "code",
   "execution_count": 18,
   "metadata": {
    "ExecuteTime": {
     "end_time": "2018-11-10T17:31:05.702545Z",
     "start_time": "2018-11-10T17:31:05.696255Z"
    }
   },
   "outputs": [
    {
     "name": "stdout",
     "output_type": "stream",
     "text": [
      "count    4714.000000\n",
      "mean        3.006364\n",
      "std         5.098350\n",
      "min         1.000000\n",
      "25%         1.000000\n",
      "50%         1.000000\n",
      "75%         3.000000\n",
      "max        74.000000\n",
      "Name: title, dtype: float64\n"
     ]
    }
   ],
   "source": [
    "print(num_titles_per_author.describe())"
   ]
  },
  {
   "cell_type": "markdown",
   "metadata": {
    "heading_collapsed": true
   },
   "source": [
    "### Doppelbelegung von Titeln"
   ]
  },
  {
   "cell_type": "code",
   "execution_count": 19,
   "metadata": {
    "ExecuteTime": {
     "end_time": "2018-11-10T17:31:09.121318Z",
     "start_time": "2018-11-10T17:31:08.731932Z"
    },
    "hidden": true
   },
   "outputs": [
    {
     "name": "stdout",
     "output_type": "stream",
     "text": [
      "Anzahl der doppelten Titeln: (246, 7)\n"
     ]
    }
   ],
   "source": [
    "titles=data.groupby(\"title\")\n",
    "print('Anzahl der doppelten Titeln:',titles.nunique().loc[titles.nunique().wiki_id > 1].shape)"
   ]
  },
  {
   "cell_type": "code",
   "execution_count": 20,
   "metadata": {
    "ExecuteTime": {
     "end_time": "2018-11-10T17:31:10.189600Z",
     "start_time": "2018-11-10T17:31:09.811324Z"
    },
    "hidden": true
   },
   "outputs": [
    {
     "data": {
      "text/html": [
       "<div>\n",
       "<style scoped>\n",
       "    .dataframe tbody tr th:only-of-type {\n",
       "        vertical-align: middle;\n",
       "    }\n",
       "\n",
       "    .dataframe tbody tr th {\n",
       "        vertical-align: top;\n",
       "    }\n",
       "\n",
       "    .dataframe thead th {\n",
       "        text-align: right;\n",
       "    }\n",
       "</style>\n",
       "<table border=\"1\" class=\"dataframe\">\n",
       "  <thead>\n",
       "    <tr style=\"text-align: right;\">\n",
       "      <th></th>\n",
       "      <th>wiki_id</th>\n",
       "      <th>firebase_id</th>\n",
       "      <th>title</th>\n",
       "      <th>author</th>\n",
       "      <th>pub_date</th>\n",
       "      <th>genres</th>\n",
       "      <th>plot</th>\n",
       "    </tr>\n",
       "    <tr>\n",
       "      <th>title</th>\n",
       "      <th></th>\n",
       "      <th></th>\n",
       "      <th></th>\n",
       "      <th></th>\n",
       "      <th></th>\n",
       "      <th></th>\n",
       "      <th></th>\n",
       "    </tr>\n",
       "  </thead>\n",
       "  <tbody>\n",
       "    <tr>\n",
       "      <th>1945</th>\n",
       "      <td>2</td>\n",
       "      <td>2</td>\n",
       "      <td>1</td>\n",
       "      <td>2</td>\n",
       "      <td>2</td>\n",
       "      <td>2</td>\n",
       "      <td>2</td>\n",
       "    </tr>\n",
       "    <tr>\n",
       "      <th>A Casa</th>\n",
       "      <td>2</td>\n",
       "      <td>2</td>\n",
       "      <td>1</td>\n",
       "      <td>2</td>\n",
       "      <td>0</td>\n",
       "      <td>2</td>\n",
       "      <td>2</td>\n",
       "    </tr>\n",
       "    <tr>\n",
       "      <th>A Taste for Death</th>\n",
       "      <td>2</td>\n",
       "      <td>2</td>\n",
       "      <td>1</td>\n",
       "      <td>2</td>\n",
       "      <td>1</td>\n",
       "      <td>2</td>\n",
       "      <td>2</td>\n",
       "    </tr>\n",
       "    <tr>\n",
       "      <th>Abduction</th>\n",
       "      <td>2</td>\n",
       "      <td>2</td>\n",
       "      <td>1</td>\n",
       "      <td>2</td>\n",
       "      <td>2</td>\n",
       "      <td>2</td>\n",
       "      <td>2</td>\n",
       "    </tr>\n",
       "    <tr>\n",
       "      <th>American Beauty</th>\n",
       "      <td>2</td>\n",
       "      <td>2</td>\n",
       "      <td>1</td>\n",
       "      <td>2</td>\n",
       "      <td>2</td>\n",
       "      <td>1</td>\n",
       "      <td>2</td>\n",
       "    </tr>\n",
       "  </tbody>\n",
       "</table>\n",
       "</div>"
      ],
      "text/plain": [
       "                   wiki_id  firebase_id  title  author  pub_date  genres  plot\n",
       "title                                                                         \n",
       "1945                     2            2      1       2         2       2     2\n",
       "A Casa                   2            2      1       2         0       2     2\n",
       "A Taste for Death        2            2      1       2         1       2     2\n",
       "Abduction                2            2      1       2         2       2     2\n",
       "American Beauty          2            2      1       2         2       1     2"
      ]
     },
     "execution_count": 20,
     "metadata": {},
     "output_type": "execute_result"
    }
   ],
   "source": [
    "titles.nunique().loc[titles.nunique().wiki_id > 1].head()"
   ]
  },
  {
   "cell_type": "code",
   "execution_count": 21,
   "metadata": {
    "hidden": true
   },
   "outputs": [
    {
     "data": {
      "text/plain": [
       "<matplotlib.axes._subplots.AxesSubplot at 0x7f24982aaf28>"
      ]
     },
     "execution_count": 21,
     "metadata": {},
     "output_type": "execute_result"
    },
    {
     "data": {
      "image/png": "[encoded data removed]",
      "text/plain": [
       "<Figure size 432x288 with 1 Axes>"
      ]
     },
     "metadata": {
      "needs_background": "light"
     },
     "output_type": "display_data"
    }
   ],
   "source": [
    "titles.nunique().wiki_id.hist()"
   ]
  },
  {
   "cell_type": "markdown",
   "metadata": {},
   "source": [
    "## Mixing Plots"
   ]
  },
  {
   "cell_type": "markdown",
   "metadata": {},
   "source": [
    "### Generate Binary Genre Vectors per book"
   ]
  },
  {
   "cell_type": "code",
   "execution_count": 191,
   "metadata": {
    "ExecuteTime": {
     "end_time": "2018-12-10T10:38:28.686881Z",
     "start_time": "2018-12-10T10:38:28.680781Z"
    },
    "init_cell": true
   },
   "outputs": [],
   "source": [
    "# Extract k-hot-encoding of genres\n",
    "@memory.cache\n",
    "def extract_genres(data):\n",
    "    result = data.genres.str.replace('[{}\"]', '', regex=True) \\\n",
    "                         .str.replace('/m/.+?: ', '', regex=True) \\\n",
    "                         .str.get_dummies(', ')\n",
    "    # Prefix and normalize genre columns\n",
    "    result.columns = ['genre_' + str(col) for col in result.columns.str.lower().str.replace('[^a-z]', '_')]\n",
    "    # Select genres that have been assigned at least twice.\n",
    "    # \n",
    "    # Assuming we use genres only to match text an additional dimensions \n",
    "    # that is never shared will only make a text more 'different' from \n",
    "    # all other text. No information gain in that.\n",
    "    # \n",
    "    # This reduces genres from 227 to 183. \n",
    "    result = result.loc[:, result.sum(axis=0) >= 2]\n",
    "    \n",
    "    return result"
   ]
  },
  {
   "cell_type": "markdown",
   "metadata": {},
   "source": [
    "### Similarity Measures"
   ]
  },
  {
   "cell_type": "markdown",
   "metadata": {},
   "source": [
    "#### Cosine-Similarity"
   ]
  },
  {
   "cell_type": "markdown",
   "metadata": {},
   "source": [
    "The cosine similarity indicates similarity of orientation of two vectors by measuring the cosine of the angle between those vectors. Magnitude of the vectors is not of relevance. The cosine similarity is 0 for orthogonal vectors, 1 for vectors of the same orientation or -1  for diametrically opposed vectors.\n",
    "\n",
    "$$ similarity: S_C(x,y) = cos(\\pmb x, \\pmb y) = \\frac {\\pmb x \\cdot \\pmb y}{||\\pmb x|| \\cdot ||\\pmb y||} $$\n",
    "\n",
    "As we are using the cosine similarity to compare attribute vectors in strictly positive space we can use the cosine distance, which is the complement of the cosine similarity in positive space. A distance of 0 indicates same orientation, a distance of 1 indicates no similarity or decorrelation and values in between indicate similarity or dissimilarity.\n",
    "\n",
    "$$ D_C(x,y) = 1 - S_C(x,y) $$"
   ]
  },
  {
   "cell_type": "markdown",
   "metadata": {},
   "source": [
    "##### Similarity Matrix"
   ]
  },
  {
   "cell_type": "markdown",
   "metadata": {},
   "source": [
    "We calculate pairwise cosine similar for our books binary genre vectors."
   ]
  },
  {
   "cell_type": "code",
   "execution_count": 192,
   "metadata": {
    "ExecuteTime": {
     "end_time": "2018-12-10T10:38:28.693795Z",
     "start_time": "2018-12-10T10:38:28.689452Z"
    },
    "init_cell": true
   },
   "outputs": [],
   "source": [
    "@memory.cache\n",
    "def calc_cosine_sim_matrix(genres):\n",
    "    result = cosine_similarity(genres)\n",
    "    result[np.tril_indices(result.shape[0])] = np.nan\n",
    "    result = pd.DataFrame(result).apply(pd.to_numeric, downcast='float')\n",
    "    return result"
   ]
  },
  {
   "cell_type": "code",
   "execution_count": 193,
   "metadata": {
    "ExecuteTime": {
     "end_time": "2018-12-10T10:38:28.698890Z",
     "start_time": "2018-12-10T10:38:28.695639Z"
    },
    "init_cell": true
   },
   "outputs": [],
   "source": [
    "@memory.cache\n",
    "def calc_cosine_dist_matrix(genres):\n",
    "    return (calc_cosine_sim_matrix(genres) * -1.0) + 1.0"
   ]
  },
  {
   "cell_type": "code",
   "execution_count": 196,
   "metadata": {
    "ExecuteTime": {
     "end_time": "2018-12-10T10:39:22.224454Z",
     "start_time": "2018-12-10T10:39:18.024828Z"
    }
   },
   "outputs": [],
   "source": [
    "sim_matrix = calc_cosine_sim_matrix(extract_genres(data))"
   ]
  },
  {
   "cell_type": "markdown",
   "metadata": {},
   "source": [
    "### Construction of artificial texts with shared authorship"
   ]
  },
  {
   "cell_type": "markdown",
   "metadata": {},
   "source": [
    "As there is no labeled dataset of texts with shared and non-shared authorship (or at least non we know of), we have to construct a labeled dataset by artificially combining texts, then treating them as text of shared authorship and mix them with texts that have not been altered and are therefore considered to be of a non-shared authorship."
   ]
  },
  {
   "cell_type": "markdown",
   "metadata": {},
   "source": [
    "#### Combinatoric considerations"
   ]
  },
  {
   "cell_type": "markdown",
   "metadata": {},
   "source": [
    "While combining texts for mixed authorship there are several factors that can be considered and varied to create different datasets that might effect the results later.\n",
    "\n",
    "__Degree of similarity__  \n",
    "By varying a threshold of similarity we assume that the difficulty of resulting combinations can be effected. Determining shared authorship of texts that are more alike by any given measure upfront, might be more difficult to detect than with a combined text of which original texts were considered less alike upfront.\n",
    "\n",
    "__Reuse of texts__  \n",
    "A text that was used for combination could be or not be reused for combination with additional texts or it could also be not be used as a text of non-shared authorship in the same dataset.\n",
    "\n",
    "__Method of combination__  \n",
    "There are different ways to combine texts. The simplest being to append on text to another. Another approach could be to split individual texts into paragraphs or sentences and interleave or randomly mix those tokens.\n",
    "  \n",
    "__Number of texts being combined__  \n",
    "Any number of texts could be combined to create texts of shared authorship with different degrees, e.g. 1 to n authors.\n",
    "  \n",
    "__Share of combined texts in the resulting dataset__  \n",
    "Depending on used features and techniques the percentage of shared texts vs texts of single authorship might effect the algorithms performance for new unrelated datasets."
   ]
  },
  {
   "cell_type": "markdown",
   "metadata": {},
   "source": [
    "#### Building a dataset"
   ]
  },
  {
   "cell_type": "code",
   "execution_count": 194,
   "metadata": {
    "ExecuteTime": {
     "end_time": "2018-12-10T10:38:28.714410Z",
     "start_time": "2018-12-10T10:38:28.700488Z"
    },
    "init_cell": true
   },
   "outputs": [],
   "source": [
    "def build_dataset(\n",
    "    # The dataset \n",
    "    data,\n",
    "    sim_matrix,\n",
    "    sim_threshold = 0.5,\n",
    "    reuse_texts = False,\n",
    "    combination = 'append',\n",
    "    comb_degree = 2,\n",
    "    target_share = 0.2,\n",
    "    text_col = 'plot'\n",
    "):  \n",
    "    if comb_degree > 2:\n",
    "        raise NotImplementedError\n",
    "    # Total number of available texts\n",
    "    n_total = data.shape[0]\n",
    "    # Instantiate number of texts that will be combined\n",
    "    n_combine = 0\n",
    "    # Calculate number of combined texts\n",
    "    if (reuse_texts):\n",
    "        raise NotImplementedError\n",
    "    else:\n",
    "        # Number of texts that will be combined\n",
    "        n_combine = n_total * comb_degree / (1/target_share + comb_degree - 1)\n",
    "    \n",
    "    # `n_combine` should be an integer value and dividable by `comb_degree` and\n",
    "    # we will interpret target_share as minimum.\n",
    "    n_combine = math.ceil(n_combine)\n",
    "    n_combine += (n_combine % comb_degree)\n",
    "    \n",
    "    \n",
    "    # Instantiate number of resulting combined texts\n",
    "    n_combined = int(n_combine / comb_degree)\n",
    "    # Number of texts that will directly be taken into the in the final dataset without combination\n",
    "    n_direct = n_total - n_combine\n",
    "    \n",
    "    # Number of resulting texts\n",
    "    n_result = n_direct + n_combined\n",
    "    actual_share = n_combined/n_result\n",
    "    \n",
    "    print('Total # of input texts: ', n_total)\n",
    "    print('# of texts to combine: ', n_combine)\n",
    "    print('# of resulting texts with shared authorship: ', n_combined)\n",
    "    print('# of resulting texts without shared authorship: ', n_direct)\n",
    "    print('Total # of resulting texts: ', n_result)\n",
    "    print('Actual share of texts with shared authorship: ', actual_share)\n",
    "    \n",
    "    # override lower diagonal with nan to drop duplicates and self combination.\n",
    "    # SHOULD BE DONE BEFORE PASSED TO THIS METHOD\n",
    "    # sim_matrix[np.tril_indices(sim_matrix.shape[0])] = np.nan\n",
    "    # dropping nan\n",
    "    sim_df = sim_matrix.stack()\n",
    "    # drop combinations below threshold and return left viable choices\n",
    "    choices = sim_df[sim_df >= sim_threshold]\n",
    "    \n",
    "    to_combine = np.ndarray((n_combined), dtype=tuple)\n",
    "    if reuse_texts:\n",
    "        choices = choices.index.values\n",
    "        to_combine = np.random.choice(choices, n_combined, replace=False)\n",
    "    else:\n",
    "        for i in range(to_combine.shape[0]):\n",
    "            # choose random tuple\n",
    "            choice = np.random.choice(choices.loc[choices.notna()].index.values)\n",
    "            to_combine[i] = choice\n",
    "            # drop all tuples including either choice\n",
    "            choices.loc[[choice[0], choice[1]]] = np.nan\n",
    "            choices.loc[:, [choice[0], choice[1]]] = np.nan\n",
    "\n",
    "    tc_values = list(sum(to_combine,()))\n",
    "    all_values = pd.Series(data.index.values)\n",
    "    to_direct = all_values[~all_values.isin(tc_values)]\n",
    "    \n",
    "    # combine texts\n",
    "    combined = pd.DataFrame([[append_texts(data, ids, text_col), 1] for ids in to_combine])\n",
    "    direct = pd.DataFrame([[data[text_col][i], 0] for i in to_direct])\n",
    "    \n",
    "    result = pd.concat(\n",
    "        [combined, direct],\n",
    "        axis=0,\n",
    "        ignore_index=True, \n",
    "        copy=False\n",
    "    )\n",
    "    \n",
    "    result.columns = ['text', 'label']\n",
    "    \n",
    "    return result"
   ]
  },
  {
   "cell_type": "code",
   "execution_count": 195,
   "metadata": {
    "ExecuteTime": {
     "end_time": "2018-12-10T10:38:28.719981Z",
     "start_time": "2018-12-10T10:38:28.716863Z"
    },
    "init_cell": true
   },
   "outputs": [],
   "source": [
    "def append_texts(data, ids, text_col = 'plot'):\n",
    "    t = \"\"\n",
    "    for i in range(len(ids)):\n",
    "        t += data[text_col][ids[i]]\n",
    "    return t"
   ]
  },
  {
   "cell_type": "markdown",
   "metadata": {},
   "source": [
    "#### The simple case"
   ]
  },
  {
   "cell_type": "markdown",
   "metadata": {},
   "source": [
    "To start with we will go with a simple case:"
   ]
  },
  {
   "cell_type": "code",
   "execution_count": 15,
   "metadata": {
    "ExecuteTime": {
     "end_time": "2018-12-07T08:56:54.776831Z",
     "start_time": "2018-12-07T08:56:54.720067Z"
    }
   },
   "outputs": [
    {
     "name": "stdout",
     "output_type": "stream",
     "text": [
      "<class 'pandas.core.frame.DataFrame'>\n",
      "RangeIndex: 16559 entries, 0 to 16558\n",
      "Columns: 16559 entries, 0 to 16558\n",
      "dtypes: float32(16559)\n",
      "memory usage: 1.0 GB\n"
     ]
    }
   ],
   "source": [
    "sim_matrix.info()"
   ]
  },
  {
   "cell_type": "code",
   "execution_count": 197,
   "metadata": {
    "ExecuteTime": {
     "end_time": "2018-12-10T13:31:08.130875Z",
     "start_time": "2018-12-10T10:40:33.643796Z"
    }
   },
   "outputs": [
    {
     "name": "stdout",
     "output_type": "stream",
     "text": [
      "Total # of input texts:  16559\n",
      "# of texts to combine:  11040\n",
      "# of resulting texts with shared authorship:  5520\n",
      "# of resulting texts without shared authorship:  5519\n",
      "Total # of resulting texts:  11039\n",
      "Actual share of texts with shared authorship:  0.5000452939577861\n"
     ]
    }
   ],
   "source": [
    "# sample_size = 100 # data.shape[0]\n",
    "# dataset = build_dataset(data.iloc[0:sample_size], sim_matrix.iloc[0:sample_size, 0:sample_size])\n",
    "dataset = build_dataset(\n",
    "    data,\n",
    "    sim_matrix,\n",
    "    sim_threshold = 0.8,\n",
    "    target_share = 0.5\n",
    ")"
   ]
  },
  {
   "cell_type": "code",
   "execution_count": 198,
   "metadata": {
    "ExecuteTime": {
     "end_time": "2018-12-10T13:32:52.380104Z",
     "start_time": "2018-12-10T13:32:51.409970Z"
    }
   },
   "outputs": [],
   "source": [
    "dataset.to_csv('./datasets/constructed_2.csv', encoding='utf-8', doublequote=True)"
   ]
  },
  {
   "cell_type": "markdown",
   "metadata": {
    "heading_collapsed": true
   },
   "source": [
    "### Helpers"
   ]
  },
  {
   "cell_type": "code",
   "execution_count": 13,
   "metadata": {
    "ExecuteTime": {
     "end_time": "2018-12-07T08:55:14.465865Z",
     "start_time": "2018-12-07T08:55:14.361671Z"
    },
    "hidden": true
   },
   "outputs": [
    {
     "data": {
      "text/plain": [
       "[('sim_matrix', 1096802028),\n",
       " ('data', 83719140),\n",
       " ('Memory', 1184),\n",
       " ('NamespaceMagics', 888),\n",
       " ('append_texts', 136),\n",
       " ('build_dataset', 136),\n",
       " ('cosine_similarity', 136),\n",
       " ('genres_for_author', 136),\n",
       " ('genres_for_books', 136),\n",
       " ('var_dic_list', 136),\n",
       " ('np', 80),\n",
       " ('pd', 80),\n",
       " ('plt', 80),\n",
       " ('stats', 80),\n",
       " ('getsizeof', 72),\n",
       " ('calc_cosine_dist_matrix', 56),\n",
       " ('calc_cosine_sim_matrix', 56),\n",
       " ('extract_genres', 56),\n",
       " ('load_raw_data', 56),\n",
       " ('memory', 56)]"
      ]
     },
     "execution_count": 13,
     "metadata": {},
     "output_type": "execute_result"
    }
   ],
   "source": [
    "import sys\n",
    "\n",
    "# These are the usual ipython objects, including this one you are creating\n",
    "ipython_vars = ['In', 'Out', 'exit', 'quit', 'get_ipython', 'ipython_vars']\n",
    "\n",
    "# Get a sorted list of the objects and their sizes\n",
    "sorted(\n",
    "    [(x, sys.getsizeof(globals().get(x))) for x in dir() if not x.startswith('_') and x not in sys.modules and x not in ipython_vars],\n",
    "    key=lambda x: x[1], \n",
    "    reverse=True\n",
    ")"
   ]
  },
  {
   "cell_type": "markdown",
   "metadata": {},
   "source": [
    "## Feature selection"
   ]
  },
  {
   "cell_type": "markdown",
   "metadata": {},
   "source": [
    "### Configuration"
   ]
  },
  {
   "cell_type": "code",
   "execution_count": 12,
   "metadata": {},
   "outputs": [],
   "source": [
    "def set_filter_params(var_word_n_grams=(True, 'absolute', [1000, 1000, 1000]),\n",
    "                     var_char_n_grams=(True, 'absolute', [1000, 1000, 1000, 1000]),\n",
    "                     var_pos_n_grams=(True, 'absolute', [1000, 1000, 1000]),\n",
    "                     freq_word_n_grams=(True, 'absolute', [500, 500, 500, 500]),\n",
    "                     freq_char_n_grams=(True, 'absolute', [500, 500, 500, 500]),\n",
    "                     freq_pos_n_grams=(True, 'absolute', [500, 500, 500, 500])):\n",
    "\n",
    "    return {\n",
    "        # Filter by variance: (flag, Type_of_filter, [thresholds for each n in\n",
    "        # word_n_grams])\n",
    "        'var_word_n_grams': var_word_n_grams,      \n",
    "        # Filter by variance: (flag, Type_of_filter, [thresholds for each n in\n",
    "        # char_n_grams])\n",
    "        'var_char_n_grams':var_char_n_grams,   \n",
    "        # Filter by variance: (flag, Type_of_filter, [thresholds for each n in\n",
    "        # pos_n_grams])\n",
    "        'var_pos_n_grams':var_pos_n_grams,       \n",
    "        # Use the most common features: (flag, Type_of_filter, [thresholds for each n\n",
    "        # in word_n_grams])\n",
    "        'freq_word_n_grams':freq_word_n_grams,\n",
    "        # Use the most common features: (flag, Type_of_filter, [thresholds for each n\n",
    "        # in char_n_grams])\n",
    "        'freq_char_n_grams':freq_char_n_grams,           \n",
    "        # Use the most common features: (flag, Type_of_filter, [thresholds for each n\n",
    "        # in pos_n_grams])\n",
    "        'freq_pos_n_grams':freq_pos_n_grams\n",
    "    }"
   ]
  },
  {
   "cell_type": "code",
   "execution_count": 20,
   "metadata": {},
   "outputs": [],
   "source": [
    "def set_features_to_calc(char_n_grams= [1,2,3,4],        \n",
    "    word_n_grams = [1,2,3],                                          \n",
    "    pos_n_grams=[1,2,3],                      \n",
    "    avg_sent_len=True,                         \n",
    "    avg_word_len=True,                         \n",
    "    token_per_sent=True,                      \n",
    "    vocabulary_richness=True):\n",
    "\n",
    "    return{\n",
    "        # list with n for char_n_grams\n",
    "        'char_n_grams': char_n_grams,        \n",
    "        # list with n for word_n_grams\n",
    "        'word_n_grams': word_n_grams,                                          \n",
    "        # list with n for pos_n_grams\n",
    "        'pos_n_grams': pos_n_grams,                      \n",
    "        # flag if average sentence length should be calculated\n",
    "        'avg_sent_len':avg_sent_len,                         \n",
    "        # flag if average token length should be calculated\n",
    "        'avg_word_len':avg_word_len,                         \n",
    "        # flag if token per sentences should be calculated\n",
    "        'token_per_sent':avg_word_len,                      \n",
    "        # flag if vocabulary_richness should be calculated\n",
    "        'vocabulary_richness':vocabulary_richness,                 \n",
    "    }"
   ]
  },
  {
   "cell_type": "code",
   "execution_count": 14,
   "metadata": {},
   "outputs": [],
   "source": [
    "def set_token_params_1 (\n",
    "    word_tokenizer = RegexpTokenizer(r'\\w+'),      \n",
    "    sent_tokenizer = nltk.data.load('tokenizers/punkt/english.pickle'), \n",
    "    get_tokens = 'sentence',                                                    \n",
    "    word_strain = 'stem',\n",
    "    filter_length = ('long', 0),                                                \n",
    "    handle_stopwords = '',                                                      \n",
    "    get_sentences = False,                                                      \n",
    "    punctuation = \"[,;.!—]\",                                                   \n",
    "    lower_stop_words = set(stopwords.words('english')),                         \n",
    "    uncapitalized = True):\n",
    "    \n",
    "    \n",
    "    return{\n",
    "    # Word tokenizer\n",
    "    'word_tokenizer':RegexpTokenizer(r'\\w+'),  \n",
    "    # Sentence tokenizer    \n",
    "    'sent_tokenizer':nltk.data.load('tokenizers/punkt/english.pickle'), \n",
    "    # Group tokens: 'text'|'sentence'\n",
    "    'get_tokens':'sentence',                                                    \n",
    "    # 'lemma'|'stem'\n",
    "    'word_strain':'stem',\n",
    "    # Get tokens with length >= <int> or <= <int>: ('long',<int>)|('short',<int>)\n",
    "    'filter_length':('long', 0),                                                \n",
    "    # 'get'|'remove'\n",
    "    'handle_stopwords':'',                                                      \n",
    "    # Sentences tokens\n",
    "    'get_sentences':False,                                                      \n",
    "    # Remove punctuation\n",
    "    'punctuation':\"[,;.!—]\",                                                   \n",
    "    # Stopwords\n",
    "    'lower_stop_words':set(stopwords.words('english')),                         \n",
    "    # Original or uncapitalized stemms/lemmas\n",
    "    'uncapitalized' : True                                                      \n",
    "    }"
   ]
  },
  {
   "cell_type": "code",
   "execution_count": 22,
   "metadata": {
    "ExecuteTime": {
     "end_time": "2018-12-09T11:40:01.948508Z",
     "start_time": "2018-12-09T11:40:01.926847Z"
    }
   },
   "outputs": [],
   "source": [
    "features_to_calc=set_features_to_calc()\n",
    "\n",
    "filter_params=set_filter_params(var_word_n_grams=(True, 'threshold', [0.001, 0.001, 0.001]),\n",
    "                    var_char_n_grams=(True, 'threshold', [0.001, 0.001, 0.001, 0.001]),\n",
    "                    var_pos_n_grams=(True, 'threshold', [0.01, 0.01, 0.01]),\n",
    "                    freq_word_n_grams=(False),\n",
    "                    freq_char_n_grams=(False),\n",
    "                    freq_pos_n_grams=(False))\n",
    "\n",
    "token_params_1=set_token_params_1()            "
   ]
  },
  {
   "cell_type": "code",
   "execution_count": 23,
   "metadata": {
    "ExecuteTime": {
     "end_time": "2018-12-10T13:43:07.033226Z",
     "start_time": "2018-12-10T13:43:06.512243Z"
    }
   },
   "outputs": [
    {
     "data": {
      "text/plain": [
       "11039"
      ]
     },
     "execution_count": 23,
     "metadata": {},
     "output_type": "execute_result"
    }
   ],
   "source": [
    "#Path to data\n",
    "path_data='.//datasets//constructed_2.csv'\n",
    "\n",
    "df_texts=pd.read_csv(path_data,sep=',',header=0, index_col=0)\n",
    "serie_texts=df_texts.text\n",
    "\n",
    "df_texts.text.size"
   ]
  },
  {
   "cell_type": "markdown",
   "metadata": {},
   "source": [
    "### Feature Selection"
   ]
  },
  {
   "cell_type": "code",
   "execution_count": 7,
   "metadata": {
    "ExecuteTime": {
     "end_time": "2018-12-09T11:47:32.729247Z",
     "start_time": "2018-12-09T11:47:32.726486Z"
    }
   },
   "outputs": [],
   "source": [
    "# Export Path\n",
    "path_selected_features='.//Features//sel_features{0}.txt'.format(datetime.datetime.now().strftime(\"%Y_%m_%d_%H_%M\"))"
   ]
  },
  {
   "cell_type": "code",
   "execution_count": 10,
   "metadata": {},
   "outputs": [
    {
     "ename": "KeyboardInterrupt",
     "evalue": "",
     "output_type": "error",
     "traceback": [
      "\u001b[1;31m---------------------------------------------------------------------------\u001b[0m",
      "\u001b[1;31mFileNotFoundError\u001b[0m                         Traceback (most recent call last)",
      "\u001b[1;32mc:\\users\\marius\\virtualenvironments\\text_mining\\lib\\genericpath.py\u001b[0m in \u001b[0;36misfile\u001b[1;34m(path)\u001b[0m\n\u001b[0;32m     29\u001b[0m     \u001b[1;32mtry\u001b[0m\u001b[1;33m:\u001b[0m\u001b[1;33m\u001b[0m\u001b[0m\n\u001b[1;32m---> 30\u001b[1;33m         \u001b[0mst\u001b[0m \u001b[1;33m=\u001b[0m \u001b[0mos\u001b[0m\u001b[1;33m.\u001b[0m\u001b[0mstat\u001b[0m\u001b[1;33m(\u001b[0m\u001b[0mpath\u001b[0m\u001b[1;33m)\u001b[0m\u001b[1;33m\u001b[0m\u001b[0m\n\u001b[0m\u001b[0;32m     31\u001b[0m     \u001b[1;32mexcept\u001b[0m \u001b[0mOSError\u001b[0m\u001b[1;33m:\u001b[0m\u001b[1;33m\u001b[0m\u001b[0m\n",
      "\u001b[1;31mFileNotFoundError\u001b[0m: [WinError 2] Das System kann die angegebene Datei nicht finden: 'C:\\\\Users\\\\Marius/nltk_data'",
      "\nDuring handling of the above exception, another exception occurred:\n",
      "\u001b[1;31mKeyboardInterrupt\u001b[0m                         Traceback (most recent call last)",
      "\u001b[1;32m<ipython-input-10-9ee57d726950>\u001b[0m in \u001b[0;36m<module>\u001b[1;34m\u001b[0m\n\u001b[0;32m     14\u001b[0m     \u001b[1;31m# Path to already selected features\u001b[0m\u001b[1;33m\u001b[0m\u001b[1;33m\u001b[0m\u001b[0m\n\u001b[0;32m     15\u001b[0m     \u001b[0mpath_to_features\u001b[0m\u001b[1;33m=\u001b[0m\u001b[0mpath_selected_features\u001b[0m\u001b[1;33m,\u001b[0m\u001b[1;33m\u001b[0m\u001b[0m\n\u001b[1;32m---> 16\u001b[1;33m     normalization_type='')\n\u001b[0m",
      "\u001b[1;32mE:\\Marius\\Documents\\Studium\\3_Semester\\Seminar Text Mining\\Repository\\AATM\\FEATURE_SELECTOR_v4.py\u001b[0m in \u001b[0;36mselect_features\u001b[1;34m(serie_texts, features_to_calc, token_params_1, filter_params, flag_extract_features, cv_min_df, path_to_features, normalization_type)\u001b[0m\n\u001b[0;32m    214\u001b[0m \u001b[1;33m\u001b[0m\u001b[0m\n\u001b[0;32m    215\u001b[0m     \u001b[1;31m# Get pos-tags grouped by sentences\u001b[0m\u001b[1;33m\u001b[0m\u001b[1;33m\u001b[0m\u001b[0m\n\u001b[1;32m--> 216\u001b[1;33m     \u001b[0mseries_pos_grouped_by_sentences\u001b[0m \u001b[1;33m=\u001b[0m  \u001b[0mseries_original_word_tokens_grouped_by_sentences\u001b[0m\u001b[1;33m.\u001b[0m\u001b[0mapply\u001b[0m\u001b[1;33m(\u001b[0m\u001b[1;32mlambda\u001b[0m \u001b[0mrow\u001b[0m\u001b[1;33m:\u001b[0m \u001b[1;33m[\u001b[0m\u001b[0mnltk\u001b[0m\u001b[1;33m.\u001b[0m\u001b[0mpos_tag\u001b[0m\u001b[1;33m(\u001b[0m\u001b[0msent\u001b[0m\u001b[1;33m)\u001b[0m \u001b[1;32mfor\u001b[0m \u001b[0msent\u001b[0m \u001b[1;32min\u001b[0m \u001b[0mrow\u001b[0m\u001b[1;33m]\u001b[0m\u001b[1;33m)\u001b[0m\u001b[1;33m\u001b[0m\u001b[0m\n\u001b[0m\u001b[0;32m    217\u001b[0m     \u001b[1;31m# Get pos-tags grouped by texts\u001b[0m\u001b[1;33m\u001b[0m\u001b[1;33m\u001b[0m\u001b[0m\n\u001b[0;32m    218\u001b[0m     \u001b[0mseries_pos_grouped_by_texts\u001b[0m\u001b[1;33m=\u001b[0m\u001b[0mseries_pos_grouped_by_sentences\u001b[0m\u001b[1;33m.\u001b[0m\u001b[0mapply\u001b[0m\u001b[1;33m(\u001b[0m\u001b[1;32mlambda\u001b[0m \u001b[0mrow\u001b[0m\u001b[1;33m:\u001b[0m \u001b[0msum\u001b[0m\u001b[1;33m(\u001b[0m\u001b[1;33m[\u001b[0m\u001b[0msent\u001b[0m \u001b[1;32mfor\u001b[0m \u001b[0msent\u001b[0m \u001b[1;32min\u001b[0m \u001b[0mrow\u001b[0m\u001b[1;33m]\u001b[0m\u001b[1;33m,\u001b[0m \u001b[1;33m[\u001b[0m\u001b[1;33m]\u001b[0m\u001b[1;33m)\u001b[0m\u001b[1;33m)\u001b[0m\u001b[1;33m\u001b[0m\u001b[0m\n",
      "\u001b[1;32mc:\\users\\marius\\virtualenvironments\\text_mining\\lib\\site-packages\\pandas\\core\\series.py\u001b[0m in \u001b[0;36mapply\u001b[1;34m(self, func, convert_dtype, args, **kwds)\u001b[0m\n\u001b[0;32m   3192\u001b[0m             \u001b[1;32melse\u001b[0m\u001b[1;33m:\u001b[0m\u001b[1;33m\u001b[0m\u001b[0m\n\u001b[0;32m   3193\u001b[0m                 \u001b[0mvalues\u001b[0m \u001b[1;33m=\u001b[0m \u001b[0mself\u001b[0m\u001b[1;33m.\u001b[0m\u001b[0mastype\u001b[0m\u001b[1;33m(\u001b[0m\u001b[0mobject\u001b[0m\u001b[1;33m)\u001b[0m\u001b[1;33m.\u001b[0m\u001b[0mvalues\u001b[0m\u001b[1;33m\u001b[0m\u001b[0m\n\u001b[1;32m-> 3194\u001b[1;33m                 \u001b[0mmapped\u001b[0m \u001b[1;33m=\u001b[0m \u001b[0mlib\u001b[0m\u001b[1;33m.\u001b[0m\u001b[0mmap_infer\u001b[0m\u001b[1;33m(\u001b[0m\u001b[0mvalues\u001b[0m\u001b[1;33m,\u001b[0m \u001b[0mf\u001b[0m\u001b[1;33m,\u001b[0m \u001b[0mconvert\u001b[0m\u001b[1;33m=\u001b[0m\u001b[0mconvert_dtype\u001b[0m\u001b[1;33m)\u001b[0m\u001b[1;33m\u001b[0m\u001b[0m\n\u001b[0m\u001b[0;32m   3195\u001b[0m \u001b[1;33m\u001b[0m\u001b[0m\n\u001b[0;32m   3196\u001b[0m         \u001b[1;32mif\u001b[0m \u001b[0mlen\u001b[0m\u001b[1;33m(\u001b[0m\u001b[0mmapped\u001b[0m\u001b[1;33m)\u001b[0m \u001b[1;32mand\u001b[0m \u001b[0misinstance\u001b[0m\u001b[1;33m(\u001b[0m\u001b[0mmapped\u001b[0m\u001b[1;33m[\u001b[0m\u001b[1;36m0\u001b[0m\u001b[1;33m]\u001b[0m\u001b[1;33m,\u001b[0m \u001b[0mSeries\u001b[0m\u001b[1;33m)\u001b[0m\u001b[1;33m:\u001b[0m\u001b[1;33m\u001b[0m\u001b[0m\n",
      "\u001b[1;32mpandas/_libs/src\\inference.pyx\u001b[0m in \u001b[0;36mpandas._libs.lib.map_infer\u001b[1;34m()\u001b[0m\n",
      "\u001b[1;32mE:\\Marius\\Documents\\Studium\\3_Semester\\Seminar Text Mining\\Repository\\AATM\\FEATURE_SELECTOR_v4.py\u001b[0m in \u001b[0;36m<lambda>\u001b[1;34m(row)\u001b[0m\n\u001b[0;32m    214\u001b[0m \u001b[1;33m\u001b[0m\u001b[0m\n\u001b[0;32m    215\u001b[0m     \u001b[1;31m# Get pos-tags grouped by sentences\u001b[0m\u001b[1;33m\u001b[0m\u001b[1;33m\u001b[0m\u001b[0m\n\u001b[1;32m--> 216\u001b[1;33m     \u001b[0mseries_pos_grouped_by_sentences\u001b[0m \u001b[1;33m=\u001b[0m  \u001b[0mseries_original_word_tokens_grouped_by_sentences\u001b[0m\u001b[1;33m.\u001b[0m\u001b[0mapply\u001b[0m\u001b[1;33m(\u001b[0m\u001b[1;32mlambda\u001b[0m \u001b[0mrow\u001b[0m\u001b[1;33m:\u001b[0m \u001b[1;33m[\u001b[0m\u001b[0mnltk\u001b[0m\u001b[1;33m.\u001b[0m\u001b[0mpos_tag\u001b[0m\u001b[1;33m(\u001b[0m\u001b[0msent\u001b[0m\u001b[1;33m)\u001b[0m \u001b[1;32mfor\u001b[0m \u001b[0msent\u001b[0m \u001b[1;32min\u001b[0m \u001b[0mrow\u001b[0m\u001b[1;33m]\u001b[0m\u001b[1;33m)\u001b[0m\u001b[1;33m\u001b[0m\u001b[0m\n\u001b[0m\u001b[0;32m    217\u001b[0m     \u001b[1;31m# Get pos-tags grouped by texts\u001b[0m\u001b[1;33m\u001b[0m\u001b[1;33m\u001b[0m\u001b[0m\n\u001b[0;32m    218\u001b[0m     \u001b[0mseries_pos_grouped_by_texts\u001b[0m\u001b[1;33m=\u001b[0m\u001b[0mseries_pos_grouped_by_sentences\u001b[0m\u001b[1;33m.\u001b[0m\u001b[0mapply\u001b[0m\u001b[1;33m(\u001b[0m\u001b[1;32mlambda\u001b[0m \u001b[0mrow\u001b[0m\u001b[1;33m:\u001b[0m \u001b[0msum\u001b[0m\u001b[1;33m(\u001b[0m\u001b[1;33m[\u001b[0m\u001b[0msent\u001b[0m \u001b[1;32mfor\u001b[0m \u001b[0msent\u001b[0m \u001b[1;32min\u001b[0m \u001b[0mrow\u001b[0m\u001b[1;33m]\u001b[0m\u001b[1;33m,\u001b[0m \u001b[1;33m[\u001b[0m\u001b[1;33m]\u001b[0m\u001b[1;33m)\u001b[0m\u001b[1;33m)\u001b[0m\u001b[1;33m\u001b[0m\u001b[0m\n",
      "\u001b[1;32mE:\\Marius\\Documents\\Studium\\3_Semester\\Seminar Text Mining\\Repository\\AATM\\FEATURE_SELECTOR_v4.py\u001b[0m in \u001b[0;36m<listcomp>\u001b[1;34m(.0)\u001b[0m\n\u001b[0;32m    214\u001b[0m \u001b[1;33m\u001b[0m\u001b[0m\n\u001b[0;32m    215\u001b[0m     \u001b[1;31m# Get pos-tags grouped by sentences\u001b[0m\u001b[1;33m\u001b[0m\u001b[1;33m\u001b[0m\u001b[0m\n\u001b[1;32m--> 216\u001b[1;33m     \u001b[0mseries_pos_grouped_by_sentences\u001b[0m \u001b[1;33m=\u001b[0m  \u001b[0mseries_original_word_tokens_grouped_by_sentences\u001b[0m\u001b[1;33m.\u001b[0m\u001b[0mapply\u001b[0m\u001b[1;33m(\u001b[0m\u001b[1;32mlambda\u001b[0m \u001b[0mrow\u001b[0m\u001b[1;33m:\u001b[0m \u001b[1;33m[\u001b[0m\u001b[0mnltk\u001b[0m\u001b[1;33m.\u001b[0m\u001b[0mpos_tag\u001b[0m\u001b[1;33m(\u001b[0m\u001b[0msent\u001b[0m\u001b[1;33m)\u001b[0m \u001b[1;32mfor\u001b[0m \u001b[0msent\u001b[0m \u001b[1;32min\u001b[0m \u001b[0mrow\u001b[0m\u001b[1;33m]\u001b[0m\u001b[1;33m)\u001b[0m\u001b[1;33m\u001b[0m\u001b[0m\n\u001b[0m\u001b[0;32m    217\u001b[0m     \u001b[1;31m# Get pos-tags grouped by texts\u001b[0m\u001b[1;33m\u001b[0m\u001b[1;33m\u001b[0m\u001b[0m\n\u001b[0;32m    218\u001b[0m     \u001b[0mseries_pos_grouped_by_texts\u001b[0m\u001b[1;33m=\u001b[0m\u001b[0mseries_pos_grouped_by_sentences\u001b[0m\u001b[1;33m.\u001b[0m\u001b[0mapply\u001b[0m\u001b[1;33m(\u001b[0m\u001b[1;32mlambda\u001b[0m \u001b[0mrow\u001b[0m\u001b[1;33m:\u001b[0m \u001b[0msum\u001b[0m\u001b[1;33m(\u001b[0m\u001b[1;33m[\u001b[0m\u001b[0msent\u001b[0m \u001b[1;32mfor\u001b[0m \u001b[0msent\u001b[0m \u001b[1;32min\u001b[0m \u001b[0mrow\u001b[0m\u001b[1;33m]\u001b[0m\u001b[1;33m,\u001b[0m \u001b[1;33m[\u001b[0m\u001b[1;33m]\u001b[0m\u001b[1;33m)\u001b[0m\u001b[1;33m)\u001b[0m\u001b[1;33m\u001b[0m\u001b[0m\n",
      "\u001b[1;32mc:\\users\\marius\\virtualenvironments\\text_mining\\lib\\site-packages\\nltk\\tag\\__init__.py\u001b[0m in \u001b[0;36mpos_tag\u001b[1;34m(tokens, tagset, lang)\u001b[0m\n\u001b[0;32m    131\u001b[0m     \u001b[1;33m:\u001b[0m\u001b[0mrtype\u001b[0m\u001b[1;33m:\u001b[0m \u001b[0mlist\u001b[0m\u001b[1;33m(\u001b[0m\u001b[0mtuple\u001b[0m\u001b[1;33m(\u001b[0m\u001b[0mstr\u001b[0m\u001b[1;33m,\u001b[0m \u001b[0mstr\u001b[0m\u001b[1;33m)\u001b[0m\u001b[1;33m)\u001b[0m\u001b[1;33m\u001b[0m\u001b[0m\n\u001b[0;32m    132\u001b[0m     \"\"\"\n\u001b[1;32m--> 133\u001b[1;33m     \u001b[0mtagger\u001b[0m \u001b[1;33m=\u001b[0m \u001b[0m_get_tagger\u001b[0m\u001b[1;33m(\u001b[0m\u001b[0mlang\u001b[0m\u001b[1;33m)\u001b[0m\u001b[1;33m\u001b[0m\u001b[0m\n\u001b[0m\u001b[0;32m    134\u001b[0m     \u001b[1;32mreturn\u001b[0m \u001b[0m_pos_tag\u001b[0m\u001b[1;33m(\u001b[0m\u001b[0mtokens\u001b[0m\u001b[1;33m,\u001b[0m \u001b[0mtagset\u001b[0m\u001b[1;33m,\u001b[0m \u001b[0mtagger\u001b[0m\u001b[1;33m)\u001b[0m\u001b[1;33m\u001b[0m\u001b[0m\n\u001b[0;32m    135\u001b[0m \u001b[1;33m\u001b[0m\u001b[0m\n",
      "\u001b[1;32mc:\\users\\marius\\virtualenvironments\\text_mining\\lib\\site-packages\\nltk\\tag\\__init__.py\u001b[0m in \u001b[0;36m_get_tagger\u001b[1;34m(lang)\u001b[0m\n\u001b[0;32m     95\u001b[0m         \u001b[0mtagger\u001b[0m\u001b[1;33m.\u001b[0m\u001b[0mload\u001b[0m\u001b[1;33m(\u001b[0m\u001b[0map_russian_model_loc\u001b[0m\u001b[1;33m)\u001b[0m\u001b[1;33m\u001b[0m\u001b[0m\n\u001b[0;32m     96\u001b[0m     \u001b[1;32melse\u001b[0m\u001b[1;33m:\u001b[0m\u001b[1;33m\u001b[0m\u001b[0m\n\u001b[1;32m---> 97\u001b[1;33m         \u001b[0mtagger\u001b[0m \u001b[1;33m=\u001b[0m \u001b[0mPerceptronTagger\u001b[0m\u001b[1;33m(\u001b[0m\u001b[1;33m)\u001b[0m\u001b[1;33m\u001b[0m\u001b[0m\n\u001b[0m\u001b[0;32m     98\u001b[0m     \u001b[1;32mreturn\u001b[0m \u001b[0mtagger\u001b[0m\u001b[1;33m\u001b[0m\u001b[0m\n\u001b[0;32m     99\u001b[0m \u001b[1;33m\u001b[0m\u001b[0m\n",
      "\u001b[1;32mc:\\users\\marius\\virtualenvironments\\text_mining\\lib\\site-packages\\nltk\\tag\\perceptron.py\u001b[0m in \u001b[0;36m__init__\u001b[1;34m(self, load)\u001b[0m\n\u001b[0;32m    138\u001b[0m         \u001b[0mself\u001b[0m\u001b[1;33m.\u001b[0m\u001b[0mclasses\u001b[0m \u001b[1;33m=\u001b[0m \u001b[0mset\u001b[0m\u001b[1;33m(\u001b[0m\u001b[1;33m)\u001b[0m\u001b[1;33m\u001b[0m\u001b[0m\n\u001b[0;32m    139\u001b[0m         \u001b[1;32mif\u001b[0m \u001b[0mload\u001b[0m\u001b[1;33m:\u001b[0m\u001b[1;33m\u001b[0m\u001b[0m\n\u001b[1;32m--> 140\u001b[1;33m             \u001b[0mAP_MODEL_LOC\u001b[0m \u001b[1;33m=\u001b[0m \u001b[1;34m'file:'\u001b[0m\u001b[1;33m+\u001b[0m\u001b[0mstr\u001b[0m\u001b[1;33m(\u001b[0m\u001b[0mfind\u001b[0m\u001b[1;33m(\u001b[0m\u001b[1;34m'taggers/averaged_perceptron_tagger/'\u001b[0m\u001b[1;33m+\u001b[0m\u001b[0mPICKLE\u001b[0m\u001b[1;33m)\u001b[0m\u001b[1;33m)\u001b[0m\u001b[1;33m\u001b[0m\u001b[0m\n\u001b[0m\u001b[0;32m    141\u001b[0m             \u001b[0mself\u001b[0m\u001b[1;33m.\u001b[0m\u001b[0mload\u001b[0m\u001b[1;33m(\u001b[0m\u001b[0mAP_MODEL_LOC\u001b[0m\u001b[1;33m)\u001b[0m\u001b[1;33m\u001b[0m\u001b[0m\n\u001b[0;32m    142\u001b[0m \u001b[1;33m\u001b[0m\u001b[0m\n",
      "\u001b[1;32mc:\\users\\marius\\virtualenvironments\\text_mining\\lib\\site-packages\\nltk\\data.py\u001b[0m in \u001b[0;36mfind\u001b[1;34m(resource_name, paths)\u001b[0m\n\u001b[0;32m    619\u001b[0m     \u001b[1;32mfor\u001b[0m \u001b[0mpath_\u001b[0m \u001b[1;32min\u001b[0m \u001b[0mpaths\u001b[0m\u001b[1;33m:\u001b[0m\u001b[1;33m\u001b[0m\u001b[0m\n\u001b[0;32m    620\u001b[0m         \u001b[1;31m# Is the path item a zipfile?\u001b[0m\u001b[1;33m\u001b[0m\u001b[1;33m\u001b[0m\u001b[0m\n\u001b[1;32m--> 621\u001b[1;33m         \u001b[1;32mif\u001b[0m \u001b[0mpath_\u001b[0m \u001b[1;32mand\u001b[0m \u001b[1;33m(\u001b[0m\u001b[0mos\u001b[0m\u001b[1;33m.\u001b[0m\u001b[0mpath\u001b[0m\u001b[1;33m.\u001b[0m\u001b[0misfile\u001b[0m\u001b[1;33m(\u001b[0m\u001b[0mpath_\u001b[0m\u001b[1;33m)\u001b[0m \u001b[1;32mand\u001b[0m \u001b[0mpath_\u001b[0m\u001b[1;33m.\u001b[0m\u001b[0mendswith\u001b[0m\u001b[1;33m(\u001b[0m\u001b[1;34m'.zip'\u001b[0m\u001b[1;33m)\u001b[0m\u001b[1;33m)\u001b[0m\u001b[1;33m:\u001b[0m\u001b[1;33m\u001b[0m\u001b[0m\n\u001b[0m\u001b[0;32m    622\u001b[0m             \u001b[1;32mtry\u001b[0m\u001b[1;33m:\u001b[0m\u001b[1;33m\u001b[0m\u001b[0m\n\u001b[0;32m    623\u001b[0m                 \u001b[1;32mreturn\u001b[0m \u001b[0mZipFilePathPointer\u001b[0m\u001b[1;33m(\u001b[0m\u001b[0mpath_\u001b[0m\u001b[1;33m,\u001b[0m \u001b[0mresource_name\u001b[0m\u001b[1;33m)\u001b[0m\u001b[1;33m\u001b[0m\u001b[0m\n",
      "\u001b[1;32mc:\\users\\marius\\virtualenvironments\\text_mining\\lib\\genericpath.py\u001b[0m in \u001b[0;36misfile\u001b[1;34m(path)\u001b[0m\n\u001b[0;32m     28\u001b[0m     \u001b[1;34m\"\"\"Test whether a path is a regular file\"\"\"\u001b[0m\u001b[1;33m\u001b[0m\u001b[0m\n\u001b[0;32m     29\u001b[0m     \u001b[1;32mtry\u001b[0m\u001b[1;33m:\u001b[0m\u001b[1;33m\u001b[0m\u001b[0m\n\u001b[1;32m---> 30\u001b[1;33m         \u001b[0mst\u001b[0m \u001b[1;33m=\u001b[0m \u001b[0mos\u001b[0m\u001b[1;33m.\u001b[0m\u001b[0mstat\u001b[0m\u001b[1;33m(\u001b[0m\u001b[0mpath\u001b[0m\u001b[1;33m)\u001b[0m\u001b[1;33m\u001b[0m\u001b[0m\n\u001b[0m\u001b[0;32m     31\u001b[0m     \u001b[1;32mexcept\u001b[0m \u001b[0mOSError\u001b[0m\u001b[1;33m:\u001b[0m\u001b[1;33m\u001b[0m\u001b[0m\n\u001b[0;32m     32\u001b[0m         \u001b[1;32mreturn\u001b[0m \u001b[1;32mFalse\u001b[0m\u001b[1;33m\u001b[0m\u001b[0m\n",
      "\u001b[1;31mKeyboardInterrupt\u001b[0m: "
     ]
    }
   ],
   "source": [
    "selected_features = FEATURE_SELECTOR_v4.select_features(\n",
    "    # Contents\n",
    "    serie_texts=serie_texts,                          \n",
    "    # Dictionary with the features which should be calculated\n",
    "    features_to_calc=features_to_calc, \n",
    "    # Dictionary with the parameters for tokenizing the contents\n",
    "    token_params_1=token_params_1,              \n",
    "    # Dictionary with the parameters for filtering the n_grams\n",
    "    filter_params=filter_params,\n",
    "    # Threshold for tokens (only token which occure in more documents than in 20%)\n",
    "    cv_min_df = 0.1,                           \n",
    "    # Flag if the features should be selected or extracted\n",
    "    flag_extract_features=False,\n",
    "    # Path to already selected features       \n",
    "    path_to_features=path_selected_features,\n",
    "    # TFIDF / Text_length\n",
    "    normalization_type='')"
   ]
  },
  {
   "cell_type": "code",
   "execution_count": 5,
   "metadata": {},
   "outputs": [],
   "source": [
    "# Save the selected features\n",
    "with open(path_selected_features, 'w') as f:\n",
    "    json.dump(selected_features, f)"
   ]
  },
  {
   "cell_type": "markdown",
   "metadata": {},
   "source": [
    "## Feature Extraction"
   ]
  },
  {
   "cell_type": "code",
   "execution_count": 24,
   "metadata": {
    "ExecuteTime": {
     "end_time": "2018-12-09T11:49:48.518921Z",
     "start_time": "2018-12-09T11:49:48.512117Z"
    }
   },
   "outputs": [],
   "source": [
    "filter_params=set_filter_params((False,'',[]),(False,'',[]),(False,'',[]),(False,'',[]),(False,'',[]),(False,'',[]))"
   ]
  },
  {
   "cell_type": "markdown",
   "metadata": {},
   "source": [
    "### Calculating features on the entire text as a single sequence"
   ]
  },
  {
   "cell_type": "code",
   "execution_count": 18,
   "metadata": {
    "ExecuteTime": {
     "end_time": "2018-12-10T13:43:25.084885Z",
     "start_time": "2018-12-10T13:43:25.079717Z"
    }
   },
   "outputs": [],
   "source": [
    "# Import path selected features\n",
    "PATH_SEL_FEATURES = './Features/sel_features2018_12_08_23_53.txt'\n",
    "\n",
    "# Export path calculated features\n",
    "PATH_CALC_FEATURES = './Features/calc_features{0}.txt'.format(datetime.datetime.now().strftime(\"%Y_%m_%d_%H_%M\"))"
   ]
  },
  {
   "cell_type": "code",
   "execution_count": 28,
   "metadata": {
    "ExecuteTime": {
     "end_time": "2018-12-10T13:52:56.882581Z",
     "start_time": "2018-12-10T13:43:37.292746Z"
    }
   },
   "outputs": [],
   "source": [
    "# Extract features\n",
    "extracted_features = FEATURE_SELECTOR_v4.select_features(\n",
    "    # Contents\n",
    "    serie_texts=serie_texts,                          \n",
    "    # Dictionary with the features which should be calculated\n",
    "    features_to_calc=features_to_calc, \n",
    "    # Dictionary with the parameters for tokenizing the contents\n",
    "    token_params_1=token_params_1,              \n",
    "    # Dictionary with the parameters for filtering the n_grams\n",
    "    filter_params=filter_params,\n",
    "    # Threshold for tokens\n",
    "    cv_min_df = 0,                           \n",
    "    # Flag if the features should be selected or extracted\n",
    "    flag_extract_features=True,\n",
    "    # Path to already selected features       \n",
    "    path_to_features=PATH_SEL_FEATURES,    \n",
    "    # TFIDF / Text_length\n",
    "    normalization_type='')\n"
   ]
  },
  {
   "cell_type": "code",
   "execution_count": 29,
   "metadata": {
    "ExecuteTime": {
     "end_time": "2018-12-10T13:58:03.566403Z",
     "start_time": "2018-12-10T13:58:03.411009Z"
    }
   },
   "outputs": [
    {
     "name": "stdout",
     "output_type": "stream",
     "text": [
      "<class 'pandas.core.frame.DataFrame'>\n",
      "Int64Index: 11039 entries, 0 to 11038\n",
      "Columns: 1000 entries, avg_sent_len to TO VB NN\n",
      "dtypes: float64(1000)\n",
      "memory usage: 84.3 MB\n",
      "None\n"
     ]
    }
   ],
   "source": [
    "print(extracted_features.info())"
   ]
  },
  {
   "cell_type": "code",
   "execution_count": 30,
   "metadata": {
    "ExecuteTime": {
     "end_time": "2018-12-09T17:08:40.353551Z",
     "start_time": "2018-12-09T17:08:40.329145Z"
    }
   },
   "outputs": [
    {
     "name": "stdout",
     "output_type": "stream",
     "text": [
      "       avg_sent_len  avg_word_len  token_per_sent  vocabulary_richness  \\\n",
      "0        152.451613      5.599526       27.225806             0.430095   \n",
      "1        125.757576      5.592992       22.484848             0.443396   \n",
      "2        118.529412      5.394913       21.970588             0.398929   \n",
      "3        136.111111      5.861244       23.222222             0.474880   \n",
      "4        122.333333      5.841522       20.942029             0.361246   \n",
      "5        127.324324      5.717233       22.270270             0.484223   \n",
      "6        142.214286      5.721264       24.857143             0.517241   \n",
      "7        152.562500      5.953659       25.625000             0.565854   \n",
      "8        120.235294      5.636029       21.333333             0.415441   \n",
      "9        129.566667      6.102041       21.233333             0.489796   \n",
      "10       282.471429      6.144500       45.971429             0.284960   \n",
      "11       128.800000      5.916010       21.771429             0.489501   \n",
      "12       114.814286      5.423077       21.171429             0.314440   \n",
      "13       149.923077      5.870482       25.538462             0.611446   \n",
      "14       106.673077      5.832808       18.288462             0.414301   \n",
      "15       100.827586      5.778656       17.448276             0.511858   \n",
      "16       107.535714      5.652691       19.023810             0.347935   \n",
      "17       130.800000      5.650108       23.150000             0.488121   \n",
      "18        88.900000      6.006757       14.800000             0.702703   \n",
      "19       113.906250      5.794913       19.656250             0.457870   \n",
      "20       130.333333      5.894472       22.111111             0.698492   \n",
      "21       128.500000      6.119048       21.000000             0.785714   \n",
      "22       150.370370      5.927007       25.370370             0.534307   \n",
      "23       174.636364      5.803625       30.090909             0.512085   \n",
      "24       104.775862      5.818095       18.008621             0.316898   \n",
      "25       123.887850      5.628875       22.009346             0.319321   \n",
      "26       121.333333      5.571429       21.777778             0.429847   \n",
      "27       123.932203      5.807784       21.338983             0.378872   \n",
      "28       164.805556      5.713048       28.847222             0.347135   \n",
      "29       130.105263      5.857820       22.210526             0.495261   \n",
      "...             ...           ...             ...                  ...   \n",
      "11009    488.500000      5.747059       85.000000             0.564706   \n",
      "11010    115.250000      5.602431       20.571429             0.428819   \n",
      "11011    131.076923      5.978947       21.923077             0.505263   \n",
      "11012    146.277778      6.011416       24.333333             0.490868   \n",
      "11013    108.302521      5.733096       18.890756             0.277135   \n",
      "11014    133.450000      5.642706       23.650000             0.465116   \n",
      "11015    219.333333      6.419512       34.166667             0.517073   \n",
      "11016     92.833333      5.863158       15.833333             0.726316   \n",
      "11017    205.818182      5.709962       36.045455             0.359395   \n",
      "11018    125.847826      5.895112       21.347826             0.361507   \n",
      "11019    149.066667      6.092643       24.466667             0.577657   \n",
      "11020    178.000000      6.472727       27.500000             0.800000   \n",
      "11021    183.000000      5.718750       32.000000             0.812500   \n",
      "11022     62.826087      5.711462       11.000000             0.584980   \n",
      "11023    105.857143      5.529851       19.142857             0.619403   \n",
      "11024    129.666667      5.186667       25.000000             0.693333   \n",
      "11025    136.428571      5.520231       24.714286             0.601156   \n",
      "11026    208.000000      6.028986       34.500000             0.652174   \n",
      "11027    124.137931      5.353160       23.189655             0.322677   \n",
      "11028    109.660714      5.497762       19.946429             0.334825   \n",
      "11029    161.333333      5.627907       28.666667             0.697674   \n",
      "11030     88.750000      5.546875       16.000000             0.734375   \n",
      "11031    157.000000      6.038462       26.000000             0.750000   \n",
      "11032    133.250000      6.746835       19.750000             0.696203   \n",
      "11033    112.000000      5.654369       19.807692             0.520388   \n",
      "11034    121.000000      6.540541       18.500000             0.472973   \n",
      "11035    137.285714      6.240260       22.000000             0.681818   \n",
      "11036    136.555556      5.769953       23.666667             0.558685   \n",
      "11037    147.000000      7.350000       20.000000             0.900000   \n",
      "11038    119.032258      5.738725       20.741935             0.441680   \n",
      "\n",
      "              a     about     after       all      also        an    ...     \\\n",
      "0      0.035398  0.004425  0.006637  0.013274  0.006637  0.013274    ...      \n",
      "1      0.046322  0.002725  0.010899  0.005450  0.002725  0.002725    ...      \n",
      "2      0.074074  0.000000  0.009259  0.000000  0.002315  0.000000    ...      \n",
      "3      0.065375  0.007264  0.007264  0.000000  0.007264  0.007264    ...      \n",
      "4      0.059540  0.001353  0.004060  0.006766  0.002706  0.005413    ...      \n",
      "5      0.068235  0.011765  0.004706  0.000000  0.014118  0.014118    ...      \n",
      "6      0.041237  0.000000  0.015464  0.005155  0.010309  0.015464    ...      \n",
      "7      0.084906  0.004717  0.000000  0.004717  0.000000  0.028302    ...      \n",
      "8      0.049669  0.003311  0.014901  0.001656  0.000000  0.013245    ...      \n",
      "9      0.046729  0.000000  0.000000  0.006231  0.000000  0.012461    ...      \n",
      "10     0.052196  0.000637  0.008912  0.002546  0.001910  0.007638    ...      \n",
      "11     0.046832  0.000000  0.013774  0.000000  0.000000  0.008264    ...      \n",
      "12     0.038278  0.002392  0.001196  0.002392  0.003589  0.007177    ...      \n",
      "13     0.071823  0.000000  0.011050  0.000000  0.000000  0.005525    ...      \n",
      "14     0.056974  0.001965  0.003929  0.000000  0.003929  0.003929    ...      \n",
      "15     0.077206  0.000000  0.022059  0.000000  0.007353  0.014706    ...      \n",
      "16     0.065143  0.004571  0.005714  0.008000  0.004571  0.012571    ...      \n",
      "17     0.047809  0.007968  0.000000  0.000000  0.000000  0.003984    ...      \n",
      "18     0.070423  0.000000  0.014085  0.000000  0.000000  0.000000    ...      \n",
      "19     0.027190  0.000000  0.003021  0.003021  0.003021  0.009063    ...      \n",
      "20     0.062500  0.008929  0.000000  0.000000  0.008929  0.026786    ...      \n",
      "21     0.047619  0.000000  0.000000  0.000000  0.000000  0.000000    ...      \n",
      "22     0.067278  0.000000  0.003058  0.000000  0.000000  0.006116    ...      \n",
      "23     0.059172  0.000000  0.000000  0.002959  0.002959  0.029586    ...      \n",
      "24     0.043311  0.004812  0.007700  0.005775  0.003850  0.002887    ...      \n",
      "25     0.047078  0.001623  0.002435  0.001623  0.004870  0.009740    ...      \n",
      "26     0.051095  0.000000  0.002433  0.000000  0.000000  0.002433    ...      \n",
      "27     0.062400  0.001600  0.012800  0.001600  0.001600  0.006400    ...      \n",
      "28     0.052583  0.000923  0.008303  0.003690  0.003690  0.009225    ...      \n",
      "29     0.026087  0.004348  0.000000  0.004348  0.000000  0.026087    ...      \n",
      "...         ...       ...       ...       ...       ...       ...    ...      \n",
      "11009  0.103448  0.000000  0.011494  0.000000  0.022989  0.000000    ...      \n",
      "11010  0.079618  0.003185  0.015924  0.000000  0.006369  0.009554    ...      \n",
      "11011  0.028986  0.000000  0.000000  0.014493  0.000000  0.014493    ...      \n",
      "11012  0.069388  0.008163  0.004082  0.008163  0.000000  0.016327    ...      \n",
      "11013  0.037543  0.005119  0.001706  0.005119  0.004266  0.004266    ...      \n",
      "11014  0.054167  0.004167  0.008333  0.000000  0.000000  0.000000    ...      \n",
      "11015  0.049020  0.000000  0.000000  0.000000  0.000000  0.019608    ...      \n",
      "11016  0.107143  0.000000  0.000000  0.000000  0.000000  0.017857    ...      \n",
      "11017  0.037825  0.009456  0.002364  0.007092  0.004728  0.009456    ...      \n",
      "11018  0.040619  0.003868  0.011605  0.000000  0.005803  0.003868    ...      \n",
      "11019  0.055249  0.005525  0.005525  0.000000  0.000000  0.016575    ...      \n",
      "11020  0.033333  0.000000  0.000000  0.000000  0.000000  0.133333    ...      \n",
      "11021  0.000000  0.000000  0.052632  0.000000  0.000000  0.000000    ...      \n",
      "11022  0.015152  0.007576  0.000000  0.000000  0.000000  0.015152    ...      \n",
      "11023  0.056338  0.000000  0.000000  0.000000  0.000000  0.000000    ...      \n",
      "11024  0.065217  0.000000  0.000000  0.000000  0.000000  0.021739    ...      \n",
      "11025  0.132075  0.000000  0.028302  0.000000  0.000000  0.018868    ...      \n",
      "11026  0.024390  0.000000  0.000000  0.000000  0.000000  0.000000    ...      \n",
      "11027  0.029449  0.003841  0.007682  0.005122  0.002561  0.002561    ...      \n",
      "11028  0.028846  0.008013  0.012821  0.003205  0.000000  0.001603    ...      \n",
      "11029  0.021277  0.021277  0.021277  0.000000  0.000000  0.021277    ...      \n",
      "11030  0.000000  0.000000  0.023810  0.000000  0.000000  0.000000    ...      \n",
      "11031  0.000000  0.000000  0.000000  0.000000  0.038462  0.000000    ...      \n",
      "11032  0.090909  0.000000  0.030303  0.000000  0.000000  0.060606    ...      \n",
      "11033  0.055556  0.000000  0.011905  0.003968  0.000000  0.007937    ...      \n",
      "11034  0.200000  0.000000  0.000000  0.000000  0.000000  0.000000    ...      \n",
      "11035  0.025316  0.000000  0.000000  0.000000  0.000000  0.025316    ...      \n",
      "11036  0.042373  0.000000  0.000000  0.000000  0.008475  0.000000    ...      \n",
      "11037  0.000000  0.000000  0.000000  0.000000  0.000000  0.000000    ...      \n",
      "11038  0.044944  0.002809  0.008427  0.000000  0.002809  0.000000    ...      \n",
      "\n",
      "       NN CC NN  NN DT NN  NN IN DT  NN IN JJ  NN IN NN  NN MD VB  NN NN IN  \\\n",
      "0      0.038095  0.028571  0.114286  0.009524  0.038095  0.000000  0.019048   \n",
      "1      0.000000  0.022989  0.172414  0.000000  0.034483  0.022989  0.011494   \n",
      "2      0.019802  0.049505  0.118812  0.039604  0.029703  0.009901  0.039604   \n",
      "3      0.014599  0.014599  0.175182  0.021898  0.029197  0.000000  0.021898   \n",
      "4      0.014706  0.034314  0.156863  0.014706  0.034314  0.004902  0.034314   \n",
      "5      0.033898  0.000000  0.135593  0.033898  0.076271  0.000000  0.033898   \n",
      "6      0.027027  0.000000  0.135135  0.000000  0.027027  0.000000  0.000000   \n",
      "7      0.000000  0.068493  0.136986  0.000000  0.027397  0.000000  0.000000   \n",
      "8      0.017241  0.028736  0.091954  0.011494  0.040230  0.000000  0.017241   \n",
      "9      0.011236  0.022472  0.112360  0.022472  0.089888  0.000000  0.044944   \n",
      "10     0.016563  0.014493  0.149068  0.035197  0.041408  0.012422  0.012422   \n",
      "11     0.019802  0.009901  0.089109  0.019802  0.029703  0.000000  0.029703   \n",
      "12     0.053030  0.015152  0.128788  0.015152  0.022727  0.015152  0.022727   \n",
      "13     0.047619  0.000000  0.142857  0.047619  0.047619  0.000000  0.000000   \n",
      "14     0.035714  0.026786  0.098214  0.000000  0.053571  0.000000  0.035714   \n",
      "15     0.014706  0.029412  0.132353  0.058824  0.029412  0.000000  0.029412   \n",
      "16     0.017442  0.011628  0.116279  0.023256  0.046512  0.000000  0.017442   \n",
      "17     0.000000  0.000000  0.191176  0.000000  0.058824  0.000000  0.029412   \n",
      "18     0.000000  0.000000  0.066667  0.000000  0.066667  0.000000  0.000000   \n",
      "19     0.000000  0.040000  0.146667  0.013333  0.013333  0.013333  0.000000   \n",
      "20     0.043478  0.000000  0.130435  0.000000  0.043478  0.000000  0.000000   \n",
      "21     0.000000  0.000000  0.333333  0.000000  0.000000  0.000000  0.000000   \n",
      "22     0.009009  0.000000  0.108108  0.036036  0.027027  0.009009  0.036036   \n",
      "23     0.047170  0.047170  0.169811  0.009434  0.009434  0.000000  0.066038   \n",
      "24     0.005587  0.039106  0.150838  0.016760  0.022346  0.000000  0.005587   \n",
      "25     0.020270  0.023649  0.111486  0.013514  0.040541  0.003378  0.040541   \n",
      "26     0.000000  0.012658  0.113924  0.025316  0.012658  0.012658  0.037975   \n",
      "27     0.006098  0.024390  0.121951  0.018293  0.006098  0.006098  0.054878   \n",
      "28     0.009901  0.016502  0.141914  0.016502  0.049505  0.006601  0.056106   \n",
      "29     0.000000  0.000000  0.148649  0.027027  0.013514  0.000000  0.013514   \n",
      "...         ...       ...       ...       ...       ...       ...       ...   \n",
      "11009  0.000000  0.000000  0.176471  0.000000  0.000000  0.000000  0.000000   \n",
      "11010  0.000000  0.000000  0.151515  0.015152  0.015152  0.000000  0.060606   \n",
      "11011  0.023810  0.000000  0.095238  0.000000  0.047619  0.000000  0.000000   \n",
      "11012  0.000000  0.032609  0.163043  0.010870  0.000000  0.010870  0.021739   \n",
      "11013  0.032847  0.021898  0.116788  0.010949  0.021898  0.003650  0.018248   \n",
      "11014  0.000000  0.000000  0.128571  0.000000  0.028571  0.014286  0.014286   \n",
      "11015  0.016393  0.032787  0.131148  0.114754  0.032787  0.000000  0.016393   \n",
      "11016  0.000000  0.066667  0.133333  0.066667  0.066667  0.000000  0.000000   \n",
      "11017  0.000000  0.011236  0.213483  0.033708  0.000000  0.000000  0.011236   \n",
      "11018  0.021277  0.021277  0.074468  0.021277  0.042553  0.010638  0.053191   \n",
      "11019  0.018182  0.018182  0.127273  0.018182  0.000000  0.000000  0.018182   \n",
      "11020  0.000000  0.062500  0.187500  0.000000  0.000000  0.000000  0.062500   \n",
      "11021  0.000000  0.000000  0.000000  0.000000  0.000000  0.000000  0.200000   \n",
      "11022  0.000000  0.029412  0.147059  0.000000  0.000000  0.000000  0.029412   \n",
      "11023  0.000000  0.000000  0.083333  0.000000  0.083333  0.000000  0.000000   \n",
      "11024  0.200000  0.000000  0.200000  0.000000  0.000000  0.000000  0.000000   \n",
      "11025  0.000000  0.000000  0.166667  0.000000  0.000000  0.000000  0.033333   \n",
      "11026  0.000000  0.000000  0.000000  0.000000  0.000000  0.000000  0.000000   \n",
      "11027  0.031915  0.010638  0.138298  0.000000  0.021277  0.000000  0.021277   \n",
      "11028  0.028571  0.000000  0.100000  0.028571  0.000000  0.000000  0.014286   \n",
      "11029  0.000000  0.000000  0.100000  0.000000  0.000000  0.000000  0.100000   \n",
      "11030  0.000000  0.000000  0.000000  0.000000  0.000000  0.000000  0.000000   \n",
      "11031  0.000000  0.000000  0.071429  0.071429  0.000000  0.000000  0.214286   \n",
      "11032  0.000000  0.062500  0.125000  0.000000  0.000000  0.062500  0.000000   \n",
      "11033  0.016949  0.016949  0.118644  0.033898  0.016949  0.000000  0.033898   \n",
      "11034       NaN       NaN       NaN       NaN       NaN       NaN       NaN   \n",
      "11035  0.045455  0.045455  0.090909  0.045455  0.045455  0.000000  0.000000   \n",
      "11036  0.000000  0.028571  0.142857  0.028571  0.057143  0.000000  0.028571   \n",
      "11037  0.000000  0.000000  0.000000  0.000000  0.000000  0.000000  0.000000   \n",
      "11038  0.000000  0.015873  0.126984  0.015873  0.079365  0.000000  0.015873   \n",
      "\n",
      "       NN NN NN  NN TO VB  TO VB NN  \n",
      "0      0.009524  0.009524  0.000000  \n",
      "1      0.022989  0.022989  0.022989  \n",
      "2      0.009901  0.009901  0.000000  \n",
      "3      0.014599  0.043796  0.000000  \n",
      "4      0.009804  0.009804  0.014706  \n",
      "5      0.025424  0.033898  0.000000  \n",
      "6      0.000000  0.108108  0.054054  \n",
      "7      0.041096  0.041096  0.013699  \n",
      "8      0.011494  0.057471  0.022989  \n",
      "9      0.011236  0.022472  0.000000  \n",
      "10     0.004141  0.037267  0.008282  \n",
      "11     0.079208  0.029703  0.009901  \n",
      "12     0.007576  0.045455  0.030303  \n",
      "13     0.000000  0.071429  0.047619  \n",
      "14     0.017857  0.017857  0.008929  \n",
      "15     0.000000  0.014706  0.000000  \n",
      "16     0.017442  0.029070  0.017442  \n",
      "17     0.000000  0.029412  0.014706  \n",
      "18     0.000000  0.066667  0.000000  \n",
      "19     0.013333  0.093333  0.013333  \n",
      "20     0.000000  0.043478  0.043478  \n",
      "21     0.000000  0.166667  0.000000  \n",
      "22     0.036036  0.036036  0.018018  \n",
      "23     0.047170  0.018868  0.000000  \n",
      "24     0.000000  0.067039  0.005587  \n",
      "25     0.016892  0.050676  0.003378  \n",
      "26     0.012658  0.000000  0.012658  \n",
      "27     0.018293  0.054878  0.000000  \n",
      "28     0.039604  0.019802  0.006601  \n",
      "29     0.027027  0.040541  0.013514  \n",
      "...         ...       ...       ...  \n",
      "11009  0.000000  0.000000  0.000000  \n",
      "11010  0.000000  0.045455  0.000000  \n",
      "11011  0.000000  0.047619  0.000000  \n",
      "11012  0.043478  0.032609  0.000000  \n",
      "11013  0.021898  0.072993  0.018248  \n",
      "11014  0.057143  0.000000  0.014286  \n",
      "11015  0.000000  0.000000  0.000000  \n",
      "11016  0.000000  0.000000  0.000000  \n",
      "11017  0.000000  0.067416  0.000000  \n",
      "11018  0.031915  0.021277  0.021277  \n",
      "11019  0.000000  0.090909  0.000000  \n",
      "11020  0.062500  0.000000  0.000000  \n",
      "11021  0.000000  0.000000  0.000000  \n",
      "11022  0.058824  0.000000  0.000000  \n",
      "11023  0.000000  0.250000  0.000000  \n",
      "11024  0.000000  0.200000  0.000000  \n",
      "11025  0.000000  0.000000  0.000000  \n",
      "11026  0.000000  0.000000  0.000000  \n",
      "11027  0.000000  0.053191  0.042553  \n",
      "11028  0.000000  0.100000  0.014286  \n",
      "11029  0.000000  0.000000  0.000000  \n",
      "11030  0.000000  0.500000  0.000000  \n",
      "11031  0.000000  0.071429  0.000000  \n",
      "11032  0.000000  0.062500  0.000000  \n",
      "11033  0.000000  0.033898  0.000000  \n",
      "11034       NaN       NaN       NaN  \n",
      "11035  0.000000  0.045455  0.045455  \n",
      "11036  0.000000  0.085714  0.000000  \n",
      "11037  0.500000  0.000000  0.000000  \n",
      "11038  0.015873  0.031746  0.015873  \n",
      "\n",
      "[11039 rows x 1000 columns]\n"
     ]
    }
   ],
   "source": [
    "print(extracted_features)"
   ]
  },
  {
   "cell_type": "code",
   "execution_count": 203,
   "metadata": {
    "ExecuteTime": {
     "end_time": "2018-12-10T13:58:47.223120Z",
     "start_time": "2018-12-10T13:58:30.135499Z"
    }
   },
   "outputs": [],
   "source": [
    "# Save the calculated features\n",
    "extracted_features.to_csv(path_or_buf=PATH_CALC_FEATURES, sep=',', header=True, index=True)"
   ]
  },
  {
   "cell_type": "markdown",
   "metadata": {},
   "source": [
    "### Calculating features on sequences of each text"
   ]
  },
  {
   "cell_type": "code",
   "execution_count": 182,
   "metadata": {
    "ExecuteTime": {
     "end_time": "2018-12-09T18:31:46.120792Z",
     "start_time": "2018-12-09T18:31:46.113985Z"
    }
   },
   "outputs": [],
   "source": [
    "@memory.cache\n",
    "def sequences(s):\n",
    "    words = s.str.split()\n",
    "    words = pd.DataFrame(words.apply(np.array_split, indices_or_sections=4).tolist())\n",
    "    return words.applymap(lambda s: \" \".join(s) )"
   ]
  },
  {
   "cell_type": "code",
   "execution_count": 212,
   "metadata": {
    "ExecuteTime": {
     "end_time": "2018-12-12T16:00:27.940571Z",
     "start_time": "2018-12-12T16:00:27.531797Z"
    }
   },
   "outputs": [],
   "source": [
    "text_seqs = sequences(serie_texts)"
   ]
  },
  {
   "cell_type": "code",
   "execution_count": 213,
   "metadata": {
    "ExecuteTime": {
     "end_time": "2018-12-12T16:00:36.722294Z",
     "start_time": "2018-12-12T16:00:36.629510Z"
    }
   },
   "outputs": [
    {
     "data": {
      "text/html": [
       "<div>\n",
       "<style scoped>\n",
       "    .dataframe tbody tr th:only-of-type {\n",
       "        vertical-align: middle;\n",
       "    }\n",
       "\n",
       "    .dataframe tbody tr th {\n",
       "        vertical-align: top;\n",
       "    }\n",
       "\n",
       "    .dataframe thead th {\n",
       "        text-align: right;\n",
       "    }\n",
       "</style>\n",
       "<table border=\"1\" class=\"dataframe\">\n",
       "  <thead>\n",
       "    <tr style=\"text-align: right;\">\n",
       "      <th></th>\n",
       "      <th>0</th>\n",
       "      <th>1</th>\n",
       "      <th>2</th>\n",
       "      <th>3</th>\n",
       "    </tr>\n",
       "  </thead>\n",
       "  <tbody>\n",
       "    <tr>\n",
       "      <th>0</th>\n",
       "      <td>Money tells the story of, and is narrated by, ...</td>\n",
       "      <td>Frank, even when he is beaten by him while on ...</td>\n",
       "      <td>revealed to be Frank and responsible for the v...</td>\n",
       "      <td>\"Man, you are out for a whole lot of money.\" T...</td>\n",
       "    </tr>\n",
       "    <tr>\n",
       "      <th>1</th>\n",
       "      <td>The opening sentence says,\"The Pushcart War st...</td>\n",
       "      <td>shooters with pins in the peas so that everyon...</td>\n",
       "      <td>repair shop owner Maxie Hammerman, the \"Pushca...</td>\n",
       "      <td>\"cannot get a Happiness cake for his little bo...</td>\n",
       "    </tr>\n",
       "    <tr>\n",
       "      <th>2</th>\n",
       "      <td>Dug, a Mundane, is transported in to the magic...</td>\n",
       "      <td>town is being controlled under a horrible cens...</td>\n",
       "      <td>in order to escape. She then traveled to the W...</td>\n",
       "      <td>is asking him for help. The boy apologises and...</td>\n",
       "    </tr>\n",
       "    <tr>\n",
       "      <th>3</th>\n",
       "      <td>The term gilded age, commonly given to the era...</td>\n",
       "      <td>to persuade Congressmen to require the federal...</td>\n",
       "      <td>Beriah Sellers then also turned up, causing Tw...</td>\n",
       "      <td>broken, and she dies regretting her fall from ...</td>\n",
       "    </tr>\n",
       "    <tr>\n",
       "      <th>4</th>\n",
       "      <td>The residents of Tiamat are split into two cla...</td>\n",
       "      <td>a Tiamatan citizen, as the Hegemony forbids Ti...</td>\n",
       "      <td>had been destroyed by the Red Stripes, and the...</td>\n",
       "      <td>the church and Red Stripes Barracks. While ins...</td>\n",
       "    </tr>\n",
       "    <tr>\n",
       "      <th>5</th>\n",
       "      <td>India Opal Buloni is a 10-year-old girl who ha...</td>\n",
       "      <td>children think is a witch. She also meets a ma...</td>\n",
       "      <td>in Texas, and find an abandoned baby at a camp...</td>\n",
       "      <td>doctor, deduces that he has a history of rheum...</td>\n",
       "    </tr>\n",
       "    <tr>\n",
       "      <th>6</th>\n",
       "      <td>To be a Jedi is to safeguard peace in the gala...</td>\n",
       "      <td>of his own, Anakin Skywalker, whose secrets wi...</td>\n",
       "      <td>with the fantastical aspects presented by the ...</td>\n",
       "      <td>other due to their shared interest and, in the...</td>\n",
       "    </tr>\n",
       "    <tr>\n",
       "      <th>7</th>\n",
       "      <td>Crippled by a freak accident, Enterprise has c...</td>\n",
       "      <td>to cripple his ship once again. And even if he...</td>\n",
       "      <td>the Oort cloud, and taken to her ship, Perhone...</td>\n",
       "      <td>sharp detective. This case, however, exposes h...</td>\n",
       "    </tr>\n",
       "    <tr>\n",
       "      <th>8</th>\n",
       "      <td>It is the story of a young woman named Much Af...</td>\n",
       "      <td>same way at the first furtive cry of the forlo...</td>\n",
       "      <td>and television for comfort. By the age of 17, ...</td>\n",
       "      <td>she orchestrated their entire relationship aft...</td>\n",
       "    </tr>\n",
       "    <tr>\n",
       "      <th>9</th>\n",
       "      <td>From the hardcover jacket: \"It looks as though...</td>\n",
       "      <td>is overlooked. It says: RABBIT AS BIG AS ALSAT...</td>\n",
       "      <td>have struggled to rebuild the planet. The most...</td>\n",
       "      <td>touchy subject for Greater Brazil, which inter...</td>\n",
       "    </tr>\n",
       "    <tr>\n",
       "      <th>10</th>\n",
       "      <td>The plot of Permutation City follows the lives...</td>\n",
       "      <td>in psychiatric care and his callous experiment...</td>\n",
       "      <td>his Copy that such a TVC universe as it found ...</td>\n",
       "      <td>of the Autoverse on the grounds that a system ...</td>\n",
       "    </tr>\n",
       "    <tr>\n",
       "      <th>11</th>\n",
       "      <td>The story, narrated by the gigantic but docile...</td>\n",
       "      <td>do. The Chief opens up to McMurphy and reveals...</td>\n",
       "      <td>suicide by cutting his throat. Nurse Ratched b...</td>\n",
       "      <td>earlier, through a window, and escaping the ho...</td>\n",
       "    </tr>\n",
       "    <tr>\n",
       "      <th>12</th>\n",
       "      <td>Using alternating first-person perspectives, t...</td>\n",
       "      <td>in 1989, on her eighteenth birthday, during wh...</td>\n",
       "      <td>that if the Hork-Bajir is a Controller, the Ye...</td>\n",
       "      <td>at hand. When they make it to the Hork-Bajir h...</td>\n",
       "    </tr>\n",
       "    <tr>\n",
       "      <th>13</th>\n",
       "      <td>The story focuses on Nicole Gunther-Perrin, a ...</td>\n",
       "      <td>her ancient ancestors running a tavern in 2nd ...</td>\n",
       "      <td>against alcohol and corporal punishment. She s...</td>\n",
       "      <td>her working and family life. Not only have her...</td>\n",
       "    </tr>\n",
       "    <tr>\n",
       "      <th>14</th>\n",
       "      <td>The first section describes the Choosing of Ta...</td>\n",
       "      <td>Talia question her sanity. The torment is quie...</td>\n",
       "      <td>and final section of the book deals with Talia...</td>\n",
       "      <td>as the assassin Waylander the Slayer. Consumed...</td>\n",
       "    </tr>\n",
       "    <tr>\n",
       "      <th>15</th>\n",
       "      <td>Versory, a literary lecturer engaged in spread...</td>\n",
       "      <td>what she seems. And for that matter, Versory h...</td>\n",
       "      <td>with several levels: it is a romance, a tale o...</td>\n",
       "      <td>Eric. Branwyn takes Thomas home in defiance of...</td>\n",
       "    </tr>\n",
       "    <tr>\n",
       "      <th>16</th>\n",
       "      <td>Astrid Magnussen is a twelve-year-old girl liv...</td>\n",
       "      <td>Marvel are the parents of two small children. ...</td>\n",
       "      <td>intentionally chooses Rena over better prospec...</td>\n",
       "      <td>past that has made her who she is, and even he...</td>\n",
       "    </tr>\n",
       "    <tr>\n",
       "      <th>17</th>\n",
       "      <td>In 1377 England, a 13-year-old boy, known only...</td>\n",
       "      <td>cross that belonged to his mother, and reveals...</td>\n",
       "      <td>carries. Bear refuses to tell the illiterate C...</td>\n",
       "      <td>a father and son, the two travel towards the c...</td>\n",
       "    </tr>\n",
       "    <tr>\n",
       "      <th>18</th>\n",
       "      <td>After having a dark-side focused nightmare, An...</td>\n",
       "      <td>a similar quest. The independent Earth Colony ...</td>\n",
       "      <td>near-civil war. 'Realists' have abandoned Rans...</td>\n",
       "      <td>bunker, aliens who claim to be the planet's fi...</td>\n",
       "    </tr>\n",
       "    <tr>\n",
       "      <th>19</th>\n",
       "      <td>The Polypontian Empire has conquered much of t...</td>\n",
       "      <td>falls, the Empire will wipe out the Vampires n...</td>\n",
       "      <td>waged, which the allies believe will surely en...</td>\n",
       "      <td>victim of her captor lectoblix Torina. An unde...</td>\n",
       "    </tr>\n",
       "    <tr>\n",
       "      <th>20</th>\n",
       "      <td>Sir Gareth is a noted Corinthian and has been ...</td>\n",
       "      <td>soon meets a young, run-away girl and determin...</td>\n",
       "      <td>and more experienced man helping a young girl ...</td>\n",
       "      <td>without detection. One day while out riding he...</td>\n",
       "    </tr>\n",
       "    <tr>\n",
       "      <th>21</th>\n",
       "      <td>In Salem Village, Massachusetts, 1692, the Doc...</td>\n",
       "      <td>immeshed in the tragedy of the Salem witch tri...</td>\n",
       "      <td>and Mel must work through personal problems in...</td>\n",
       "      <td>defeat Kronos, a powerful being seeking reveng...</td>\n",
       "    </tr>\n",
       "    <tr>\n",
       "      <th>22</th>\n",
       "      <td>When the galaxy's most skilled hunter is asked...</td>\n",
       "      <td>an ecological collapse has rendered North Amer...</td>\n",
       "      <td>massive drought began east of the Rocky Mounta...</td>\n",
       "      <td>survivors from the previous expedition thirty ...</td>\n",
       "    </tr>\n",
       "    <tr>\n",
       "      <th>23</th>\n",
       "      <td>Set in the year 2031, Heavy Weather depicts a ...</td>\n",
       "      <td>solar system where he has been stationed for t...</td>\n",
       "      <td>past two decades consumed in a violent civil w...</td>\n",
       "      <td>aboard the Willow was costumed as the Admiral ...</td>\n",
       "    </tr>\n",
       "    <tr>\n",
       "      <th>24</th>\n",
       "      <td>The book's first three movements consist of th...</td>\n",
       "      <td>Gonff himself. All three tell a similar accoun...</td>\n",
       "      <td>Gonfelins, who are descendents of Gonff and th...</td>\n",
       "      <td>clue frequently cites \"Friar's Grace\" which tu...</td>\n",
       "    </tr>\n",
       "    <tr>\n",
       "      <th>25</th>\n",
       "      <td>Events are listed here not in chronological or...</td>\n",
       "      <td>bard, Gweran’s life is sacrosanct. Tanyc is ha...</td>\n",
       "      <td>when Zorak points out the approaching tree bol...</td>\n",
       "      <td>one of the kraan guards tries to stab him (wit...</td>\n",
       "    </tr>\n",
       "    <tr>\n",
       "      <th>26</th>\n",
       "      <td>Stolen as a child and raised in the wood of Ev...</td>\n",
       "      <td>of letting Day Watch catch the criminals they ...</td>\n",
       "      <td>reacquainted with Dale Rowan, a banker who hel...</td>\n",
       "      <td>to flee once more. This time, Beka goes to Nes...</td>\n",
       "    </tr>\n",
       "    <tr>\n",
       "      <th>27</th>\n",
       "      <td>The book opens with Captain Jack Aubrey and hi...</td>\n",
       "      <td>the British could have sent a squadron to oppo...</td>\n",
       "      <td>position as Commander-in-Chief, appoints Jack ...</td>\n",
       "      <td>pillaged with its population massacred. Loot i...</td>\n",
       "    </tr>\n",
       "    <tr>\n",
       "      <th>28</th>\n",
       "      <td>The Golden Globe and Steel Beach take place in...</td>\n",
       "      <td>on a Monopoly Pub Crawl in London, Dave Lister...</td>\n",
       "      <td>was ill when he found her and refuses to revea...</td>\n",
       "      <td>which had been on a mission to advertise a pop...</td>\n",
       "    </tr>\n",
       "    <tr>\n",
       "      <th>29</th>\n",
       "      <td>Extinction takes the form of the autobiographi...</td>\n",
       "      <td>tutor in Rome. In the first half of the novel,...</td>\n",
       "      <td>in this role of unjustified absolution. To Gam...</td>\n",
       "      <td>write his Extinction. Daluyong begins where Fr...</td>\n",
       "    </tr>\n",
       "    <tr>\n",
       "      <th>...</th>\n",
       "      <td>...</td>\n",
       "      <td>...</td>\n",
       "      <td>...</td>\n",
       "      <td>...</td>\n",
       "    </tr>\n",
       "    <tr>\n",
       "      <th>11009</th>\n",
       "      <td>The Demigod Diaries contains four new stories ...</td>\n",
       "      <td>character in the first story), puzzles, and a ...</td>\n",
       "      <td>given by Hermes regarding his staff which happ...</td>\n",
       "      <td>between The Lost Hero and The Son of Neptune I...</td>\n",
       "    </tr>\n",
       "    <tr>\n",
       "      <th>11010</th>\n",
       "      <td>The novel begins as Sukartono (Tono), a Dutch-...</td>\n",
       "      <td>childhood, begins seducing him, and after a wh...</td>\n",
       "      <td>proper wife for him; Yah, however, does not co...</td>\n",
       "      <td>back, Tini refuses. Tini discovers that Tono h...</td>\n",
       "    </tr>\n",
       "    <tr>\n",
       "      <th>11011</th>\n",
       "      <td>Inspector Hans Bärlach, at the end of his care...</td>\n",
       "      <td>suicide in Chile in 1945. Hungertobel explains...</td>\n",
       "      <td>In the morning, Bärlach is convinced that Dr E...</td>\n",
       "      <td>cancer has weakened him and he loses all contr...</td>\n",
       "    </tr>\n",
       "    <tr>\n",
       "      <th>11012</th>\n",
       "      <td>\"Who Killed Zebedee?,\" opens with a direct add...</td>\n",
       "      <td>intoxicated, they eventually visit the boardin...</td>\n",
       "      <td>a young woman who had murdered her husband in ...</td>\n",
       "      <td>and unable to afford a marriage. The constable...</td>\n",
       "    </tr>\n",
       "    <tr>\n",
       "      <th>11013</th>\n",
       "      <td>The story begins in the year 1463 DR with a me...</td>\n",
       "      <td>and Arunika will grant it to him if he can fin...</td>\n",
       "      <td>three. Drizzt manages to summon Guenhwyvar who...</td>\n",
       "      <td>convince the drow that they are agents of Jarl...</td>\n",
       "    </tr>\n",
       "    <tr>\n",
       "      <th>11014</th>\n",
       "      <td>The novella tells the story of Hauke Haien, al...</td>\n",
       "      <td>He soon becomes a great help for Volkerts, whi...</td>\n",
       "      <td>which they believe is a resurrected skeleton t...</td>\n",
       "      <td>has saved many lives in the hundred years sinc...</td>\n",
       "    </tr>\n",
       "    <tr>\n",
       "      <th>11015</th>\n",
       "      <td>The eponymous paradox of democracy that this c...</td>\n",
       "      <td>Radical Democracy as a means for continuing to...</td>\n",
       "      <td>both Habermas and Rawls, as it contradicts Hab...</td>\n",
       "      <td>agonistic form, in which opponents will treat ...</td>\n",
       "    </tr>\n",
       "    <tr>\n",
       "      <th>11016</th>\n",
       "      <td>The book depicts a schoolboy who gains magic p...</td>\n",
       "      <td>becomes dissatisfied with himself, and leaves ...</td>\n",
       "      <td>girl who uses her magical power for good. Toge...</td>\n",
       "      <td>book contains some gaps, including one of the ...</td>\n",
       "    </tr>\n",
       "    <tr>\n",
       "      <th>11017</th>\n",
       "      <td>The Gzilt, a civilisation that almost joined t...</td>\n",
       "      <td>ships to both wish the Gzilt well, as they hav...</td>\n",
       "      <td>destroy the 14th Regiment, which he gives. It ...</td>\n",
       "      <td>sublime. Cossont arrives at the Last Party and...</td>\n",
       "    </tr>\n",
       "    <tr>\n",
       "      <th>11018</th>\n",
       "      <td>Fifty Shades of Grey follows Anastasia \"Ana\" S...</td>\n",
       "      <td>Ana, especially after he pulls her out of the ...</td>\n",
       "      <td>to a room full of BDSM toys and gear. There Ch...</td>\n",
       "      <td>only eating foods from a specific list. Ana la...</td>\n",
       "    </tr>\n",
       "    <tr>\n",
       "      <th>11019</th>\n",
       "      <td>The novel is split into seven parts, the first...</td>\n",
       "      <td>are standing for election decide to make damag...</td>\n",
       "      <td>on him for costing his father his job, Andrew ...</td>\n",
       "      <td>for Terri to stop her drug-use and take respon...</td>\n",
       "    </tr>\n",
       "    <tr>\n",
       "      <th>11020</th>\n",
       "      <td>The book follows several characters as they de...</td>\n",
       "      <td>microscopic level. The narration is primarily ...</td>\n",
       "      <td>player with an anger problem, and Margaret Mon...</td>\n",
       "      <td>that is investigating a strange disease that t...</td>\n",
       "    </tr>\n",
       "    <tr>\n",
       "      <th>11021</th>\n",
       "      <td>The novel is set in the country-side</td>\n",
       "      <td>around Lamotte-Beuvron and Brinon-sur-Sauldre,...</td>\n",
       "      <td>the relationship between landowners and poor p...</td>\n",
       "      <td>in the years after World War I.</td>\n",
       "    </tr>\n",
       "    <tr>\n",
       "      <th>11022</th>\n",
       "      <td>The book is about a federal judge's murder and...</td>\n",
       "      <td>Judge Raymond Fawcett has just become number f...</td>\n",
       "      <td>his sleeve. He knows who killed Judge Fawcett,...</td>\n",
       "      <td>Malcolm Bannister would love to tell them. But...</td>\n",
       "    </tr>\n",
       "    <tr>\n",
       "      <th>11023</th>\n",
       "      <td>Bring Up the Bodies begins where the previous ...</td>\n",
       "      <td>Jane Seymour, and begins to fall in love with ...</td>\n",
       "      <td>a way to be rid of her, and marry the new obje...</td>\n",
       "      <td>other, as Cromwell seeks to find a legitimate ...</td>\n",
       "    </tr>\n",
       "    <tr>\n",
       "      <th>11024</th>\n",
       "      <td>The book follows Nora and Patch, a teenaged gi...</td>\n",
       "      <td>other. As Patch is a fallen angel, their relat...</td>\n",
       "      <td>destiny means that the two of them should be e...</td>\n",
       "      <td>grow larger and more numerous, the two must fi...</td>\n",
       "    </tr>\n",
       "    <tr>\n",
       "      <th>11025</th>\n",
       "      <td>The novel is a frame narrative: a writer named...</td>\n",
       "      <td>affair with a woman named Christine, with whom...</td>\n",
       "      <td>Laurens and has sex with him in Christine's be...</td>\n",
       "      <td>dream he had comes to mind, in which an old ma...</td>\n",
       "    </tr>\n",
       "    <tr>\n",
       "      <th>11026</th>\n",
       "      <td>The Family focuses on three brothers from the ...</td>\n",
       "      <td>the oppressive autocracy of their feudalistic ...</td>\n",
       "      <td>main protagonist, and he is frequently contras...</td>\n",
       "      <td>the demands from his grandfather and carries o...</td>\n",
       "    </tr>\n",
       "    <tr>\n",
       "      <th>11027</th>\n",
       "      <td>Heaven Leigh Casteel is a fourteen year old gi...</td>\n",
       "      <td>that the younger sister, Fanny, is much more s...</td>\n",
       "      <td>this means that Cal loves her. She gives in, p...</td>\n",
       "      <td>she walks back into town, Heaven goes to the h...</td>\n",
       "    </tr>\n",
       "    <tr>\n",
       "      <th>11028</th>\n",
       "      <td>After the events of Heaven (the first book in ...</td>\n",
       "      <td>reveals that she was forced to give her baby, ...</td>\n",
       "      <td>partly due to thinking Heaven abandoned him. H...</td>\n",
       "      <td>have them back in her life. After some traveli...</td>\n",
       "    </tr>\n",
       "    <tr>\n",
       "      <th>11029</th>\n",
       "      <td>A novel about Annie Stonewall, the daughter of...</td>\n",
       "      <td>Annie's father except Heaven). After being orp...</td>\n",
       "      <td>was her father, Tony Tatterton steps in and ta...</td>\n",
       "      <td>not keep Annie's best interests at heart since...</td>\n",
       "    </tr>\n",
       "    <tr>\n",
       "      <th>11030</th>\n",
       "      <td>After Mickey Bolitar moves in with his uncle, ...</td>\n",
       "      <td>he will stop at nothing to find her. The book ...</td>\n",
       "      <td>of his neighbours house. The women living ther...</td>\n",
       "      <td>is alive. Mickey believes the lady is crazy be...</td>\n",
       "    </tr>\n",
       "    <tr>\n",
       "      <th>11031</th>\n",
       "      <td>Stephanie Harrington and her treecat, Climbs Q...</td>\n",
       "      <td>the dangerous fire season on Stephanie's new h...</td>\n",
       "      <td>also contend with those who wish to use the fi...</td>\n",
       "      <td>advantage to destroy the treecats and free the...</td>\n",
       "    </tr>\n",
       "    <tr>\n",
       "      <th>11032</th>\n",
       "      <td>The Birth of Plenty is an history of the world...</td>\n",
       "      <td>prosper, a country must possess four main attr...</td>\n",
       "      <td>establishing these as the basic requirements f...</td>\n",
       "      <td>both with and without these attributes. Bernst...</td>\n",
       "    </tr>\n",
       "    <tr>\n",
       "      <th>11033</th>\n",
       "      <td>Set during the summer of 2004, the novel' main...</td>\n",
       "      <td>little bit wrong, the mother is rushed to the ...</td>\n",
       "      <td>He is involved with his former co-star Valetta...</td>\n",
       "      <td>last straw in Gwen's strained relationship wit...</td>\n",
       "    </tr>\n",
       "    <tr>\n",
       "      <th>11034</th>\n",
       "      <td>{| class=\"wikitable\" |- !Seasons covered !Book...</td>\n",
       "      <td>|9–10 |The Simpsons Forever!: A Complete Guide...</td>\n",
       "      <td>Complete Guide to Our Favorite Family ...Still...</td>\n",
       "      <td>to Our Favorite Family ...Continued Yet Again ...</td>\n",
       "    </tr>\n",
       "    <tr>\n",
       "      <th>11035</th>\n",
       "      <td>Prue McKeel, having rescued her brother from t...</td>\n",
       "      <td>increasingly bored with her studies. Meanwhile...</td>\n",
       "      <td>are lurking in the forest's shadows, their int...</td>\n",
       "      <td>Impassable Wilderness and teams up with her fr...</td>\n",
       "    </tr>\n",
       "    <tr>\n",
       "      <th>11036</th>\n",
       "      <td>The reader first meets Rapp while he is doing ...</td>\n",
       "      <td>happens to be the day where the terrorist, usi...</td>\n",
       "      <td>career being lenient towards the terrorist dem...</td>\n",
       "      <td>time that several Navy SEAL's who sneak into t...</td>\n",
       "    </tr>\n",
       "    <tr>\n",
       "      <th>11037</th>\n",
       "      <td>Colbert addresses topics including Wall</td>\n",
       "      <td>Street, campaign finance, energy policy,</td>\n",
       "      <td>eating on the campaign trail,</td>\n",
       "      <td>and the United States Constitution.</td>\n",
       "    </tr>\n",
       "    <tr>\n",
       "      <th>11038</th>\n",
       "      <td>Makar Devushkin and Varvara Dobroselova are se...</td>\n",
       "      <td>drunken father occasionally visits. She eventu...</td>\n",
       "      <td>are perhaps worse than Dobroselova's. He consi...</td>\n",
       "      <td>even the writer Ratazyayev, who was using him ...</td>\n",
       "    </tr>\n",
       "  </tbody>\n",
       "</table>\n",
       "<p>11039 rows × 4 columns</p>\n",
       "</div>"
      ],
      "text/plain": [
       "                                                       0  \\\n",
       "0      Money tells the story of, and is narrated by, ...   \n",
       "1      The opening sentence says,\"The Pushcart War st...   \n",
       "2      Dug, a Mundane, is transported in to the magic...   \n",
       "3      The term gilded age, commonly given to the era...   \n",
       "4      The residents of Tiamat are split into two cla...   \n",
       "5      India Opal Buloni is a 10-year-old girl who ha...   \n",
       "6      To be a Jedi is to safeguard peace in the gala...   \n",
       "7      Crippled by a freak accident, Enterprise has c...   \n",
       "8      It is the story of a young woman named Much Af...   \n",
       "9      From the hardcover jacket: \"It looks as though...   \n",
       "10     The plot of Permutation City follows the lives...   \n",
       "11     The story, narrated by the gigantic but docile...   \n",
       "12     Using alternating first-person perspectives, t...   \n",
       "13     The story focuses on Nicole Gunther-Perrin, a ...   \n",
       "14     The first section describes the Choosing of Ta...   \n",
       "15     Versory, a literary lecturer engaged in spread...   \n",
       "16     Astrid Magnussen is a twelve-year-old girl liv...   \n",
       "17     In 1377 England, a 13-year-old boy, known only...   \n",
       "18     After having a dark-side focused nightmare, An...   \n",
       "19     The Polypontian Empire has conquered much of t...   \n",
       "20     Sir Gareth is a noted Corinthian and has been ...   \n",
       "21     In Salem Village, Massachusetts, 1692, the Doc...   \n",
       "22     When the galaxy's most skilled hunter is asked...   \n",
       "23     Set in the year 2031, Heavy Weather depicts a ...   \n",
       "24     The book's first three movements consist of th...   \n",
       "25     Events are listed here not in chronological or...   \n",
       "26     Stolen as a child and raised in the wood of Ev...   \n",
       "27     The book opens with Captain Jack Aubrey and hi...   \n",
       "28     The Golden Globe and Steel Beach take place in...   \n",
       "29     Extinction takes the form of the autobiographi...   \n",
       "...                                                  ...   \n",
       "11009  The Demigod Diaries contains four new stories ...   \n",
       "11010  The novel begins as Sukartono (Tono), a Dutch-...   \n",
       "11011  Inspector Hans Bärlach, at the end of his care...   \n",
       "11012  \"Who Killed Zebedee?,\" opens with a direct add...   \n",
       "11013  The story begins in the year 1463 DR with a me...   \n",
       "11014  The novella tells the story of Hauke Haien, al...   \n",
       "11015  The eponymous paradox of democracy that this c...   \n",
       "11016  The book depicts a schoolboy who gains magic p...   \n",
       "11017  The Gzilt, a civilisation that almost joined t...   \n",
       "11018  Fifty Shades of Grey follows Anastasia \"Ana\" S...   \n",
       "11019  The novel is split into seven parts, the first...   \n",
       "11020  The book follows several characters as they de...   \n",
       "11021               The novel is set in the country-side   \n",
       "11022  The book is about a federal judge's murder and...   \n",
       "11023  Bring Up the Bodies begins where the previous ...   \n",
       "11024  The book follows Nora and Patch, a teenaged gi...   \n",
       "11025  The novel is a frame narrative: a writer named...   \n",
       "11026  The Family focuses on three brothers from the ...   \n",
       "11027  Heaven Leigh Casteel is a fourteen year old gi...   \n",
       "11028  After the events of Heaven (the first book in ...   \n",
       "11029  A novel about Annie Stonewall, the daughter of...   \n",
       "11030  After Mickey Bolitar moves in with his uncle, ...   \n",
       "11031  Stephanie Harrington and her treecat, Climbs Q...   \n",
       "11032  The Birth of Plenty is an history of the world...   \n",
       "11033  Set during the summer of 2004, the novel' main...   \n",
       "11034  {| class=\"wikitable\" |- !Seasons covered !Book...   \n",
       "11035  Prue McKeel, having rescued her brother from t...   \n",
       "11036  The reader first meets Rapp while he is doing ...   \n",
       "11037            Colbert addresses topics including Wall   \n",
       "11038  Makar Devushkin and Varvara Dobroselova are se...   \n",
       "\n",
       "                                                       1  \\\n",
       "0      Frank, even when he is beaten by him while on ...   \n",
       "1      shooters with pins in the peas so that everyon...   \n",
       "2      town is being controlled under a horrible cens...   \n",
       "3      to persuade Congressmen to require the federal...   \n",
       "4      a Tiamatan citizen, as the Hegemony forbids Ti...   \n",
       "5      children think is a witch. She also meets a ma...   \n",
       "6      of his own, Anakin Skywalker, whose secrets wi...   \n",
       "7      to cripple his ship once again. And even if he...   \n",
       "8      same way at the first furtive cry of the forlo...   \n",
       "9      is overlooked. It says: RABBIT AS BIG AS ALSAT...   \n",
       "10     in psychiatric care and his callous experiment...   \n",
       "11     do. The Chief opens up to McMurphy and reveals...   \n",
       "12     in 1989, on her eighteenth birthday, during wh...   \n",
       "13     her ancient ancestors running a tavern in 2nd ...   \n",
       "14     Talia question her sanity. The torment is quie...   \n",
       "15     what she seems. And for that matter, Versory h...   \n",
       "16     Marvel are the parents of two small children. ...   \n",
       "17     cross that belonged to his mother, and reveals...   \n",
       "18     a similar quest. The independent Earth Colony ...   \n",
       "19     falls, the Empire will wipe out the Vampires n...   \n",
       "20     soon meets a young, run-away girl and determin...   \n",
       "21     immeshed in the tragedy of the Salem witch tri...   \n",
       "22     an ecological collapse has rendered North Amer...   \n",
       "23     solar system where he has been stationed for t...   \n",
       "24     Gonff himself. All three tell a similar accoun...   \n",
       "25     bard, Gweran’s life is sacrosanct. Tanyc is ha...   \n",
       "26     of letting Day Watch catch the criminals they ...   \n",
       "27     the British could have sent a squadron to oppo...   \n",
       "28     on a Monopoly Pub Crawl in London, Dave Lister...   \n",
       "29     tutor in Rome. In the first half of the novel,...   \n",
       "...                                                  ...   \n",
       "11009  character in the first story), puzzles, and a ...   \n",
       "11010  childhood, begins seducing him, and after a wh...   \n",
       "11011  suicide in Chile in 1945. Hungertobel explains...   \n",
       "11012  intoxicated, they eventually visit the boardin...   \n",
       "11013  and Arunika will grant it to him if he can fin...   \n",
       "11014  He soon becomes a great help for Volkerts, whi...   \n",
       "11015  Radical Democracy as a means for continuing to...   \n",
       "11016  becomes dissatisfied with himself, and leaves ...   \n",
       "11017  ships to both wish the Gzilt well, as they hav...   \n",
       "11018  Ana, especially after he pulls her out of the ...   \n",
       "11019  are standing for election decide to make damag...   \n",
       "11020  microscopic level. The narration is primarily ...   \n",
       "11021  around Lamotte-Beuvron and Brinon-sur-Sauldre,...   \n",
       "11022  Judge Raymond Fawcett has just become number f...   \n",
       "11023  Jane Seymour, and begins to fall in love with ...   \n",
       "11024  other. As Patch is a fallen angel, their relat...   \n",
       "11025  affair with a woman named Christine, with whom...   \n",
       "11026  the oppressive autocracy of their feudalistic ...   \n",
       "11027  that the younger sister, Fanny, is much more s...   \n",
       "11028  reveals that she was forced to give her baby, ...   \n",
       "11029  Annie's father except Heaven). After being orp...   \n",
       "11030  he will stop at nothing to find her. The book ...   \n",
       "11031  the dangerous fire season on Stephanie's new h...   \n",
       "11032  prosper, a country must possess four main attr...   \n",
       "11033  little bit wrong, the mother is rushed to the ...   \n",
       "11034  |9–10 |The Simpsons Forever!: A Complete Guide...   \n",
       "11035  increasingly bored with her studies. Meanwhile...   \n",
       "11036  happens to be the day where the terrorist, usi...   \n",
       "11037           Street, campaign finance, energy policy,   \n",
       "11038  drunken father occasionally visits. She eventu...   \n",
       "\n",
       "                                                       2  \\\n",
       "0      revealed to be Frank and responsible for the v...   \n",
       "1      repair shop owner Maxie Hammerman, the \"Pushca...   \n",
       "2      in order to escape. She then traveled to the W...   \n",
       "3      Beriah Sellers then also turned up, causing Tw...   \n",
       "4      had been destroyed by the Red Stripes, and the...   \n",
       "5      in Texas, and find an abandoned baby at a camp...   \n",
       "6      with the fantastical aspects presented by the ...   \n",
       "7      the Oort cloud, and taken to her ship, Perhone...   \n",
       "8      and television for comfort. By the age of 17, ...   \n",
       "9      have struggled to rebuild the planet. The most...   \n",
       "10     his Copy that such a TVC universe as it found ...   \n",
       "11     suicide by cutting his throat. Nurse Ratched b...   \n",
       "12     that if the Hork-Bajir is a Controller, the Ye...   \n",
       "13     against alcohol and corporal punishment. She s...   \n",
       "14     and final section of the book deals with Talia...   \n",
       "15     with several levels: it is a romance, a tale o...   \n",
       "16     intentionally chooses Rena over better prospec...   \n",
       "17     carries. Bear refuses to tell the illiterate C...   \n",
       "18     near-civil war. 'Realists' have abandoned Rans...   \n",
       "19     waged, which the allies believe will surely en...   \n",
       "20     and more experienced man helping a young girl ...   \n",
       "21     and Mel must work through personal problems in...   \n",
       "22     massive drought began east of the Rocky Mounta...   \n",
       "23     past two decades consumed in a violent civil w...   \n",
       "24     Gonfelins, who are descendents of Gonff and th...   \n",
       "25     when Zorak points out the approaching tree bol...   \n",
       "26     reacquainted with Dale Rowan, a banker who hel...   \n",
       "27     position as Commander-in-Chief, appoints Jack ...   \n",
       "28     was ill when he found her and refuses to revea...   \n",
       "29     in this role of unjustified absolution. To Gam...   \n",
       "...                                                  ...   \n",
       "11009  given by Hermes regarding his staff which happ...   \n",
       "11010  proper wife for him; Yah, however, does not co...   \n",
       "11011  In the morning, Bärlach is convinced that Dr E...   \n",
       "11012  a young woman who had murdered her husband in ...   \n",
       "11013  three. Drizzt manages to summon Guenhwyvar who...   \n",
       "11014  which they believe is a resurrected skeleton t...   \n",
       "11015  both Habermas and Rawls, as it contradicts Hab...   \n",
       "11016  girl who uses her magical power for good. Toge...   \n",
       "11017  destroy the 14th Regiment, which he gives. It ...   \n",
       "11018  to a room full of BDSM toys and gear. There Ch...   \n",
       "11019  on him for costing his father his job, Andrew ...   \n",
       "11020  player with an anger problem, and Margaret Mon...   \n",
       "11021  the relationship between landowners and poor p...   \n",
       "11022  his sleeve. He knows who killed Judge Fawcett,...   \n",
       "11023  a way to be rid of her, and marry the new obje...   \n",
       "11024  destiny means that the two of them should be e...   \n",
       "11025  Laurens and has sex with him in Christine's be...   \n",
       "11026  main protagonist, and he is frequently contras...   \n",
       "11027  this means that Cal loves her. She gives in, p...   \n",
       "11028  partly due to thinking Heaven abandoned him. H...   \n",
       "11029  was her father, Tony Tatterton steps in and ta...   \n",
       "11030  of his neighbours house. The women living ther...   \n",
       "11031  also contend with those who wish to use the fi...   \n",
       "11032  establishing these as the basic requirements f...   \n",
       "11033  He is involved with his former co-star Valetta...   \n",
       "11034  Complete Guide to Our Favorite Family ...Still...   \n",
       "11035  are lurking in the forest's shadows, their int...   \n",
       "11036  career being lenient towards the terrorist dem...   \n",
       "11037                      eating on the campaign trail,   \n",
       "11038  are perhaps worse than Dobroselova's. He consi...   \n",
       "\n",
       "                                                       3  \n",
       "0      \"Man, you are out for a whole lot of money.\" T...  \n",
       "1      \"cannot get a Happiness cake for his little bo...  \n",
       "2      is asking him for help. The boy apologises and...  \n",
       "3      broken, and she dies regretting her fall from ...  \n",
       "4      the church and Red Stripes Barracks. While ins...  \n",
       "5      doctor, deduces that he has a history of rheum...  \n",
       "6      other due to their shared interest and, in the...  \n",
       "7      sharp detective. This case, however, exposes h...  \n",
       "8      she orchestrated their entire relationship aft...  \n",
       "9      touchy subject for Greater Brazil, which inter...  \n",
       "10     of the Autoverse on the grounds that a system ...  \n",
       "11     earlier, through a window, and escaping the ho...  \n",
       "12     at hand. When they make it to the Hork-Bajir h...  \n",
       "13     her working and family life. Not only have her...  \n",
       "14     as the assassin Waylander the Slayer. Consumed...  \n",
       "15     Eric. Branwyn takes Thomas home in defiance of...  \n",
       "16     past that has made her who she is, and even he...  \n",
       "17     a father and son, the two travel towards the c...  \n",
       "18     bunker, aliens who claim to be the planet's fi...  \n",
       "19     victim of her captor lectoblix Torina. An unde...  \n",
       "20     without detection. One day while out riding he...  \n",
       "21     defeat Kronos, a powerful being seeking reveng...  \n",
       "22     survivors from the previous expedition thirty ...  \n",
       "23     aboard the Willow was costumed as the Admiral ...  \n",
       "24     clue frequently cites \"Friar's Grace\" which tu...  \n",
       "25     one of the kraan guards tries to stab him (wit...  \n",
       "26     to flee once more. This time, Beka goes to Nes...  \n",
       "27     pillaged with its population massacred. Loot i...  \n",
       "28     which had been on a mission to advertise a pop...  \n",
       "29     write his Extinction. Daluyong begins where Fr...  \n",
       "...                                                  ...  \n",
       "11009  between The Lost Hero and The Son of Neptune I...  \n",
       "11010  back, Tini refuses. Tini discovers that Tono h...  \n",
       "11011  cancer has weakened him and he loses all contr...  \n",
       "11012  and unable to afford a marriage. The constable...  \n",
       "11013  convince the drow that they are agents of Jarl...  \n",
       "11014  has saved many lives in the hundred years sinc...  \n",
       "11015  agonistic form, in which opponents will treat ...  \n",
       "11016  book contains some gaps, including one of the ...  \n",
       "11017  sublime. Cossont arrives at the Last Party and...  \n",
       "11018  only eating foods from a specific list. Ana la...  \n",
       "11019  for Terri to stop her drug-use and take respon...  \n",
       "11020  that is investigating a strange disease that t...  \n",
       "11021                    in the years after World War I.  \n",
       "11022  Malcolm Bannister would love to tell them. But...  \n",
       "11023  other, as Cromwell seeks to find a legitimate ...  \n",
       "11024  grow larger and more numerous, the two must fi...  \n",
       "11025  dream he had comes to mind, in which an old ma...  \n",
       "11026  the demands from his grandfather and carries o...  \n",
       "11027  she walks back into town, Heaven goes to the h...  \n",
       "11028  have them back in her life. After some traveli...  \n",
       "11029  not keep Annie's best interests at heart since...  \n",
       "11030  is alive. Mickey believes the lady is crazy be...  \n",
       "11031  advantage to destroy the treecats and free the...  \n",
       "11032  both with and without these attributes. Bernst...  \n",
       "11033  last straw in Gwen's strained relationship wit...  \n",
       "11034  to Our Favorite Family ...Continued Yet Again ...  \n",
       "11035  Impassable Wilderness and teams up with her fr...  \n",
       "11036  time that several Navy SEAL's who sneak into t...  \n",
       "11037                and the United States Constitution.  \n",
       "11038  even the writer Ratazyayev, who was using him ...  \n",
       "\n",
       "[11039 rows x 4 columns]"
      ]
     },
     "execution_count": 213,
     "metadata": {},
     "output_type": "execute_result"
    }
   ],
   "source": [
    "text_seqs"
   ]
  },
  {
   "cell_type": "markdown",
   "metadata": {},
   "source": [
    "## Training Classifiers"
   ]
  },
  {
   "cell_type": "markdown",
   "metadata": {},
   "source": [
    "### Splitting into training and test data"
   ]
  },
  {
   "cell_type": "code",
   "execution_count": 204,
   "metadata": {
    "ExecuteTime": {
     "end_time": "2018-12-10T13:59:02.692500Z",
     "start_time": "2018-12-10T13:59:02.671431Z"
    }
   },
   "outputs": [],
   "source": [
    "# REVIEW: we shouldn't get NaN values in the first place\n",
    "# Fill NaN values in features\n",
    "extracted_features.fillna(0, inplace=True)"
   ]
  },
  {
   "cell_type": "code",
   "execution_count": 205,
   "metadata": {
    "ExecuteTime": {
     "end_time": "2018-12-10T13:59:06.712590Z",
     "start_time": "2018-12-10T13:59:06.645246Z"
    }
   },
   "outputs": [],
   "source": [
    "X_train, X_test, y_train, y_test = train_test_split(extracted_features, df_texts.label, test_size=0.33, random_state=42)"
   ]
  },
  {
   "cell_type": "markdown",
   "metadata": {
    "ExecuteTime": {
     "end_time": "2018-12-09T13:24:52.608502Z",
     "start_time": "2018-12-09T13:24:52.543283Z"
    }
   },
   "source": [
    "### SVM baseline classifier"
   ]
  },
  {
   "cell_type": "code",
   "execution_count": 206,
   "metadata": {
    "ExecuteTime": {
     "end_time": "2018-12-10T14:00:40.329476Z",
     "start_time": "2018-12-10T13:59:52.034888Z"
    }
   },
   "outputs": [
    {
     "data": {
      "text/plain": [
       "SVC(C=1.0, cache_size=200, class_weight=None, coef0=0.0,\n",
       "  decision_function_shape='ovr', degree=3, gamma='auto', kernel='rbf',\n",
       "  max_iter=-1, probability=False, random_state=None, shrinking=True,\n",
       "  tol=0.001, verbose=False)"
      ]
     },
     "execution_count": 206,
     "metadata": {},
     "output_type": "execute_result"
    }
   ],
   "source": [
    "svm_clf = SVC(gamma='auto')\n",
    "svm_clf.fit(X_train, y_train)"
   ]
  },
  {
   "cell_type": "code",
   "execution_count": 207,
   "metadata": {
    "ExecuteTime": {
     "end_time": "2018-12-10T14:03:34.738496Z",
     "start_time": "2018-12-10T14:03:14.697255Z"
    }
   },
   "outputs": [
    {
     "name": "stdout",
     "output_type": "stream",
     "text": [
      "0.5907219324732363\n"
     ]
    }
   ],
   "source": [
    "print(svm_clf.score(X_test, y_test))"
   ]
  },
  {
   "cell_type": "markdown",
   "metadata": {},
   "source": [
    " ### Random Forest baseline classifier"
   ]
  },
  {
   "cell_type": "code",
   "execution_count": 208,
   "metadata": {
    "ExecuteTime": {
     "end_time": "2018-12-10T14:04:21.728051Z",
     "start_time": "2018-12-10T14:03:40.986814Z"
    }
   },
   "outputs": [
    {
     "data": {
      "text/plain": [
       "RandomForestClassifier(bootstrap=True, class_weight=None, criterion='gini',\n",
       "            max_depth=None, max_features='auto', max_leaf_nodes=None,\n",
       "            min_impurity_decrease=0.0, min_impurity_split=None,\n",
       "            min_samples_leaf=1, min_samples_split=2,\n",
       "            min_weight_fraction_leaf=0.0, n_estimators=300, n_jobs=None,\n",
       "            oob_score=False, random_state=None, verbose=0,\n",
       "            warm_start=False)"
      ]
     },
     "execution_count": 208,
     "metadata": {},
     "output_type": "execute_result"
    }
   ],
   "source": [
    "rf_clf = RandomForestClassifier(n_estimators=300)\n",
    "rf_clf.fit(X_train, y_train)"
   ]
  },
  {
   "cell_type": "code",
   "execution_count": 209,
   "metadata": {
    "ExecuteTime": {
     "end_time": "2018-12-10T14:04:22.244653Z",
     "start_time": "2018-12-10T14:04:22.003372Z"
    }
   },
   "outputs": [
    {
     "name": "stdout",
     "output_type": "stream",
     "text": [
      "0.7587153444962943\n"
     ]
    }
   ],
   "source": [
    "print(rf_clf.score(X_test, y_test))"
   ]
  }
 ],
 "metadata": {
  "celltoolbar": "Initialization Cell",
  "kernelspec": {
   "display_name": "Python 3",
   "language": "python",
   "name": "python3"
  },
  "language_info": {
   "codemirror_mode": {
    "name": "ipython",
    "version": 3
   },
   "file_extension": ".py",
   "mimetype": "text/x-python",
   "name": "python",
   "nbconvert_exporter": "python",
   "pygments_lexer": "ipython3",
   "version": "3.6.6"
  },
  "toc": {
   "base_numbering": 1,
   "nav_menu": {},
   "number_sections": true,
   "sideBar": true,
   "skip_h1_title": true,
   "title_cell": "Table of Contents",
   "title_sidebar": "Contents",
   "toc_cell": true,
   "toc_position": {
    "height": "calc(100% - 180px)",
    "left": "10px",
    "top": "150px",
    "width": "384px"
   },
   "toc_section_display": true,
   "toc_window_display": true
  },
  "varInspector": {
   "cols": {
    "lenName": 16,
    "lenType": 16,
    "lenVar": 40
   },
   "kernels_config": {
    "python": {
     "delete_cmd_postfix": "",
     "delete_cmd_prefix": "del ",
     "library": "var_list.py",
     "varRefreshCmd": "print(var_dic_list())"
    },
    "r": {
     "delete_cmd_postfix": ") ",
     "delete_cmd_prefix": "rm(",
     "library": "var_list.r",
     "varRefreshCmd": "cat(var_dic_list()) "
    }
   },
   "position": {
    "height": "537px",
    "left": "1550px",
    "right": "22px",
    "top": "120px",
    "width": "348px"
   },
   "types_to_exclude": [
    "module",
    "function",
    "builtin_function_or_method",
    "instance",
    "_Feature"
   ],
   "window_display": true
  }
 },
 "nbformat": 4,
 "nbformat_minor": 2
}
