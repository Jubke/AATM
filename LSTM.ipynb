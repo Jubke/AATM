{
 "cells": [
  {
   "cell_type": "markdown",
   "metadata": {
    "toc": true
   },
   "source": [
    "<h1>Table of Contents<span class=\"tocSkip\"></span></h1>\n",
    "<div class=\"toc\"><ul class=\"toc-item\"><li><span><a href=\"#Dependencies\" data-toc-modified-id=\"Dependencies-1\"><span class=\"toc-item-num\">1&nbsp;&nbsp;</span>Dependencies</a></span></li><li><span><a href=\"#Get-data\" data-toc-modified-id=\"Get-data-2\"><span class=\"toc-item-num\">2&nbsp;&nbsp;</span>Get data</a></span></li><li><span><a href=\"#Prepare-data\" data-toc-modified-id=\"Prepare-data-3\"><span class=\"toc-item-num\">3&nbsp;&nbsp;</span>Prepare data</a></span><ul class=\"toc-item\"><li><span><a href=\"#Tokenize-+-Padding\" data-toc-modified-id=\"Tokenize-+-Padding-3.1\"><span class=\"toc-item-num\">3.1&nbsp;&nbsp;</span>Tokenize + Padding</a></span></li><li><span><a href=\"#One-hot-encoding-of-words-or-characters\" data-toc-modified-id=\"One-hot-encoding-of-words-or-characters-3.2\"><span class=\"toc-item-num\">3.2&nbsp;&nbsp;</span>One-hot encoding of words or characters</a></span></li></ul></li><li><span><a href=\"#Define-model\" data-toc-modified-id=\"Define-model-4\"><span class=\"toc-item-num\">4&nbsp;&nbsp;</span>Define model</a></span></li><li><span><a href=\"#Create-dense-model\" data-toc-modified-id=\"Create-dense-model-5\"><span class=\"toc-item-num\">5&nbsp;&nbsp;</span>Create dense model</a></span></li><li><span><a href=\"#Create-dense-on-embedded-data\" data-toc-modified-id=\"Create-dense-on-embedded-data-6\"><span class=\"toc-item-num\">6&nbsp;&nbsp;</span>Create dense on embedded data</a></span></li><li><span><a href=\"#Create-lstm-model\" data-toc-modified-id=\"Create-lstm-model-7\"><span class=\"toc-item-num\">7&nbsp;&nbsp;</span>Create lstm model</a></span></li><li><span><a href=\"#CNN\" data-toc-modified-id=\"CNN-8\"><span class=\"toc-item-num\">8&nbsp;&nbsp;</span>CNN</a></span></li></ul></div>"
   ]
  },
  {
   "cell_type": "markdown",
   "metadata": {},
   "source": [
    "## Dependencies"
   ]
  },
  {
   "cell_type": "code",
   "execution_count": 24,
   "metadata": {},
   "outputs": [],
   "source": [
    "import pandas as pd\n",
    "import numpy as np\n",
    "import matplotlib.pyplot as plt\n",
    "from scipy import stats\n",
    "import math\n",
    "from sklearn.metrics.pairwise import cosine_similarity\n",
    "from sklearn.externals.joblib import Memory\n",
    "\n",
    "from nltk.tokenize import RegexpTokenizer\n",
    "import nltk\n",
    "import pandas as pd\n",
    "from nltk.corpus import stopwords\n",
    "import FEATURE_SELECTOR_v4\n",
    "import datetime\n",
    "import json\n",
    "\n",
    "from sklearn.model_selection import train_test_split\n",
    "\n",
    "from sklearn.svm import SVC\n",
    "from sklearn.ensemble import RandomForestClassifier\n",
    "\n",
    "from keras.models import Model\n",
    "from keras.layers import LSTM, Activation, Dense, Dropout, Input, Embedding, BatchNormalization, Flatten, Conv1D, MaxPooling1D, GlobalMaxPooling1D\n",
    "from keras.optimizers import RMSprop\n",
    "from keras.preprocessing.text import Tokenizer\n",
    "from keras.preprocessing import sequence\n",
    "from keras.utils import to_categorical\n",
    "from keras.callbacks import EarlyStopping\n",
    "from keras.layers.merge import concatenate\n",
    "#from keras.utils.vis_utils import plot_model\n"
   ]
  },
  {
   "cell_type": "code",
   "execution_count": 2,
   "metadata": {},
   "outputs": [],
   "source": [
    "memory = Memory(location='./tmp', verbose=0)"
   ]
  },
  {
   "cell_type": "markdown",
   "metadata": {},
   "source": [
    "## Get data"
   ]
  },
  {
   "cell_type": "code",
   "execution_count": 3,
   "metadata": {},
   "outputs": [
    {
     "data": {
      "text/plain": [
       "11039"
      ]
     },
     "execution_count": 3,
     "metadata": {},
     "output_type": "execute_result"
    }
   ],
   "source": [
    "#Path to data\n",
    "path_data='.//datasets//constructed_2.csv'\n",
    "\n",
    "df_texts=pd.read_csv(path_data,sep=',',header=0, index_col=0)\n",
    "serie_texts=df_texts.text\n",
    "serie_texts.size"
   ]
  },
  {
   "cell_type": "markdown",
   "metadata": {},
   "source": [
    "## Prepare data\n",
    "We cannot feed lists of integers into a neural network. We have to turn our lists into tensors. There are two ways we could do that:\n",
    "* We could pad our lists so that they all have the same length, and turn them into an integer tensor of shape (samples, word_indices), then use as first layer in our network a layer capable of handling such integer tensors (the Embedding layer, which we will cover in detail later in the book).\n",
    "<br><br>\n",
    "* We could one-hot-encode our lists to turn them into vectors of 0s and 1s. Concretely, this would mean for instance turning the sequence [3, 5] into a 10,000-dimensional vector that would be all-zeros except for indices 3 and 5, which would be ones. Then we could use as first layer in our network a Dense layer, capable of handling floating point vector data."
   ]
  },
  {
   "cell_type": "code",
   "execution_count": 4,
   "metadata": {},
   "outputs": [],
   "source": [
    "\n",
    "\n",
    "def prepare_data(serie_texts, labels, max_len=1000, test_size=0.33, random_state=42):\n",
    "    sequences = tok.texts_to_sequences(serie_texts)\n",
    "    sequences_matrix = sequence.pad_sequences(sequences, maxlen=max_len)\n",
    "    X_train, X_test, y_train, y_test = train_test_split(sequences_matrix, labels, test_size=test_size, random_state=random_state)\n",
    "    return X_train, X_test, y_train, y_test"
   ]
  },
  {
   "cell_type": "markdown",
   "metadata": {},
   "source": [
    "### Tokenize + Padding"
   ]
  },
  {
   "cell_type": "code",
   "execution_count": 5,
   "metadata": {},
   "outputs": [],
   "source": [
    "\n",
    "max_len=1000\n",
    "test_size=0.33\n",
    "max_words=1000\n",
    "\n",
    "# The maximum number of words to keep, based on word frequency. Only the most common num_words words will be kept.\n",
    "tok = Tokenizer(num_words=max_words)\n",
    "tok.fit_on_texts(serie_texts)"
   ]
  },
  {
   "cell_type": "code",
   "execution_count": 6,
   "metadata": {},
   "outputs": [],
   "source": [
    "\n",
    "X_train, X_test, y_train, y_test = prepare_data(serie_texts=serie_texts,max_len=max_len, labels=df_texts.label,test_size=test_size)"
   ]
  },
  {
   "cell_type": "markdown",
   "metadata": {},
   "source": [
    "### One-hot encoding of words or characters"
   ]
  },
  {
   "cell_type": "code",
   "execution_count": null,
   "metadata": {},
   "outputs": [],
   "source": []
  },
  {
   "cell_type": "markdown",
   "metadata": {},
   "source": [
    "## Define model"
   ]
  },
  {
   "cell_type": "code",
   "execution_count": 7,
   "metadata": {},
   "outputs": [],
   "source": [
    "def dense_model(data):\n",
    "    inputs = Input(name='inputs',shape=[data.shape[1]])\n",
    "    layer=Dense(128, activation='relu')(inputs)\n",
    "    layer = Dropout(0.2)(layer)\n",
    "    layer=Dense(128, activation='relu')(layer)\n",
    "    layer = Dropout(0.2)(layer)\n",
    "    layer=Dense(1, activation='sigmoid')(layer)\n",
    "    model = Model(inputs=inputs,outputs=layer)\n",
    "    return model"
   ]
  },
  {
   "cell_type": "code",
   "execution_count": 8,
   "metadata": {},
   "outputs": [],
   "source": [
    "def embedding_flatten_model(data, max_words,embedding_units):\n",
    "    inputs = Input(name='inputs',shape=[data.shape[1]])\n",
    "    layer = Embedding(max_words,embedding_units,input_length=max_len)(inputs)\n",
    "    layer = Flatten()(layer)\n",
    "    layer = Dense(1, activation='sigmoid')(layer)\n",
    "    model = Model(inputs=inputs,outputs=layer)\n",
    "    return model\n",
    "    "
   ]
  },
  {
   "cell_type": "code",
   "execution_count": 9,
   "metadata": {},
   "outputs": [],
   "source": [
    "def lstm_model(data, max_words,embedding_units=32 ,lstm_units=32, dense_units=256, dropout=0.2, recurrent_dropout=0.2):\n",
    "    inputs = Input(name='inputs',shape=[data.shape[1]])\n",
    "    layer = Embedding(max_words,embedding_units,input_length=max_len)(inputs)\n",
    "    layer = LSTM(lstm_units,recurrent_dropout=recurrent_dropout)(layer)\n",
    "    layer = Dense(dense_units,name='FC1')(layer)\n",
    "    layer = Activation('relu')(layer)\n",
    "    layer = Dropout(dropout)(layer)\n",
    "    layer = Dense(1,name='out_layer')(layer)\n",
    "    layer = Activation('sigmoid')(layer)\n",
    "    model = Model(inputs=inputs,outputs=layer)\n",
    "    return model"
   ]
  },
  {
   "cell_type": "code",
   "execution_count": 10,
   "metadata": {},
   "outputs": [],
   "source": [
    "def cnn(data, max_words, embedding_units,conv_1_filter=32,conv_1_length=7, pooling_length= 5,conv_2_filter=32,conv_2_length=7):\n",
    "    inputs = Input(name='inputs',shape=[data.shape[1]])\n",
    "    layer = Embedding(max_words,embedding_units,input_length=max_len)(inputs)\n",
    "    layer=Conv1D(conv_1_filter, conv_1_length, activation='relu')(layer)\n",
    "    layer=MaxPooling1D(pooling_length)(layer)\n",
    "    layer=Conv1D(conv_2_filter, conv_2_length, activation='relu')(layer)\n",
    "    layer=GlobalMaxPooling1D()(layer)\n",
    "    layer=Dense(1)(layer)\n",
    "    layer = Activation('sigmoid')(layer)\n",
    "    model = Model(inputs=inputs,outputs=layer)\n",
    "    return model\n"
   ]
  },
  {
   "cell_type": "code",
   "execution_count": 11,
   "metadata": {},
   "outputs": [],
   "source": [
    "def draw_history(history):\n",
    "    acc = history.history['acc']\n",
    "    val_acc = history.history['val_acc']\n",
    "    loss = history.history['loss']\n",
    "    val_loss = history.history['val_loss']\n",
    "\n",
    "    epochs = range(1, len(acc) + 1)\n",
    "\n",
    "    plt.figure(1)\n",
    "    plt.subplot(211)\n",
    "    plt.plot(epochs, loss, 'bo', label='Training loss')\n",
    "    plt.plot(epochs, val_loss, 'b', label='Validation loss')\n",
    "    plt.title('Training and validation loss')\n",
    "    plt.xlabel('Epochs')\n",
    "    plt.ylabel('Loss')\n",
    "    plt.legend()\n",
    "    \n",
    "    acc_values = acc\n",
    "    val_acc_values = val_acc\n",
    "\n",
    "    plt.subplot(212)\n",
    "    plt.plot(epochs, acc, 'bo', label='Training acc')\n",
    "    plt.plot(epochs, val_acc, 'b', label='Validation acc')\n",
    "    plt.title('Training and validation accuracy')\n",
    "    plt.xlabel('Epochs')\n",
    "    plt.ylabel('Loss')\n",
    "    plt.legend()\n",
    "\n",
    "    plt.show()"
   ]
  },
  {
   "cell_type": "markdown",
   "metadata": {},
   "source": [
    "## Create dense model"
   ]
  },
  {
   "cell_type": "code",
   "execution_count": 12,
   "metadata": {},
   "outputs": [
    {
     "name": "stdout",
     "output_type": "stream",
     "text": [
      "_________________________________________________________________\n",
      "Layer (type)                 Output Shape              Param #   \n",
      "=================================================================\n",
      "inputs (InputLayer)          (None, 1000)              0         \n",
      "_________________________________________________________________\n",
      "dense_1 (Dense)              (None, 128)               128128    \n",
      "_________________________________________________________________\n",
      "dropout_1 (Dropout)          (None, 128)               0         \n",
      "_________________________________________________________________\n",
      "dense_2 (Dense)              (None, 128)               16512     \n",
      "_________________________________________________________________\n",
      "dropout_2 (Dropout)          (None, 128)               0         \n",
      "_________________________________________________________________\n",
      "dense_3 (Dense)              (None, 1)                 129       \n",
      "=================================================================\n",
      "Total params: 144,769\n",
      "Trainable params: 144,769\n",
      "Non-trainable params: 0\n",
      "_________________________________________________________________\n",
      "Train on 7396 samples, validate on 3643 samples\n",
      "Epoch 1/50\n",
      "7396/7396 [==============================] - 2s 245us/step - loss: 8.0045 - acc: 0.5024 - val_loss: 8.1499 - val_acc: 0.4944\n",
      "Epoch 2/50\n",
      "7396/7396 [==============================] - 1s 135us/step - loss: 8.0156 - acc: 0.5027 - val_loss: 8.1499 - val_acc: 0.4944\n",
      "Epoch 3/50\n",
      "7396/7396 [==============================] - 1s 156us/step - loss: 8.0156 - acc: 0.5027 - val_loss: 8.1499 - val_acc: 0.4944\n",
      "Epoch 4/50\n",
      "7396/7396 [==============================] - 1s 165us/step - loss: 8.0155 - acc: 0.5027 - val_loss: 8.1499 - val_acc: 0.4944\n",
      "Epoch 5/50\n",
      "7396/7396 [==============================] - 1s 116us/step - loss: 8.0155 - acc: 0.5027 - val_loss: 8.1499 - val_acc: 0.4944\n",
      "Epoch 6/50\n",
      "7396/7396 [==============================] - 1s 142us/step - loss: 8.0155 - acc: 0.5027 - val_loss: 8.1499 - val_acc: 0.4944\n",
      "Epoch 7/50\n",
      "7396/7396 [==============================] - 1s 108us/step - loss: 8.0155 - acc: 0.5027 - val_loss: 8.1499 - val_acc: 0.4944\n",
      "Epoch 8/50\n",
      "7396/7396 [==============================] - 1s 110us/step - loss: 8.0155 - acc: 0.5027 - val_loss: 8.1499 - val_acc: 0.4944\n",
      "Epoch 9/50\n",
      "7396/7396 [==============================] - 1s 95us/step - loss: 8.0155 - acc: 0.5027 - val_loss: 8.1499 - val_acc: 0.4944\n",
      "Epoch 10/50\n",
      "7396/7396 [==============================] - 1s 99us/step - loss: 8.0155 - acc: 0.5027 - val_loss: 8.1499 - val_acc: 0.4944\n",
      "Epoch 11/50\n",
      "7396/7396 [==============================] - 1s 80us/step - loss: 8.0155 - acc: 0.5027 - val_loss: 8.1499 - val_acc: 0.4944\n",
      "Epoch 12/50\n",
      "7396/7396 [==============================] - 1s 85us/step - loss: 8.0155 - acc: 0.5027 - val_loss: 8.1499 - val_acc: 0.4944\n",
      "Epoch 13/50\n",
      "7396/7396 [==============================] - 1s 76us/step - loss: 8.0155 - acc: 0.5027 - val_loss: 8.1498 - val_acc: 0.4944\n",
      "Epoch 14/50\n",
      "7396/7396 [==============================] - 1s 72us/step - loss: 8.0155 - acc: 0.5027 - val_loss: 8.1498 - val_acc: 0.4944\n",
      "Epoch 15/50\n",
      "7396/7396 [==============================] - 1s 80us/step - loss: 8.0155 - acc: 0.5027 - val_loss: 8.1498 - val_acc: 0.4944\n",
      "Epoch 16/50\n",
      "7396/7396 [==============================] - 1s 76us/step - loss: 8.0155 - acc: 0.5027 - val_loss: 8.1498 - val_acc: 0.4944\n",
      "Epoch 17/50\n",
      "7396/7396 [==============================] - 1s 74us/step - loss: 8.0155 - acc: 0.5027 - val_loss: 8.1498 - val_acc: 0.4944\n",
      "Epoch 18/50\n",
      "7396/7396 [==============================] - 0s 55us/step - loss: 8.0155 - acc: 0.5027 - val_loss: 8.1498 - val_acc: 0.4944\n",
      "Epoch 19/50\n",
      "7396/7396 [==============================] - 0s 55us/step - loss: 8.0155 - acc: 0.5027 - val_loss: 8.1498 - val_acc: 0.4944\n",
      "Epoch 20/50\n",
      "7396/7396 [==============================] - 0s 59us/step - loss: 8.0155 - acc: 0.5027 - val_loss: 8.1498 - val_acc: 0.4944\n",
      "Epoch 21/50\n",
      "7396/7396 [==============================] - 0s 53us/step - loss: 8.0155 - acc: 0.5027 - val_loss: 8.1498 - val_acc: 0.4944\n",
      "Epoch 22/50\n",
      "7396/7396 [==============================] - 0s 59us/step - loss: 8.0155 - acc: 0.5027 - val_loss: 8.1498 - val_acc: 0.4944\n",
      "Epoch 23/50\n",
      "7396/7396 [==============================] - 0s 57us/step - loss: 8.0155 - acc: 0.5027 - val_loss: 8.1498 - val_acc: 0.4944\n",
      "Epoch 24/50\n",
      "7396/7396 [==============================] - 0s 55us/step - loss: 8.0155 - acc: 0.5027 - val_loss: 8.1498 - val_acc: 0.4944\n",
      "Epoch 25/50\n",
      "7396/7396 [==============================] - 0s 68us/step - loss: 8.0155 - acc: 0.5027 - val_loss: 8.1498 - val_acc: 0.4944\n",
      "Epoch 26/50\n",
      "7396/7396 [==============================] - 0s 59us/step - loss: 8.0155 - acc: 0.5027 - val_loss: 8.1498 - val_acc: 0.4944\n",
      "Epoch 27/50\n",
      "7396/7396 [==============================] - 0s 59us/step - loss: 8.0155 - acc: 0.5027 - val_loss: 8.1498 - val_acc: 0.4944\n",
      "Epoch 28/50\n",
      "7396/7396 [==============================] - 0s 59us/step - loss: 8.0155 - acc: 0.5027 - val_loss: 8.1498 - val_acc: 0.4944\n",
      "Epoch 29/50\n",
      "7396/7396 [==============================] - 0s 59us/step - loss: 8.0155 - acc: 0.5027 - val_loss: 8.1498 - val_acc: 0.4944\n",
      "Epoch 30/50\n",
      "7396/7396 [==============================] - 0s 61us/step - loss: 8.0155 - acc: 0.5027 - val_loss: 8.1498 - val_acc: 0.4944\n",
      "Epoch 31/50\n",
      "7396/7396 [==============================] - 0s 57us/step - loss: 8.0155 - acc: 0.5027 - val_loss: 8.1498 - val_acc: 0.4944\n",
      "Epoch 32/50\n",
      "7396/7396 [==============================] - 0s 65us/step - loss: 8.0155 - acc: 0.5027 - val_loss: 8.1498 - val_acc: 0.4944\n",
      "Epoch 33/50\n",
      "7396/7396 [==============================] - 0s 61us/step - loss: 8.0155 - acc: 0.5027 - val_loss: 8.1498 - val_acc: 0.4944\n",
      "Epoch 34/50\n",
      "7396/7396 [==============================] - 0s 63us/step - loss: 8.0155 - acc: 0.5027 - val_loss: 8.1497 - val_acc: 0.4944\n",
      "Epoch 35/50\n",
      "7396/7396 [==============================] - 0s 61us/step - loss: 8.0155 - acc: 0.5027 - val_loss: 8.1497 - val_acc: 0.4944\n",
      "Epoch 36/50\n",
      "7396/7396 [==============================] - 0s 59us/step - loss: 8.0155 - acc: 0.5027 - val_loss: 8.1497 - val_acc: 0.4944\n",
      "Epoch 37/50\n",
      "7396/7396 [==============================] - 0s 65us/step - loss: 8.0155 - acc: 0.5027 - val_loss: 8.1497 - val_acc: 0.4944\n",
      "Epoch 38/50\n",
      "7396/7396 [==============================] - 0s 61us/step - loss: 8.0155 - acc: 0.5027 - val_loss: 8.1497 - val_acc: 0.4944\n",
      "Epoch 39/50\n",
      "7396/7396 [==============================] - 0s 57us/step - loss: 8.0155 - acc: 0.5027 - val_loss: 8.1497 - val_acc: 0.4944\n",
      "Epoch 40/50\n",
      "7396/7396 [==============================] - 0s 59us/step - loss: 8.0155 - acc: 0.5027 - val_loss: 8.1497 - val_acc: 0.4944\n",
      "Epoch 41/50\n",
      "7396/7396 [==============================] - 0s 64us/step - loss: 8.0155 - acc: 0.5027 - val_loss: 8.1497 - val_acc: 0.4944\n",
      "Epoch 42/50\n",
      "7396/7396 [==============================] - 0s 61us/step - loss: 8.0155 - acc: 0.5027 - val_loss: 8.1497 - val_acc: 0.4944\n",
      "Epoch 43/50\n",
      "7396/7396 [==============================] - 0s 59us/step - loss: 8.0155 - acc: 0.5027 - val_loss: 8.1497 - val_acc: 0.4944\n",
      "Epoch 44/50\n",
      "7396/7396 [==============================] - 0s 68us/step - loss: 8.0155 - acc: 0.5027 - val_loss: 8.1497 - val_acc: 0.4944\n",
      "Epoch 45/50\n",
      "7396/7396 [==============================] - 0s 57us/step - loss: 8.0155 - acc: 0.5027 - val_loss: 8.1497 - val_acc: 0.4944\n",
      "Epoch 46/50\n",
      "7396/7396 [==============================] - 0s 65us/step - loss: 8.0155 - acc: 0.5027 - val_loss: 8.1497 - val_acc: 0.4944\n",
      "Epoch 47/50\n",
      "7396/7396 [==============================] - 0s 65us/step - loss: 8.0155 - acc: 0.5027 - val_loss: 8.1497 - val_acc: 0.4944\n",
      "Epoch 48/50\n",
      "7396/7396 [==============================] - 1s 70us/step - loss: 8.0155 - acc: 0.5027 - val_loss: 8.1497 - val_acc: 0.4944\n",
      "Epoch 49/50\n",
      "7396/7396 [==============================] - 0s 57us/step - loss: 8.0155 - acc: 0.5027 - val_loss: 8.1497 - val_acc: 0.4944\n",
      "Epoch 50/50\n",
      "7396/7396 [==============================] - 0s 55us/step - loss: 8.0155 - acc: 0.5027 - val_loss: 8.1497 - val_acc: 0.4944\n"
     ]
    },
    {
     "data": {
      "image/png": "[encoded data removed]",
      "text/plain": [
       "<Figure size 432x288 with 2 Axes>"
      ]
     },
     "metadata": {
      "needs_background": "light"
     },
     "output_type": "display_data"
    }
   ],
   "source": [
    "from keras import optimizers\n",
    "from keras import losses\n",
    "from keras import metrics\n",
    "\n",
    "model_dense=dense_model(X_train)\n",
    "model_dense.summary()\n",
    "model_dense.compile(loss='binary_crossentropy',optimizer=RMSprop(),metrics=['accuracy'])\n",
    "history=model_dense.fit(X_train,y_train,epochs=50,batch_size=126,validation_data=(X_test, y_test))\n",
    "draw_history(history)"
   ]
  },
  {
   "cell_type": "markdown",
   "metadata": {},
   "source": [
    "## Create dense on embedded data"
   ]
  },
  {
   "cell_type": "code",
   "execution_count": 14,
   "metadata": {},
   "outputs": [
    {
     "name": "stdout",
     "output_type": "stream",
     "text": [
      "_________________________________________________________________\n",
      "Layer (type)                 Output Shape              Param #   \n",
      "=================================================================\n",
      "inputs (InputLayer)          (None, 1000)              0         \n",
      "_________________________________________________________________\n",
      "embedding_1 (Embedding)      (None, 1000, 50)          50000     \n",
      "_________________________________________________________________\n",
      "flatten_1 (Flatten)          (None, 50000)             0         \n",
      "_________________________________________________________________\n",
      "dense_4 (Dense)              (None, 1)                 50001     \n",
      "=================================================================\n",
      "Total params: 100,001\n",
      "Trainable params: 100,001\n",
      "Non-trainable params: 0\n",
      "_________________________________________________________________\n",
      "Train on 3698 samples, validate on 3698 samples\n",
      "Epoch 1/4\n",
      "3698/3698 [==============================] - 4s 1ms/step - loss: 0.6077 - acc: 0.6782 - val_loss: 0.6483 - val_acc: 0.6452\n",
      "Epoch 2/4\n",
      "3698/3698 [==============================] - 2s 592us/step - loss: 0.5378 - acc: 0.7182 - val_loss: 0.5958 - val_acc: 0.6739\n",
      "Epoch 3/4\n",
      "3698/3698 [==============================] - 2s 490us/step - loss: 0.4801 - acc: 0.7593 - val_loss: 0.5489 - val_acc: 0.7226\n",
      "Epoch 4/4\n",
      "3698/3698 [==============================] - 2s 414us/step - loss: 0.4162 - acc: 0.8337 - val_loss: 0.5395 - val_acc: 0.7253\n"
     ]
    },
    {
     "data": {
      "image/png": "[encoded data removed]",
      "text/plain": [
       "<Figure size 432x288 with 2 Axes>"
      ]
     },
     "metadata": {
      "needs_background": "light"
     },
     "output_type": "display_data"
    }
   ],
   "source": [
    "model_embedded_dense=embedding_flatten_model(X_train,max_words=max_words,embedding_units=50)\n",
    "model_embedded_dense.summary()\n",
    "model_embedded_dense.compile(loss='binary_crossentropy',optimizer=RMSprop(),metrics=['accuracy'])\n",
    "history=model_embedded_dense.fit(X_train,y_train,epochs=4,batch_size=126,validation_split=0.5)#,validation_data=(X_test, y_test))\n",
    "draw_history(history)"
   ]
  },
  {
   "cell_type": "markdown",
   "metadata": {},
   "source": [
    "## Create lstm model"
   ]
  },
  {
   "cell_type": "code",
   "execution_count": 17,
   "metadata": {},
   "outputs": [
    {
     "name": "stdout",
     "output_type": "stream",
     "text": [
      "_________________________________________________________________\n",
      "Layer (type)                 Output Shape              Param #   \n",
      "=================================================================\n",
      "inputs (InputLayer)          (None, 1000)              0         \n",
      "_________________________________________________________________\n",
      "embedding_4 (Embedding)      (None, 1000, 50)          50000     \n",
      "_________________________________________________________________\n",
      "lstm_3 (LSTM)                (None, 32)                10624     \n",
      "_________________________________________________________________\n",
      "FC1 (Dense)                  (None, 200)               6600      \n",
      "_________________________________________________________________\n",
      "activation_5 (Activation)    (None, 200)               0         \n",
      "_________________________________________________________________\n",
      "dropout_5 (Dropout)          (None, 200)               0         \n",
      "_________________________________________________________________\n",
      "out_layer (Dense)            (None, 1)                 201       \n",
      "_________________________________________________________________\n",
      "activation_6 (Activation)    (None, 1)                 0         \n",
      "=================================================================\n",
      "Total params: 67,425\n",
      "Trainable params: 67,425\n",
      "Non-trainable params: 0\n",
      "_________________________________________________________________\n",
      "Train on 7396 samples, validate on 3643 samples\n",
      "Epoch 1/5\n",
      "7396/7396 [==============================] - 298s 40ms/step - loss: 0.6933 - acc: 0.4947 - val_loss: 0.6930 - val_acc: 0.5183\n",
      "Epoch 2/5\n",
      "7396/7396 [==============================] - 289s 39ms/step - loss: 0.6916 - acc: 0.5443 - val_loss: 0.6924 - val_acc: 0.4996\n",
      "Epoch 3/5\n",
      "7396/7396 [==============================] - 246s 33ms/step - loss: 0.6733 - acc: 0.6068 - val_loss: 0.6672 - val_acc: 0.5992\n",
      "Epoch 4/5\n",
      "7396/7396 [==============================] - 259s 35ms/step - loss: 0.6408 - acc: 0.6525 - val_loss: 0.6484 - val_acc: 0.6242\n",
      "Epoch 5/5\n",
      "7396/7396 [==============================] - 285s 39ms/step - loss: 0.6150 - acc: 0.6741 - val_loss: 0.6590 - val_acc: 0.6077\n"
     ]
    },
    {
     "data": {
      "image/png": "[encoded data removed]",
      "text/plain": [
       "<Figure size 432x288 with 2 Axes>"
      ]
     },
     "metadata": {
      "needs_background": "light"
     },
     "output_type": "display_data"
    }
   ],
   "source": [
    "model=lstm_model(X_train, max_words=max_words, embedding_units=50 ,lstm_units=32, dense_units=200, dropout=0.2, recurrent_dropout=0.2)\n",
    "model.summary()\n",
    "model.compile(loss='binary_crossentropy',optimizer=RMSprop(),metrics=['accuracy'])\n",
    "\n",
    "history = model.fit(X_train,y_train,batch_size=500,epochs=5, validation_data=(X_test,y_test),callbacks=[EarlyStopping(monitor='val_loss',min_delta=0.0001)])\n",
    "\n",
    "draw_history(history)\n"
   ]
  },
  {
   "cell_type": "code",
   "execution_count": null,
   "metadata": {},
   "outputs": [],
   "source": [
    "from sklearn.preprocessing import MinMaxScaler\n",
    "\n",
    "print(X_train.shape,X_test.shape)\n",
    "scaler=MinMaxScaler()\n",
    "scaler.fit(np.concatenate((X_train,X_test), axis=0))\n",
    "X_train_scaled=scaler.transform(X_train)\n",
    "X_test_scaled=scaler.transform(X_test)"
   ]
  },
  {
   "cell_type": "code",
   "execution_count": null,
   "metadata": {},
   "outputs": [],
   "source": [
    "model.fit(X_train_scaled,y_train,batch_size=128,epochs=10,validation_split=0.0, validation_data=(X_test_scaled,y_test),callbacks=[EarlyStopping(monitor='val_loss',min_delta=0.0001)])"
   ]
  },
  {
   "cell_type": "code",
   "execution_count": null,
   "metadata": {},
   "outputs": [],
   "source": [
    "model.fit(X_train,y_train,batch_size=128,epochs=10,validation_split=0.0, validation_data=(X_test,y_test),callbacks=[EarlyStopping(monitor='val_loss',min_delta=0.0001)])model.fit(X_train,y_train,batch_size=128,epochs=10,validation_split=0.0, validation_data=(X_test,y_test),callbacks=[EarlyStopping(monitor='val_loss',min_delta=0.0001)])"
   ]
  },
  {
   "cell_type": "markdown",
   "metadata": {},
   "source": [
    "## CNN"
   ]
  },
  {
   "cell_type": "code",
   "execution_count": 19,
   "metadata": {},
   "outputs": [
    {
     "name": "stdout",
     "output_type": "stream",
     "text": [
      "_________________________________________________________________\n",
      "Layer (type)                 Output Shape              Param #   \n",
      "=================================================================\n",
      "inputs (InputLayer)          (None, 1000)              0         \n",
      "_________________________________________________________________\n",
      "embedding_6 (Embedding)      (None, 1000, 100)         100000    \n",
      "_________________________________________________________________\n",
      "conv1d_3 (Conv1D)            (None, 992, 128)          115328    \n",
      "_________________________________________________________________\n",
      "max_pooling1d_2 (MaxPooling1 (None, 198, 128)          0         \n",
      "_________________________________________________________________\n",
      "conv1d_4 (Conv1D)            (None, 190, 32)           36896     \n",
      "_________________________________________________________________\n",
      "global_max_pooling1d_2 (Glob (None, 32)                0         \n",
      "_________________________________________________________________\n",
      "dense_6 (Dense)              (None, 1)                 33        \n",
      "_________________________________________________________________\n",
      "activation_8 (Activation)    (None, 1)                 0         \n",
      "=================================================================\n",
      "Total params: 252,257\n",
      "Trainable params: 252,257\n",
      "Non-trainable params: 0\n",
      "_________________________________________________________________\n",
      "Train on 7396 samples, validate on 3643 samples\n",
      "Epoch 1/10\n",
      "7396/7396 [==============================] - 180s 24ms/step - loss: 0.6697 - acc: 0.5787 - val_loss: 0.6871 - val_acc: 0.5597\n",
      "Epoch 2/10\n",
      "7396/7396 [==============================] - 176s 24ms/step - loss: 0.6384 - acc: 0.6009 - val_loss: 0.6189 - val_acc: 0.6780\n",
      "Epoch 3/10\n",
      "7396/7396 [==============================] - 176s 24ms/step - loss: 0.6037 - acc: 0.6612 - val_loss: 0.5923 - val_acc: 0.6777\n",
      "Epoch 4/10\n",
      "7396/7396 [==============================] - 170s 23ms/step - loss: 0.5784 - acc: 0.6881 - val_loss: 0.5755 - val_acc: 0.7046\n",
      "Epoch 5/10\n",
      "7396/7396 [==============================] - 166s 22ms/step - loss: 0.5463 - acc: 0.7201 - val_loss: 0.5645 - val_acc: 0.7142\n",
      "Epoch 6/10\n",
      "7396/7396 [==============================] - 159s 22ms/step - loss: 0.5208 - acc: 0.7351 - val_loss: 0.5923 - val_acc: 0.6928\n",
      "Epoch 7/10\n",
      "7396/7396 [==============================] - 162s 22ms/step - loss: 0.4952 - acc: 0.7566 - val_loss: 0.5820 - val_acc: 0.6851\n",
      "Epoch 8/10\n",
      "7396/7396 [==============================] - 163s 22ms/step - loss: 0.4742 - acc: 0.7727 - val_loss: 0.5734 - val_acc: 0.7140\n",
      "Epoch 9/10\n",
      "7396/7396 [==============================] - 162s 22ms/step - loss: 0.4751 - acc: 0.7697 - val_loss: 0.5855 - val_acc: 0.6920\n",
      "Epoch 10/10\n",
      "7396/7396 [==============================] - 161s 22ms/step - loss: 0.4477 - acc: 0.7911 - val_loss: 0.5878 - val_acc: 0.7090\n"
     ]
    }
   ],
   "source": [
    "model_cnn=cnn(data=X_train, max_words=max_words, embedding_units=100, conv_1_filter=128,conv_1_length=9, pooling_length= 5,conv_2_filter=32,conv_2_length=9)\n",
    "model_cnn.summary()\n",
    "\n",
    "model_cnn.compile(optimizer=RMSprop(),\n",
    "              loss='binary_crossentropy',\n",
    "              metrics=['acc'])\n",
    "history = model_cnn.fit(X_train, y_train,\n",
    "                    epochs=10,\n",
    "                    batch_size=500,\n",
    "                    validation_split=0,validation_data=(X_test,y_test))"
   ]
  },
  {
   "cell_type": "code",
   "execution_count": 38,
   "metadata": {},
   "outputs": [],
   "source": [
    "# define the model\n",
    "def define_model(length, vocab_size):\n",
    "    # channel 1\n",
    "    inputs1 = Input(shape=(length,))\n",
    "    embedding1 = Embedding(vocab_size, 100)(inputs1)\n",
    "    conv1 = Conv1D(filters=32, kernel_size=4, activation='relu')(embedding1)\n",
    "    drop1 = Dropout(0.5)(conv1)\n",
    "    pool1 = MaxPooling1D(pool_size=2)(drop1)\n",
    "    flat1 = Flatten()(pool1)\n",
    "    # channel 2\n",
    "    inputs2 = Input(shape=(length,))\n",
    "    embedding2 = Embedding(vocab_size, 100)(inputs2)\n",
    "    conv2 = Conv1D(filters=32, kernel_size=6, activation='relu')(embedding2)\n",
    "    drop2 = Dropout(0.5)(conv2)\n",
    "    pool2 = MaxPooling1D(pool_size=2)(drop2)\n",
    "    flat2 = Flatten()(pool2)\n",
    "    # channel 3\n",
    "    inputs3 = Input(shape=(length,))\n",
    "    embedding3 = Embedding(vocab_size, 100)(inputs3)\n",
    "    conv3 = Conv1D(filters=32, kernel_size=8, activation='relu')(embedding3)\n",
    "    drop3 = Dropout(0.5)(conv3)\n",
    "    pool3 = MaxPooling1D(pool_size=2)(drop3)\n",
    "    flat3 = Flatten()(pool3)\n",
    "    # merge\n",
    "    merged = concatenate([flat1, flat2, flat3])\n",
    "    # interpretation\n",
    "    dense1 = Dense(10, activation='relu')(merged)\n",
    "    outputs = Dense(1, activation='sigmoid')(dense1)\n",
    "    model = Model(inputs=[inputs1, inputs2, inputs3], outputs=outputs)\n",
    "   \n",
    "    return model"
   ]
  },
  {
   "cell_type": "code",
   "execution_count": 63,
   "metadata": {},
   "outputs": [
    {
     "name": "stdout",
     "output_type": "stream",
     "text": [
      "__________________________________________________________________________________________________\n",
      "Layer (type)                    Output Shape         Param #     Connected to                     \n",
      "==================================================================================================\n",
      "input_49 (InputLayer)           (None, 1000)         0                                            \n",
      "__________________________________________________________________________________________________\n",
      "input_50 (InputLayer)           (None, 1000)         0                                            \n",
      "__________________________________________________________________________________________________\n",
      "input_51 (InputLayer)           (None, 1000)         0                                            \n",
      "__________________________________________________________________________________________________\n",
      "embedding_55 (Embedding)        (None, 1000, 100)    100000      input_49[0][0]                   \n",
      "__________________________________________________________________________________________________\n",
      "embedding_56 (Embedding)        (None, 1000, 100)    100000      input_50[0][0]                   \n",
      "__________________________________________________________________________________________________\n",
      "embedding_57 (Embedding)        (None, 1000, 100)    100000      input_51[0][0]                   \n",
      "__________________________________________________________________________________________________\n",
      "conv1d_53 (Conv1D)              (None, 997, 32)      12832       embedding_55[0][0]               \n",
      "__________________________________________________________________________________________________\n",
      "conv1d_54 (Conv1D)              (None, 995, 32)      19232       embedding_56[0][0]               \n",
      "__________________________________________________________________________________________________\n",
      "conv1d_55 (Conv1D)              (None, 993, 32)      25632       embedding_57[0][0]               \n",
      "__________________________________________________________________________________________________\n",
      "dropout_54 (Dropout)            (None, 997, 32)      0           conv1d_53[0][0]                  \n",
      "__________________________________________________________________________________________________\n",
      "dropout_55 (Dropout)            (None, 995, 32)      0           conv1d_54[0][0]                  \n",
      "__________________________________________________________________________________________________\n",
      "dropout_56 (Dropout)            (None, 993, 32)      0           conv1d_55[0][0]                  \n",
      "__________________________________________________________________________________________________\n",
      "max_pooling1d_51 (MaxPooling1D) (None, 498, 32)      0           dropout_54[0][0]                 \n",
      "__________________________________________________________________________________________________\n",
      "max_pooling1d_52 (MaxPooling1D) (None, 497, 32)      0           dropout_55[0][0]                 \n",
      "__________________________________________________________________________________________________\n",
      "max_pooling1d_53 (MaxPooling1D) (None, 496, 32)      0           dropout_56[0][0]                 \n",
      "__________________________________________________________________________________________________\n",
      "flatten_50 (Flatten)            (None, 15936)        0           max_pooling1d_51[0][0]           \n",
      "__________________________________________________________________________________________________\n",
      "flatten_51 (Flatten)            (None, 15904)        0           max_pooling1d_52[0][0]           \n",
      "__________________________________________________________________________________________________\n",
      "flatten_52 (Flatten)            (None, 15872)        0           max_pooling1d_53[0][0]           \n",
      "__________________________________________________________________________________________________\n",
      "concatenate_16 (Concatenate)    (None, 47712)        0           flatten_50[0][0]                 \n",
      "                                                                 flatten_51[0][0]                 \n",
      "                                                                 flatten_52[0][0]                 \n",
      "__________________________________________________________________________________________________\n",
      "dense_37 (Dense)                (None, 10)           477130      concatenate_16[0][0]             \n",
      "__________________________________________________________________________________________________\n",
      "dense_38 (Dense)                (None, 1)            11          dense_37[0][0]                   \n",
      "==================================================================================================\n",
      "Total params: 834,837\n",
      "Trainable params: 834,837\n",
      "Non-trainable params: 0\n",
      "__________________________________________________________________________________________________\n",
      "__________________________________________________________________________________________________\n",
      "Layer (type)                    Output Shape         Param #     Connected to                     \n",
      "==================================================================================================\n",
      "input_49 (InputLayer)           (None, 1000)         0                                            \n",
      "__________________________________________________________________________________________________\n",
      "input_50 (InputLayer)           (None, 1000)         0                                            \n",
      "__________________________________________________________________________________________________\n",
      "input_51 (InputLayer)           (None, 1000)         0                                            \n",
      "__________________________________________________________________________________________________\n",
      "embedding_55 (Embedding)        (None, 1000, 100)    100000      input_49[0][0]                   \n",
      "__________________________________________________________________________________________________\n",
      "embedding_56 (Embedding)        (None, 1000, 100)    100000      input_50[0][0]                   \n",
      "__________________________________________________________________________________________________\n",
      "embedding_57 (Embedding)        (None, 1000, 100)    100000      input_51[0][0]                   \n",
      "__________________________________________________________________________________________________\n",
      "conv1d_53 (Conv1D)              (None, 997, 32)      12832       embedding_55[0][0]               \n",
      "__________________________________________________________________________________________________\n",
      "conv1d_54 (Conv1D)              (None, 995, 32)      19232       embedding_56[0][0]               \n",
      "__________________________________________________________________________________________________\n",
      "conv1d_55 (Conv1D)              (None, 993, 32)      25632       embedding_57[0][0]               \n",
      "__________________________________________________________________________________________________\n",
      "dropout_54 (Dropout)            (None, 997, 32)      0           conv1d_53[0][0]                  \n",
      "__________________________________________________________________________________________________\n",
      "dropout_55 (Dropout)            (None, 995, 32)      0           conv1d_54[0][0]                  \n",
      "__________________________________________________________________________________________________\n",
      "dropout_56 (Dropout)            (None, 993, 32)      0           conv1d_55[0][0]                  \n",
      "__________________________________________________________________________________________________\n",
      "max_pooling1d_51 (MaxPooling1D) (None, 498, 32)      0           dropout_54[0][0]                 \n",
      "__________________________________________________________________________________________________\n",
      "max_pooling1d_52 (MaxPooling1D) (None, 497, 32)      0           dropout_55[0][0]                 \n",
      "__________________________________________________________________________________________________\n",
      "max_pooling1d_53 (MaxPooling1D) (None, 496, 32)      0           dropout_56[0][0]                 \n",
      "__________________________________________________________________________________________________\n",
      "flatten_50 (Flatten)            (None, 15936)        0           max_pooling1d_51[0][0]           \n",
      "__________________________________________________________________________________________________\n",
      "flatten_51 (Flatten)            (None, 15904)        0           max_pooling1d_52[0][0]           \n",
      "__________________________________________________________________________________________________\n",
      "flatten_52 (Flatten)            (None, 15872)        0           max_pooling1d_53[0][0]           \n",
      "__________________________________________________________________________________________________\n",
      "concatenate_16 (Concatenate)    (None, 47712)        0           flatten_50[0][0]                 \n",
      "                                                                 flatten_51[0][0]                 \n",
      "                                                                 flatten_52[0][0]                 \n",
      "__________________________________________________________________________________________________\n",
      "dense_37 (Dense)                (None, 10)           477130      concatenate_16[0][0]             \n",
      "__________________________________________________________________________________________________\n",
      "dense_38 (Dense)                (None, 1)            11          dense_37[0][0]                   \n",
      "==================================================================================================\n",
      "Total params: 834,837\n",
      "Trainable params: 834,837\n",
      "Non-trainable params: 0\n",
      "__________________________________________________________________________________________________\n",
      "None\n"
     ]
    },
    {
     "ename": "TypeError",
     "evalue": "only integer scalar arrays can be converted to a scalar index",
     "output_type": "error",
     "traceback": [
      "\u001b[1;31m---------------------------------------------------------------------------\u001b[0m",
      "\u001b[1;31mTypeError\u001b[0m                                 Traceback (most recent call last)",
      "\u001b[1;32m<ipython-input-63-e6719f1a3ed3>\u001b[0m in \u001b[0;36m<module>\u001b[1;34m\u001b[0m\n\u001b[0;32m      7\u001b[0m \u001b[0mprint\u001b[0m\u001b[1;33m(\u001b[0m\u001b[0mmodel_complex\u001b[0m\u001b[1;33m.\u001b[0m\u001b[0msummary\u001b[0m\u001b[1;33m(\u001b[0m\u001b[1;33m)\u001b[0m\u001b[1;33m)\u001b[0m\u001b[1;33m\u001b[0m\u001b[0m\n\u001b[0;32m      8\u001b[0m \u001b[1;31m#plot_model(model, show_shapes=True, to_file='multichannel.png')\u001b[0m\u001b[1;33m\u001b[0m\u001b[1;33m\u001b[0m\u001b[0m\n\u001b[1;32m----> 9\u001b[1;33m history = model_complex.fit(np.concatenate(X_train,X_train,X_train), np.array(y_train),\n\u001b[0m\u001b[0;32m     10\u001b[0m                     \u001b[0mepochs\u001b[0m\u001b[1;33m=\u001b[0m\u001b[1;36m10\u001b[0m\u001b[1;33m,\u001b[0m\u001b[1;33m\u001b[0m\u001b[0m\n\u001b[0;32m     11\u001b[0m                     \u001b[0mbatch_size\u001b[0m\u001b[1;33m=\u001b[0m\u001b[1;36m500\u001b[0m\u001b[1;33m,\u001b[0m\u001b[1;33m\u001b[0m\u001b[0m\n",
      "\u001b[1;31mTypeError\u001b[0m: only integer scalar arrays can be converted to a scalar index"
     ]
    }
   ],
   "source": [
    "model_complex=define_model(length=max_len, vocab_size=max_words)\n",
    "model_complex.summary()\n",
    "\n",
    " # compile\n",
    "model_complex.compile(loss='binary_crossentropy', optimizer='adam', metrics=['accuracy'])\n",
    "# summarize\n",
    "print(model_complex.summary())\n",
    "#plot_model(model, show_shapes=True, to_file='multichannel.png')\n",
    "history = model_complex.fit([X_train,X_train,X_train], np.array(y_train),\n",
    "                    epochs=10,\n",
    "                    batch_size=500,\n",
    "                    validation_split=0,validation_data=(X_test,y_test))"
   ]
  },
  {
   "cell_type": "code",
   "execution_count": 57,
   "metadata": {},
   "outputs": [
    {
     "name": "stdout",
     "output_type": "stream",
     "text": [
      "3\n"
     ]
    }
   ],
   "source": [
    "print(len([list(X_train),list(X_train),list(X_train)]))"
   ]
  },
  {
   "cell_type": "code",
   "execution_count": 52,
   "metadata": {},
   "outputs": [
    {
     "name": "stdout",
     "output_type": "stream",
     "text": [
      "7396\n"
     ]
    }
   ],
   "source": [
    "print(len(np.array(X_train).reshape([7396,1000])))"
   ]
  },
  {
   "cell_type": "code",
   "execution_count": 61,
   "metadata": {},
   "outputs": [
    {
     "ename": "AttributeError",
     "evalue": "'numpy.ndarray' object has no attribute 'values'",
     "output_type": "error",
     "traceback": [
      "\u001b[1;31m---------------------------------------------------------------------------\u001b[0m",
      "\u001b[1;31mAttributeError\u001b[0m                            Traceback (most recent call last)",
      "\u001b[1;32m<ipython-input-61-883f973db677>\u001b[0m in \u001b[0;36m<module>\u001b[1;34m\u001b[0m\n\u001b[1;32m----> 1\u001b[1;33m \u001b[0mX_train\u001b[0m\u001b[1;33m.\u001b[0m\u001b[0mvalues\u001b[0m\u001b[1;33m\u001b[0m\u001b[0m\n\u001b[0m",
      "\u001b[1;31mAttributeError\u001b[0m: 'numpy.ndarray' object has no attribute 'values'"
     ]
    }
   ],
   "source": [
    "X_train.values"
   ]
  },
  {
   "cell_type": "code",
   "execution_count": null,
   "metadata": {},
   "outputs": [],
   "source": []
  }
 ],
 "metadata": {
  "kernelspec": {
   "display_name": "Python 3",
   "language": "python",
   "name": "python3"
  },
  "language_info": {
   "codemirror_mode": {
    "name": "ipython",
    "version": 3
   },
   "file_extension": ".py",
   "mimetype": "text/x-python",
   "name": "python",
   "nbconvert_exporter": "python",
   "pygments_lexer": "ipython3",
   "version": "3.6.5"
  },
  "toc": {
   "base_numbering": 1,
   "nav_menu": {},
   "number_sections": true,
   "sideBar": true,
   "skip_h1_title": true,
   "title_cell": "Table of Contents",
   "title_sidebar": "Contents",
   "toc_cell": true,
   "toc_position": {},
   "toc_section_display": true,
   "toc_window_display": false
  },
  "varInspector": {
   "cols": {
    "lenName": 16,
    "lenType": 16,
    "lenVar": 40
   },
   "kernels_config": {
    "python": {
     "delete_cmd_postfix": "",
     "delete_cmd_prefix": "del ",
     "library": "var_list.py",
     "varRefreshCmd": "print(var_dic_list())"
    },
    "r": {
     "delete_cmd_postfix": ") ",
     "delete_cmd_prefix": "rm(",
     "library": "var_list.r",
     "varRefreshCmd": "cat(var_dic_list()) "
    }
   },
   "types_to_exclude": [
    "module",
    "function",
    "builtin_function_or_method",
    "instance",
    "_Feature"
   ],
   "window_display": false
  }
 },
 "nbformat": 4,
 "nbformat_minor": 2
}
